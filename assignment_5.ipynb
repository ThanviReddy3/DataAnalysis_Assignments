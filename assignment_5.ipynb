{
 "cells": [
  {
   "cell_type": "markdown",
   "id": "f9cca2f0",
   "metadata": {},
   "source": [
    "**Task1: Append and Modify Elements**\n",
    "    \n",
    "* Create an empty list called numbers. Append the numbers 1, 2, and 3 to the list.\n",
    "* Modify the element at index 1 to be 4.\n",
    "* Print the updated list.\n",
    "\n",
    "**Task2: Slicing and Concatenation**\n",
    "\n",
    "* Create a list called fruits with elements 'apple', 'banana', 'orange', 'mango', and 'kiwi'. \n",
    "* Create a new list  by slicing fruits to include only the citrus fruits ('orange' and 'mango\"). * Create a new list called tropical by slicing fruits to include only the tropical fruits ('banana\" and \"kiwi'). \n",
    "* Concatenate citrus and tropical lists to create a new list called combined. Print combined.\n",
    "\n",
    "**Task3: Counting and Removing Elements**\n",
    "\n",
    "* Create a list called colors with repeated elements 'red', 'blue', 'red', 'green', 'red'. Print the number of occurrences of 'red' in the list. Remove all occurrences of 'red' from the list. Print the updated list.\n",
    "\n",
    "**Task 4: List Manipulation**\n",
    "\n",
    "* Add 'cheese' to the end of the list. Remove 'milk' from the list.\n",
    "* Create a list called groceries with initial items: 'bread', 'milk', 'eggs', 'butter'. Print the final list of groceries.\n",
    "* Insert 'yogurt' at index 1.\n",
    "\n"
   ]
  },
  {
   "cell_type": "code",
   "execution_count": 1,
   "id": "77be5d93",
   "metadata": {},
   "outputs": [],
   "source": [
    "num = []"
   ]
  },
  {
   "cell_type": "code",
   "execution_count": 2,
   "id": "103a7c36",
   "metadata": {},
   "outputs": [
    {
     "data": {
      "text/plain": [
       "list"
      ]
     },
     "execution_count": 2,
     "metadata": {},
     "output_type": "execute_result"
    }
   ],
   "source": [
    "type(num)"
   ]
  },
  {
   "cell_type": "code",
   "execution_count": 3,
   "id": "f05bb9d0",
   "metadata": {},
   "outputs": [],
   "source": [
    "num.append(1)\n",
    "num.append(2)\n",
    "num.append(3)"
   ]
  },
  {
   "cell_type": "code",
   "execution_count": 4,
   "id": "6b86d29d",
   "metadata": {},
   "outputs": [
    {
     "data": {
      "text/plain": [
       "[1, 2, 3]"
      ]
     },
     "execution_count": 4,
     "metadata": {},
     "output_type": "execute_result"
    }
   ],
   "source": [
    "num"
   ]
  },
  {
   "cell_type": "code",
   "execution_count": 7,
   "id": "c95acddb",
   "metadata": {},
   "outputs": [],
   "source": [
    "num[0] = 4"
   ]
  },
  {
   "cell_type": "code",
   "execution_count": 8,
   "id": "2a7a8c12",
   "metadata": {},
   "outputs": [
    {
     "data": {
      "text/plain": [
       "[4, 2, 3]"
      ]
     },
     "execution_count": 8,
     "metadata": {},
     "output_type": "execute_result"
    }
   ],
   "source": [
    "num"
   ]
  },
  {
   "cell_type": "markdown",
   "id": "b07f971c",
   "metadata": {},
   "source": [
    "## task 2 "
   ]
  },
  {
   "cell_type": "markdown",
   "id": "7cc56a88",
   "metadata": {},
   "source": [
    "Slicing and Concatenation\n",
    "\n",
    "Create a list called fruits with elements 'apple', 'banana', 'orange', 'mango', and 'kiwi'.\n",
    "Create a new list by slicing fruits to include only the citrus fruits ('orange' and 'mango\"). * Create a new list called tropical by slicing fruits to include only the tropical fruits ('banana\" and \"kiwi').\n",
    "Concatenate citrus and tropical lists to create a new list called combined. Print combined.\n"
   ]
  },
  {
   "cell_type": "code",
   "execution_count": 14,
   "id": "744267e3",
   "metadata": {},
   "outputs": [],
   "source": [
    "fruits = [\"apple\", \"banana\", \"orange\", \"mango\", \"kiwi\"]"
   ]
  },
  {
   "cell_type": "code",
   "execution_count": 21,
   "id": "f873a244",
   "metadata": {},
   "outputs": [],
   "source": [
    "citrusfruits = fruits[2:4:1]   #slicing"
   ]
  },
  {
   "cell_type": "code",
   "execution_count": 22,
   "id": "c8f339ca",
   "metadata": {},
   "outputs": [
    {
     "data": {
      "text/plain": [
       "['orange', 'mango']"
      ]
     },
     "execution_count": 22,
     "metadata": {},
     "output_type": "execute_result"
    }
   ],
   "source": [
    "citrusfruits"
   ]
  },
  {
   "cell_type": "code",
   "execution_count": 16,
   "id": "cd926350",
   "metadata": {},
   "outputs": [],
   "source": [
    "tropicalfruits = fruits[1:5:3]"
   ]
  },
  {
   "cell_type": "code",
   "execution_count": 17,
   "id": "a4e2cee9",
   "metadata": {},
   "outputs": [
    {
     "data": {
      "text/plain": [
       "['banana', 'kiwi']"
      ]
     },
     "execution_count": 17,
     "metadata": {},
     "output_type": "execute_result"
    }
   ],
   "source": [
    "tropicalfruits"
   ]
  },
  {
   "cell_type": "code",
   "execution_count": 23,
   "id": "6fa49813",
   "metadata": {},
   "outputs": [],
   "source": [
    "combined = [citrusfruits + tropicalfruits]"
   ]
  },
  {
   "cell_type": "code",
   "execution_count": 24,
   "id": "639ab9af",
   "metadata": {},
   "outputs": [
    {
     "data": {
      "text/plain": [
       "[['orange', 'mango', 'banana', 'kiwi']]"
      ]
     },
     "execution_count": 24,
     "metadata": {},
     "output_type": "execute_result"
    }
   ],
   "source": [
    "combined"
   ]
  },
  {
   "cell_type": "markdown",
   "id": "c232a459",
   "metadata": {},
   "source": [
    "## task 3"
   ]
  },
  {
   "cell_type": "code",
   "execution_count": null,
   "id": "ac1f8fc5",
   "metadata": {},
   "outputs": [],
   "source": []
  },
  {
   "cell_type": "code",
   "execution_count": 25,
   "id": "ab561872",
   "metadata": {},
   "outputs": [],
   "source": [
    "colors = [\"red\",\"blue\" , \"red\", \"green\", \"red\"]"
   ]
  },
  {
   "cell_type": "code",
   "execution_count": 27,
   "id": "187ddcbd",
   "metadata": {},
   "outputs": [
    {
     "data": {
      "text/plain": [
       "3"
      ]
     },
     "execution_count": 27,
     "metadata": {},
     "output_type": "execute_result"
    }
   ],
   "source": [
    "colors.count(\"red\")"
   ]
  },
  {
   "cell_type": "code",
   "execution_count": 28,
   "id": "a3f15524",
   "metadata": {},
   "outputs": [],
   "source": [
    "colors.remove(\"red\")"
   ]
  },
  {
   "cell_type": "code",
   "execution_count": 29,
   "id": "081ee86c",
   "metadata": {},
   "outputs": [
    {
     "data": {
      "text/plain": [
       "['blue', 'red', 'green', 'red']"
      ]
     },
     "execution_count": 29,
     "metadata": {},
     "output_type": "execute_result"
    }
   ],
   "source": [
    "colors"
   ]
  },
  {
   "cell_type": "code",
   "execution_count": 31,
   "id": "07aca6f7",
   "metadata": {},
   "outputs": [
    {
     "data": {
      "text/plain": [
       "'red'"
      ]
     },
     "execution_count": 31,
     "metadata": {},
     "output_type": "execute_result"
    }
   ],
   "source": [
    "colors.pop(1)"
   ]
  },
  {
   "cell_type": "code",
   "execution_count": 32,
   "id": "53125830",
   "metadata": {},
   "outputs": [
    {
     "data": {
      "text/plain": [
       "['blue', 'green', 'red']"
      ]
     },
     "execution_count": 32,
     "metadata": {},
     "output_type": "execute_result"
    }
   ],
   "source": [
    "colors"
   ]
  },
  {
   "cell_type": "code",
   "execution_count": 33,
   "id": "39c0db11",
   "metadata": {},
   "outputs": [],
   "source": [
    "colors.remove(\"red\")"
   ]
  },
  {
   "cell_type": "code",
   "execution_count": 34,
   "id": "27074d2e",
   "metadata": {},
   "outputs": [
    {
     "data": {
      "text/plain": [
       "['blue', 'green']"
      ]
     },
     "execution_count": 34,
     "metadata": {},
     "output_type": "execute_result"
    }
   ],
   "source": [
    "colors"
   ]
  },
  {
   "cell_type": "markdown",
   "id": "3deac2a1",
   "metadata": {},
   "source": [
    "## Task 4 "
   ]
  },
  {
   "cell_type": "markdown",
   "id": "77dbd464",
   "metadata": {},
   "source": [
    "List Manipulation\n",
    "\n",
    "Add 'cheese' to the end of the list. Remove 'milk' from the list.\n",
    "Create a list called groceries with initial items: 'bread', 'milk', 'eggs', 'butter'. Print the final list of groceries.\n",
    "Insert 'yogurt' at index 1."
   ]
  },
  {
   "cell_type": "code",
   "execution_count": 35,
   "id": "f0fbeb76",
   "metadata": {},
   "outputs": [],
   "source": [
    "groceries = [\"bread\", \"milk\", \"eggs\" , \"butter\"]"
   ]
  },
  {
   "cell_type": "code",
   "execution_count": 41,
   "id": "b9735a81",
   "metadata": {},
   "outputs": [],
   "source": [
    "groceries.append(\"cheese\")"
   ]
  },
  {
   "cell_type": "code",
   "execution_count": 42,
   "id": "b36f8a44",
   "metadata": {},
   "outputs": [
    {
     "data": {
      "text/plain": [
       "['bread', 'milk', 'eggs', 'butter', 'cheese']"
      ]
     },
     "execution_count": 42,
     "metadata": {},
     "output_type": "execute_result"
    }
   ],
   "source": [
    "groceries"
   ]
  },
  {
   "cell_type": "code",
   "execution_count": 43,
   "id": "82ed50a3",
   "metadata": {},
   "outputs": [],
   "source": [
    "groceries.remove(\"milk\")"
   ]
  },
  {
   "cell_type": "code",
   "execution_count": 44,
   "id": "ec49b11e",
   "metadata": {},
   "outputs": [
    {
     "data": {
      "text/plain": [
       "['bread', 'eggs', 'butter', 'cheese']"
      ]
     },
     "execution_count": 44,
     "metadata": {},
     "output_type": "execute_result"
    }
   ],
   "source": [
    "groceries"
   ]
  },
  {
   "cell_type": "code",
   "execution_count": 46,
   "id": "a97a0eee",
   "metadata": {},
   "outputs": [],
   "source": [
    "groceries.insert(1, \"yogurt\")"
   ]
  },
  {
   "cell_type": "code",
   "execution_count": 47,
   "id": "7a8252fd",
   "metadata": {},
   "outputs": [
    {
     "data": {
      "text/plain": [
       "['bread', 'yogurt', 'eggs', 'butter', 'cheese']"
      ]
     },
     "execution_count": 47,
     "metadata": {},
     "output_type": "execute_result"
    }
   ],
   "source": [
    "groceries"
   ]
  },
  {
   "cell_type": "code",
   "execution_count": null,
   "id": "3dd46cde",
   "metadata": {},
   "outputs": [],
   "source": []
  }
 ],
 "metadata": {
  "kernelspec": {
   "display_name": "Python 3 (ipykernel)",
   "language": "python",
   "name": "python3"
  },
  "language_info": {
   "codemirror_mode": {
    "name": "ipython",
    "version": 3
   },
   "file_extension": ".py",
   "mimetype": "text/x-python",
   "name": "python",
   "nbconvert_exporter": "python",
   "pygments_lexer": "ipython3",
   "version": "3.11.4"
  }
 },
 "nbformat": 4,
 "nbformat_minor": 5
}
