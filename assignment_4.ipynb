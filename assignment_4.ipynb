{
 "cells": [
  {
   "cell_type": "markdown",
   "id": "b24867f7",
   "metadata": {},
   "source": [
    "1. Ask user to  enter a  website name and check whether it is valid or not(True/False)\n",
    "\n",
    "\n",
    "2. name = \"Innomatics\", course = \"Data Science\"\n",
    "   write python code in `different ways` to show output as :\n",
    "   `\"Hello World I am learning Data Science in Innomatics\"`\n",
    "   \n",
    "   \n",
    "3. Replace `Science` with `Analysis` in the above output.\n",
    "\n",
    "\n",
    "4. `string = '     Hello World I am learning Python in Innomatics   '`\n",
    "    a. How many characters are there in the string.\n",
    "    b. Slice only 'Python' from above string\n",
    "    c. Remove white spaces on both sides then find no.of characters in the string.\n",
    "    d. Convert the string in Upper case\n",
    "    \n",
    "    \n",
    "5. What is the index number of 'World' in above string.\n",
    "\n",
    "\n",
    "6. Split the string with respect to `whitespace`.after that `store` that splitted into a variable and find the `data type`of that variable.\n",
    "\n",
    "\n",
    "7. How many times 'a' is `repeated` in above string.\n",
    "\n",
    "8. "
   ]
  },
  {
   "cell_type": "markdown",
   "id": "80480968",
   "metadata": {},
   "source": [
    "## task 4"
   ]
  },
  {
   "cell_type": "code",
   "execution_count": null,
   "id": "72b5e955",
   "metadata": {},
   "outputs": [],
   "source": [
    "1. Ask user to  enter a  website name and check whether it is valid or not(True/False)"
   ]
  },
  {
   "cell_type": "code",
   "execution_count": 3,
   "id": "20323c14",
   "metadata": {},
   "outputs": [
    {
     "name": "stdout",
     "output_type": "stream",
     "text": [
      "enter the website namewww.innomatics.com\n"
     ]
    }
   ],
   "source": [
    "website = input(\"enter the website name\")"
   ]
  },
  {
   "cell_type": "code",
   "execution_count": 4,
   "id": "1c73d283",
   "metadata": {},
   "outputs": [
    {
     "data": {
      "text/plain": [
       "True"
      ]
     },
     "execution_count": 4,
     "metadata": {},
     "output_type": "execute_result"
    }
   ],
   "source": [
    "(website.startswith(\"www\")) and (website.endswith(\".com\"))"
   ]
  },
  {
   "cell_type": "code",
   "execution_count": null,
   "id": "7c9f13bf",
   "metadata": {},
   "outputs": [],
   "source": []
  },
  {
   "cell_type": "code",
   "execution_count": null,
   "id": "00c12a1a",
   "metadata": {},
   "outputs": [],
   "source": [
    "2. name = \"Innomatics\", course = \"Data Science\"\n",
    "   write python code in `different ways` to show output as :\n",
    "   `\"Hello World I am learning Data Science in Innomatics\"`"
   ]
  },
  {
   "cell_type": "code",
   "execution_count": 22,
   "id": "6ab04c26",
   "metadata": {},
   "outputs": [],
   "source": [
    "name = \"Innomatics\"\n",
    "course = \"Data Science\""
   ]
  },
  {
   "cell_type": "markdown",
   "id": "83799c61",
   "metadata": {},
   "source": [
    "### method 1"
   ]
  },
  {
   "cell_type": "code",
   "execution_count": 24,
   "id": "b31ec0f1",
   "metadata": {},
   "outputs": [
    {
     "name": "stdout",
     "output_type": "stream",
     "text": [
      " Hello World Iam learning Data Science in Innomatics\n"
     ]
    }
   ],
   "source": [
    "print(\" Hello World Iam learning \" + course + \" in \" + name )"
   ]
  },
  {
   "cell_type": "markdown",
   "id": "0cb15745",
   "metadata": {},
   "source": [
    "### method 2 |"
   ]
  },
  {
   "cell_type": "code",
   "execution_count": 29,
   "id": "fb9c5785",
   "metadata": {},
   "outputs": [
    {
     "name": "stdout",
     "output_type": "stream",
     "text": [
      "Hello World Iam learning Data Science in Innomatics\n"
     ]
    }
   ],
   "source": [
    "print(\"Hello World Iam learning\", course, \"in\", name)"
   ]
  },
  {
   "cell_type": "markdown",
   "id": "6da1b6a6",
   "metadata": {},
   "source": [
    "### method 3"
   ]
  },
  {
   "cell_type": "code",
   "execution_count": 39,
   "id": "c0e87363",
   "metadata": {},
   "outputs": [
    {
     "name": "stdout",
     "output_type": "stream",
     "text": [
      "Hello World Iam learning Data Science in Innomatics \n"
     ]
    }
   ],
   "source": [
    "print(\"Hello World Iam learning {} in {} \".format(course,name))"
   ]
  },
  {
   "cell_type": "markdown",
   "id": "8080a0d0",
   "metadata": {},
   "source": [
    "### method 4 "
   ]
  },
  {
   "cell_type": "code",
   "execution_count": 43,
   "id": "367e1a29",
   "metadata": {},
   "outputs": [
    {
     "name": "stdout",
     "output_type": "stream",
     "text": [
      "Hello World Iam learning Data Science in Innomatics\n"
     ]
    }
   ],
   "source": [
    "print(f\"Hello World Iam learning {course} in {name}\")"
   ]
  },
  {
   "cell_type": "markdown",
   "id": "1149c2e5",
   "metadata": {},
   "source": [
    "## 3."
   ]
  },
  {
   "cell_type": "code",
   "execution_count": null,
   "id": "c0d01ec8",
   "metadata": {},
   "outputs": [],
   "source": [
    "3. Replace `Science` with `Analysis` in the above output."
   ]
  },
  {
   "cell_type": "code",
   "execution_count": 45,
   "id": "a75e9366",
   "metadata": {},
   "outputs": [],
   "source": [
    "name = \"Iam Learning Data Science\""
   ]
  },
  {
   "cell_type": "code",
   "execution_count": 46,
   "id": "92442368",
   "metadata": {},
   "outputs": [
    {
     "data": {
      "text/plain": [
       "'Iam Learning Data Analysis'"
      ]
     },
     "execution_count": 46,
     "metadata": {},
     "output_type": "execute_result"
    }
   ],
   "source": [
    "name.replace(\"Science\", \"Analysis\")"
   ]
  },
  {
   "cell_type": "markdown",
   "id": "209f2aca",
   "metadata": {},
   "source": [
    "## 4."
   ]
  },
  {
   "cell_type": "code",
   "execution_count": null,
   "id": "6812d5a9",
   "metadata": {},
   "outputs": [],
   "source": [
    "4. `string = '     Hello World I am learning Python in Innomatics   '`\n",
    "    a. How many characters are there in the string.\n",
    "    b. Slice only 'Python' from above string\n",
    "    c. Remove white spaces on both sides then find no.of characters in the string.\n",
    "    d. Convert the string in Upper case"
   ]
  },
  {
   "cell_type": "code",
   "execution_count": 49,
   "id": "2903e2ce",
   "metadata": {},
   "outputs": [],
   "source": [
    "string = '     Hello World I am learning Python in Innomatics   '"
   ]
  },
  {
   "cell_type": "code",
   "execution_count": 50,
   "id": "243fef94",
   "metadata": {},
   "outputs": [
    {
     "data": {
      "text/plain": [
       "54"
      ]
     },
     "execution_count": 50,
     "metadata": {},
     "output_type": "execute_result"
    }
   ],
   "source": [
    "len(string)"
   ]
  },
  {
   "cell_type": "code",
   "execution_count": null,
   "id": "526b9777",
   "metadata": {},
   "outputs": [],
   "source": [
    "string = '     Hello World I am learning Python in Innomatics   '"
   ]
  },
  {
   "cell_type": "code",
   "execution_count": 59,
   "id": "23fb4e29",
   "metadata": {},
   "outputs": [
    {
     "data": {
      "text/plain": [
       "'Python'"
      ]
     },
     "execution_count": 59,
     "metadata": {},
     "output_type": "execute_result"
    }
   ],
   "source": [
    "string[31:37:1]"
   ]
  },
  {
   "cell_type": "code",
   "execution_count": 62,
   "id": "315964d5",
   "metadata": {},
   "outputs": [
    {
     "data": {
      "text/plain": [
       "'     Hello World I am learning Python in Innomatics   '"
      ]
     },
     "execution_count": 62,
     "metadata": {},
     "output_type": "execute_result"
    }
   ],
   "source": [
    "string"
   ]
  },
  {
   "cell_type": "code",
   "execution_count": 67,
   "id": "d419d82e",
   "metadata": {},
   "outputs": [
    {
     "data": {
      "text/plain": [
       "'Hello World I am learning Python in Innomatics'"
      ]
     },
     "execution_count": 67,
     "metadata": {},
     "output_type": "execute_result"
    }
   ],
   "source": [
    "string.strip()"
   ]
  },
  {
   "cell_type": "code",
   "execution_count": 69,
   "id": "91f69154",
   "metadata": {},
   "outputs": [
    {
     "data": {
      "text/plain": [
       "'     HELLO WORLD I AM LEARNING PYTHON IN INNOMATICS   '"
      ]
     },
     "execution_count": 69,
     "metadata": {},
     "output_type": "execute_result"
    }
   ],
   "source": [
    "string.upper()"
   ]
  },
  {
   "cell_type": "markdown",
   "id": "9989198f",
   "metadata": {},
   "source": [
    "5. What is the index number of 'World' in above string."
   ]
  },
  {
   "cell_type": "code",
   "execution_count": 10,
   "id": "a327b067",
   "metadata": {},
   "outputs": [],
   "source": [
    "string = \"Hello World I am Learning Python in Innomatics\""
   ]
  },
  {
   "cell_type": "code",
   "execution_count": 16,
   "id": "051b022c",
   "metadata": {},
   "outputs": [
    {
     "data": {
      "text/plain": [
       "6"
      ]
     },
     "execution_count": 16,
     "metadata": {},
     "output_type": "execute_result"
    }
   ],
   "source": [
    "string.index(\"World\")"
   ]
  },
  {
   "cell_type": "code",
   "execution_count": null,
   "id": "955361d8",
   "metadata": {},
   "outputs": [],
   "source": []
  },
  {
   "cell_type": "markdown",
   "id": "37c5c8a6",
   "metadata": {},
   "source": [
    "6. Split the string with respect to `whitespace`.after that `store` that splitted into a variable and find the `data type`of that variable."
   ]
  },
  {
   "cell_type": "code",
   "execution_count": 79,
   "id": "c7019639",
   "metadata": {},
   "outputs": [
    {
     "data": {
      "text/plain": [
       "'     Hello World I am learning Python in Innomatics   '"
      ]
     },
     "execution_count": 79,
     "metadata": {},
     "output_type": "execute_result"
    }
   ],
   "source": [
    "string"
   ]
  },
  {
   "cell_type": "code",
   "execution_count": 23,
   "id": "a251bfb0",
   "metadata": {},
   "outputs": [
    {
     "data": {
      "text/plain": [
       "['Hello', 'World', 'Iam', 'learning', 'python', 'in', 'innomatics']"
      ]
     },
     "execution_count": 23,
     "metadata": {},
     "output_type": "execute_result"
    }
   ],
   "source": [
    "string.split()\n"
   ]
  },
  {
   "cell_type": "code",
   "execution_count": 24,
   "id": "6e24c972",
   "metadata": {},
   "outputs": [
    {
     "data": {
      "text/plain": [
       "list"
      ]
     },
     "execution_count": 24,
     "metadata": {},
     "output_type": "execute_result"
    }
   ],
   "source": [
    "type(name)"
   ]
  },
  {
   "cell_type": "code",
   "execution_count": null,
   "id": "01f271e9",
   "metadata": {},
   "outputs": [],
   "source": []
  },
  {
   "cell_type": "code",
   "execution_count": null,
   "id": "86d99c01",
   "metadata": {},
   "outputs": [],
   "source": [
    "7. How many times 'a' is `repeated` in above string."
   ]
  },
  {
   "cell_type": "code",
   "execution_count": 84,
   "id": "745d4cb7",
   "metadata": {},
   "outputs": [
    {
     "data": {
      "text/plain": [
       "'     Hello World I am learning Python in Innomatics   '"
      ]
     },
     "execution_count": 84,
     "metadata": {},
     "output_type": "execute_result"
    }
   ],
   "source": [
    "string "
   ]
  },
  {
   "cell_type": "code",
   "execution_count": 86,
   "id": "038ce70f",
   "metadata": {},
   "outputs": [
    {
     "data": {
      "text/plain": [
       "3"
      ]
     },
     "execution_count": 86,
     "metadata": {},
     "output_type": "execute_result"
    }
   ],
   "source": [
    "string.count('a')"
   ]
  },
  {
   "cell_type": "code",
   "execution_count": null,
   "id": "2875f0bb",
   "metadata": {},
   "outputs": [],
   "source": []
  }
 ],
 "metadata": {
  "kernelspec": {
   "display_name": "Python 3 (ipykernel)",
   "language": "python",
   "name": "python3"
  },
  "language_info": {
   "codemirror_mode": {
    "name": "ipython",
    "version": 3
   },
   "file_extension": ".py",
   "mimetype": "text/x-python",
   "name": "python",
   "nbconvert_exporter": "python",
   "pygments_lexer": "ipython3",
   "version": "3.11.4"
  }
 },
 "nbformat": 4,
 "nbformat_minor": 5
}
