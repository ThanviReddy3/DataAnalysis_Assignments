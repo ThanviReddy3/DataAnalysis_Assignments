{
 "cells": [
  {
   "cell_type": "markdown",
   "id": "f02710a3",
   "metadata": {},
   "source": [
    "\n",
    "**Task 1: Dictionary Basics**\n",
    "Create a Python program that defines a dictionary to store information about your `favorite book`. Include the title, author, publication year, and genre as key-value pairs. Print out the dictionary.and do atleast 5 dictionary methods on it.\n",
    "\n",
    "**Task 2: Dictionary Lookup**\n",
    "Write a Python program that simulates a simple dictionary for translating `English words to Spanish`. Define a dictionary containing a few English words as `keys` and their corresponding Spanish translations as `values`. Allow `users to enter` an English word, and then display its Spanish translation `if it exists` in the dictionary.(use google for English to Spanish translator)\n",
    "\n",
    "**Task 3: Student Grades**\n",
    "Create a Python program that stores the `grades of five students` in a dictionary. Allow users to input the names of the students and their respective grades. Calculate and display the `average grade` of the students.\n",
    "\n",
    "**Task 4: Contact List**\n",
    "Build a basic contact list using a dictionary. Initially, the dictionary can be `empty`. Allow users to `add new contacts` with `names and phone numbers`. Users should also be able to search for contacts by name and display their phone numbers(use in operator).\n",
    "\n",
    "**Task 5: Dictionary Iteration**\n",
    "Write a Python program that defines a dictionary containing the names of `fruits as keys` and their corresponding `colors as values` (e.g., 'apple': 'red').Do atleast 5 dictionary methods on it.\n"
   ]
  },
  {
   "cell_type": "markdown",
   "id": "017ffec9",
   "metadata": {},
   "source": [
    "Task 1: Dictionary Basics Create a Python program that defines a dictionary to store information about your favorite book. Include the title, author, publication year, and genre as key-value pairs. Print out the dictionary.and do atleast 5 dictionary methods on it."
   ]
  },
  {
   "cell_type": "code",
   "execution_count": 57,
   "id": "4268eba5",
   "metadata": {},
   "outputs": [],
   "source": [
    "book = {\"Title\" : \"The Power of Your Subconscious mind\",\n",
    "        \"author\" : \"Dr. Joseph murphy\", \n",
    "        \"year\": \"2016\", \n",
    "        \"genre\": \"selfhelp\"}"
   ]
  },
  {
   "cell_type": "code",
   "execution_count": 59,
   "id": "643cfcb8",
   "metadata": {},
   "outputs": [
    {
     "data": {
      "text/plain": [
       "{'Title': 'The Power of Your Subconscious mind',\n",
       " 'author': 'Dr. Joseph murphy',\n",
       " 'year': '2016',\n",
       " 'genre': 'selfhelp'}"
      ]
     },
     "execution_count": 59,
     "metadata": {},
     "output_type": "execute_result"
    }
   ],
   "source": [
    "book"
   ]
  },
  {
   "cell_type": "code",
   "execution_count": 60,
   "id": "bac982f2",
   "metadata": {},
   "outputs": [
    {
     "data": {
      "text/plain": [
       "'The Power of Your Subconscious mind'"
      ]
     },
     "execution_count": 60,
     "metadata": {},
     "output_type": "execute_result"
    }
   ],
   "source": [
    "book.get(\"Title\")"
   ]
  },
  {
   "cell_type": "code",
   "execution_count": 61,
   "id": "9ef029f9",
   "metadata": {},
   "outputs": [
    {
     "data": {
      "text/plain": [
       "dict_keys(['Title', 'author', 'year', 'genre'])"
      ]
     },
     "execution_count": 61,
     "metadata": {},
     "output_type": "execute_result"
    }
   ],
   "source": [
    "book.keys()"
   ]
  },
  {
   "cell_type": "code",
   "execution_count": 62,
   "id": "f31b24ab",
   "metadata": {},
   "outputs": [
    {
     "data": {
      "text/plain": [
       "dict_items([('Title', 'The Power of Your Subconscious mind'), ('author', 'Dr. Joseph murphy'), ('year', '2016'), ('genre', 'selfhelp')])"
      ]
     },
     "execution_count": 62,
     "metadata": {},
     "output_type": "execute_result"
    }
   ],
   "source": [
    "book.items()"
   ]
  },
  {
   "cell_type": "code",
   "execution_count": 63,
   "id": "ea5305b1",
   "metadata": {},
   "outputs": [],
   "source": [
    "book.update({\"Rating\" : \"5\"})"
   ]
  },
  {
   "cell_type": "code",
   "execution_count": 64,
   "id": "07834f8f",
   "metadata": {},
   "outputs": [
    {
     "data": {
      "text/plain": [
       "{'Title': 'The Power of Your Subconscious mind',\n",
       " 'author': 'Dr. Joseph murphy',\n",
       " 'year': '2016',\n",
       " 'genre': 'selfhelp',\n",
       " 'Rating': '5'}"
      ]
     },
     "execution_count": 64,
     "metadata": {},
     "output_type": "execute_result"
    }
   ],
   "source": [
    "book"
   ]
  },
  {
   "cell_type": "code",
   "execution_count": 65,
   "id": "645423f6",
   "metadata": {},
   "outputs": [
    {
     "data": {
      "text/plain": [
       "dict_values(['The Power of Your Subconscious mind', 'Dr. Joseph murphy', '2016', 'selfhelp', '5'])"
      ]
     },
     "execution_count": 65,
     "metadata": {},
     "output_type": "execute_result"
    }
   ],
   "source": [
    "book.values()"
   ]
  },
  {
   "cell_type": "code",
   "execution_count": 71,
   "id": "19ed5b00",
   "metadata": {},
   "outputs": [
    {
     "data": {
      "text/plain": [
       "'10 million'"
      ]
     },
     "execution_count": 71,
     "metadata": {},
     "output_type": "execute_result"
    }
   ],
   "source": [
    "book.setdefault(\"sold\", \"10 million\")"
   ]
  },
  {
   "cell_type": "code",
   "execution_count": 72,
   "id": "000429b8",
   "metadata": {},
   "outputs": [
    {
     "data": {
      "text/plain": [
       "{'Title': 'The Power of Your Subconscious mind',\n",
       " 'author': 'Dr. Joseph murphy',\n",
       " 'year': '2016',\n",
       " 'genre': 'selfhelp',\n",
       " 'Rating': '5',\n",
       " 'sold': '10 million'}"
      ]
     },
     "execution_count": 72,
     "metadata": {},
     "output_type": "execute_result"
    }
   ],
   "source": [
    "book"
   ]
  },
  {
   "cell_type": "code",
   "execution_count": null,
   "id": "3acfc1c2",
   "metadata": {},
   "outputs": [],
   "source": []
  },
  {
   "cell_type": "markdown",
   "id": "fcc806d8",
   "metadata": {},
   "source": [
    "Task 2: Dictionary Lookup Write a Python program that simulates a simple dictionary for translating English words to Spanish. Define a dictionary containing a few English words as keys and their corresponding Spanish translations as values. Allow users to enter an English word, and then display its Spanish translation if it exists in the dictionary.(use google for English to Spanish translator)"
   ]
  },
  {
   "cell_type": "code",
   "execution_count": 84,
   "id": "c9438022",
   "metadata": {},
   "outputs": [],
   "source": [
    "#method 1"
   ]
  },
  {
   "cell_type": "code",
   "execution_count": 18,
   "id": "b9d01acf",
   "metadata": {},
   "outputs": [],
   "source": [
    "english_spanish = {\n",
    "    \"hi\": \"hola\",\n",
    "     \"good morning\": \"buenos días\",\n",
    "     \"beautiful\": \"hermoso\",\n",
    "     \"bye\": \"adiós\"\n",
    " }"
   ]
  },
  {
   "cell_type": "code",
   "execution_count": 33,
   "id": "e0f4a8a4",
   "metadata": {},
   "outputs": [
    {
     "name": "stdout",
     "output_type": "stream",
     "text": [
      "Enter an English word: hi\n",
      "The translation of 'hi' is 'hola'.\n"
     ]
    }
   ],
   "source": [
    "\n",
    "translate = input(\"Enter an English word: \")\n",
    "\n",
    "if translate in english_spanish:\n",
    "    word = english_spanish[translate]\n",
    "    print(f\"The translation of '{translate}' is '{word}'.\")\n",
    "else: \n",
    "    print(\"Word not found\")"
   ]
  },
  {
   "cell_type": "code",
   "execution_count": null,
   "id": "4167e6a6",
   "metadata": {},
   "outputs": [],
   "source": [
    "#method 2"
   ]
  },
  {
   "cell_type": "code",
   "execution_count": 79,
   "id": "068a168a",
   "metadata": {},
   "outputs": [],
   "source": [
    "words = {\n",
    "    \"hi\": \"hola\",\n",
    "     \"good morning\": \"buenos días\",\n",
    "     \"beautiful\": \"hermoso\",\n",
    "     \"bye\": \"adiós\"\n",
    " }"
   ]
  },
  {
   "cell_type": "code",
   "execution_count": 83,
   "id": "5a4c87e5",
   "metadata": {},
   "outputs": [
    {
     "name": "stdout",
     "output_type": "stream",
     "text": [
      "enter an english wordbeautiful\n"
     ]
    },
    {
     "data": {
      "text/plain": [
       "'hermoso'"
      ]
     },
     "execution_count": 83,
     "metadata": {},
     "output_type": "execute_result"
    }
   ],
   "source": [
    "translate = input(\"enter an english word\")\n",
    "words.get(translate)"
   ]
  },
  {
   "cell_type": "code",
   "execution_count": null,
   "id": "bf93ee50",
   "metadata": {},
   "outputs": [],
   "source": []
  },
  {
   "cell_type": "markdown",
   "id": "439b3ba2",
   "metadata": {},
   "source": [
    "Task 3: Student Grades Create a Python program that stores the grades of five students in a dictionary. Allow users to input the names of the students and their respective grades. Calculate and display the average grade of the students.\n",
    "\n"
   ]
  },
  {
   "cell_type": "code",
   "execution_count": 20,
   "id": "a56f6925",
   "metadata": {},
   "outputs": [
    {
     "name": "stdout",
     "output_type": "stream",
     "text": [
      "enter the name of the student1 : ramu\n",
      "enter the grade of the sudent1 99\n",
      "enter the name of the student2: sita\n",
      "enter the grade of the sudent2 88\n",
      "enter the name of the student3: raju\n",
      "enter the grade of the sudent3 89\n",
      "enter the name of the student4: rani\n",
      "enter the grade of the sudent4 98\n",
      "enter the name of the student5: avi\n",
      "enter the grade of the sudent5 77\n"
     ]
    }
   ],
   "source": [
    "student = {}\n",
    "name1 = input(\"enter the name of the student1 : \")\n",
    "grade1 = int(input(\"enter the grade of the sudent1 \"))\n",
    "name2 = input(\"enter the name of the student2: \")\n",
    "grades2 = int(input(\"enter the grade of the sudent2 \"))\n",
    "name3 = input(\"enter the name of the student3: \")\n",
    "grades3 = int(input(\"enter the grade of the sudent3 \"))\n",
    "name4 = input(\"enter the name of the student4: \")\n",
    "grades4 = int(input(\"enter the grade of the sudent4 \"))\n",
    "name5 = input(\"enter the name of the student5: \")\n",
    "grades5 = int(input(\"enter the grade of the sudent5 \"))"
   ]
  },
  {
   "cell_type": "code",
   "execution_count": 22,
   "id": "7fb177f3",
   "metadata": {},
   "outputs": [],
   "source": [
    "names = [name1, name2, name3, name4, name5]\n",
    "grades = [grade1, grades2, grades3, grades4, grades5]\n",
    "students = dict(zip(names,grades))"
   ]
  },
  {
   "cell_type": "code",
   "execution_count": 23,
   "id": "662473a0",
   "metadata": {},
   "outputs": [
    {
     "data": {
      "text/plain": [
       "{'ramu': 99, 'sita': 88, 'raju': 89, 'rani': 98, 'avi': 77}"
      ]
     },
     "execution_count": 23,
     "metadata": {},
     "output_type": "execute_result"
    }
   ],
   "source": [
    "students"
   ]
  },
  {
   "cell_type": "code",
   "execution_count": 25,
   "id": "7f0b2005",
   "metadata": {},
   "outputs": [],
   "source": [
    "total = sum(grades)\n"
   ]
  },
  {
   "cell_type": "code",
   "execution_count": 26,
   "id": "2791ee5f",
   "metadata": {},
   "outputs": [
    {
     "data": {
      "text/plain": [
       "451"
      ]
     },
     "execution_count": 26,
     "metadata": {},
     "output_type": "execute_result"
    }
   ],
   "source": [
    "total"
   ]
  },
  {
   "cell_type": "code",
   "execution_count": 29,
   "id": "c0bc2aa1",
   "metadata": {},
   "outputs": [
    {
     "data": {
      "text/plain": [
       "5"
      ]
     },
     "execution_count": 29,
     "metadata": {},
     "output_type": "execute_result"
    }
   ],
   "source": [
    "len(grades)"
   ]
  },
  {
   "cell_type": "code",
   "execution_count": 27,
   "id": "ac0a24c1",
   "metadata": {},
   "outputs": [],
   "source": [
    "average = total/len(grades)"
   ]
  },
  {
   "cell_type": "code",
   "execution_count": 28,
   "id": "5f87e3bf",
   "metadata": {},
   "outputs": [
    {
     "data": {
      "text/plain": [
       "90.2"
      ]
     },
     "execution_count": 28,
     "metadata": {},
     "output_type": "execute_result"
    }
   ],
   "source": [
    "average"
   ]
  },
  {
   "cell_type": "code",
   "execution_count": null,
   "id": "a9ec56a7",
   "metadata": {},
   "outputs": [],
   "source": []
  },
  {
   "cell_type": "code",
   "execution_count": null,
   "id": "f3e3b5f0",
   "metadata": {},
   "outputs": [],
   "source": []
  },
  {
   "cell_type": "markdown",
   "id": "5e4a5197",
   "metadata": {},
   "source": [
    "Task 4: Contact List Build a basic contact list using a dictionary. Initially, the dictionary can be empty. Allow users to add new contacts with names and phone numbers. Users should also be able to search for contacts by name and display their phone numbers(use in operator).\n",
    "\n"
   ]
  },
  {
   "cell_type": "code",
   "execution_count": 2,
   "id": "ad99005e",
   "metadata": {},
   "outputs": [
    {
     "name": "stdout",
     "output_type": "stream",
     "text": [
      "enter the contacts name: rani\n",
      "enter the contacts phone number: 9898989898\n",
      "enter the contacts name: raju\n",
      "enter the contacts phone number: 8989898989\n",
      "enter the contacts name: ramu\n",
      "enter the contacts phone number: 7878787878\n",
      "enter the contacts name: sita\n",
      "enter the contacts phone number: 8787878787\n"
     ]
    }
   ],
   "source": [
    "contacts = {}\n",
    "name1 = input(\"enter the contacts name: \")\n",
    "phone_number1 = int(input(\"enter the contacts phone number: \"))\n",
    "name2 = input(\"enter the contacts name: \")\n",
    "phone_number2 = int(input(\"enter the contacts phone number: \"))\n",
    "name3 = input(\"enter the contacts name: \")\n",
    "phone_number3 = int(input(\"enter the contacts phone number: \"))\n",
    "name4 = input(\"enter the contacts name: \")\n",
    "phone_number4 = int(input(\"enter the contacts phone number: \"))"
   ]
  },
  {
   "cell_type": "code",
   "execution_count": 12,
   "id": "bbda1f5b",
   "metadata": {},
   "outputs": [
    {
     "data": {
      "text/plain": [
       "{'rani': 9898989898,\n",
       " 'raju': 8989898989,\n",
       " 'ramu': 7878787878,\n",
       " 'sita': 8787878787}"
      ]
     },
     "execution_count": 12,
     "metadata": {},
     "output_type": "execute_result"
    }
   ],
   "source": [
    "contacts[name1] = phone_number1\n",
    "contacts[name2] = phone_number2\n",
    "contacts[name3] = phone_number3\n",
    "contacts[name4] = phone_number4\n",
    "contacts"
   ]
  },
  {
   "cell_type": "code",
   "execution_count": 13,
   "id": "cbe60acb",
   "metadata": {},
   "outputs": [
    {
     "data": {
      "text/plain": [
       "{'rani': 9898989898,\n",
       " 'raju': 8989898989,\n",
       " 'ramu': 7878787878,\n",
       " 'sita': 8787878787}"
      ]
     },
     "execution_count": 13,
     "metadata": {},
     "output_type": "execute_result"
    }
   ],
   "source": [
    "contacts"
   ]
  },
  {
   "cell_type": "code",
   "execution_count": 16,
   "id": "dc155a16",
   "metadata": {},
   "outputs": [
    {
     "data": {
      "text/plain": [
       "True"
      ]
     },
     "execution_count": 16,
     "metadata": {},
     "output_type": "execute_result"
    }
   ],
   "source": [
    "\"sita\" in contacts"
   ]
  },
  {
   "cell_type": "code",
   "execution_count": 17,
   "id": "4282585b",
   "metadata": {},
   "outputs": [
    {
     "data": {
      "text/plain": [
       "True"
      ]
     },
     "execution_count": 17,
     "metadata": {},
     "output_type": "execute_result"
    }
   ],
   "source": [
    "\"raju\" in contacts"
   ]
  },
  {
   "cell_type": "code",
   "execution_count": 18,
   "id": "d8e2188b",
   "metadata": {},
   "outputs": [
    {
     "name": "stdout",
     "output_type": "stream",
     "text": [
      "enter the name; ramu\n"
     ]
    },
    {
     "data": {
      "text/plain": [
       "7878787878"
      ]
     },
     "execution_count": 18,
     "metadata": {},
     "output_type": "execute_result"
    }
   ],
   "source": [
    "find = input(\"enter the name; \")\n",
    "contacts[find]"
   ]
  },
  {
   "cell_type": "code",
   "execution_count": null,
   "id": "5f9a1ef4",
   "metadata": {},
   "outputs": [],
   "source": []
  },
  {
   "cell_type": "markdown",
   "id": "96d290bd",
   "metadata": {},
   "source": [
    "Task 5: Dictionary Iteration Write a Python program that defines a dictionary containing the names of fruits as keys and their corresponding colors as values (e.g., 'apple': 'red').Do atleast 5 dictionary methods on it."
   ]
  },
  {
   "cell_type": "code",
   "execution_count": 36,
   "id": "37562705",
   "metadata": {},
   "outputs": [],
   "source": [
    "dict = {'jackfruit':'white', 'orange': 'orange','kiwi': 'green', 'banana': 'yellow','apple': 'red'}"
   ]
  },
  {
   "cell_type": "code",
   "execution_count": 37,
   "id": "083ac075",
   "metadata": {},
   "outputs": [
    {
     "data": {
      "text/plain": [
       "{'jackfruit': 'white',\n",
       " 'orange': 'orange',\n",
       " 'kiwi': 'green',\n",
       " 'banana': 'yellow',\n",
       " 'apple': 'red'}"
      ]
     },
     "execution_count": 37,
     "metadata": {},
     "output_type": "execute_result"
    }
   ],
   "source": [
    "dict"
   ]
  },
  {
   "cell_type": "code",
   "execution_count": 38,
   "id": "574f6a6b",
   "metadata": {},
   "outputs": [
    {
     "data": {
      "text/plain": [
       "'white'"
      ]
     },
     "execution_count": 38,
     "metadata": {},
     "output_type": "execute_result"
    }
   ],
   "source": [
    "dict[\"jackfruit\"]"
   ]
  },
  {
   "cell_type": "code",
   "execution_count": 40,
   "id": "a9283c04",
   "metadata": {},
   "outputs": [
    {
     "data": {
      "text/plain": [
       "'red'"
      ]
     },
     "execution_count": 40,
     "metadata": {},
     "output_type": "execute_result"
    }
   ],
   "source": [
    "dict.get(\"apple\")"
   ]
  },
  {
   "cell_type": "code",
   "execution_count": 41,
   "id": "fff1dc3d",
   "metadata": {},
   "outputs": [
    {
     "data": {
      "text/plain": [
       "dict_keys(['jackfruit', 'orange', 'kiwi', 'banana', 'apple'])"
      ]
     },
     "execution_count": 41,
     "metadata": {},
     "output_type": "execute_result"
    }
   ],
   "source": [
    "dict.keys()"
   ]
  },
  {
   "cell_type": "code",
   "execution_count": 42,
   "id": "6fefa968",
   "metadata": {},
   "outputs": [
    {
     "data": {
      "text/plain": [
       "dict_values(['white', 'orange', 'green', 'yellow', 'red'])"
      ]
     },
     "execution_count": 42,
     "metadata": {},
     "output_type": "execute_result"
    }
   ],
   "source": [
    "dict.values()"
   ]
  },
  {
   "cell_type": "code",
   "execution_count": 43,
   "id": "b872d580",
   "metadata": {},
   "outputs": [
    {
     "data": {
      "text/plain": [
       "'yellow'"
      ]
     },
     "execution_count": 43,
     "metadata": {},
     "output_type": "execute_result"
    }
   ],
   "source": [
    "dict.pop(\"banana\")"
   ]
  },
  {
   "cell_type": "code",
   "execution_count": 49,
   "id": "3133ab47",
   "metadata": {},
   "outputs": [
    {
     "data": {
      "text/plain": [
       "{'jackfruit': 'white', 'orange': 'orange', 'kiwi': 'green', 'apple': 'red'}"
      ]
     },
     "execution_count": 49,
     "metadata": {},
     "output_type": "execute_result"
    }
   ],
   "source": [
    "dict"
   ]
  },
  {
   "cell_type": "code",
   "execution_count": 54,
   "id": "bc18ed60",
   "metadata": {},
   "outputs": [],
   "source": [
    "dict.update({'papaya' : 'black'})"
   ]
  },
  {
   "cell_type": "code",
   "execution_count": 55,
   "id": "ae59a991",
   "metadata": {},
   "outputs": [
    {
     "data": {
      "text/plain": [
       "{'jackfruit': 'white',\n",
       " 'orange': 'orange',\n",
       " 'kiwi': 'green',\n",
       " 'apple': 'red',\n",
       " 'papaya': 'black'}"
      ]
     },
     "execution_count": 55,
     "metadata": {},
     "output_type": "execute_result"
    }
   ],
   "source": [
    "dict"
   ]
  },
  {
   "cell_type": "code",
   "execution_count": null,
   "id": "1057da9f",
   "metadata": {},
   "outputs": [],
   "source": []
  }
 ],
 "metadata": {
  "kernelspec": {
   "display_name": "Python 3 (ipykernel)",
   "language": "python",
   "name": "python3"
  },
  "language_info": {
   "codemirror_mode": {
    "name": "ipython",
    "version": 3
   },
   "file_extension": ".py",
   "mimetype": "text/x-python",
   "name": "python",
   "nbconvert_exporter": "python",
   "pygments_lexer": "ipython3",
   "version": "3.11.4"
  }
 },
 "nbformat": 4,
 "nbformat_minor": 5
}
