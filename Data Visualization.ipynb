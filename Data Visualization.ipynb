{
 "cells": [
  {
   "cell_type": "markdown",
   "id": "f875a562",
   "metadata": {},
   "source": [
    "## Title : \"Car Price Analysis\""
   ]
  },
  {
   "cell_type": "code",
   "execution_count": 1,
   "id": "954b4d55",
   "metadata": {},
   "outputs": [],
   "source": [
    "import numpy as np\n",
    "import pandas as pd\n",
    "import matplotlib.pyplot as plt\n",
    "import seaborn as sn"
   ]
  },
  {
   "cell_type": "code",
   "execution_count": 2,
   "id": "94c03639",
   "metadata": {},
   "outputs": [],
   "source": [
    "df = pd.read_csv(r\"C:\\Users\\india\\My Python Files\\car_df_EDA.csv\")"
   ]
  },
  {
   "cell_type": "code",
   "execution_count": 3,
   "id": "b4c68874",
   "metadata": {},
   "outputs": [
    {
     "data": {
      "text/html": [
       "<div>\n",
       "<style scoped>\n",
       "    .dataframe tbody tr th:only-of-type {\n",
       "        vertical-align: middle;\n",
       "    }\n",
       "\n",
       "    .dataframe tbody tr th {\n",
       "        vertical-align: top;\n",
       "    }\n",
       "\n",
       "    .dataframe thead th {\n",
       "        text-align: right;\n",
       "    }\n",
       "</style>\n",
       "<table border=\"1\" class=\"dataframe\">\n",
       "  <thead>\n",
       "    <tr style=\"text-align: right;\">\n",
       "      <th></th>\n",
       "      <th>Unnamed: 0.1</th>\n",
       "      <th>Unnamed: 0</th>\n",
       "      <th>make</th>\n",
       "      <th>fuel_type</th>\n",
       "      <th>aspiration</th>\n",
       "      <th>num_of_doors</th>\n",
       "      <th>body_style</th>\n",
       "      <th>drive_wheels</th>\n",
       "      <th>engine_location</th>\n",
       "      <th>wheel_base</th>\n",
       "      <th>...</th>\n",
       "      <th>engine_type</th>\n",
       "      <th>num_of_cylinders</th>\n",
       "      <th>engine_size</th>\n",
       "      <th>fuel_system</th>\n",
       "      <th>compression_ratio</th>\n",
       "      <th>horsepower</th>\n",
       "      <th>peak_rpm</th>\n",
       "      <th>city_mpg</th>\n",
       "      <th>highway_mpg</th>\n",
       "      <th>price</th>\n",
       "    </tr>\n",
       "  </thead>\n",
       "  <tbody>\n",
       "    <tr>\n",
       "      <th>0</th>\n",
       "      <td>0</td>\n",
       "      <td>1</td>\n",
       "      <td>alfa-romero</td>\n",
       "      <td>gas</td>\n",
       "      <td>std</td>\n",
       "      <td>two</td>\n",
       "      <td>convertible</td>\n",
       "      <td>rwd</td>\n",
       "      <td>front</td>\n",
       "      <td>88.6</td>\n",
       "      <td>...</td>\n",
       "      <td>dohc</td>\n",
       "      <td>four</td>\n",
       "      <td>130.0</td>\n",
       "      <td>mpfi</td>\n",
       "      <td>9.0</td>\n",
       "      <td>111</td>\n",
       "      <td>5000</td>\n",
       "      <td>21</td>\n",
       "      <td>27</td>\n",
       "      <td>13495</td>\n",
       "    </tr>\n",
       "    <tr>\n",
       "      <th>1</th>\n",
       "      <td>1</td>\n",
       "      <td>2</td>\n",
       "      <td>alfa-romero</td>\n",
       "      <td>gas</td>\n",
       "      <td>std</td>\n",
       "      <td>two</td>\n",
       "      <td>convertible</td>\n",
       "      <td>rwd</td>\n",
       "      <td>front</td>\n",
       "      <td>88.6</td>\n",
       "      <td>...</td>\n",
       "      <td>dohc</td>\n",
       "      <td>four</td>\n",
       "      <td>130.0</td>\n",
       "      <td>mpfi</td>\n",
       "      <td>9.0</td>\n",
       "      <td>111</td>\n",
       "      <td>5000</td>\n",
       "      <td>21</td>\n",
       "      <td>27</td>\n",
       "      <td>16500</td>\n",
       "    </tr>\n",
       "    <tr>\n",
       "      <th>2</th>\n",
       "      <td>2</td>\n",
       "      <td>3</td>\n",
       "      <td>alfa-romero</td>\n",
       "      <td>gas</td>\n",
       "      <td>std</td>\n",
       "      <td>two</td>\n",
       "      <td>hatchback</td>\n",
       "      <td>rwd</td>\n",
       "      <td>front</td>\n",
       "      <td>94.5</td>\n",
       "      <td>...</td>\n",
       "      <td>ohcv</td>\n",
       "      <td>six</td>\n",
       "      <td>152.0</td>\n",
       "      <td>mpfi</td>\n",
       "      <td>9.0</td>\n",
       "      <td>154</td>\n",
       "      <td>5000</td>\n",
       "      <td>19</td>\n",
       "      <td>26</td>\n",
       "      <td>16500</td>\n",
       "    </tr>\n",
       "    <tr>\n",
       "      <th>3</th>\n",
       "      <td>3</td>\n",
       "      <td>4</td>\n",
       "      <td>audi</td>\n",
       "      <td>gas</td>\n",
       "      <td>std</td>\n",
       "      <td>four</td>\n",
       "      <td>sedan</td>\n",
       "      <td>fwd</td>\n",
       "      <td>front</td>\n",
       "      <td>99.8</td>\n",
       "      <td>...</td>\n",
       "      <td>ohc</td>\n",
       "      <td>four</td>\n",
       "      <td>109.0</td>\n",
       "      <td>mpfi</td>\n",
       "      <td>10.0</td>\n",
       "      <td>102</td>\n",
       "      <td>5500</td>\n",
       "      <td>24</td>\n",
       "      <td>30</td>\n",
       "      <td>13950</td>\n",
       "    </tr>\n",
       "    <tr>\n",
       "      <th>4</th>\n",
       "      <td>4</td>\n",
       "      <td>5</td>\n",
       "      <td>audi</td>\n",
       "      <td>gas</td>\n",
       "      <td>std</td>\n",
       "      <td>four</td>\n",
       "      <td>sedan</td>\n",
       "      <td>4wd</td>\n",
       "      <td>front</td>\n",
       "      <td>99.4</td>\n",
       "      <td>...</td>\n",
       "      <td>ohc</td>\n",
       "      <td>five</td>\n",
       "      <td>136.0</td>\n",
       "      <td>mpfi</td>\n",
       "      <td>8.0</td>\n",
       "      <td>115</td>\n",
       "      <td>5500</td>\n",
       "      <td>18</td>\n",
       "      <td>22</td>\n",
       "      <td>17450</td>\n",
       "    </tr>\n",
       "  </tbody>\n",
       "</table>\n",
       "<p>5 rows × 24 columns</p>\n",
       "</div>"
      ],
      "text/plain": [
       "   Unnamed: 0.1  Unnamed: 0         make fuel_type aspiration num_of_doors  \\\n",
       "0             0           1  alfa-romero       gas        std          two   \n",
       "1             1           2  alfa-romero       gas        std          two   \n",
       "2             2           3  alfa-romero       gas        std          two   \n",
       "3             3           4         audi       gas        std         four   \n",
       "4             4           5         audi       gas        std         four   \n",
       "\n",
       "    body_style drive_wheels engine_location  wheel_base  ...  engine_type  \\\n",
       "0  convertible          rwd           front        88.6  ...         dohc   \n",
       "1  convertible          rwd           front        88.6  ...         dohc   \n",
       "2    hatchback          rwd           front        94.5  ...         ohcv   \n",
       "3        sedan          fwd           front        99.8  ...          ohc   \n",
       "4        sedan          4wd           front        99.4  ...          ohc   \n",
       "\n",
       "   num_of_cylinders  engine_size  fuel_system compression_ratio horsepower  \\\n",
       "0              four        130.0         mpfi               9.0        111   \n",
       "1              four        130.0         mpfi               9.0        111   \n",
       "2               six        152.0         mpfi               9.0        154   \n",
       "3              four        109.0         mpfi              10.0        102   \n",
       "4              five        136.0         mpfi               8.0        115   \n",
       "\n",
       "   peak_rpm city_mpg  highway_mpg  price  \n",
       "0      5000       21           27  13495  \n",
       "1      5000       21           27  16500  \n",
       "2      5000       19           26  16500  \n",
       "3      5500       24           30  13950  \n",
       "4      5500       18           22  17450  \n",
       "\n",
       "[5 rows x 24 columns]"
      ]
     },
     "execution_count": 3,
     "metadata": {},
     "output_type": "execute_result"
    }
   ],
   "source": [
    "df.head() # first five rwons"
   ]
  },
  {
   "cell_type": "code",
   "execution_count": 4,
   "id": "ef7a4da7",
   "metadata": {},
   "outputs": [
    {
     "name": "stdout",
     "output_type": "stream",
     "text": [
      "<class 'pandas.core.frame.DataFrame'>\n",
      "RangeIndex: 208 entries, 0 to 207\n",
      "Data columns (total 24 columns):\n",
      " #   Column             Non-Null Count  Dtype  \n",
      "---  ------             --------------  -----  \n",
      " 0   Unnamed: 0.1       208 non-null    int64  \n",
      " 1   Unnamed: 0         208 non-null    int64  \n",
      " 2   make               208 non-null    object \n",
      " 3   fuel_type          208 non-null    object \n",
      " 4   aspiration         208 non-null    object \n",
      " 5   num_of_doors       208 non-null    object \n",
      " 6   body_style         208 non-null    object \n",
      " 7   drive_wheels       208 non-null    object \n",
      " 8   engine_location    208 non-null    object \n",
      " 9   wheel_base         206 non-null    float64\n",
      " 10  length             208 non-null    float64\n",
      " 11  width              208 non-null    float64\n",
      " 12  height             208 non-null    float64\n",
      " 13  curb_weight        208 non-null    int64  \n",
      " 14  engine_type        207 non-null    object \n",
      " 15  num_of_cylinders   208 non-null    object \n",
      " 16  engine_size        206 non-null    float64\n",
      " 17  fuel_system        208 non-null    object \n",
      " 18  compression_ratio  208 non-null    float64\n",
      " 19  horsepower         208 non-null    object \n",
      " 20  peak_rpm           208 non-null    object \n",
      " 21  city_mpg           208 non-null    int64  \n",
      " 22  highway_mpg        208 non-null    int64  \n",
      " 23  price              204 non-null    object \n",
      "dtypes: float64(6), int64(5), object(13)\n",
      "memory usage: 39.1+ KB\n"
     ]
    }
   ],
   "source": [
    "df.info()"
   ]
  },
  {
   "cell_type": "code",
   "execution_count": 5,
   "id": "57f7f0a7",
   "metadata": {},
   "outputs": [
    {
     "data": {
      "text/html": [
       "<div>\n",
       "<style scoped>\n",
       "    .dataframe tbody tr th:only-of-type {\n",
       "        vertical-align: middle;\n",
       "    }\n",
       "\n",
       "    .dataframe tbody tr th {\n",
       "        vertical-align: top;\n",
       "    }\n",
       "\n",
       "    .dataframe thead th {\n",
       "        text-align: right;\n",
       "    }\n",
       "</style>\n",
       "<table border=\"1\" class=\"dataframe\">\n",
       "  <thead>\n",
       "    <tr style=\"text-align: right;\">\n",
       "      <th></th>\n",
       "      <th>Unnamed: 0.1</th>\n",
       "      <th>Unnamed: 0</th>\n",
       "      <th>wheel_base</th>\n",
       "      <th>length</th>\n",
       "      <th>width</th>\n",
       "      <th>height</th>\n",
       "      <th>curb_weight</th>\n",
       "      <th>engine_size</th>\n",
       "      <th>compression_ratio</th>\n",
       "      <th>city_mpg</th>\n",
       "      <th>highway_mpg</th>\n",
       "    </tr>\n",
       "  </thead>\n",
       "  <tbody>\n",
       "    <tr>\n",
       "      <th>count</th>\n",
       "      <td>208.000000</td>\n",
       "      <td>208.000000</td>\n",
       "      <td>206.000000</td>\n",
       "      <td>208.000000</td>\n",
       "      <td>208.000000</td>\n",
       "      <td>208.000000</td>\n",
       "      <td>208.000000</td>\n",
       "      <td>206.000000</td>\n",
       "      <td>208.000000</td>\n",
       "      <td>208.000000</td>\n",
       "      <td>208.000000</td>\n",
       "    </tr>\n",
       "    <tr>\n",
       "      <th>mean</th>\n",
       "      <td>103.456731</td>\n",
       "      <td>104.456731</td>\n",
       "      <td>98.919903</td>\n",
       "      <td>174.262019</td>\n",
       "      <td>65.950962</td>\n",
       "      <td>53.750481</td>\n",
       "      <td>2563.375000</td>\n",
       "      <td>127.543689</td>\n",
       "      <td>10.194808</td>\n",
       "      <td>25.158654</td>\n",
       "      <td>30.668269</td>\n",
       "    </tr>\n",
       "    <tr>\n",
       "      <th>std</th>\n",
       "      <td>60.115573</td>\n",
       "      <td>60.115573</td>\n",
       "      <td>6.121266</td>\n",
       "      <td>12.373790</td>\n",
       "      <td>2.159419</td>\n",
       "      <td>2.435010</td>\n",
       "      <td>521.034018</td>\n",
       "      <td>41.599197</td>\n",
       "      <td>4.044135</td>\n",
       "      <td>6.528187</td>\n",
       "      <td>6.873639</td>\n",
       "    </tr>\n",
       "    <tr>\n",
       "      <th>min</th>\n",
       "      <td>0.000000</td>\n",
       "      <td>1.000000</td>\n",
       "      <td>86.600000</td>\n",
       "      <td>141.100000</td>\n",
       "      <td>60.300000</td>\n",
       "      <td>47.800000</td>\n",
       "      <td>1488.000000</td>\n",
       "      <td>61.000000</td>\n",
       "      <td>7.000000</td>\n",
       "      <td>13.000000</td>\n",
       "      <td>16.000000</td>\n",
       "    </tr>\n",
       "    <tr>\n",
       "      <th>25%</th>\n",
       "      <td>51.750000</td>\n",
       "      <td>52.750000</td>\n",
       "      <td>94.500000</td>\n",
       "      <td>166.675000</td>\n",
       "      <td>64.100000</td>\n",
       "      <td>52.000000</td>\n",
       "      <td>2163.000000</td>\n",
       "      <td>98.000000</td>\n",
       "      <td>8.600000</td>\n",
       "      <td>19.000000</td>\n",
       "      <td>25.000000</td>\n",
       "    </tr>\n",
       "    <tr>\n",
       "      <th>50%</th>\n",
       "      <td>103.500000</td>\n",
       "      <td>104.500000</td>\n",
       "      <td>97.000000</td>\n",
       "      <td>173.200000</td>\n",
       "      <td>65.500000</td>\n",
       "      <td>54.100000</td>\n",
       "      <td>2422.500000</td>\n",
       "      <td>120.000000</td>\n",
       "      <td>9.000000</td>\n",
       "      <td>24.000000</td>\n",
       "      <td>30.000000</td>\n",
       "    </tr>\n",
       "    <tr>\n",
       "      <th>75%</th>\n",
       "      <td>155.250000</td>\n",
       "      <td>156.250000</td>\n",
       "      <td>102.400000</td>\n",
       "      <td>183.775000</td>\n",
       "      <td>66.900000</td>\n",
       "      <td>55.500000</td>\n",
       "      <td>2959.250000</td>\n",
       "      <td>145.000000</td>\n",
       "      <td>9.400000</td>\n",
       "      <td>30.000000</td>\n",
       "      <td>34.000000</td>\n",
       "    </tr>\n",
       "    <tr>\n",
       "      <th>max</th>\n",
       "      <td>204.000000</td>\n",
       "      <td>205.000000</td>\n",
       "      <td>120.900000</td>\n",
       "      <td>208.100000</td>\n",
       "      <td>72.300000</td>\n",
       "      <td>59.800000</td>\n",
       "      <td>4066.000000</td>\n",
       "      <td>326.000000</td>\n",
       "      <td>23.000000</td>\n",
       "      <td>49.000000</td>\n",
       "      <td>54.000000</td>\n",
       "    </tr>\n",
       "  </tbody>\n",
       "</table>\n",
       "</div>"
      ],
      "text/plain": [
       "       Unnamed: 0.1  Unnamed: 0  wheel_base      length       width  \\\n",
       "count    208.000000  208.000000  206.000000  208.000000  208.000000   \n",
       "mean     103.456731  104.456731   98.919903  174.262019   65.950962   \n",
       "std       60.115573   60.115573    6.121266   12.373790    2.159419   \n",
       "min        0.000000    1.000000   86.600000  141.100000   60.300000   \n",
       "25%       51.750000   52.750000   94.500000  166.675000   64.100000   \n",
       "50%      103.500000  104.500000   97.000000  173.200000   65.500000   \n",
       "75%      155.250000  156.250000  102.400000  183.775000   66.900000   \n",
       "max      204.000000  205.000000  120.900000  208.100000   72.300000   \n",
       "\n",
       "           height  curb_weight  engine_size  compression_ratio    city_mpg  \\\n",
       "count  208.000000   208.000000   206.000000         208.000000  208.000000   \n",
       "mean    53.750481  2563.375000   127.543689          10.194808   25.158654   \n",
       "std      2.435010   521.034018    41.599197           4.044135    6.528187   \n",
       "min     47.800000  1488.000000    61.000000           7.000000   13.000000   \n",
       "25%     52.000000  2163.000000    98.000000           8.600000   19.000000   \n",
       "50%     54.100000  2422.500000   120.000000           9.000000   24.000000   \n",
       "75%     55.500000  2959.250000   145.000000           9.400000   30.000000   \n",
       "max     59.800000  4066.000000   326.000000          23.000000   49.000000   \n",
       "\n",
       "       highway_mpg  \n",
       "count   208.000000  \n",
       "mean     30.668269  \n",
       "std       6.873639  \n",
       "min      16.000000  \n",
       "25%      25.000000  \n",
       "50%      30.000000  \n",
       "75%      34.000000  \n",
       "max      54.000000  "
      ]
     },
     "execution_count": 5,
     "metadata": {},
     "output_type": "execute_result"
    }
   ],
   "source": [
    "df.describe()"
   ]
  },
  {
   "cell_type": "code",
   "execution_count": 6,
   "id": "b5c2a0e2",
   "metadata": {},
   "outputs": [],
   "source": [
    "data = open(r\"C:\\Users\\india\\My Python Files\\data_description.txt\",'r')"
   ]
  },
  {
   "cell_type": "code",
   "execution_count": 7,
   "id": "6288661c",
   "metadata": {},
   "outputs": [
    {
     "name": "stdout",
     "output_type": "stream",
     "text": [
      "1. `Unnamed: 0.1`: An unnamed or index column, possibly used for row identification.\n",
      "2. `Unnamed: 0`: Another unnamed or index column, which may also serve for row identification.\n",
      "3. `make`: The brand or manufacturer of the vehicle.\n",
      "4. `fuel_type`: The type of fuel the vehicle uses (e.g., gasoline, diesel, etc.).\n",
      "5. `aspiration`: Indicates whether the engine has a turbocharger or is naturally aspirated.\n",
      "6. `num_of_doors`: The number of doors on the vehicle (e.g., two doors, four doors).\n",
      "7. `body_style`: Describes the body style of the vehicle (e.g., sedan, coupe, hatchback).\n",
      "8. `drive_wheels`: Specifies the type of drive wheels (e.g., front-wheel drive, rear-wheel drive, all-wheel drive).\n",
      "9. `engine_location`: Indicates where the engine is located in the vehicle (e.g., front, rear).\n",
      "10. `wheel_base`: The distance between the front and rear axles of the vehicle.\n",
      "11. `length`: The length of the vehicle.\n",
      "12. `width`: The width of the vehicle.\n",
      "13. `height`: The height of the vehicle.\n",
      "14. `curb_weight`: The weight of the vehicle with standard equipment and a full tank of fuel.\n",
      "15. `engine_type`: Describes the type of engine (e.g., dohc, ohv, etc.).\n",
      "16. `num_of_cylinders`: The number of cylinders in the engine (e.g., four cylinders, six cylinders).\n",
      "17. `engine_size`: The size or displacement of the engine in cubic centimeters (cc).\n",
      "18. `fuel_system`: The type of fuel delivery system (e.g., mpfi, 2bbl, etc.).\n",
      "19. `compression_ratio`: The compression ratio of the engine, which relates to its efficiency and power output.\n",
      "20. `horsepower`: The engine's horsepower rating, a measure of its power.\n",
      "21. `peak_rpm`: The engine's peak RPM (Revolutions Per Minute) at which it produces the maximum power.\n",
      "22. `city_mpg`: The vehicle's estimated miles per gallon (MPG) fuel efficiency in city driving conditions.\n",
      "23. `highway_mpg`: The vehicle's estimated MPG fuel efficiency on the highway.\n",
      "24. `price`: The price of the vehicle, typically in the dataset's currency (e.g., dollars).\n",
      "\n",
      "\n"
     ]
    }
   ],
   "source": [
    "print(data.read())"
   ]
  },
  {
   "cell_type": "markdown",
   "id": "0fddf889",
   "metadata": {},
   "source": [
    "## Data Manipulation"
   ]
  },
  {
   "cell_type": "markdown",
   "id": "e06f2303",
   "metadata": {},
   "source": [
    "1. what is the maximum price of audi car?\n"
   ]
  },
  {
   "cell_type": "code",
   "execution_count": 9,
   "id": "53bf2f4e",
   "metadata": {},
   "outputs": [
    {
     "data": {
      "text/plain": [
       "array(['alfa-romero', 'audi', 'bmw', 'chevrolet', 'dodge', 'honda',\n",
       "       'isuzu', 'jaguar', 'mazda', 'mercedes-benz', 'mercury',\n",
       "       'mitsubishi', 'nissan', 'peugot', 'plymouth', 'porsche', 'renault',\n",
       "       'saab', 'subaru', 'toyota', 'volkswagen', 'volvo'], dtype=object)"
      ]
     },
     "execution_count": 9,
     "metadata": {},
     "output_type": "execute_result"
    }
   ],
   "source": [
    "df['make'].unique()"
   ]
  },
  {
   "cell_type": "markdown",
   "id": "ea6b85f4",
   "metadata": {},
   "source": [
    "## data cleaning"
   ]
  },
  {
   "cell_type": "markdown",
   "id": "0ab92479",
   "metadata": {},
   "source": [
    "duplicate values"
   ]
  },
  {
   "cell_type": "code",
   "execution_count": 10,
   "id": "052a047f",
   "metadata": {},
   "outputs": [
    {
     "data": {
      "text/plain": [
       "3"
      ]
     },
     "execution_count": 10,
     "metadata": {},
     "output_type": "execute_result"
    }
   ],
   "source": [
    "df.duplicated().sum()"
   ]
  },
  {
   "cell_type": "code",
   "execution_count": 11,
   "id": "2d359b7a",
   "metadata": {},
   "outputs": [
    {
     "data": {
      "text/html": [
       "<div>\n",
       "<style scoped>\n",
       "    .dataframe tbody tr th:only-of-type {\n",
       "        vertical-align: middle;\n",
       "    }\n",
       "\n",
       "    .dataframe tbody tr th {\n",
       "        vertical-align: top;\n",
       "    }\n",
       "\n",
       "    .dataframe thead th {\n",
       "        text-align: right;\n",
       "    }\n",
       "</style>\n",
       "<table border=\"1\" class=\"dataframe\">\n",
       "  <thead>\n",
       "    <tr style=\"text-align: right;\">\n",
       "      <th></th>\n",
       "      <th>Unnamed: 0.1</th>\n",
       "      <th>Unnamed: 0</th>\n",
       "      <th>make</th>\n",
       "      <th>fuel_type</th>\n",
       "      <th>aspiration</th>\n",
       "      <th>num_of_doors</th>\n",
       "      <th>body_style</th>\n",
       "      <th>drive_wheels</th>\n",
       "      <th>engine_location</th>\n",
       "      <th>wheel_base</th>\n",
       "      <th>...</th>\n",
       "      <th>engine_type</th>\n",
       "      <th>num_of_cylinders</th>\n",
       "      <th>engine_size</th>\n",
       "      <th>fuel_system</th>\n",
       "      <th>compression_ratio</th>\n",
       "      <th>horsepower</th>\n",
       "      <th>peak_rpm</th>\n",
       "      <th>city_mpg</th>\n",
       "      <th>highway_mpg</th>\n",
       "      <th>price</th>\n",
       "    </tr>\n",
       "  </thead>\n",
       "  <tbody>\n",
       "    <tr>\n",
       "      <th>205</th>\n",
       "      <td>202</td>\n",
       "      <td>203</td>\n",
       "      <td>volvo</td>\n",
       "      <td>gas</td>\n",
       "      <td>std</td>\n",
       "      <td>four</td>\n",
       "      <td>sedan</td>\n",
       "      <td>rwd</td>\n",
       "      <td>front</td>\n",
       "      <td>109.1</td>\n",
       "      <td>...</td>\n",
       "      <td>ohcv</td>\n",
       "      <td>six</td>\n",
       "      <td>173.0</td>\n",
       "      <td>mpfi</td>\n",
       "      <td>8.8</td>\n",
       "      <td>134</td>\n",
       "      <td>5500</td>\n",
       "      <td>18</td>\n",
       "      <td>23</td>\n",
       "      <td>21485</td>\n",
       "    </tr>\n",
       "    <tr>\n",
       "      <th>206</th>\n",
       "      <td>203</td>\n",
       "      <td>204</td>\n",
       "      <td>volvo</td>\n",
       "      <td>diesel</td>\n",
       "      <td>turbo</td>\n",
       "      <td>four</td>\n",
       "      <td>sedan</td>\n",
       "      <td>rwd</td>\n",
       "      <td>front</td>\n",
       "      <td>109.1</td>\n",
       "      <td>...</td>\n",
       "      <td>ohc</td>\n",
       "      <td>six</td>\n",
       "      <td>145.0</td>\n",
       "      <td>idi</td>\n",
       "      <td>23.0</td>\n",
       "      <td>106</td>\n",
       "      <td>4800</td>\n",
       "      <td>26</td>\n",
       "      <td>27</td>\n",
       "      <td>NaN</td>\n",
       "    </tr>\n",
       "    <tr>\n",
       "      <th>207</th>\n",
       "      <td>204</td>\n",
       "      <td>205</td>\n",
       "      <td>volvo</td>\n",
       "      <td>gas</td>\n",
       "      <td>turbo</td>\n",
       "      <td>four</td>\n",
       "      <td>sedan</td>\n",
       "      <td>rwd</td>\n",
       "      <td>front</td>\n",
       "      <td>109.1</td>\n",
       "      <td>...</td>\n",
       "      <td>ohc</td>\n",
       "      <td>four</td>\n",
       "      <td>141.0</td>\n",
       "      <td>mpfi</td>\n",
       "      <td>9.5</td>\n",
       "      <td>114</td>\n",
       "      <td>5400</td>\n",
       "      <td>19</td>\n",
       "      <td>25</td>\n",
       "      <td>22625</td>\n",
       "    </tr>\n",
       "  </tbody>\n",
       "</table>\n",
       "<p>3 rows × 24 columns</p>\n",
       "</div>"
      ],
      "text/plain": [
       "     Unnamed: 0.1  Unnamed: 0   make fuel_type aspiration num_of_doors  \\\n",
       "205           202         203  volvo       gas        std         four   \n",
       "206           203         204  volvo    diesel      turbo         four   \n",
       "207           204         205  volvo       gas      turbo         four   \n",
       "\n",
       "    body_style drive_wheels engine_location  wheel_base  ...  engine_type  \\\n",
       "205      sedan          rwd           front       109.1  ...         ohcv   \n",
       "206      sedan          rwd           front       109.1  ...          ohc   \n",
       "207      sedan          rwd           front       109.1  ...          ohc   \n",
       "\n",
       "     num_of_cylinders  engine_size  fuel_system compression_ratio horsepower  \\\n",
       "205               six        173.0         mpfi               8.8        134   \n",
       "206               six        145.0          idi              23.0        106   \n",
       "207              four        141.0         mpfi               9.5        114   \n",
       "\n",
       "     peak_rpm city_mpg  highway_mpg  price  \n",
       "205      5500       18           23  21485  \n",
       "206      4800       26           27    NaN  \n",
       "207      5400       19           25  22625  \n",
       "\n",
       "[3 rows x 24 columns]"
      ]
     },
     "execution_count": 11,
     "metadata": {},
     "output_type": "execute_result"
    }
   ],
   "source": [
    "df[df.duplicated]"
   ]
  },
  {
   "cell_type": "code",
   "execution_count": 12,
   "id": "c5c389d1",
   "metadata": {},
   "outputs": [],
   "source": [
    "df.drop_duplicates(keep = 'first', inplace = True)"
   ]
  },
  {
   "cell_type": "code",
   "execution_count": 13,
   "id": "db15b34d",
   "metadata": {},
   "outputs": [
    {
     "data": {
      "text/plain": [
       "0"
      ]
     },
     "execution_count": 13,
     "metadata": {},
     "output_type": "execute_result"
    }
   ],
   "source": [
    "df.duplicated().sum()   #duplicates are deleted"
   ]
  },
  {
   "cell_type": "markdown",
   "id": "d2e746b2",
   "metadata": {},
   "source": [
    "### Dropping unwanted column"
   ]
  },
  {
   "cell_type": "code",
   "execution_count": 14,
   "id": "72ace19e",
   "metadata": {},
   "outputs": [],
   "source": [
    "df.drop(['Unnamed: 0.1', 'Unnamed: 0'], axis = 1, inplace = True)"
   ]
  },
  {
   "cell_type": "code",
   "execution_count": 15,
   "id": "9ab16e42",
   "metadata": {},
   "outputs": [
    {
     "data": {
      "text/plain": [
       "0      alfa-romero\n",
       "1      alfa-romero\n",
       "2      alfa-romero\n",
       "3             audi\n",
       "4             audi\n",
       "          ...     \n",
       "200          volvo\n",
       "201          volvo\n",
       "202          volvo\n",
       "203          volvo\n",
       "204          volvo\n",
       "Name: make, Length: 205, dtype: object"
      ]
     },
     "execution_count": 15,
     "metadata": {},
     "output_type": "execute_result"
    }
   ],
   "source": [
    "df['make']"
   ]
  },
  {
   "cell_type": "markdown",
   "id": "aea0693c",
   "metadata": {},
   "source": [
    "# to find the structural errors\n",
    "* if data type is categorical ---1. use unique method. use function and then apply\n",
    "* if the data type is numerical ---"
   ]
  },
  {
   "cell_type": "code",
   "execution_count": 16,
   "id": "98d822ab",
   "metadata": {},
   "outputs": [
    {
     "data": {
      "text/plain": [
       "Index(['make', 'fuel_type', 'aspiration', 'num_of_doors', 'body_style',\n",
       "       'drive_wheels', 'engine_location', 'wheel_base', 'length', 'width',\n",
       "       'height', 'curb_weight', 'engine_type', 'num_of_cylinders',\n",
       "       'engine_size', 'fuel_system', 'compression_ratio', 'horsepower',\n",
       "       'peak_rpm', 'city_mpg', 'highway_mpg', 'price'],\n",
       "      dtype='object')"
      ]
     },
     "execution_count": 16,
     "metadata": {},
     "output_type": "execute_result"
    }
   ],
   "source": [
    "df.columns"
   ]
  },
  {
   "cell_type": "markdown",
   "id": "c41991f6",
   "metadata": {},
   "source": [
    "### finding the stuctural errors in the data set"
   ]
  },
  {
   "cell_type": "code",
   "execution_count": 17,
   "id": "a35118b4",
   "metadata": {
    "scrolled": false
   },
   "outputs": [
    {
     "name": "stdout",
     "output_type": "stream",
     "text": [
      "make\n",
      "object\n",
      "['alfa-romero' 'audi' 'bmw' 'chevrolet' 'dodge' 'honda' 'isuzu' 'jaguar'\n",
      " 'mazda' 'mercedes-benz' 'mercury' 'mitsubishi' 'nissan' 'peugot'\n",
      " 'plymouth' 'porsche' 'renault' 'saab' 'subaru' 'toyota' 'volkswagen'\n",
      " 'volvo']\n",
      "fuel_type\n",
      "object\n",
      "['gas' 'diesel']\n",
      "aspiration\n",
      "object\n",
      "['std' 'turbo']\n",
      "num_of_doors\n",
      "object\n",
      "['two' 'four' '?']\n",
      "body_style\n",
      "object\n",
      "['convertible' 'hatchback' 'sedan' 'wagon' 'hardtop']\n",
      "drive_wheels\n",
      "object\n",
      "['rwd' 'fwd' '4wd']\n",
      "engine_location\n",
      "object\n",
      "['front' 'rear']\n",
      "wheel_base\n",
      "float64\n",
      "[ 88.6  94.5  99.8  99.4 105.8  99.5 101.2   nan 103.5 110.   88.4  93.7\n",
      " 103.3  95.9  86.6  96.5  94.3  96.  113.  102.   93.1  95.3  98.8 104.9\n",
      " 106.7 115.6  96.6 120.9 112.  102.7  93.   96.3  95.1  97.2 100.4  91.3\n",
      "  99.2 107.9 114.2 108.   89.5  98.4  96.1  99.1  93.3  97.   96.9  95.7\n",
      " 102.4 102.9 104.5  97.3 104.3 109.1]\n",
      "length\n",
      "float64\n",
      "[168.8 171.2 176.6 177.3 192.7 178.2 176.8 189.  193.8 197.  141.1 155.9\n",
      " 158.8 157.3 174.6 173.2 144.6 150.  163.4 157.1 167.5 175.4 169.1 170.7\n",
      " 172.6 199.6 191.7 159.1 166.8 169.  177.8 175.  190.9 187.5 202.6 180.3\n",
      " 208.1 199.2 178.4 173.  172.4 165.3 170.2 165.6 162.4 173.4 181.7 184.6\n",
      " 178.5 186.7 198.9 167.3 168.9 175.7 181.5 186.6 156.9 157.9 172.  173.5\n",
      " 173.6 158.7 169.7 166.3 168.7 176.2 175.6 183.5 187.8 171.7 159.3 165.7\n",
      " 180.2 183.1 188.8]\n",
      "width\n",
      "float64\n",
      "[64.1 65.5 66.2 66.4 66.3 71.4 67.9 64.8 66.9 70.9 60.3 63.6 63.8 64.6\n",
      " 63.9 64.  65.2 62.5 66.  61.8 69.6 70.6 64.2 65.7 66.5 66.1 70.3 71.7\n",
      " 70.5 72.  68.  64.4 65.4 68.4 68.3 65.  72.3 66.6 63.4 65.6 67.7 67.2\n",
      " 68.9 68.8]\n",
      "height\n",
      "float64\n",
      "[48.8 52.4 54.3 53.1 55.7 55.9 52.  53.7 56.3 53.2 50.8 50.6 59.8 50.2\n",
      " 52.6 54.5 58.3 53.3 54.1 51.  53.5 51.4 52.8 47.8 49.6 55.5 54.4 56.5\n",
      " 58.7 54.9 56.7 55.4 54.8 49.4 51.6 54.7 55.1 56.1 49.7 56.  50.5 55.2\n",
      " 52.5 53.  59.1 53.9 55.6 56.2 57.5]\n",
      "curb_weight\n",
      "int64\n",
      "[2548 2823 2337 2824 2507 2844 2954 3086 3053 2395 2710 2765 3055 3230\n",
      " 3380 3505 1488 1874 1909 1876 2128 1967 1989 2191 2535 2811 1713 1819\n",
      " 1837 1940 1956 2010 2024 2236 2289 2304 2372 2465 2293 2734 4066 3950\n",
      " 1890 1900 1905 1945 1950 2380 2385 2500 2410 2443 2425 2670 2700 3515\n",
      " 3750 3495 3770 3740 3685 3900 3715 2910 1918 1944 2004 2145 2370 2328\n",
      " 2833 2921 2926 2365 2405 2403 1889 2017 1938 1951 2028 1971 2037 2008\n",
      " 2324 2302 3095 3296 3060 3071 3139 3020 3197 3430 3075 3252 3285 3485\n",
      " 3130 2818 2778 2756 2800 3366 2579 2460 2658 2695 2707 2758 2808 2847\n",
      " 2050 2120 2240 2190 2340 2510 2290 2455 2420 2650 1985 2040 2015 2280\n",
      " 3110 2081 2109 2275 2094 2122 2140 2169 2204 2265 2300 2540 2536 2551\n",
      " 2679 2714 2975 2326 2480 2414 2458 2976 3016 3131 3151 2261 2209 2264\n",
      " 2212 2319 2254 2221 2661 2563 2912 3034 2935 3042 3045 3157 2952 3049\n",
      " 3012 3217 3062]\n",
      "engine_type\n",
      "object\n",
      "['dohc' 'ohcv' 'ohc' 'l' 'rotor' nan 'ohcf' 'dohcv']\n",
      "num_of_cylinders\n",
      "object\n",
      "['four' 'six' 'five' 'three' 'twelve' 'two' 'eight']\n",
      "engine_size\n",
      "float64\n",
      "[130. 152. 109. 136. 131. 108. 164. 209.  61.  90.  98. 122. 156.  92.\n",
      "  79. 110.  nan 111. 119. 258. 326.  91.  70.  80. 140. 134. 183. 234.\n",
      " 308. 304.  97. 103. 120. 181. 151. 194. 203. 132. 121. 146. 171. 161.\n",
      " 141. 173. 145.]\n",
      "fuel_system\n",
      "object\n",
      "['mpfi' '2bbl' 'mfi' '1bbl' 'spfi' '4bbl' 'idi' 'spdi']\n",
      "compression_ratio\n",
      "float64\n",
      "[ 9.   10.    8.    8.5   8.3   7.    8.8   9.5   9.6   9.41  9.4   7.6\n",
      "  9.2  10.1   9.1   8.1  11.5   8.6  22.7  22.   21.5   7.5  21.9   7.8\n",
      "  8.4  21.    8.7   9.31  9.3   7.7  22.5  23.  ]\n",
      "horsepower\n",
      "object\n",
      "['111' '154' '102' '115' '110' '140' '160' '101' '121' '182' '48' '70'\n",
      " '68' '88' '145' '58' '76' '60' '86' '100' '78' '90' '176' '262' '135'\n",
      " '84' '64' '120' '72' '123' '155' '184' '175' '116' '69' '55' '97' '152'\n",
      " '200' '95' '142' '143' '207' '288' '?' '73' '82' '94' '62' '56' '112'\n",
      " '92' '161' '156' '52' '85' '114' '162' '134' '106']\n",
      "peak_rpm\n",
      "object\n",
      "['5000' '5500' '5800' '4250' '5400' '5100' '4800' '6000' '4750' '4650'\n",
      " '4200' '4350' '4500' '5200' '4150' '5600' '5900' '5750' '?' '5250' '4900'\n",
      " '4400' '6600' '5300']\n",
      "city_mpg\n",
      "int64\n",
      "[21 19 24 18 17 16 23 20 15 47 38 37 31 49 30 27 25 13 26 36 22 14 45 28\n",
      " 32 35 34 29 33]\n",
      "highway_mpg\n",
      "int64\n",
      "[27 26 30 22 25 20 29 28 53 43 41 38 24 54 42 34 33 31 19 17 23 32 39 18\n",
      " 16 37 50 36 47 46]\n",
      "price\n",
      "object\n",
      "['13495' '16500' '13950' '17450' '15250' '17710' '18920' '23875' '?'\n",
      " '16430' '16925' '20970' '21105' '24565' '30760' '41315' '36880' '5151'\n",
      " '6295' '6575' '5572' '6377' '7957' '6229' '6692' '7609' '8558' '8921'\n",
      " '12964' '6479' '6855' '5399' '6529' '7129' '7295' '7895' '9095' '8845'\n",
      " '10295' '12945' '10345' '6785' '11048' nan '35550' '36000' '5195' '6095'\n",
      " '6795' '6695' '7395' '10945' '11845' '13645' '15645' '8495' '10595'\n",
      " '10245' '10795' '11245' '18280' '18344' '25552' '28248' '28176' '31600'\n",
      " '34184' '35056' '40960' '45400' '16503' '5389' '6189' '6669' '7689'\n",
      " '9959' '8499' '12629' '14869' '14489' '6989' '8189' '9279' '5499' '7099'\n",
      " '6649' '6849' '7349' '7299' '7799' '7499' '7999' '8249' '8949' '9549'\n",
      " '13499' '14399' '17199' '19699' '18399' '11900' '13200' '12440' '13860'\n",
      " '15580' '16695' '17075' '16630' '17950' '18150' '12764' '22018' '32528'\n",
      " '34028' '37028' '9295' '9895' '11850' '12170' '15040' '15510' '18620'\n",
      " '5118' '7053' '7603' '7126' '7775' '9960' '9233' '11259' '7463' '10198'\n",
      " '8013' '11694' '5348' '6338' '6488' '6918' '7898' '8778' '6938' '7198'\n",
      " '7788' '7738' '8358' '9258' '8058' '8238' '9298' '9538' '8449' '9639'\n",
      " '9989' '11199' '11549' '17669' '8948' '10698' '9988' '10898' '11248'\n",
      " '16558' '15998' '15690' '15750' '7975' '7995' '8195' '9495' '9995'\n",
      " '11595' '9980' '13295' '13845' '12290' '12940' '13415' '15985' '16515'\n",
      " '18420' '18950' '16845' '19045' '21485' '22625']\n"
     ]
    }
   ],
   "source": [
    "for i in df.columns:\n",
    "    print(i)\n",
    "    print(df[i].dtype)\n",
    "    print(df[i].unique())\n"
   ]
  },
  {
   "cell_type": "markdown",
   "id": "33dab177",
   "metadata": {},
   "source": [
    "### Removing Structural Errors"
   ]
  },
  {
   "cell_type": "code",
   "execution_count": 18,
   "id": "d8338252",
   "metadata": {},
   "outputs": [],
   "source": [
    "df['num_of_doors'] = df['num_of_doors'].replace('?', np.nan)\n",
    "df['peak_rpm'] = df['peak_rpm'].replace('?', np.nan)\n",
    "df['horsepower'] =  df['horsepower'].replace('?', np.nan)\n",
    "df['price'] = df['price'].replace('?', np.nan)"
   ]
  },
  {
   "cell_type": "code",
   "execution_count": 19,
   "id": "9109ec99",
   "metadata": {},
   "outputs": [
    {
     "data": {
      "text/html": [
       "<div>\n",
       "<style scoped>\n",
       "    .dataframe tbody tr th:only-of-type {\n",
       "        vertical-align: middle;\n",
       "    }\n",
       "\n",
       "    .dataframe tbody tr th {\n",
       "        vertical-align: top;\n",
       "    }\n",
       "\n",
       "    .dataframe thead th {\n",
       "        text-align: right;\n",
       "    }\n",
       "</style>\n",
       "<table border=\"1\" class=\"dataframe\">\n",
       "  <thead>\n",
       "    <tr style=\"text-align: right;\">\n",
       "      <th></th>\n",
       "      <th>make</th>\n",
       "      <th>fuel_type</th>\n",
       "      <th>aspiration</th>\n",
       "      <th>num_of_doors</th>\n",
       "      <th>body_style</th>\n",
       "      <th>drive_wheels</th>\n",
       "      <th>engine_location</th>\n",
       "      <th>wheel_base</th>\n",
       "      <th>length</th>\n",
       "      <th>width</th>\n",
       "      <th>...</th>\n",
       "      <th>engine_type</th>\n",
       "      <th>num_of_cylinders</th>\n",
       "      <th>engine_size</th>\n",
       "      <th>fuel_system</th>\n",
       "      <th>compression_ratio</th>\n",
       "      <th>horsepower</th>\n",
       "      <th>peak_rpm</th>\n",
       "      <th>city_mpg</th>\n",
       "      <th>highway_mpg</th>\n",
       "      <th>price</th>\n",
       "    </tr>\n",
       "  </thead>\n",
       "  <tbody>\n",
       "    <tr>\n",
       "      <th>27</th>\n",
       "      <td>dodge</td>\n",
       "      <td>gas</td>\n",
       "      <td>turbo</td>\n",
       "      <td>NaN</td>\n",
       "      <td>sedan</td>\n",
       "      <td>fwd</td>\n",
       "      <td>front</td>\n",
       "      <td>93.7</td>\n",
       "      <td>157.3</td>\n",
       "      <td>63.8</td>\n",
       "      <td>...</td>\n",
       "      <td>ohc</td>\n",
       "      <td>four</td>\n",
       "      <td>98.0</td>\n",
       "      <td>mpfi</td>\n",
       "      <td>7.6</td>\n",
       "      <td>102</td>\n",
       "      <td>5500</td>\n",
       "      <td>24</td>\n",
       "      <td>30</td>\n",
       "      <td>8558</td>\n",
       "    </tr>\n",
       "    <tr>\n",
       "      <th>63</th>\n",
       "      <td>mazda</td>\n",
       "      <td>diesel</td>\n",
       "      <td>std</td>\n",
       "      <td>NaN</td>\n",
       "      <td>sedan</td>\n",
       "      <td>fwd</td>\n",
       "      <td>front</td>\n",
       "      <td>98.8</td>\n",
       "      <td>177.8</td>\n",
       "      <td>66.5</td>\n",
       "      <td>...</td>\n",
       "      <td>ohc</td>\n",
       "      <td>four</td>\n",
       "      <td>122.0</td>\n",
       "      <td>idi</td>\n",
       "      <td>22.7</td>\n",
       "      <td>64</td>\n",
       "      <td>4650</td>\n",
       "      <td>36</td>\n",
       "      <td>42</td>\n",
       "      <td>10795</td>\n",
       "    </tr>\n",
       "  </tbody>\n",
       "</table>\n",
       "<p>2 rows × 22 columns</p>\n",
       "</div>"
      ],
      "text/plain": [
       "     make fuel_type aspiration num_of_doors body_style drive_wheels  \\\n",
       "27  dodge       gas      turbo          NaN      sedan          fwd   \n",
       "63  mazda    diesel        std          NaN      sedan          fwd   \n",
       "\n",
       "   engine_location  wheel_base  length  width  ...  engine_type  \\\n",
       "27           front        93.7   157.3   63.8  ...          ohc   \n",
       "63           front        98.8   177.8   66.5  ...          ohc   \n",
       "\n",
       "    num_of_cylinders engine_size fuel_system  compression_ratio horsepower  \\\n",
       "27              four        98.0        mpfi                7.6        102   \n",
       "63              four       122.0         idi               22.7         64   \n",
       "\n",
       "    peak_rpm city_mpg highway_mpg  price  \n",
       "27      5500       24          30   8558  \n",
       "63      4650       36          42  10795  \n",
       "\n",
       "[2 rows x 22 columns]"
      ]
     },
     "execution_count": 19,
     "metadata": {},
     "output_type": "execute_result"
    }
   ],
   "source": [
    "df[df['num_of_doors'].isna()]"
   ]
  },
  {
   "cell_type": "markdown",
   "id": "5b565a25",
   "metadata": {},
   "source": [
    "### replacing the string values into numerical"
   ]
  },
  {
   "cell_type": "code",
   "execution_count": 20,
   "id": "ae7feafa",
   "metadata": {},
   "outputs": [],
   "source": [
    "def numbers(n):\n",
    "    if n == 'one':\n",
    "        return 1\n",
    "    elif n == 'two':\n",
    "        return 2\n",
    "    elif n == 'three':\n",
    "        return 3\n",
    "    elif n == 'four':\n",
    "        return 4\n",
    "    elif n == 'five':\n",
    "        return 5\n",
    "    elif n == 'six':\n",
    "        return 6\n",
    "    elif n == 'seven':\n",
    "        return 7\n",
    "    elif n == 'eight':\n",
    "        return 8\n",
    "    elif n == 'twelve':\n",
    "        return 12\n",
    "    else:\n",
    "        return"
   ]
  },
  {
   "cell_type": "code",
   "execution_count": 21,
   "id": "c21d8178",
   "metadata": {},
   "outputs": [
    {
     "data": {
      "text/plain": [
       "0      2.0\n",
       "1      2.0\n",
       "2      2.0\n",
       "3      4.0\n",
       "4      4.0\n",
       "      ... \n",
       "200    4.0\n",
       "201    4.0\n",
       "202    4.0\n",
       "203    4.0\n",
       "204    4.0\n",
       "Name: num_of_doors, Length: 205, dtype: float64"
      ]
     },
     "execution_count": 21,
     "metadata": {},
     "output_type": "execute_result"
    }
   ],
   "source": [
    "df['num_of_doors'] = df['num_of_doors'].apply(numbers)\n",
    "df['num_of_doors']"
   ]
  },
  {
   "cell_type": "code",
   "execution_count": 22,
   "id": "05d8996f",
   "metadata": {},
   "outputs": [
    {
     "data": {
      "text/plain": [
       "4.0"
      ]
     },
     "execution_count": 22,
     "metadata": {},
     "output_type": "execute_result"
    }
   ],
   "source": [
    "df['num_of_doors'].median()"
   ]
  },
  {
   "cell_type": "markdown",
   "id": "00f0fd7c",
   "metadata": {},
   "source": [
    "### type casting and filling null"
   ]
  },
  {
   "cell_type": "code",
   "execution_count": 23,
   "id": "6106cf9f",
   "metadata": {},
   "outputs": [],
   "source": [
    "df['num_of_doors'].fillna(df['num_of_doors'].median(),inplace = True)"
   ]
  },
  {
   "cell_type": "code",
   "execution_count": 24,
   "id": "810d3a6f",
   "metadata": {},
   "outputs": [],
   "source": [
    "df['num_of_doors'] =df['num_of_doors'].astype('int8')"
   ]
  },
  {
   "cell_type": "code",
   "execution_count": 25,
   "id": "3ac96fae",
   "metadata": {},
   "outputs": [],
   "source": [
    "df['peak_rpm'].fillna(df['peak_rpm'].median(), inplace = True)"
   ]
  },
  {
   "cell_type": "code",
   "execution_count": 26,
   "id": "db4d05f0",
   "metadata": {},
   "outputs": [
    {
     "data": {
      "text/plain": [
       "0      5000\n",
       "1      5000\n",
       "2      5000\n",
       "3      5500\n",
       "4      5500\n",
       "       ... \n",
       "200    5400\n",
       "201    5300\n",
       "202    5500\n",
       "203    4800\n",
       "204    5400\n",
       "Name: peak_rpm, Length: 205, dtype: int32"
      ]
     },
     "execution_count": 26,
     "metadata": {},
     "output_type": "execute_result"
    }
   ],
   "source": [
    "df['peak_rpm'] = df['peak_rpm'].astype('int32')\n",
    "df['peak_rpm']"
   ]
  },
  {
   "cell_type": "code",
   "execution_count": 27,
   "id": "abfe9eea",
   "metadata": {},
   "outputs": [
    {
     "data": {
      "text/plain": [
       "95.0"
      ]
     },
     "execution_count": 27,
     "metadata": {},
     "output_type": "execute_result"
    }
   ],
   "source": [
    "df['horsepower'].median()"
   ]
  },
  {
   "cell_type": "code",
   "execution_count": 28,
   "id": "9237ad33",
   "metadata": {},
   "outputs": [],
   "source": [
    "df['horsepower'].fillna(df['horsepower'].median(), inplace = True)\n",
    "df['horsepower'] = df['horsepower'].astype('int32')"
   ]
  },
  {
   "cell_type": "code",
   "execution_count": 29,
   "id": "96afb304",
   "metadata": {},
   "outputs": [
    {
     "data": {
      "text/plain": [
       "0      111\n",
       "1      111\n",
       "2      154\n",
       "3      102\n",
       "4      115\n",
       "      ... \n",
       "200    114\n",
       "201    160\n",
       "202    134\n",
       "203    106\n",
       "204    114\n",
       "Name: horsepower, Length: 205, dtype: int32"
      ]
     },
     "execution_count": 29,
     "metadata": {},
     "output_type": "execute_result"
    }
   ],
   "source": [
    "df['horsepower']"
   ]
  },
  {
   "cell_type": "code",
   "execution_count": 30,
   "id": "27bbd520",
   "metadata": {},
   "outputs": [
    {
     "data": {
      "text/plain": [
       "10221.5"
      ]
     },
     "execution_count": 30,
     "metadata": {},
     "output_type": "execute_result"
    }
   ],
   "source": [
    "df['price'].median()"
   ]
  },
  {
   "cell_type": "code",
   "execution_count": 31,
   "id": "5af4776d",
   "metadata": {},
   "outputs": [],
   "source": [
    "df['price'].fillna(df['price'].median(), inplace = True)\n",
    "df['price'] = df['price'].astype('int32')"
   ]
  },
  {
   "cell_type": "code",
   "execution_count": 32,
   "id": "992da6ca",
   "metadata": {},
   "outputs": [
    {
     "data": {
      "text/plain": [
       "0      13495\n",
       "1      16500\n",
       "2      16500\n",
       "3      13950\n",
       "4      17450\n",
       "       ...  \n",
       "200    16845\n",
       "201    19045\n",
       "202    21485\n",
       "203    10221\n",
       "204    22625\n",
       "Name: price, Length: 205, dtype: int32"
      ]
     },
     "execution_count": 32,
     "metadata": {},
     "output_type": "execute_result"
    }
   ],
   "source": [
    "df['price'] "
   ]
  },
  {
   "cell_type": "code",
   "execution_count": 33,
   "id": "22fa82b9",
   "metadata": {},
   "outputs": [],
   "source": [
    "df['num_of_cylinders'] = df['num_of_cylinders'].apply(numbers)"
   ]
  },
  {
   "cell_type": "code",
   "execution_count": 34,
   "id": "9aa9736c",
   "metadata": {},
   "outputs": [
    {
     "data": {
      "text/plain": [
       "0    4\n",
       "1    4\n",
       "2    6\n",
       "3    4\n",
       "4    5\n",
       "Name: num_of_cylinders, dtype: int64"
      ]
     },
     "execution_count": 34,
     "metadata": {},
     "output_type": "execute_result"
    }
   ],
   "source": [
    "df['num_of_cylinders'].head()"
   ]
  },
  {
   "cell_type": "code",
   "execution_count": 35,
   "id": "1a583ff4",
   "metadata": {},
   "outputs": [],
   "source": [
    "df['num_of_cylinders'] = df['num_of_cylinders'].fillna(df['num_of_cylinders'].median())"
   ]
  },
  {
   "cell_type": "code",
   "execution_count": 36,
   "id": "e6335825",
   "metadata": {},
   "outputs": [
    {
     "data": {
      "text/plain": [
       "0      4\n",
       "1      4\n",
       "2      6\n",
       "3      4\n",
       "4      5\n",
       "      ..\n",
       "200    4\n",
       "201    4\n",
       "202    6\n",
       "203    6\n",
       "204    4\n",
       "Name: num_of_cylinders, Length: 205, dtype: int8"
      ]
     },
     "execution_count": 36,
     "metadata": {},
     "output_type": "execute_result"
    }
   ],
   "source": [
    "df['num_of_cylinders']= df['num_of_cylinders'].astype('int8')\n",
    "df['num_of_cylinders']"
   ]
  },
  {
   "cell_type": "code",
   "execution_count": 37,
   "id": "79cb4095",
   "metadata": {},
   "outputs": [],
   "source": [
    "df['engine_size'] = df['engine_size'].fillna(df['engine_size'].median())"
   ]
  },
  {
   "cell_type": "code",
   "execution_count": 38,
   "id": "cc299766",
   "metadata": {},
   "outputs": [],
   "source": [
    "df['engine_size'] = df['engine_size'].astype('int16')"
   ]
  },
  {
   "cell_type": "code",
   "execution_count": 39,
   "id": "e0043e49",
   "metadata": {},
   "outputs": [
    {
     "data": {
      "text/plain": [
       "0      130\n",
       "1      130\n",
       "2      152\n",
       "3      109\n",
       "4      136\n",
       "      ... \n",
       "200    141\n",
       "201    141\n",
       "202    173\n",
       "203    145\n",
       "204    141\n",
       "Name: engine_size, Length: 205, dtype: int16"
      ]
     },
     "execution_count": 39,
     "metadata": {},
     "output_type": "execute_result"
    }
   ],
   "source": [
    "df['engine_size']"
   ]
  },
  {
   "cell_type": "code",
   "execution_count": 40,
   "id": "101875ac",
   "metadata": {},
   "outputs": [
    {
     "data": {
      "text/plain": [
       "array(['dohc', 'ohcv', 'ohc', 'l', 'rotor', nan, 'ohcf', 'dohcv'],\n",
       "      dtype=object)"
      ]
     },
     "execution_count": 40,
     "metadata": {},
     "output_type": "execute_result"
    }
   ],
   "source": [
    "df['engine_type'].unique()"
   ]
  },
  {
   "cell_type": "code",
   "execution_count": 41,
   "id": "3c0332df",
   "metadata": {},
   "outputs": [],
   "source": [
    "df['engine_type'] = df['engine_type'].fillna(df['engine_type'].ffill())"
   ]
  },
  {
   "cell_type": "code",
   "execution_count": 42,
   "id": "2778ad80",
   "metadata": {},
   "outputs": [
    {
     "data": {
      "text/html": [
       "<div>\n",
       "<style scoped>\n",
       "    .dataframe tbody tr th:only-of-type {\n",
       "        vertical-align: middle;\n",
       "    }\n",
       "\n",
       "    .dataframe tbody tr th {\n",
       "        vertical-align: top;\n",
       "    }\n",
       "\n",
       "    .dataframe thead th {\n",
       "        text-align: right;\n",
       "    }\n",
       "</style>\n",
       "<table border=\"1\" class=\"dataframe\">\n",
       "  <thead>\n",
       "    <tr style=\"text-align: right;\">\n",
       "      <th></th>\n",
       "      <th>make</th>\n",
       "      <th>fuel_type</th>\n",
       "      <th>aspiration</th>\n",
       "      <th>num_of_doors</th>\n",
       "      <th>body_style</th>\n",
       "      <th>drive_wheels</th>\n",
       "      <th>engine_location</th>\n",
       "      <th>wheel_base</th>\n",
       "      <th>length</th>\n",
       "      <th>width</th>\n",
       "      <th>...</th>\n",
       "      <th>engine_type</th>\n",
       "      <th>num_of_cylinders</th>\n",
       "      <th>engine_size</th>\n",
       "      <th>fuel_system</th>\n",
       "      <th>compression_ratio</th>\n",
       "      <th>horsepower</th>\n",
       "      <th>peak_rpm</th>\n",
       "      <th>city_mpg</th>\n",
       "      <th>highway_mpg</th>\n",
       "      <th>price</th>\n",
       "    </tr>\n",
       "  </thead>\n",
       "  <tbody>\n",
       "  </tbody>\n",
       "</table>\n",
       "<p>0 rows × 22 columns</p>\n",
       "</div>"
      ],
      "text/plain": [
       "Empty DataFrame\n",
       "Columns: [make, fuel_type, aspiration, num_of_doors, body_style, drive_wheels, engine_location, wheel_base, length, width, height, curb_weight, engine_type, num_of_cylinders, engine_size, fuel_system, compression_ratio, horsepower, peak_rpm, city_mpg, highway_mpg, price]\n",
       "Index: []\n",
       "\n",
       "[0 rows x 22 columns]"
      ]
     },
     "execution_count": 42,
     "metadata": {},
     "output_type": "execute_result"
    }
   ],
   "source": [
    "df[df['engine_type'].isnull()]"
   ]
  },
  {
   "cell_type": "code",
   "execution_count": 43,
   "id": "f535af8d",
   "metadata": {},
   "outputs": [
    {
     "data": {
      "text/plain": [
       "2"
      ]
     },
     "execution_count": 43,
     "metadata": {},
     "output_type": "execute_result"
    }
   ],
   "source": [
    "df['wheel_base'].isnull().sum()"
   ]
  },
  {
   "cell_type": "code",
   "execution_count": 44,
   "id": "45c28ba4",
   "metadata": {},
   "outputs": [],
   "source": [
    "df['wheel_base'] = df['wheel_base'].fillna(df['wheel_base'].mean())"
   ]
  },
  {
   "cell_type": "code",
   "execution_count": 45,
   "id": "8059aae2",
   "metadata": {},
   "outputs": [],
   "source": [
    "df['wheel_base']= df['wheel_base'].astype('int32')"
   ]
  },
  {
   "cell_type": "markdown",
   "id": "5bb294ee",
   "metadata": {},
   "source": [
    "### info after cast typing"
   ]
  },
  {
   "cell_type": "code",
   "execution_count": 46,
   "id": "29db3c03",
   "metadata": {},
   "outputs": [
    {
     "name": "stdout",
     "output_type": "stream",
     "text": [
      "<class 'pandas.core.frame.DataFrame'>\n",
      "Index: 205 entries, 0 to 204\n",
      "Data columns (total 22 columns):\n",
      " #   Column             Non-Null Count  Dtype  \n",
      "---  ------             --------------  -----  \n",
      " 0   make               205 non-null    object \n",
      " 1   fuel_type          205 non-null    object \n",
      " 2   aspiration         205 non-null    object \n",
      " 3   num_of_doors       205 non-null    int8   \n",
      " 4   body_style         205 non-null    object \n",
      " 5   drive_wheels       205 non-null    object \n",
      " 6   engine_location    205 non-null    object \n",
      " 7   wheel_base         205 non-null    int32  \n",
      " 8   length             205 non-null    float64\n",
      " 9   width              205 non-null    float64\n",
      " 10  height             205 non-null    float64\n",
      " 11  curb_weight        205 non-null    int64  \n",
      " 12  engine_type        205 non-null    object \n",
      " 13  num_of_cylinders   205 non-null    int8   \n",
      " 14  engine_size        205 non-null    int16  \n",
      " 15  fuel_system        205 non-null    object \n",
      " 16  compression_ratio  205 non-null    float64\n",
      " 17  horsepower         205 non-null    int32  \n",
      " 18  peak_rpm           205 non-null    int32  \n",
      " 19  city_mpg           205 non-null    int64  \n",
      " 20  highway_mpg        205 non-null    int64  \n",
      " 21  price              205 non-null    int32  \n",
      "dtypes: float64(4), int16(1), int32(4), int64(3), int8(2), object(8)\n",
      "memory usage: 29.6+ KB\n"
     ]
    }
   ],
   "source": [
    "df.info()"
   ]
  },
  {
   "cell_type": "markdown",
   "id": "48016a31",
   "metadata": {},
   "source": [
    "### After filling null values"
   ]
  },
  {
   "cell_type": "code",
   "execution_count": 47,
   "id": "b3026343",
   "metadata": {},
   "outputs": [
    {
     "data": {
      "text/plain": [
       "make                 0\n",
       "fuel_type            0\n",
       "aspiration           0\n",
       "num_of_doors         0\n",
       "body_style           0\n",
       "drive_wheels         0\n",
       "engine_location      0\n",
       "wheel_base           0\n",
       "length               0\n",
       "width                0\n",
       "height               0\n",
       "curb_weight          0\n",
       "engine_type          0\n",
       "num_of_cylinders     0\n",
       "engine_size          0\n",
       "fuel_system          0\n",
       "compression_ratio    0\n",
       "horsepower           0\n",
       "peak_rpm             0\n",
       "city_mpg             0\n",
       "highway_mpg          0\n",
       "price                0\n",
       "dtype: int64"
      ]
     },
     "execution_count": 47,
     "metadata": {},
     "output_type": "execute_result"
    }
   ],
   "source": [
    "df.isnull().sum()"
   ]
  },
  {
   "cell_type": "code",
   "execution_count": 48,
   "id": "7c91e79c",
   "metadata": {},
   "outputs": [
    {
     "data": {
      "text/plain": [
       "array([ 4,  6,  5,  3, 12,  2,  8], dtype=int8)"
      ]
     },
     "execution_count": 48,
     "metadata": {},
     "output_type": "execute_result"
    }
   ],
   "source": [
    "df['num_of_cylinders'].unique()"
   ]
  },
  {
   "cell_type": "code",
   "execution_count": 49,
   "id": "ea0ba404",
   "metadata": {},
   "outputs": [],
   "source": [
    "plt.style.use('ggplot')"
   ]
  },
  {
   "cell_type": "code",
   "execution_count": 50,
   "id": "18308b83",
   "metadata": {},
   "outputs": [],
   "source": [
    "plt.style.use('classic')"
   ]
  },
  {
   "cell_type": "code",
   "execution_count": 51,
   "id": "04566174",
   "metadata": {},
   "outputs": [
    {
     "data": {
      "text/plain": [
       "<Axes: title={'center': 'Histogram no of cylinders'}, xlabel='No. of Cylinders', ylabel='Frequency'>"
      ]
     },
     "execution_count": 51,
     "metadata": {},
     "output_type": "execute_result"
    },
    {
     "data": {
      "image/png": "[encoded data removed]",
      "text/plain": [
       "<Figure size 640x480 with 1 Axes>"
      ]
     },
     "metadata": {},
     "output_type": "display_data"
    }
   ],
   "source": [
    "df['num_of_cylinders'].plot(kind = 'hist',\n",
    "                           xlabel = \"No. of Cylinders\",\n",
    "                            title = \"Histogram no of cylinders\",\n",
    "                           color = 'pink')"
   ]
  },
  {
   "cell_type": "code",
   "execution_count": 80,
   "id": "fd6870ac",
   "metadata": {},
   "outputs": [
    {
     "data": {
      "text/plain": [
       "<Axes: title={'center': 'Histogram for no of door'}, xlabel='No. of Doors', ylabel='Frequency'>"
      ]
     },
     "execution_count": 80,
     "metadata": {},
     "output_type": "execute_result"
    },
    {
     "data": {
      "image/png": "[encoded data removed]",
      "text/plain": [
       "<Figure size 640x480 with 1 Axes>"
      ]
     },
     "metadata": {},
     "output_type": "display_data"
    }
   ],
   "source": [
    "df['num_of_doors'].plot(kind = 'hist',\n",
    "                           xlabel = \"No. of Doors\",\n",
    "                            title = \"Histogram for no of door\",\n",
    "                           color = 'teal')"
   ]
  },
  {
   "cell_type": "code",
   "execution_count": 79,
   "id": "122c7a81",
   "metadata": {},
   "outputs": [
    {
     "data": {
      "text/plain": [
       "<Axes: title={'center': 'Histogram of housepower'}, xlabel='horse of a car', ylabel='Frequency'>"
      ]
     },
     "execution_count": 79,
     "metadata": {},
     "output_type": "execute_result"
    },
    {
     "data": {
      "image/png": "[encoded data removed]",
      "text/plain": [
       "<Figure size 640x480 with 1 Axes>"
      ]
     },
     "metadata": {},
     "output_type": "display_data"
    }
   ],
   "source": [
    "df['horsepower'].plot(kind = 'hist',\n",
    "                           xlabel = \"horse of a car\",\n",
    "                            title = \"Histogram of housepower\",\n",
    "                           color = 'coral')"
   ]
  },
  {
   "cell_type": "code",
   "execution_count": 72,
   "id": "e47b0d89",
   "metadata": {},
   "outputs": [
    {
     "data": {
      "text/plain": [
       "<Axes: title={'center': 'Histogram peakrpm'}, xlabel='peak_rpm of a car', ylabel='Frequency'>"
      ]
     },
     "execution_count": 72,
     "metadata": {},
     "output_type": "execute_result"
    },
    {
     "data": {
      "image/png": "[encoded data removed]",
      "text/plain": [
       "<Figure size 640x480 with 1 Axes>"
      ]
     },
     "metadata": {},
     "output_type": "display_data"
    }
   ],
   "source": [
    "df['peak_rpm'].plot(kind = 'hist',\n",
    "                           xlabel = \"peak_rpm of a car\",\n",
    "                            title = \"Histogram peakrpm\",\n",
    "                           color = 'lavender')"
   ]
  },
  {
   "cell_type": "code",
   "execution_count": 83,
   "id": "5f1b3325",
   "metadata": {},
   "outputs": [
    {
     "data": {
      "text/plain": [
       "<Axes: title={'center': 'Histogram price of a car'}, xlabel='Price of car', ylabel='Frequency'>"
      ]
     },
     "execution_count": 83,
     "metadata": {},
     "output_type": "execute_result"
    },
    {
     "data": {
      "image/png": "[encoded data removed]",
      "text/plain": [
       "<Figure size 640x480 with 1 Axes>"
      ]
     },
     "metadata": {},
     "output_type": "display_data"
    }
   ],
   "source": [
    "df['price'].plot(kind = 'hist',\n",
    "                           xlabel = \"Price of car\",\n",
    "                            title = \"Histogram price of a car\",\n",
    "                           color = 'aqua')"
   ]
  }
 ],
 "metadata": {
  "kernelspec": {
   "display_name": "Python 3 (ipykernel)",
   "language": "python",
   "name": "python3"
  },
  "language_info": {
   "codemirror_mode": {
    "name": "ipython",
    "version": 3
   },
   "file_extension": ".py",
   "mimetype": "text/x-python",
   "name": "python",
   "nbconvert_exporter": "python",
   "pygments_lexer": "ipython3",
   "version": "3.11.4"
  }
 },
 "nbformat": 4,
 "nbformat_minor": 5
}
