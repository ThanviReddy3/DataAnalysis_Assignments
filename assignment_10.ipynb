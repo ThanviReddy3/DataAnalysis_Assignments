{
 "cells": [
  {
   "cell_type": "markdown",
   "id": "6a089314",
   "metadata": {
    "id": "6a089314"
   },
   "source": [
    "1. **Basic List Comprehension:**\n",
    "   Write a Python program that uses list comprehension to generate a list of cubes of the first 10 positive integers.\n",
    "\n",
    "2. **Filtering with List Comprehension:**\n",
    "   Given a list of integers, create a new list using list comprehension that contains only the multiple of 3 and 5 from the original list.\n",
    "\n",
    "3. **String Manipulation with List Comprehension:**\n",
    "   Given a list of strings, create a new list using list comprehension that contains the lengths of each string.\n",
    "\n",
    "\n",
    "4. **List Comprehension with Conditionals:**\n",
    "   Given a list of numbers, create a new list using list comprehension that contains the squares of even numbers\n",
    "\n",
    "\n",
    "5. **Pattern Printing**\n",
    "\n",
    "    Write a Python program that takes an integer 'n' as input and prints the following pattern:\n",
    "\n",
    "    For `n = 4`, the pattern should look like this:\n",
    "\n",
    "    ```\n",
    "    1\n",
    "    1 2\n",
    "    1 2 3\n",
    "    1 2 3 4\n",
    "    ```\n",
    "\n",
    "6. **Multiplication Table**\n",
    "\n",
    "      Create a Python program that generates and prints a multiplication table for a given number 'n'. The table should include values from 1 to 10.\n",
    "\n",
    "For example, if `n = 5`, the output should be:\n",
    "\n",
    "    ```\n",
    "    5 x 1 = 5\n",
    "    5 x 2 = 10\n",
    "    5 x 3 = 15\n",
    "    5 x 4 = 20\n",
    "    5 x 5 = 25\n",
    "    5 x 6 = 30\n",
    "    5 x 7 = 35\n",
    "    5 x 8 = 40\n",
    "    5 x 9 = 45\n",
    "    5 x 10 = 50\n",
    "    ```\n",
    "\n",
    "7. **Star Patterns**\n",
    "\n",
    "    Write a Python program that takes an integer 'n' as input and prints the following patterns:\n",
    "\n",
    "    a) Right-angled triangle pattern:\n",
    "    ```\n",
    "    *\n",
    "    **\n",
    "    ***\n",
    "    ****\n",
    "    *****\n",
    "    ```\n",
    "\n",
    "    b) Inverted right-angled triangle pattern:\n",
    "    ```\n",
    "    *****\n",
    "    ****\n",
    "    ***\n",
    "    **\n",
    "    *\n",
    "    ```\n",
    "\n",
    "\n",
    "8. **Number Pyramid**\n",
    "\n",
    "    Create a Python program that takes an integer 'n' as input and prints a number pyramid as shown below:\n",
    "\n",
    "    For `n = 4`, the output should be:\n",
    "\n",
    "    ```\n",
    "       1\n",
    "      212\n",
    "     32123\n",
    "    4321234\n",
    "    ```\n",
    "\n",
    "\n",
    "\n"
   ]
  },
  {
   "cell_type": "markdown",
   "id": "p9LexQb31oy5",
   "metadata": {
    "id": "p9LexQb31oy5"
   },
   "source": [
    "Basic List Comprehension: Write a Python program that uses list comprehension to generate a list of cubes of the first 10 positive integers."
   ]
  },
  {
   "cell_type": "code",
   "execution_count": null,
   "id": "wl3snyqt2mkD",
   "metadata": {
    "colab": {
     "base_uri": "https://localhost:8080/"
    },
    "id": "wl3snyqt2mkD",
    "outputId": "4c523b82-712f-4b63-d9fe-15ea0b434926"
   },
   "outputs": [
    {
     "data": {
      "text/plain": [
       "[1, 8, 27, 64, 125, 216, 343, 512, 729]"
      ]
     },
     "execution_count": 15,
     "metadata": {},
     "output_type": "execute_result"
    }
   ],
   "source": [
    "[i ** 3 for i in range(1,10)]\n"
   ]
  },
  {
   "cell_type": "markdown",
   "id": "jqvFriwV2eVN",
   "metadata": {
    "id": "jqvFriwV2eVN"
   },
   "source": [
    "List Comprehension with Conditionals: Given a list of numbers, create a new list using list comprehension that contains the squares of even numbers"
   ]
  },
  {
   "cell_type": "code",
   "execution_count": null,
   "id": "2dnacGYk2oRN",
   "metadata": {
    "colab": {
     "base_uri": "https://localhost:8080/"
    },
    "id": "2dnacGYk2oRN",
    "outputId": "bdcab9c5-a573-49d9-e3e6-9f6b91ea8f1a"
   },
   "outputs": [
    {
     "data": {
      "text/plain": [
       "[0, 4, 16, 36, 64]"
      ]
     },
     "execution_count": 18,
     "metadata": {},
     "output_type": "execute_result"
    }
   ],
   "source": [
    "[i * i for i in range(0, 10,2)]"
   ]
  },
  {
   "cell_type": "markdown",
   "id": "E5CdeE-M2cCj",
   "metadata": {
    "id": "E5CdeE-M2cCj"
   },
   "source": [
    "String Manipulation with List Comprehension: Given a list of strings, create a new list using list comprehension that contains the lengths of each string."
   ]
  },
  {
   "cell_type": "code",
   "execution_count": null,
   "id": "DA8jjYjF1q8g",
   "metadata": {
    "id": "DA8jjYjF1q8g"
   },
   "outputs": [],
   "source": [
    "a = [\"hi\", \"how\", \"are\", \"you\"]"
   ]
  },
  {
   "cell_type": "code",
   "execution_count": null,
   "id": "DprJbKXC2fXN",
   "metadata": {
    "colab": {
     "base_uri": "https://localhost:8080/"
    },
    "id": "DprJbKXC2fXN",
    "outputId": "fffb29a4-128c-457f-eed3-b2017e0d0c61"
   },
   "outputs": [
    {
     "data": {
      "text/plain": [
       "[2, 3, 3, 3]"
      ]
     },
     "execution_count": 20,
     "metadata": {},
     "output_type": "execute_result"
    }
   ],
   "source": [
    "[len(i) for i in a ]"
   ]
  },
  {
   "cell_type": "markdown",
   "id": "9wR5e1YT1tnr",
   "metadata": {
    "id": "9wR5e1YT1tnr"
   },
   "source": [
    "Filtering with List Comprehension: Given a list of integers, create a new list using list comprehension that contains only the multiple of 3 and 5 from the original list."
   ]
  },
  {
   "cell_type": "markdown",
   "id": "1nWeyP-68JNh",
   "metadata": {
    "id": "1nWeyP-68JNh"
   },
   "source": [
    "#for the given integers"
   ]
  },
  {
   "cell_type": "code",
   "execution_count": 6,
   "id": "6jHBun7H8NeW",
   "metadata": {
    "id": "6jHBun7H8NeW"
   },
   "outputs": [],
   "source": [
    "n = [3, 4, 5, 9, 15, 20, 30, 34, 33, 35, 39, 45, 47, 49]"
   ]
  },
  {
   "cell_type": "code",
   "execution_count": 7,
   "id": "M38fANnk1uDl",
   "metadata": {
    "colab": {
     "base_uri": "https://localhost:8080/"
    },
    "id": "M38fANnk1uDl",
    "outputId": "0d823bb7-5a2f-4b8f-d086-c7eda0143eed"
   },
   "outputs": [
    {
     "data": {
      "text/plain": [
       "[15, 30, 45]"
      ]
     },
     "execution_count": 7,
     "metadata": {},
     "output_type": "execute_result"
    }
   ],
   "source": [
    "[i for i in n if (i%3==0 and i%5 == 0)]"
   ]
  },
  {
   "cell_type": "code",
   "execution_count": 8,
   "id": "XP4ddcC-2ctG",
   "metadata": {
    "colab": {
     "base_uri": "https://localhost:8080/"
    },
    "id": "XP4ddcC-2ctG",
    "outputId": "5a72dfee-36a8-49a2-9e46-3e119a19f54f"
   },
   "outputs": [
    {
     "data": {
      "text/plain": [
       "[15, 30, 45]"
      ]
     },
     "execution_count": 8,
     "metadata": {},
     "output_type": "execute_result"
    }
   ],
   "source": [
    "[i for i in range(1, 50) if i%3 == 0 and i%5 == 0]"
   ]
  },
  {
   "cell_type": "markdown",
   "id": "ZpzUI3pR2hve",
   "metadata": {
    "id": "ZpzUI3pR2hve"
   },
   "source": [
    "Pattern Printing\n",
    "Write a Python program that takes an integer 'n' as input and prints the following pattern:\n",
    "For n = 4, the pattern should look like this:\n",
    "\n",
    " 1\n",
    "\n",
    " 1 2\n",
    "\n",
    " 1 2 3\n",
    "\n",
    " 1 2 3 4\n"
   ]
  },
  {
   "cell_type": "code",
   "execution_count": 13,
   "id": "_5K_lJGn3t2J",
   "metadata": {
    "colab": {
     "base_uri": "https://localhost:8080/"
    },
    "id": "_5K_lJGn3t2J",
    "outputId": "01de47f1-e136-4992-95af-2617d74fe829"
   },
   "outputs": [
    {
     "name": "stdout",
     "output_type": "stream",
     "text": [
      "enter a number: 4\n"
     ]
    }
   ],
   "source": [
    "n = int(input(\"enter a number: \"))"
   ]
  },
  {
   "cell_type": "code",
   "execution_count": 31,
   "id": "zxAJO72T33mT",
   "metadata": {
    "colab": {
     "base_uri": "https://localhost:8080/"
    },
    "id": "zxAJO72T33mT",
    "outputId": "403a18a4-84e7-4fd3-b8f9-9db35133f309"
   },
   "outputs": [
    {
     "name": "stdout",
     "output_type": "stream",
     "text": [
      "1\n",
      "12\n",
      "123\n",
      "1234\n"
     ]
    }
   ],
   "source": [
    "for i in range(1,n+1):\n",
    "        for j in range(1,i+1):\n",
    "            print(j, end = '')\n",
    "        print()\n"
   ]
  },
  {
   "cell_type": "code",
   "execution_count": null,
   "id": "qEKJAFWN4HTB",
   "metadata": {
    "id": "qEKJAFWN4HTB"
   },
   "outputs": [],
   "source": []
  },
  {
   "cell_type": "markdown",
   "id": "TSKfdgbc2mHp",
   "metadata": {
    "id": "TSKfdgbc2mHp"
   },
   "source": [
    "Multiplication Table\n",
    "Create a Python program that generates and prints a multiplication table for a given number 'n'. The table should include values from 1 to 10.\n",
    "For example, if n = 5, the output should be:\n",
    "```\n",
    "5 x 1 = 5\n",
    "5 x 2 = 10\n",
    "5 x 3 = 15\n",
    "5 x 4 = 20\n",
    "5 x 5 = 25\n",
    "5 x 6 = 30\n",
    "5 x 7 = 35\n",
    "5 x 8 = 40\n",
    "5 x 9 = 45\n",
    "5 x 10 = 50"
   ]
  },
  {
   "cell_type": "code",
   "execution_count": 2,
   "id": "fd33a959",
   "metadata": {
    "colab": {
     "base_uri": "https://localhost:8080/"
    },
    "id": "fd33a959",
    "outputId": "cb96abc9-bd02-4b62-9d38-e862f15f9301"
   },
   "outputs": [
    {
     "name": "stdout",
     "output_type": "stream",
     "text": [
      "enter a number: 6\n"
     ]
    }
   ],
   "source": [
    "n = int(input(\"enter a number: \"))"
   ]
  },
  {
   "cell_type": "code",
   "execution_count": 3,
   "id": "N0TS6d2p3GRw",
   "metadata": {
    "colab": {
     "base_uri": "https://localhost:8080/"
    },
    "id": "N0TS6d2p3GRw",
    "outputId": "3de318c7-c21c-4f15-bbe9-e6cf8f2fd8bc"
   },
   "outputs": [
    {
     "name": "stdout",
     "output_type": "stream",
     "text": [
      " 6 * 1 = 6\n",
      " 6 * 2 = 12\n",
      " 6 * 3 = 18\n",
      " 6 * 4 = 24\n",
      " 6 * 5 = 30\n",
      " 6 * 6 = 36\n",
      " 6 * 7 = 42\n",
      " 6 * 8 = 48\n",
      " 6 * 9 = 54\n",
      " 6 * 10 = 60\n"
     ]
    }
   ],
   "source": [
    "for i in range(1,11):\n",
    "    print(f\" {n} * {i} = {n*i}\")"
   ]
  },
  {
   "cell_type": "code",
   "execution_count": null,
   "id": "78evYM7b3H0J",
   "metadata": {
    "id": "78evYM7b3H0J"
   },
   "outputs": [],
   "source": []
  },
  {
   "cell_type": "markdown",
   "id": "XGAU1U6j9AoF",
   "metadata": {
    "id": "XGAU1U6j9AoF"
   },
   "source": [
    "Star Patterns\n",
    "Write a Python program that takes an integer 'n' as input and prints the following patterns:\n",
    "a) Right-angled triangle pattern:\n"
   ]
  },
  {
   "cell_type": "code",
   "execution_count": null,
   "id": "mg9OeCuv3H2w",
   "metadata": {
    "colab": {
     "base_uri": "https://localhost:8080/"
    },
    "id": "mg9OeCuv3H2w",
    "outputId": "ed1ff5d8-cc86-4927-f1e1-ece538e36dec"
   },
   "outputs": [
    {
     "name": "stdout",
     "output_type": "stream",
     "text": [
      "enter a number 6\n"
     ]
    }
   ],
   "source": [
    "n = int(input(\"enter a number \"))"
   ]
  },
  {
   "cell_type": "code",
   "execution_count": null,
   "id": "ouNdsMwv3H5N",
   "metadata": {
    "colab": {
     "base_uri": "https://localhost:8080/"
    },
    "id": "ouNdsMwv3H5N",
    "outputId": "23130cf0-234c-454c-c63f-2403a6fcdef3"
   },
   "outputs": [
    {
     "name": "stdout",
     "output_type": "stream",
     "text": [
      "*\n",
      "**\n",
      "***\n",
      "****\n",
      "*****\n",
      "******\n"
     ]
    }
   ],
   "source": [
    "for i in range(1,n+1):\n",
    "     print(\"*\"* i)\n"
   ]
  },
  {
   "cell_type": "markdown",
   "id": "tQWPJy13_KjN",
   "metadata": {
    "id": "tQWPJy13_KjN"
   },
   "source": [
    "b) Inverted right-angled triangle pattern:"
   ]
  },
  {
   "cell_type": "code",
   "execution_count": null,
   "id": "o66Qg1MY3HTd",
   "metadata": {
    "colab": {
     "base_uri": "https://localhost:8080/"
    },
    "id": "o66Qg1MY3HTd",
    "outputId": "a3df015e-f967-4782-c7e6-04377ae2d7d8"
   },
   "outputs": [
    {
     "name": "stdout",
     "output_type": "stream",
     "text": [
      "******\n",
      "*****\n",
      "****\n",
      "***\n",
      "**\n",
      "*\n"
     ]
    }
   ],
   "source": [
    "for i in range(6, 0,-1):\n",
    "     print(\"*\"* i)\n"
   ]
  },
  {
   "cell_type": "markdown",
   "id": "C8qiBUtJ_NuU",
   "metadata": {
    "id": "C8qiBUtJ_NuU"
   },
   "source": [
    "Number Pyramid\n",
    "Create a Python program that takes an integer 'n' as input and prints a number pyramid as shown below:\n",
    "For n = 4, the output should be:\n",
    "\n",
    "   1\n",
    "\n",
    "  212\n",
    "\n",
    " 32123\n",
    "\n",
    "4321234"
   ]
  },
  {
   "cell_type": "code",
   "execution_count": 33,
   "id": "284cec1e",
   "metadata": {},
   "outputs": [
    {
     "name": "stdout",
     "output_type": "stream",
     "text": [
      "enter a number: 5\n"
     ]
    }
   ],
   "source": [
    "num = int(input(\"enter a number: \"))"
   ]
  },
  {
   "cell_type": "code",
   "execution_count": 34,
   "id": "a014u4KF_U1g",
   "metadata": {
    "colab": {
     "base_uri": "https://localhost:8080/"
    },
    "id": "a014u4KF_U1g",
    "outputId": "8aa94179-0a02-41f8-d363-33239b58a3eb"
   },
   "outputs": [
    {
     "name": "stdout",
     "output_type": "stream",
     "text": [
      "enter a no of rows::5\n",
      "    1\n",
      "   212\n",
      "  32123\n",
      " 4321234\n",
      "543212345\n"
     ]
    }
   ],
   "source": [
    "for i in range(1,num+1):\n",
    "    for j in range(1,num-i+1):   \n",
    "        print(end = \" \")\n",
    "    for j in range(i,0,-1):\n",
    "        print(j,end = \"\")      \n",
    "    for j in range(2,i+1):\n",
    "        print(j,end = \"\")      \n",
    "    print()"
   ]
  },
  {
   "cell_type": "code",
   "execution_count": null,
   "id": "e6e922f8",
   "metadata": {},
   "outputs": [],
   "source": []
  }
 ],
 "metadata": {
  "colab": {
   "provenance": []
  },
  "kernelspec": {
   "display_name": "Python 3 (ipykernel)",
   "language": "python",
   "name": "python3"
  },
  "language_info": {
   "codemirror_mode": {
    "name": "ipython",
    "version": 3
   },
   "file_extension": ".py",
   "mimetype": "text/x-python",
   "name": "python",
   "nbconvert_exporter": "python",
   "pygments_lexer": "ipython3",
   "version": "3.11.4"
  }
 },
 "nbformat": 4,
 "nbformat_minor": 5
}
