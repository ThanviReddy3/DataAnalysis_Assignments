{
 "cells": [
  {
   "cell_type": "markdown",
   "id": "5d5ff628",
   "metadata": {},
   "source": [
    "# pandas Series\n",
    "1. Create pandas series with different `data types` in `different ways`\n",
    "2. Find the `attributes` of Series of [10,30,40,1,3,6,14,18,23] with index starts from `100`\n",
    "3. create salaries of `30 employee salaries randomly from 30000-90000` then `measure and describe` the data using pandas series.\n",
    "4. What are the `similaraties` and `differences` between pandas series and nnumpy array.Prove it with code.\n",
    "5. create pandas series with ranges from 100 to 150 then apply indexing and slicing on it."
   ]
  },
  {
   "cell_type": "markdown",
   "id": "4ef2062b",
   "metadata": {},
   "source": [
    "#### Create pandas series with different data types in different ways"
   ]
  },
  {
   "cell_type": "code",
   "execution_count": 1,
   "id": "ecdae2f3",
   "metadata": {},
   "outputs": [],
   "source": [
    "import pandas as pd"
   ]
  },
  {
   "cell_type": "code",
   "execution_count": 2,
   "id": "185fc48b",
   "metadata": {},
   "outputs": [],
   "source": [
    "# using list"
   ]
  },
  {
   "cell_type": "code",
   "execution_count": 3,
   "id": "e3dd82b0",
   "metadata": {},
   "outputs": [],
   "source": [
    "a = [1,2,3,4,5,6,7,8,9,10]"
   ]
  },
  {
   "cell_type": "code",
   "execution_count": 4,
   "id": "847742e6",
   "metadata": {},
   "outputs": [
    {
     "data": {
      "text/plain": [
       "0     1\n",
       "1     2\n",
       "2     3\n",
       "3     4\n",
       "4     5\n",
       "5     6\n",
       "6     7\n",
       "7     8\n",
       "8     9\n",
       "9    10\n",
       "dtype: int64"
      ]
     },
     "execution_count": 4,
     "metadata": {},
     "output_type": "execute_result"
    }
   ],
   "source": [
    "pd.Series(a)"
   ]
  },
  {
   "cell_type": "code",
   "execution_count": 5,
   "id": "8f15618b",
   "metadata": {},
   "outputs": [
    {
     "data": {
      "text/plain": [
       "0     1\n",
       "1     2\n",
       "2     3\n",
       "3     4\n",
       "4     5\n",
       "5     6\n",
       "6     7\n",
       "7     8\n",
       "8     9\n",
       "9    10\n",
       "dtype: int64"
      ]
     },
     "execution_count": 5,
     "metadata": {},
     "output_type": "execute_result"
    }
   ],
   "source": [
    "a1 = list(range(1,11))\n",
    "pd.Series(a1)"
   ]
  },
  {
   "cell_type": "code",
   "execution_count": 6,
   "id": "f447ad59",
   "metadata": {},
   "outputs": [],
   "source": [
    "#using tuple"
   ]
  },
  {
   "cell_type": "code",
   "execution_count": 7,
   "id": "3c667e3d",
   "metadata": {},
   "outputs": [],
   "source": [
    "t = (10,20,30,40,50)"
   ]
  },
  {
   "cell_type": "code",
   "execution_count": 8,
   "id": "20078710",
   "metadata": {},
   "outputs": [
    {
     "data": {
      "text/plain": [
       "0    10\n",
       "1    20\n",
       "2    30\n",
       "3    40\n",
       "4    50\n",
       "dtype: int64"
      ]
     },
     "execution_count": 8,
     "metadata": {},
     "output_type": "execute_result"
    }
   ],
   "source": [
    "pd.Series(t)"
   ]
  },
  {
   "cell_type": "code",
   "execution_count": 9,
   "id": "5804de2d",
   "metadata": {},
   "outputs": [],
   "source": [
    "#using dictionary"
   ]
  },
  {
   "cell_type": "code",
   "execution_count": 10,
   "id": "5c442b53",
   "metadata": {},
   "outputs": [],
   "source": [
    "elements = {1:'earth', 2:'water', 3:'fire', 4:'air', 5:'ether'}"
   ]
  },
  {
   "cell_type": "code",
   "execution_count": 11,
   "id": "b3faa2e0",
   "metadata": {},
   "outputs": [
    {
     "data": {
      "text/plain": [
       "1    earth\n",
       "2    water\n",
       "3     fire\n",
       "4      air\n",
       "5    ether\n",
       "dtype: object"
      ]
     },
     "execution_count": 11,
     "metadata": {},
     "output_type": "execute_result"
    }
   ],
   "source": [
    "pd.Series(elements)"
   ]
  },
  {
   "cell_type": "code",
   "execution_count": 12,
   "id": "3fd1d39f",
   "metadata": {},
   "outputs": [],
   "source": [
    "#using random"
   ]
  },
  {
   "cell_type": "code",
   "execution_count": 13,
   "id": "a31ea6bc",
   "metadata": {},
   "outputs": [],
   "source": [
    "import numpy as np"
   ]
  },
  {
   "cell_type": "code",
   "execution_count": 14,
   "id": "6849c79c",
   "metadata": {},
   "outputs": [],
   "source": [
    "a = np.random.randint(100,200,10)"
   ]
  },
  {
   "cell_type": "code",
   "execution_count": 15,
   "id": "26ba0e3a",
   "metadata": {},
   "outputs": [
    {
     "data": {
      "text/plain": [
       "0    128\n",
       "1    152\n",
       "2    177\n",
       "3    136\n",
       "4    133\n",
       "5    156\n",
       "6    188\n",
       "7    168\n",
       "8    170\n",
       "9    125\n",
       "dtype: int32"
      ]
     },
     "execution_count": 15,
     "metadata": {},
     "output_type": "execute_result"
    }
   ],
   "source": [
    "pd.Series(a)"
   ]
  },
  {
   "cell_type": "markdown",
   "id": "a532ab85",
   "metadata": {},
   "source": [
    "#### Find the attributes of Series of [10,30,40,1,3,6,14,18,23] with index starts from 100"
   ]
  },
  {
   "cell_type": "code",
   "execution_count": 16,
   "id": "70b85182",
   "metadata": {},
   "outputs": [],
   "source": [
    "A = [10,30,40,1,3,6,14,18,23] \n",
    "B = len(A)"
   ]
  },
  {
   "cell_type": "code",
   "execution_count": 17,
   "id": "fb8f4c5c",
   "metadata": {},
   "outputs": [
    {
     "data": {
      "text/plain": [
       "100    10\n",
       "101    30\n",
       "102    40\n",
       "103     1\n",
       "104     3\n",
       "105     6\n",
       "106    14\n",
       "107    18\n",
       "108    23\n",
       "dtype: int64"
      ]
     },
     "execution_count": 17,
     "metadata": {},
     "output_type": "execute_result"
    }
   ],
   "source": [
    "A = pd.Series(A,index = list(range(100,100+B)))\n",
    "A"
   ]
  },
  {
   "cell_type": "code",
   "execution_count": 18,
   "id": "c6fbf888",
   "metadata": {},
   "outputs": [
    {
     "data": {
      "text/plain": [
       "dtype('int64')"
      ]
     },
     "execution_count": 18,
     "metadata": {},
     "output_type": "execute_result"
    }
   ],
   "source": [
    "A.dtype"
   ]
  },
  {
   "cell_type": "code",
   "execution_count": 19,
   "id": "f918553c",
   "metadata": {
    "scrolled": true
   },
   "outputs": [
    {
     "data": {
      "text/plain": [
       "count     9.000000\n",
       "mean     16.111111\n",
       "std      13.033078\n",
       "min       1.000000\n",
       "25%       6.000000\n",
       "50%      14.000000\n",
       "75%      23.000000\n",
       "max      40.000000\n",
       "dtype: float64"
      ]
     },
     "execution_count": 19,
     "metadata": {},
     "output_type": "execute_result"
    }
   ],
   "source": [
    "A.describe()"
   ]
  },
  {
   "cell_type": "code",
   "execution_count": 20,
   "id": "e48fd2e3",
   "metadata": {},
   "outputs": [
    {
     "data": {
      "text/plain": [
       "100    10\n",
       "101    30\n",
       "102    40\n",
       "103     1\n",
       "104     3\n",
       "dtype: int64"
      ]
     },
     "execution_count": 20,
     "metadata": {},
     "output_type": "execute_result"
    }
   ],
   "source": [
    "A.head(5)"
   ]
  },
  {
   "cell_type": "code",
   "execution_count": 21,
   "id": "b49c8e0c",
   "metadata": {},
   "outputs": [
    {
     "data": {
      "text/plain": [
       "104     3\n",
       "105     6\n",
       "106    14\n",
       "107    18\n",
       "108    23\n",
       "dtype: int64"
      ]
     },
     "execution_count": 21,
     "metadata": {},
     "output_type": "execute_result"
    }
   ],
   "source": [
    "A.tail(5)"
   ]
  },
  {
   "cell_type": "code",
   "execution_count": 22,
   "id": "a087e6b7",
   "metadata": {},
   "outputs": [
    {
     "data": {
      "text/plain": [
       "144"
      ]
     },
     "execution_count": 22,
     "metadata": {},
     "output_type": "execute_result"
    }
   ],
   "source": [
    "A.memory_usage()"
   ]
  },
  {
   "cell_type": "code",
   "execution_count": 23,
   "id": "4a4c4836",
   "metadata": {},
   "outputs": [
    {
     "name": "stdout",
     "output_type": "stream",
     "text": [
      "<class 'pandas.core.series.Series'>\n",
      "Index: 9 entries, 100 to 108\n",
      "Series name: None\n",
      "Non-Null Count  Dtype\n",
      "--------------  -----\n",
      "9 non-null      int64\n",
      "dtypes: int64(1)\n",
      "memory usage: 144.0 bytes\n"
     ]
    }
   ],
   "source": [
    "A.info()"
   ]
  },
  {
   "cell_type": "markdown",
   "id": "f83b3dce",
   "metadata": {},
   "source": [
    "#### create salaries of 30 employee salaries randomly from 30000-90000 then measure and describe the data using pandas series."
   ]
  },
  {
   "cell_type": "code",
   "execution_count": 24,
   "id": "75d42cfe",
   "metadata": {},
   "outputs": [
    {
     "data": {
      "text/plain": [
       "array([52451, 55463, 46400, 74614, 88994, 47064, 55248, 36131, 31803,\n",
       "       51326, 67051, 82884, 76431, 66697, 63056, 79718, 81033, 80893,\n",
       "       42396, 45956, 42107, 46968, 79475, 44364, 78259, 55039, 87578,\n",
       "       87588, 30791, 69056])"
      ]
     },
     "execution_count": 24,
     "metadata": {},
     "output_type": "execute_result"
    }
   ],
   "source": [
    "salary = np.random.randint(30000,90000,30)\n",
    "salary"
   ]
  },
  {
   "cell_type": "code",
   "execution_count": 25,
   "id": "0998e7ce",
   "metadata": {},
   "outputs": [
    {
     "data": {
      "text/plain": [
       "1     52451\n",
       "2     55463\n",
       "3     46400\n",
       "4     74614\n",
       "5     88994\n",
       "6     47064\n",
       "7     55248\n",
       "8     36131\n",
       "9     31803\n",
       "10    51326\n",
       "11    67051\n",
       "12    82884\n",
       "13    76431\n",
       "14    66697\n",
       "15    63056\n",
       "16    79718\n",
       "17    81033\n",
       "18    80893\n",
       "19    42396\n",
       "20    45956\n",
       "21    42107\n",
       "22    46968\n",
       "23    79475\n",
       "24    44364\n",
       "25    78259\n",
       "26    55039\n",
       "27    87578\n",
       "28    87588\n",
       "29    30791\n",
       "30    69056\n",
       "dtype: int32"
      ]
     },
     "execution_count": 25,
     "metadata": {},
     "output_type": "execute_result"
    }
   ],
   "source": [
    "salary = pd.Series(salary,index = list(range(1,30+1)))\n",
    "salary"
   ]
  },
  {
   "cell_type": "code",
   "execution_count": 26,
   "id": "b0aaca7e",
   "metadata": {},
   "outputs": [
    {
     "data": {
      "text/plain": [
       "61561.13333333333"
      ]
     },
     "execution_count": 26,
     "metadata": {},
     "output_type": "execute_result"
    }
   ],
   "source": [
    "salary.mean()"
   ]
  },
  {
   "cell_type": "code",
   "execution_count": 27,
   "id": "77c84aeb",
   "metadata": {},
   "outputs": [
    {
     "data": {
      "text/plain": [
       "59259.5"
      ]
     },
     "execution_count": 27,
     "metadata": {},
     "output_type": "execute_result"
    }
   ],
   "source": [
    "salary.median()"
   ]
  },
  {
   "cell_type": "code",
   "execution_count": 28,
   "id": "a4f887de",
   "metadata": {},
   "outputs": [
    {
     "data": {
      "text/plain": [
       "0     30791\n",
       "1     31803\n",
       "2     36131\n",
       "3     42107\n",
       "4     42396\n",
       "5     44364\n",
       "6     45956\n",
       "7     46400\n",
       "8     46968\n",
       "9     47064\n",
       "10    51326\n",
       "11    52451\n",
       "12    55039\n",
       "13    55248\n",
       "14    55463\n",
       "15    63056\n",
       "16    66697\n",
       "17    67051\n",
       "18    69056\n",
       "19    74614\n",
       "20    76431\n",
       "21    78259\n",
       "22    79475\n",
       "23    79718\n",
       "24    80893\n",
       "25    81033\n",
       "26    82884\n",
       "27    87578\n",
       "28    87588\n",
       "29    88994\n",
       "dtype: int32"
      ]
     },
     "execution_count": 28,
     "metadata": {},
     "output_type": "execute_result"
    }
   ],
   "source": [
    "salary.mode()   #no repeated values"
   ]
  },
  {
   "cell_type": "code",
   "execution_count": 29,
   "id": "67200ed9",
   "metadata": {},
   "outputs": [
    {
     "data": {
      "text/plain": [
       "326709446.4643678"
      ]
     },
     "execution_count": 29,
     "metadata": {},
     "output_type": "execute_result"
    }
   ],
   "source": [
    "salary.var()"
   ]
  },
  {
   "cell_type": "code",
   "execution_count": 30,
   "id": "a9b6dea5",
   "metadata": {},
   "outputs": [
    {
     "data": {
      "text/plain": [
       "18075.10571101502"
      ]
     },
     "execution_count": 30,
     "metadata": {},
     "output_type": "execute_result"
    }
   ],
   "source": [
    "salary.std()"
   ]
  },
  {
   "cell_type": "code",
   "execution_count": 31,
   "id": "09dbb28c",
   "metadata": {},
   "outputs": [
    {
     "data": {
      "text/plain": [
       "58203"
      ]
     },
     "execution_count": 31,
     "metadata": {},
     "output_type": "execute_result"
    }
   ],
   "source": [
    "salaryrange = max(salary)- min(salary)\n",
    "salaryrange"
   ]
  },
  {
   "cell_type": "code",
   "execution_count": 32,
   "id": "358efaa7",
   "metadata": {},
   "outputs": [
    {
     "data": {
      "text/plain": [
       "count       30.000000\n",
       "mean     61561.133333\n",
       "std      18075.105711\n",
       "min      30791.000000\n",
       "25%      46542.000000\n",
       "50%      59259.500000\n",
       "75%      79171.000000\n",
       "max      88994.000000\n",
       "dtype: float64"
      ]
     },
     "execution_count": 32,
     "metadata": {},
     "output_type": "execute_result"
    }
   ],
   "source": [
    "salary.describe()"
   ]
  },
  {
   "cell_type": "code",
   "execution_count": 33,
   "id": "b21b1c6e",
   "metadata": {},
   "outputs": [
    {
     "data": {
      "text/plain": [
       "46542.0"
      ]
     },
     "execution_count": 33,
     "metadata": {},
     "output_type": "execute_result"
    }
   ],
   "source": [
    "salary.quantile(0.25)"
   ]
  },
  {
   "cell_type": "code",
   "execution_count": 34,
   "id": "ec966ae3",
   "metadata": {},
   "outputs": [
    {
     "data": {
      "text/plain": [
       "79171.0"
      ]
     },
     "execution_count": 34,
     "metadata": {},
     "output_type": "execute_result"
    }
   ],
   "source": [
    "salary.quantile(0.75)"
   ]
  },
  {
   "cell_type": "code",
   "execution_count": 35,
   "id": "cb9618e9",
   "metadata": {},
   "outputs": [
    {
     "data": {
      "text/plain": [
       "count       30.000000\n",
       "mean     61561.133333\n",
       "std      18075.105711\n",
       "min      30791.000000\n",
       "25%      46542.000000\n",
       "50%      59259.500000\n",
       "75%      79171.000000\n",
       "max      88994.000000\n",
       "dtype: float64"
      ]
     },
     "execution_count": 35,
     "metadata": {},
     "output_type": "execute_result"
    }
   ],
   "source": [
    "salary.describe()"
   ]
  },
  {
   "cell_type": "markdown",
   "id": "d542f86a",
   "metadata": {},
   "source": [
    "#### What are the similaraties and differences between pandas series and numpy array.Prove it with code."
   ]
  },
  {
   "cell_type": "markdown",
   "id": "8ba5fd71",
   "metadata": {},
   "source": [
    "* Numpy deals with numerical values only"
   ]
  },
  {
   "cell_type": "markdown",
   "id": "9ab948f8",
   "metadata": {},
   "source": [
    "* Pandas deals with numerical values and string values"
   ]
  },
  {
   "cell_type": "code",
   "execution_count": 36,
   "id": "fd3a50a6",
   "metadata": {},
   "outputs": [
    {
     "data": {
      "text/plain": [
       "1     52451\n",
       "2     55463\n",
       "3     46400\n",
       "4     74614\n",
       "5     88994\n",
       "6     47064\n",
       "7     55248\n",
       "8     36131\n",
       "9     31803\n",
       "10    51326\n",
       "11    67051\n",
       "12    82884\n",
       "13    76431\n",
       "14    66697\n",
       "15    63056\n",
       "16    79718\n",
       "17    81033\n",
       "18    80893\n",
       "19    42396\n",
       "20    45956\n",
       "21    42107\n",
       "22    46968\n",
       "23    79475\n",
       "24    44364\n",
       "25    78259\n",
       "26    55039\n",
       "27    87578\n",
       "28    87588\n",
       "29    30791\n",
       "30    69056\n",
       "dtype: int32"
      ]
     },
     "execution_count": 36,
     "metadata": {},
     "output_type": "execute_result"
    }
   ],
   "source": [
    "salary   #pandas series has index numbers for assigned values"
   ]
  },
  {
   "cell_type": "code",
   "execution_count": 37,
   "id": "de1f3c80",
   "metadata": {},
   "outputs": [
    {
     "data": {
      "text/plain": [
       "1"
      ]
     },
     "execution_count": 37,
     "metadata": {},
     "output_type": "execute_result"
    }
   ],
   "source": [
    "salary.ndim   #pandas series has 1-dimensional"
   ]
  },
  {
   "cell_type": "code",
   "execution_count": 38,
   "id": "242e135d",
   "metadata": {},
   "outputs": [
    {
     "data": {
      "text/plain": [
       "array([[[1, 2, 3, 4, 5, 6, 7, 8, 9]]])"
      ]
     },
     "execution_count": 38,
     "metadata": {},
     "output_type": "execute_result"
    }
   ],
   "source": [
    "salaries = np.array([1,2,3,4,5,6,7,8,9],ndmin = 3)\n",
    "salaries   #numpy doesnt has index numbers"
   ]
  },
  {
   "cell_type": "code",
   "execution_count": 39,
   "id": "37686841",
   "metadata": {},
   "outputs": [
    {
     "data": {
      "text/plain": [
       "3"
      ]
     },
     "execution_count": 39,
     "metadata": {},
     "output_type": "execute_result"
    }
   ],
   "source": [
    "salaries.ndim    #numpy is a n-dimensional"
   ]
  },
  {
   "cell_type": "markdown",
   "id": "328f5c65",
   "metadata": {},
   "source": [
    "#### create pandas series with ranges from 100 to 150 then apply indexing and slicing on it."
   ]
  },
  {
   "cell_type": "code",
   "execution_count": 40,
   "id": "0b8ba37a",
   "metadata": {},
   "outputs": [
    {
     "data": {
      "text/plain": [
       "[100,\n",
       " 101,\n",
       " 102,\n",
       " 103,\n",
       " 104,\n",
       " 105,\n",
       " 106,\n",
       " 107,\n",
       " 108,\n",
       " 109,\n",
       " 110,\n",
       " 111,\n",
       " 112,\n",
       " 113,\n",
       " 114,\n",
       " 115,\n",
       " 116,\n",
       " 117,\n",
       " 118,\n",
       " 119,\n",
       " 120,\n",
       " 121,\n",
       " 122,\n",
       " 123,\n",
       " 124,\n",
       " 125,\n",
       " 126,\n",
       " 127,\n",
       " 128,\n",
       " 129,\n",
       " 130,\n",
       " 131,\n",
       " 132,\n",
       " 133,\n",
       " 134,\n",
       " 135,\n",
       " 136,\n",
       " 137,\n",
       " 138,\n",
       " 139,\n",
       " 140,\n",
       " 141,\n",
       " 142,\n",
       " 143,\n",
       " 144,\n",
       " 145,\n",
       " 146,\n",
       " 147,\n",
       " 148,\n",
       " 149,\n",
       " 150]"
      ]
     },
     "execution_count": 40,
     "metadata": {},
     "output_type": "execute_result"
    }
   ],
   "source": [
    "numbers = list(range(100,150+1))\n",
    "numbers"
   ]
  },
  {
   "cell_type": "code",
   "execution_count": 41,
   "id": "8b0fa309",
   "metadata": {},
   "outputs": [],
   "source": [
    "num = pd.Series(numbers)"
   ]
  },
  {
   "cell_type": "code",
   "execution_count": 42,
   "id": "16dee410",
   "metadata": {},
   "outputs": [
    {
     "data": {
      "text/plain": [
       "148"
      ]
     },
     "execution_count": 42,
     "metadata": {},
     "output_type": "execute_result"
    }
   ],
   "source": [
    "num[48] #indexing"
   ]
  },
  {
   "cell_type": "code",
   "execution_count": 43,
   "id": "ceb3eee0",
   "metadata": {},
   "outputs": [
    {
     "data": {
      "text/plain": [
       "10    110\n",
       "15    115\n",
       "20    120\n",
       "25    125\n",
       "30    130\n",
       "35    135\n",
       "40    140\n",
       "45    145\n",
       "dtype: int64"
      ]
     },
     "execution_count": 43,
     "metadata": {},
     "output_type": "execute_result"
    }
   ],
   "source": [
    "num[10:50:5]   #slicing"
   ]
  },
  {
   "cell_type": "code",
   "execution_count": null,
   "id": "e799ef1f",
   "metadata": {},
   "outputs": [],
   "source": []
  },
  {
   "cell_type": "code",
   "execution_count": null,
   "id": "3b6852db",
   "metadata": {},
   "outputs": [],
   "source": []
  }
 ],
 "metadata": {
  "kernelspec": {
   "display_name": "Python 3 (ipykernel)",
   "language": "python",
   "name": "python3"
  },
  "language_info": {
   "codemirror_mode": {
    "name": "ipython",
    "version": 3
   },
   "file_extension": ".py",
   "mimetype": "text/x-python",
   "name": "python",
   "nbconvert_exporter": "python",
   "pygments_lexer": "ipython3",
   "version": "3.11.4"
  }
 },
 "nbformat": 4,
 "nbformat_minor": 5
}
