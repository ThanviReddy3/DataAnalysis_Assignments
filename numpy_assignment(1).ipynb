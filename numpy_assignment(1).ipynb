{
 "cells": [
  {
   "cell_type": "markdown",
   "id": "e4decde1",
   "metadata": {},
   "source": [
    "**Creation of ndarray**\n",
    "\n",
    "1. Write python code to create 3d array in different ways with 15 elements.\n",
    "2. Array Creation:\n",
    "a. Create a 4D NumPy array containing the first 12 positive integers as arr1.\n",
    "b. Create a 3D NumPy array1 with 20 random elements containing integers between 0 and 1.\n",
    "3. Find all attributes of array1 and array2\n",
    "4. Apply measure and describe the data (attributes and descriptive statistics) to above arrays using NumPy.\n",
    "\n",
    "\n",
    "**Array Slicing and Indexing:**\n",
    "\n",
    "a. Creating Arrays:\n",
    "      - Create a 1-dimensional NumPy array  arr1 with the values [0, 11, 26, 73, 42, 51, 6,77, 8,29].\n",
    "      - Create a 2-dimensional NumPy array  arr2  with the values  [[0, 1, 2], [3, 4, 5], [6, 7, 8]].\n",
    "      \n",
    " b.Basic Indexing:\n",
    "      - Print the element at index 3 of  arr1.\n",
    "      - Print the element at row 2, column 1 of  arr2\n",
    "\n",
    "   c. Array Slicing:\n",
    "      - Print the first five elements of `arr1`.\n",
    "      - Print the subarray of `arr2` consisting of the last two rows and the first two columns.\n",
    "       - Print every second element starting from index 1 up to index 7 of `arr1`.\n",
    "\n",
    "\n",
    "\n",
    "\n",
    "\n",
    "\n",
    "\n",
    "**Data Type Manipulation**\n",
    "\n",
    "a. Creating Arrays with Specific Data Types:\n",
    "      - Create a 1-dimensional NumPy array `int_array` with the values `[1, 2, 3, 4, 5]` and the data type `int16`.\n",
    "      - Create a 1-dimensional NumPy array `float_array` with the values `[0.1, 0.2, 0.3, 0.4, 0.5]` and the data type `float64`.\n",
    "      \n",
    "b. Data Type Conversion:\n",
    "      - Convert the `float_array` to an array with data type `int32`. Print the result.\n",
    "      - Convert the `int_array` to an array with data type `float32`. Print the result.\n",
    "\n",
    "**Generating Random Numbers:**\n",
    "\n",
    "1.\tUse numpy.random.randint() to create an array rand_integers containing 10 random integers between 0 and 100 (inclusive).\n",
    "\n",
    "2.\tUse numpy.random.uniform() to create an array rand_uniform containing 5 random numbers sampled from a uniform distribution between -1 and 1.\n",
    "\n",
    "3.\tCreate an array rand_matrix with random integers between 50 and 100 (inclusive).and reshape it to 2-dimensional (4 x 4) matrix\n",
    "\n",
    "4.\tApply descriptive statistics for rand_matrix.\n",
    "\n",
    "\n",
    "**Analyze the Data:**\n",
    "\n",
    "Salaries = [87877, 54494, 54804, 85051, 52453, 31250, 94868, 66349, 39828, 60501, 58570, 74906, 41671, 51428, 56414, 98446, 56819, 82833, 50477, 62898, 99658, 89224, 34225, 79172, 32199, 63795, 90947, 55723, 64557, 3113638]\n",
    "\n",
    "\n",
    "\n",
    "\n",
    "Describe the data using numpy array.\n",
    "Measure the following:\n",
    "1.\tHow many employees are getting more less than 50000?\n",
    "\n",
    "2.\tIs it following Normal Distribution?\n",
    "\n",
    "3.\tWhat is the median salary?\n",
    "\n",
    "4.\tWhat is the range of salaries for this company?\n",
    "\n",
    "5.\tFind the salaries between average salary and 75% of salaries?\n",
    "\n",
    "6.\tHow many employees are getting less than 25 % of salaries ?\n",
    "\n"
   ]
  },
  {
   "cell_type": "markdown",
   "id": "fd103762",
   "metadata": {},
   "source": [
    "Write python code to create 3d array in different ways with 15 elements."
   ]
  },
  {
   "cell_type": "code",
   "execution_count": 3,
   "id": "95ba6d79",
   "metadata": {},
   "outputs": [],
   "source": [
    "import numpy as np"
   ]
  },
  {
   "cell_type": "code",
   "execution_count": 4,
   "id": "a634771b",
   "metadata": {},
   "outputs": [],
   "source": [
    "a = np.array([1,2,3,4,5,6,7,8,9,10,11,12,13,14,15], ndmin = 3)"
   ]
  },
  {
   "cell_type": "code",
   "execution_count": 5,
   "id": "6e64ffa9",
   "metadata": {},
   "outputs": [
    {
     "data": {
      "text/plain": [
       "3"
      ]
     },
     "execution_count": 5,
     "metadata": {},
     "output_type": "execute_result"
    }
   ],
   "source": [
    "a.ndim"
   ]
  },
  {
   "cell_type": "code",
   "execution_count": 6,
   "id": "032e83ec",
   "metadata": {},
   "outputs": [],
   "source": [
    "a = np.array([[[1,2,3,4,5,6,7,8,9,10,11,12,13,14,15]]])"
   ]
  },
  {
   "cell_type": "code",
   "execution_count": 7,
   "id": "e1b4c4ee",
   "metadata": {},
   "outputs": [
    {
     "data": {
      "text/plain": [
       "3"
      ]
     },
     "execution_count": 7,
     "metadata": {},
     "output_type": "execute_result"
    }
   ],
   "source": [
    "a.ndim"
   ]
  },
  {
   "cell_type": "code",
   "execution_count": 8,
   "id": "47737238",
   "metadata": {},
   "outputs": [
    {
     "data": {
      "text/plain": [
       "array([[[ 1,  2,  3],\n",
       "        [ 4,  5,  6],\n",
       "        [ 7,  8,  9],\n",
       "        [10, 11, 12],\n",
       "        [13, 14, 15]]])"
      ]
     },
     "execution_count": 8,
     "metadata": {},
     "output_type": "execute_result"
    }
   ],
   "source": [
    "a = np.array([1,2,3,4,5,6,7,8,9,10,11,12,13,14,15]).reshape(1,5,3)\n",
    "a"
   ]
  },
  {
   "cell_type": "code",
   "execution_count": 9,
   "id": "0db2a002",
   "metadata": {},
   "outputs": [],
   "source": [
    "import random"
   ]
  },
  {
   "cell_type": "code",
   "execution_count": 10,
   "id": "45620271",
   "metadata": {},
   "outputs": [
    {
     "data": {
      "text/plain": [
       "array([[[ 1,  2,  3],\n",
       "        [ 4,  5,  6],\n",
       "        [ 7,  8,  9],\n",
       "        [10, 11, 12],\n",
       "        [13, 14, 15]]])"
      ]
     },
     "execution_count": 10,
     "metadata": {},
     "output_type": "execute_result"
    }
   ],
   "source": [
    "a = np.arange(1,16).reshape(1,5,3)\n",
    "a"
   ]
  },
  {
   "cell_type": "markdown",
   "id": "9865a58c",
   "metadata": {},
   "source": [
    "Array Creation: a. Create a 4D NumPy array containing the first 12 positive integers as arr1."
   ]
  },
  {
   "cell_type": "code",
   "execution_count": 11,
   "id": "de9e2991",
   "metadata": {},
   "outputs": [
    {
     "data": {
      "text/plain": [
       "array([ 1,  2,  3,  4,  5,  6,  7,  8,  9, 10, 11, 12])"
      ]
     },
     "execution_count": 11,
     "metadata": {},
     "output_type": "execute_result"
    }
   ],
   "source": [
    "arr1 = np.arange(1,13)\n",
    "arr1"
   ]
  },
  {
   "cell_type": "markdown",
   "id": "202387a4",
   "metadata": {},
   "source": [
    "b. Create a 3D NumPy array1 with 20 random elements containing integers between 0 and 1."
   ]
  },
  {
   "cell_type": "code",
   "execution_count": 12,
   "id": "8b17711e",
   "metadata": {},
   "outputs": [],
   "source": [
    "import random"
   ]
  },
  {
   "cell_type": "code",
   "execution_count": 14,
   "id": "d5e56006",
   "metadata": {},
   "outputs": [
    {
     "data": {
      "text/plain": [
       "array([[[0.68612717, 0.09339592, 0.85088755, 0.26851174, 0.98918982],\n",
       "        [0.50824608, 0.8648666 , 0.96048357, 0.80002711, 0.73712403],\n",
       "        [0.76668921, 0.43000506, 0.8675711 , 0.24384842, 0.53347692],\n",
       "        [0.58295416, 0.81735869, 0.55757414, 0.31469898, 0.14308958]]])"
      ]
     },
     "execution_count": 14,
     "metadata": {},
     "output_type": "execute_result"
    }
   ],
   "source": [
    "array1 = np.random.rand(20).reshape(1,4,5)\n",
    "array1"
   ]
  },
  {
   "cell_type": "markdown",
   "id": "f3dbe42b",
   "metadata": {},
   "source": [
    "Find all attributes of array1 and array2\n"
   ]
  },
  {
   "cell_type": "code",
   "execution_count": 16,
   "id": "5b72b16d",
   "metadata": {},
   "outputs": [
    {
     "data": {
      "text/plain": [
       "dtype('float64')"
      ]
     },
     "execution_count": 16,
     "metadata": {},
     "output_type": "execute_result"
    }
   ],
   "source": [
    "array1.dtype"
   ]
  },
  {
   "cell_type": "code",
   "execution_count": 17,
   "id": "e55f2540",
   "metadata": {},
   "outputs": [
    {
     "data": {
      "text/plain": [
       "160"
      ]
     },
     "execution_count": 17,
     "metadata": {},
     "output_type": "execute_result"
    }
   ],
   "source": [
    "array1.nbytes"
   ]
  },
  {
   "cell_type": "code",
   "execution_count": 18,
   "id": "e54bf7e4",
   "metadata": {},
   "outputs": [
    {
     "data": {
      "text/plain": [
       "20"
      ]
     },
     "execution_count": 18,
     "metadata": {},
     "output_type": "execute_result"
    }
   ],
   "source": [
    "array1.size"
   ]
  },
  {
   "cell_type": "code",
   "execution_count": 21,
   "id": "a951bf3a",
   "metadata": {},
   "outputs": [
    {
     "data": {
      "text/plain": [
       "8"
      ]
     },
     "execution_count": 21,
     "metadata": {},
     "output_type": "execute_result"
    }
   ],
   "source": [
    "array1.itemsize"
   ]
  },
  {
   "cell_type": "code",
   "execution_count": 22,
   "id": "20545998",
   "metadata": {},
   "outputs": [
    {
     "data": {
      "text/plain": [
       "dtype('int32')"
      ]
     },
     "execution_count": 22,
     "metadata": {},
     "output_type": "execute_result"
    }
   ],
   "source": [
    "arr1.dtype"
   ]
  },
  {
   "cell_type": "code",
   "execution_count": 23,
   "id": "05fb896f",
   "metadata": {},
   "outputs": [
    {
     "data": {
      "text/plain": [
       "48"
      ]
     },
     "execution_count": 23,
     "metadata": {},
     "output_type": "execute_result"
    }
   ],
   "source": [
    "arr1.nbytes"
   ]
  },
  {
   "cell_type": "code",
   "execution_count": 24,
   "id": "a9ba8265",
   "metadata": {},
   "outputs": [
    {
     "data": {
      "text/plain": [
       "4"
      ]
     },
     "execution_count": 24,
     "metadata": {},
     "output_type": "execute_result"
    }
   ],
   "source": [
    "arr1.itemsize"
   ]
  },
  {
   "cell_type": "code",
   "execution_count": 25,
   "id": "3cdc4332",
   "metadata": {},
   "outputs": [
    {
     "data": {
      "text/plain": [
       "12"
      ]
     },
     "execution_count": 25,
     "metadata": {},
     "output_type": "execute_result"
    }
   ],
   "source": [
    "arr1.size"
   ]
  },
  {
   "cell_type": "markdown",
   "id": "ba00cc25",
   "metadata": {},
   "source": [
    "Apply measure and describe the data (attributes and descriptive statistics) to above arrays using NumPy."
   ]
  },
  {
   "cell_type": "markdown",
   "id": "84393634",
   "metadata": {},
   "source": [
    "##### descriptive statistic on arr1"
   ]
  },
  {
   "cell_type": "code",
   "execution_count": 26,
   "id": "0d5fbc9f",
   "metadata": {},
   "outputs": [
    {
     "data": {
      "text/plain": [
       "array([ 1,  2,  3,  4,  5,  6,  7,  8,  9, 10, 11, 12])"
      ]
     },
     "execution_count": 26,
     "metadata": {},
     "output_type": "execute_result"
    }
   ],
   "source": [
    "arr1"
   ]
  },
  {
   "cell_type": "code",
   "execution_count": 28,
   "id": "248e01b5",
   "metadata": {},
   "outputs": [
    {
     "data": {
      "text/plain": [
       "6.5"
      ]
     },
     "execution_count": 28,
     "metadata": {},
     "output_type": "execute_result"
    }
   ],
   "source": [
    "arr1.mean()"
   ]
  },
  {
   "cell_type": "code",
   "execution_count": 30,
   "id": "4bd7f188",
   "metadata": {},
   "outputs": [
    {
     "data": {
      "text/plain": [
       "6.5"
      ]
     },
     "execution_count": 30,
     "metadata": {},
     "output_type": "execute_result"
    }
   ],
   "source": [
    "np.median(arr1)"
   ]
  },
  {
   "cell_type": "code",
   "execution_count": 31,
   "id": "38de2e72",
   "metadata": {},
   "outputs": [
    {
     "data": {
      "text/plain": [
       "11.916666666666666"
      ]
     },
     "execution_count": 31,
     "metadata": {},
     "output_type": "execute_result"
    }
   ],
   "source": [
    "np.var(arr1)"
   ]
  },
  {
   "cell_type": "code",
   "execution_count": 32,
   "id": "7a9e0e1f",
   "metadata": {},
   "outputs": [
    {
     "data": {
      "text/plain": [
       "3.452052529534663"
      ]
     },
     "execution_count": 32,
     "metadata": {},
     "output_type": "execute_result"
    }
   ],
   "source": [
    "np.std(arr1)"
   ]
  },
  {
   "cell_type": "code",
   "execution_count": 39,
   "id": "affc40b1",
   "metadata": {},
   "outputs": [],
   "source": [
    "a = np.min(arr1)"
   ]
  },
  {
   "cell_type": "code",
   "execution_count": 38,
   "id": "52f5fc12",
   "metadata": {},
   "outputs": [],
   "source": [
    "b = np.max(arr1)"
   ]
  },
  {
   "cell_type": "code",
   "execution_count": 40,
   "id": "5a75d0f0",
   "metadata": {},
   "outputs": [
    {
     "data": {
      "text/plain": [
       "11"
      ]
     },
     "execution_count": 40,
     "metadata": {},
     "output_type": "execute_result"
    }
   ],
   "source": [
    "ra = b - a   #range "
   ]
  },
  {
   "cell_type": "code",
   "execution_count": 41,
   "id": "7136e4ae",
   "metadata": {},
   "outputs": [],
   "source": [
    "q1 = np.percentile(arr1,25)"
   ]
  },
  {
   "cell_type": "code",
   "execution_count": 42,
   "id": "fdd20718",
   "metadata": {},
   "outputs": [],
   "source": [
    "q3 = np.percentile(arr1,75)"
   ]
  },
  {
   "cell_type": "code",
   "execution_count": 43,
   "id": "ec4af79b",
   "metadata": {},
   "outputs": [],
   "source": [
    "IQR = q3- q1"
   ]
  },
  {
   "cell_type": "code",
   "execution_count": 45,
   "id": "97877779",
   "metadata": {},
   "outputs": [],
   "source": [
    "lower = q1-(1.5*IQR)\n",
    "upper = q3+(1.5*IQR)"
   ]
  },
  {
   "cell_type": "code",
   "execution_count": 47,
   "id": "2fa255f0",
   "metadata": {},
   "outputs": [
    {
     "data": {
      "text/plain": [
       "array([], dtype=int32)"
      ]
     },
     "execution_count": 47,
     "metadata": {},
     "output_type": "execute_result"
    }
   ],
   "source": [
    "arr1[arr1<lower]"
   ]
  },
  {
   "cell_type": "code",
   "execution_count": 48,
   "id": "97fe8f8d",
   "metadata": {},
   "outputs": [
    {
     "data": {
      "text/plain": [
       "array([], dtype=int32)"
      ]
     },
     "execution_count": 48,
     "metadata": {},
     "output_type": "execute_result"
    }
   ],
   "source": [
    "arr1[arr1>upper]"
   ]
  },
  {
   "cell_type": "markdown",
   "id": "4a31b144",
   "metadata": {},
   "source": [
    "##### descriptive statistics on array1"
   ]
  },
  {
   "cell_type": "code",
   "execution_count": 49,
   "id": "1d632b28",
   "metadata": {},
   "outputs": [
    {
     "data": {
      "text/plain": [
       "array([[[0.68612717, 0.09339592, 0.85088755, 0.26851174, 0.98918982],\n",
       "        [0.50824608, 0.8648666 , 0.96048357, 0.80002711, 0.73712403],\n",
       "        [0.76668921, 0.43000506, 0.8675711 , 0.24384842, 0.53347692],\n",
       "        [0.58295416, 0.81735869, 0.55757414, 0.31469898, 0.14308958]]])"
      ]
     },
     "execution_count": 49,
     "metadata": {},
     "output_type": "execute_result"
    }
   ],
   "source": [
    "array1"
   ]
  },
  {
   "cell_type": "code",
   "execution_count": 50,
   "id": "32bd1913",
   "metadata": {},
   "outputs": [
    {
     "data": {
      "text/plain": [
       "0.600806291275301"
      ]
     },
     "execution_count": 50,
     "metadata": {},
     "output_type": "execute_result"
    }
   ],
   "source": [
    "array1.mean()"
   ]
  },
  {
   "cell_type": "code",
   "execution_count": 51,
   "id": "70484656",
   "metadata": {},
   "outputs": [
    {
     "data": {
      "text/plain": [
       "0.6345406629314067"
      ]
     },
     "execution_count": 51,
     "metadata": {},
     "output_type": "execute_result"
    }
   ],
   "source": [
    "np.median(array1)"
   ]
  },
  {
   "cell_type": "code",
   "execution_count": 54,
   "id": "bc90b1d0",
   "metadata": {},
   "outputs": [],
   "source": [
    "a1 = np.max(array1)\n",
    "b1 = np.min(array1)"
   ]
  },
  {
   "cell_type": "code",
   "execution_count": 56,
   "id": "cebcf886",
   "metadata": {},
   "outputs": [
    {
     "data": {
      "text/plain": [
       "0.8957939012622964"
      ]
     },
     "execution_count": 56,
     "metadata": {},
     "output_type": "execute_result"
    }
   ],
   "source": [
    "r1 = a1-b1\n",
    "r1           #range of array1"
   ]
  },
  {
   "cell_type": "code",
   "execution_count": 57,
   "id": "6d3c847e",
   "metadata": {},
   "outputs": [
    {
     "data": {
      "text/plain": [
       "0.26969723185477756"
      ]
     },
     "execution_count": 57,
     "metadata": {},
     "output_type": "execute_result"
    }
   ],
   "source": [
    "np.std(array1)"
   ]
  },
  {
   "cell_type": "code",
   "execution_count": 58,
   "id": "f9bfb3c3",
   "metadata": {},
   "outputs": [
    {
     "data": {
      "text/plain": [
       "0.07273659687012965"
      ]
     },
     "execution_count": 58,
     "metadata": {},
     "output_type": "execute_result"
    }
   ],
   "source": [
    "np.var(array1)"
   ]
  },
  {
   "cell_type": "code",
   "execution_count": 60,
   "id": "ff2e08e2",
   "metadata": {},
   "outputs": [],
   "source": [
    "q1 = np.percentile(array1,25)\n",
    "q3 = np.percentile(array1,75)"
   ]
  },
  {
   "cell_type": "code",
   "execution_count": 61,
   "id": "cdf78600",
   "metadata": {},
   "outputs": [
    {
     "data": {
      "text/plain": [
       "0.42456236893815524"
      ]
     },
     "execution_count": 61,
     "metadata": {},
     "output_type": "execute_result"
    }
   ],
   "source": [
    "iqr = q3-q1\n",
    "iqr"
   ]
  },
  {
   "cell_type": "code",
   "execution_count": 65,
   "id": "be7c322c",
   "metadata": {},
   "outputs": [],
   "source": [
    "lower1 = q1-(1.5*iqr)\n",
    "upper1 = q3+(1.5*iqr)"
   ]
  },
  {
   "cell_type": "code",
   "execution_count": 67,
   "id": "0630b268",
   "metadata": {},
   "outputs": [
    {
     "data": {
      "text/plain": [
       "array([], dtype=float64)"
      ]
     },
     "execution_count": 67,
     "metadata": {},
     "output_type": "execute_result"
    }
   ],
   "source": [
    "array1[array1<lower1]"
   ]
  },
  {
   "cell_type": "code",
   "execution_count": 69,
   "id": "23b5e51a",
   "metadata": {},
   "outputs": [
    {
     "data": {
      "text/plain": [
       "array([], dtype=float64)"
      ]
     },
     "execution_count": 69,
     "metadata": {},
     "output_type": "execute_result"
    }
   ],
   "source": [
    "array1[array1>upper1]"
   ]
  },
  {
   "cell_type": "markdown",
   "id": "de1105ee",
   "metadata": {},
   "source": [
    "Array Slicing and Indexing:\n",
    "\n",
    "a. Creating Arrays: - Create a 1-dimensional NumPy array arr1 with the values [0, 11, 26, 73, 42, 51, 6,77, 8,29]. - Create a 2-dimensional NumPy array arr2 with the values [[0, 1, 2], [3, 4, 5], [6, 7, 8]].\n"
   ]
  },
  {
   "cell_type": "code",
   "execution_count": 89,
   "id": "16f44ab4",
   "metadata": {},
   "outputs": [],
   "source": [
    "arr1 = np.array([0, 11, 26, 73, 42, 51, 6,77, 8,29])"
   ]
  },
  {
   "cell_type": "code",
   "execution_count": 90,
   "id": "69dcef0c",
   "metadata": {},
   "outputs": [
    {
     "data": {
      "text/plain": [
       "array([[0, 1, 2],\n",
       "       [3, 4, 5],\n",
       "       [6, 7, 8]])"
      ]
     },
     "execution_count": 90,
     "metadata": {},
     "output_type": "execute_result"
    }
   ],
   "source": [
    "arr2 =np.array([[0, 1, 2], [3, 4, 5], [6, 7, 8]])\n",
    "arr2"
   ]
  },
  {
   "cell_type": "markdown",
   "id": "8e6d17ae",
   "metadata": {},
   "source": [
    "b.Basic Indexing: - Print the element at index 3 of arr1. - Print the element at row 2, column 1 of arr2\n",
    "\n"
   ]
  },
  {
   "cell_type": "code",
   "execution_count": 75,
   "id": "d065501e",
   "metadata": {},
   "outputs": [
    {
     "data": {
      "text/plain": [
       "73"
      ]
     },
     "execution_count": 75,
     "metadata": {},
     "output_type": "execute_result"
    }
   ],
   "source": [
    "arr1[3]"
   ]
  },
  {
   "cell_type": "code",
   "execution_count": 76,
   "id": "eb4c39aa",
   "metadata": {},
   "outputs": [
    {
     "data": {
      "text/plain": [
       "3"
      ]
     },
     "execution_count": 76,
     "metadata": {},
     "output_type": "execute_result"
    }
   ],
   "source": [
    "arr2[1][0]"
   ]
  },
  {
   "cell_type": "markdown",
   "id": "007c99bb",
   "metadata": {},
   "source": [
    "c. Array Slicing: - Print the first five elements of arr1. - Print the subarray of arr2 consisting of the last two rows and the first two columns. - Print every second element starting from index 1 up to index 7 of arr1."
   ]
  },
  {
   "cell_type": "code",
   "execution_count": 77,
   "id": "e0a3f020",
   "metadata": {},
   "outputs": [
    {
     "data": {
      "text/plain": [
       "array([ 0, 11, 26, 73, 42])"
      ]
     },
     "execution_count": 77,
     "metadata": {},
     "output_type": "execute_result"
    }
   ],
   "source": [
    "arr1[0:5]"
   ]
  },
  {
   "cell_type": "code",
   "execution_count": 78,
   "id": "9bcec05c",
   "metadata": {},
   "outputs": [
    {
     "data": {
      "text/plain": [
       "array([[0, 1, 2],\n",
       "       [3, 4, 5],\n",
       "       [6, 7, 8]])"
      ]
     },
     "execution_count": 78,
     "metadata": {},
     "output_type": "execute_result"
    }
   ],
   "source": [
    "arr2"
   ]
  },
  {
   "cell_type": "code",
   "execution_count": 79,
   "id": "c4332d8d",
   "metadata": {},
   "outputs": [
    {
     "data": {
      "text/plain": [
       "array([[3, 4],\n",
       "       [6, 7]])"
      ]
     },
     "execution_count": 79,
     "metadata": {},
     "output_type": "execute_result"
    }
   ],
   "source": [
    "arr2[1:3,0:2]"
   ]
  },
  {
   "cell_type": "code",
   "execution_count": 80,
   "id": "3295e122",
   "metadata": {},
   "outputs": [
    {
     "data": {
      "text/plain": [
       "array([11, 26, 73, 42, 51,  6, 77])"
      ]
     },
     "execution_count": 80,
     "metadata": {},
     "output_type": "execute_result"
    }
   ],
   "source": [
    "arr1[1:8]"
   ]
  },
  {
   "cell_type": "markdown",
   "id": "7a662e36",
   "metadata": {},
   "source": [
    "a. Creating Arrays with Specific Data Types: - Create a 1-dimensional NumPy array int_array with the values [1, 2, 3, 4, 5] and the data type int16. - Create a 1-dimensional NumPy array float_array with the values [0.1, 0.2, 0.3, 0.4, 0.5] and the data type float64.\n"
   ]
  },
  {
   "cell_type": "code",
   "execution_count": 81,
   "id": "fb4a10cb",
   "metadata": {},
   "outputs": [],
   "source": [
    "int_array = np.array([1, 2, 3, 4, 5], dtype = 'int16')"
   ]
  },
  {
   "cell_type": "code",
   "execution_count": 82,
   "id": "8787d65a",
   "metadata": {},
   "outputs": [
    {
     "data": {
      "text/plain": [
       "dtype('int16')"
      ]
     },
     "execution_count": 82,
     "metadata": {},
     "output_type": "execute_result"
    }
   ],
   "source": [
    "int_array.dtype"
   ]
  },
  {
   "cell_type": "code",
   "execution_count": 83,
   "id": "78c4e5fc",
   "metadata": {},
   "outputs": [],
   "source": [
    "float_array = np.array([0.1, 0.2, 0.3, 0.4, 0.5], dtype = 'float64')"
   ]
  },
  {
   "cell_type": "code",
   "execution_count": 84,
   "id": "c01ad8ac",
   "metadata": {},
   "outputs": [
    {
     "data": {
      "text/plain": [
       "dtype('float64')"
      ]
     },
     "execution_count": 84,
     "metadata": {},
     "output_type": "execute_result"
    }
   ],
   "source": [
    "float_array.dtype"
   ]
  },
  {
   "cell_type": "markdown",
   "id": "257815b7",
   "metadata": {},
   "source": [
    "b. Data Type Conversion: - Convert the float_array to an array with data type int32. Print the result. - Convert the int_array to an array with data type float32. Print the result."
   ]
  },
  {
   "cell_type": "code",
   "execution_count": 73,
   "id": "5c6a330c",
   "metadata": {},
   "outputs": [],
   "source": [
    "float_int = float_array.astype(np.int32)"
   ]
  },
  {
   "cell_type": "code",
   "execution_count": 74,
   "id": "2a6b03de",
   "metadata": {},
   "outputs": [
    {
     "data": {
      "text/plain": [
       "dtype('int32')"
      ]
     },
     "execution_count": 74,
     "metadata": {},
     "output_type": "execute_result"
    }
   ],
   "source": [
    "float_int.dtype"
   ]
  },
  {
   "cell_type": "code",
   "execution_count": 75,
   "id": "04d28e75",
   "metadata": {},
   "outputs": [],
   "source": [
    "int_float = int_array.astype(np.float32)"
   ]
  },
  {
   "cell_type": "code",
   "execution_count": 76,
   "id": "1d102180",
   "metadata": {},
   "outputs": [
    {
     "data": {
      "text/plain": [
       "array([1., 2., 3., 4., 5.], dtype=float32)"
      ]
     },
     "execution_count": 76,
     "metadata": {},
     "output_type": "execute_result"
    }
   ],
   "source": [
    "int_float"
   ]
  },
  {
   "cell_type": "markdown",
   "id": "16bb12d9",
   "metadata": {},
   "source": [
    "Generating Random Numbers:\n",
    "\n",
    "Use numpy.random.randint() to create an array rand_integers containing 10 random integers between 0 and 100 (inclusive).\n"
   ]
  },
  {
   "cell_type": "code",
   "execution_count": 80,
   "id": "627e4883",
   "metadata": {},
   "outputs": [],
   "source": [
    "import random"
   ]
  },
  {
   "cell_type": "code",
   "execution_count": 88,
   "id": "60f09450",
   "metadata": {},
   "outputs": [
    {
     "data": {
      "text/plain": [
       "array([62, 11, 34,  8, 97, 11, 63, 56, 41, 16])"
      ]
     },
     "execution_count": 88,
     "metadata": {},
     "output_type": "execute_result"
    }
   ],
   "source": [
    "rand_integers = np.random.randint(0,100,10)\n",
    "rand_integers"
   ]
  },
  {
   "cell_type": "markdown",
   "id": "8ea989cf",
   "metadata": {},
   "source": [
    "Use numpy.random.uniform() to create an array rand_uniform containing 5 random numbers sampled from a uniform distribution between -1 and 1.\n"
   ]
  },
  {
   "cell_type": "code",
   "execution_count": 87,
   "id": "32a1728f",
   "metadata": {},
   "outputs": [
    {
     "data": {
      "text/plain": [
       "array([ 0.49854977, -0.38045989,  0.31664605,  0.61406167, -0.90072602])"
      ]
     },
     "execution_count": 87,
     "metadata": {},
     "output_type": "execute_result"
    }
   ],
   "source": [
    "rand_uniform = np.random.uniform(-1,1,5)\n",
    "rand_uniform"
   ]
  },
  {
   "cell_type": "markdown",
   "id": "33ce0923",
   "metadata": {},
   "source": [
    "Create an array rand_matrix with random integers between 50 and 100 (inclusive).and reshape it to 2-dimensional (4 x 4) matrix\n"
   ]
  },
  {
   "cell_type": "code",
   "execution_count": 86,
   "id": "f20b0e3d",
   "metadata": {},
   "outputs": [
    {
     "data": {
      "text/plain": [
       "array([[92, 59, 81, 98],\n",
       "       [99, 73, 55, 80],\n",
       "       [93, 72, 86, 89],\n",
       "       [76, 91, 87, 79]])"
      ]
     },
     "execution_count": 86,
     "metadata": {},
     "output_type": "execute_result"
    }
   ],
   "source": [
    "rand_matrix = np.random.randint(50,101,16).reshape(4,4)\n",
    "rand_matrix"
   ]
  },
  {
   "cell_type": "markdown",
   "id": "6d8f8112",
   "metadata": {},
   "source": [
    "Apply descriptive statistics for rand_matrix."
   ]
  },
  {
   "cell_type": "code",
   "execution_count": 91,
   "id": "713ab837",
   "metadata": {},
   "outputs": [
    {
     "data": {
      "text/plain": [
       "81.875"
      ]
     },
     "execution_count": 91,
     "metadata": {},
     "output_type": "execute_result"
    }
   ],
   "source": [
    "rand_matrix.mean()"
   ]
  },
  {
   "cell_type": "code",
   "execution_count": 94,
   "id": "8be2b9a9",
   "metadata": {},
   "outputs": [
    {
     "data": {
      "text/plain": [
       "83.5"
      ]
     },
     "execution_count": 94,
     "metadata": {},
     "output_type": "execute_result"
    }
   ],
   "source": [
    "np.median(rand_matrix)"
   ]
  },
  {
   "cell_type": "code",
   "execution_count": 95,
   "id": "817eeb91",
   "metadata": {},
   "outputs": [
    {
     "data": {
      "text/plain": [
       "151.609375"
      ]
     },
     "execution_count": 95,
     "metadata": {},
     "output_type": "execute_result"
    }
   ],
   "source": [
    "np.var(rand_matrix)"
   ]
  },
  {
   "cell_type": "code",
   "execution_count": 96,
   "id": "abcd8a93",
   "metadata": {},
   "outputs": [
    {
     "data": {
      "text/plain": [
       "12.312975879128489"
      ]
     },
     "execution_count": 96,
     "metadata": {},
     "output_type": "execute_result"
    }
   ],
   "source": [
    "np.std(rand_matrix)"
   ]
  },
  {
   "cell_type": "code",
   "execution_count": 98,
   "id": "340e5379",
   "metadata": {},
   "outputs": [],
   "source": [
    "q1 = np.percentile(rand_matrix,25)\n",
    "q3 = np.percentile(rand_matrix,75)"
   ]
  },
  {
   "cell_type": "code",
   "execution_count": 100,
   "id": "68fdf809",
   "metadata": {},
   "outputs": [
    {
     "data": {
      "text/plain": [
       "16.0"
      ]
     },
     "execution_count": 100,
     "metadata": {},
     "output_type": "execute_result"
    }
   ],
   "source": [
    "iqr = q3-q1\n",
    "iqr"
   ]
  },
  {
   "cell_type": "code",
   "execution_count": 101,
   "id": "a85b0eae",
   "metadata": {},
   "outputs": [],
   "source": [
    "lower = 25-(1.5*iqr)\n",
    "upper = 75+(1.5*iqr)"
   ]
  },
  {
   "cell_type": "code",
   "execution_count": 102,
   "id": "d2aace4a",
   "metadata": {},
   "outputs": [
    {
     "data": {
      "text/plain": [
       "array([], dtype=int32)"
      ]
     },
     "execution_count": 102,
     "metadata": {},
     "output_type": "execute_result"
    }
   ],
   "source": [
    "rand_matrix[rand_matrix<lower]"
   ]
  },
  {
   "cell_type": "code",
   "execution_count": 103,
   "id": "88f2a1af",
   "metadata": {},
   "outputs": [
    {
     "data": {
      "text/plain": [
       "array([], dtype=int32)"
      ]
     },
     "execution_count": 103,
     "metadata": {},
     "output_type": "execute_result"
    }
   ],
   "source": [
    "rand_matrix[rand_matrix>upper]"
   ]
  },
  {
   "cell_type": "markdown",
   "id": "a49fd5ff",
   "metadata": {},
   "source": [
    "Analyze the Data:\n",
    "\n",
    "Salaries = [87877, 54494, 54804, 85051, 52453, 31250, 94868, 66349, 39828, 60501, 58570, 74906, 41671, 51428, 56414, 98446, 56819, 82833, 50477, 62898, 99658, 89224, 34225, 79172, 32199, 63795, 90947, 55723, 64557, 3113638]\n",
    "\n"
   ]
  },
  {
   "cell_type": "code",
   "execution_count": 104,
   "id": "09df97f4",
   "metadata": {},
   "outputs": [],
   "source": [
    "salaries = np.array([87877, 54494, 54804, 85051, 52453, 31250, 94868, 66349, 39828, 60501, 58570, 74906, 41671, 51428, 56414, 98446, 56819, 82833, 50477, 62898, 99658, 89224, 34225, 79172, 32199, 63795, 90947, 55723, 64557, 3113638])"
   ]
  },
  {
   "cell_type": "markdown",
   "id": "c9a1d49b",
   "metadata": {},
   "source": [
    "Describe the data using numpy array. Measure the following: 1. How many employees are getting more less than 50000?\n",
    "\n"
   ]
  },
  {
   "cell_type": "code",
   "execution_count": 106,
   "id": "2f9e6d75",
   "metadata": {},
   "outputs": [
    {
     "data": {
      "text/plain": [
       "array([31250, 39828, 41671, 34225, 32199])"
      ]
     },
     "execution_count": 106,
     "metadata": {},
     "output_type": "execute_result"
    }
   ],
   "source": [
    "salaries[salaries<50000]"
   ]
  },
  {
   "cell_type": "markdown",
   "id": "d3121c6c",
   "metadata": {},
   "source": [
    "What is the median salary?\n"
   ]
  },
  {
   "cell_type": "code",
   "execution_count": 107,
   "id": "3e3f41bf",
   "metadata": {},
   "outputs": [
    {
     "data": {
      "text/plain": [
       "61699.5"
      ]
     },
     "execution_count": 107,
     "metadata": {},
     "output_type": "execute_result"
    }
   ],
   "source": [
    "np.median(salaries)"
   ]
  },
  {
   "cell_type": "code",
   "execution_count": 109,
   "id": "8b346b1e",
   "metadata": {},
   "outputs": [
    {
     "data": {
      "text/plain": [
       "3082388"
      ]
     },
     "execution_count": 109,
     "metadata": {},
     "output_type": "execute_result"
    }
   ],
   "source": [
    "r = max(salaries) - min(salaries)\n",
    "r   #range"
   ]
  },
  {
   "cell_type": "code",
   "execution_count": 111,
   "id": "f5352fa1",
   "metadata": {},
   "outputs": [
    {
     "data": {
      "text/plain": [
       "299951833234.73895"
      ]
     },
     "execution_count": 111,
     "metadata": {},
     "output_type": "execute_result"
    }
   ],
   "source": [
    "np.var(salaries)"
   ]
  },
  {
   "cell_type": "code",
   "execution_count": 118,
   "id": "4f543257",
   "metadata": {},
   "outputs": [],
   "source": [
    "average = np.mean(salaries)"
   ]
  },
  {
   "cell_type": "code",
   "execution_count": 113,
   "id": "9483430e",
   "metadata": {},
   "outputs": [
    {
     "data": {
      "text/plain": [
       "31533.25"
      ]
     },
     "execution_count": 113,
     "metadata": {},
     "output_type": "execute_result"
    }
   ],
   "source": [
    "q1 = np.percentile(salaries,25)\n",
    "q3 = np.percentile(salaries,75)\n",
    "iqr = q3-q1\n",
    "iqr"
   ]
  },
  {
   "cell_type": "code",
   "execution_count": 121,
   "id": "e443eb5a",
   "metadata": {},
   "outputs": [
    {
     "data": {
      "text/plain": [
       "array([3113638])"
      ]
     },
     "execution_count": 121,
     "metadata": {},
     "output_type": "execute_result"
    }
   ],
   "source": [
    "salaries[(salaries > average) & (salaries >= q3)]"
   ]
  },
  {
   "cell_type": "code",
   "execution_count": 120,
   "id": "2214ef52",
   "metadata": {},
   "outputs": [
    {
     "data": {
      "text/plain": [
       "array([52453, 31250, 39828, 41671, 51428, 50477, 34225, 32199])"
      ]
     },
     "execution_count": 120,
     "metadata": {},
     "output_type": "execute_result"
    }
   ],
   "source": [
    "salaries[salaries<q1]"
   ]
  },
  {
   "cell_type": "code",
   "execution_count": 113,
   "id": "e9947405",
   "metadata": {},
   "outputs": [
    {
     "data": {
      "text/plain": [
       "31533.25"
      ]
     },
     "execution_count": 113,
     "metadata": {},
     "output_type": "execute_result"
    }
   ],
   "source": [
    "q1 = np.percentile(salaries,25)\n",
    "q3 = np.percentile(salaries,75)\n",
    "iqr = q3-q1\n",
    "iqr"
   ]
  },
  {
   "cell_type": "code",
   "execution_count": 122,
   "id": "d9218e57",
   "metadata": {},
   "outputs": [],
   "source": [
    "lower = q1-(1.5*iqr)\n",
    "upper = q3+(1.5*iqr)"
   ]
  },
  {
   "cell_type": "code",
   "execution_count": 124,
   "id": "a8596c51",
   "metadata": {},
   "outputs": [
    {
     "data": {
      "text/plain": [
       "array([3113638])"
      ]
     },
     "execution_count": 124,
     "metadata": {},
     "output_type": "execute_result"
    }
   ],
   "source": [
    "salaries[salaries>upper]"
   ]
  },
  {
   "cell_type": "code",
   "execution_count": 125,
   "id": "beddf367",
   "metadata": {},
   "outputs": [
    {
     "data": {
      "text/plain": [
       "array([], dtype=int32)"
      ]
     },
     "execution_count": 125,
     "metadata": {},
     "output_type": "execute_result"
    }
   ],
   "source": [
    "salaries[salaries<lower]"
   ]
  },
  {
   "cell_type": "code",
   "execution_count": null,
   "id": "d70374ab",
   "metadata": {},
   "outputs": [],
   "source": []
  }
 ],
 "metadata": {
  "kernelspec": {
   "display_name": "Python 3 (ipykernel)",
   "language": "python",
   "name": "python3"
  },
  "language_info": {
   "codemirror_mode": {
    "name": "ipython",
    "version": 3
   },
   "file_extension": ".py",
   "mimetype": "text/x-python",
   "name": "python",
   "nbconvert_exporter": "python",
   "pygments_lexer": "ipython3",
   "version": "3.11.4"
  }
 },
 "nbformat": 4,
 "nbformat_minor": 5
}
