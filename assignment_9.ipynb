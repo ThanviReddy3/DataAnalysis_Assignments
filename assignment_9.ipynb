{
 "cells": [
  {
   "cell_type": "markdown",
   "id": "dd8718fa",
   "metadata": {
    "id": "dd8718fa"
   },
   "source": [
    "\n",
    "\n",
    "1. **Print Numbers from 1 to N:**\n",
    "   Write a Python program that uses a for loop to print all numbers from `1 to N` and `substract 5 `from each number.where N is a `positive integer` entered by the user.\n",
    "\n",
    "2. **Calculate the Sum of Numbers from 1 to N:**\n",
    "   Write a Python program that calculates and prints the `sum` of all numbers from `1 to N`, where N is a `positive integer` entered by the user, using a for loop.\n",
    "\n",
    "3. **Print Even Numbers:**\n",
    "   Write a Python program that prints all `even numbers` from `50 to 100` using a `for` loop.\n",
    "\n",
    "4. **Reverse a String:**\n",
    "   Write a Python program that takes a string as input and uses a `for loop` to print the characters of the string in `reverse order`.\n",
    "\n",
    "5. **Count Vowels in a String:**\n",
    "    `name = \"innomatics research labs\"`\n",
    "   Write a Python program uses a for loop to count the number of vowels (a, e, i, o, u) in the string. Ignore case sensitivity.\n",
    "\n",
    "6. **Generate a Multiplication Table:**\n",
    "   Write a Python program that generates and prints the multiplication table for  6.\n"
   ]
  },
  {
   "cell_type": "markdown",
   "id": "d65bb93b",
   "metadata": {},
   "source": [
    "Print Numbers from 1 to N: Write a Python program that uses a for loop to print all numbers from 1 to N and substract 5 from each number.where N is a positive integer entered by the user."
   ]
  },
  {
   "cell_type": "code",
   "execution_count": null,
   "id": "2531363c",
   "metadata": {
    "colab": {
     "base_uri": "https://localhost:8080/"
    },
    "id": "2531363c",
    "outputId": "14717c22-5bf9-4c84-83eb-b1f17075e9e4"
   },
   "outputs": [
    {
     "name": "stdout",
     "output_type": "stream",
     "text": [
      "enter a positive number20\n"
     ]
    }
   ],
   "source": [
    "n = int(input(\"enter a positive number\"))"
   ]
  },
  {
   "cell_type": "code",
   "execution_count": null,
   "id": "YcALTUyMCLUS",
   "metadata": {
    "colab": {
     "base_uri": "https://localhost:8080/"
    },
    "id": "YcALTUyMCLUS",
    "outputId": "25cf9b87-8b38-4c65-89f5-19301aaa4c5f"
   },
   "outputs": [
    {
     "name": "stdout",
     "output_type": "stream",
     "text": [
      "-4\n",
      "-3\n",
      "-2\n",
      "-1\n",
      "0\n",
      "1\n",
      "2\n",
      "3\n",
      "4\n",
      "5\n",
      "6\n",
      "7\n",
      "8\n",
      "9\n",
      "10\n",
      "11\n",
      "12\n",
      "13\n",
      "14\n"
     ]
    }
   ],
   "source": [
    "for i in range(1, n):\n",
    "     print(i - 5)"
   ]
  },
  {
   "cell_type": "markdown",
   "id": "7b1dc337",
   "metadata": {},
   "source": [
    "Calculate the Sum of Numbers from 1 to N: Write a Python program that calculates and prints the sum of all numbers from 1 to N, where N is a positive integer entered by the user, using a for loop."
   ]
  },
  {
   "cell_type": "code",
   "execution_count": null,
   "id": "0IyeC2fXF84N",
   "metadata": {
    "id": "0IyeC2fXF84N"
   },
   "outputs": [],
   "source": [
    "sum = 0"
   ]
  },
  {
   "cell_type": "code",
   "execution_count": null,
   "id": "hlZLlEu-EjOG",
   "metadata": {
    "colab": {
     "base_uri": "https://localhost:8080/"
    },
    "id": "hlZLlEu-EjOG",
    "outputId": "c67b7c23-6876-4fe8-c9bd-cf3b879080e7"
   },
   "outputs": [
    {
     "name": "stdout",
     "output_type": "stream",
     "text": [
      "enter a positive integer4\n"
     ]
    }
   ],
   "source": [
    "num = int(input(\"enter a positive integer\"))"
   ]
  },
  {
   "cell_type": "code",
   "execution_count": null,
   "id": "Rj30e5zKEjyt",
   "metadata": {
    "colab": {
     "base_uri": "https://localhost:8080/"
    },
    "id": "Rj30e5zKEjyt",
    "outputId": "f37417f4-a0e8-410c-99e6-e5680257adc6"
   },
   "outputs": [
    {
     "name": "stdout",
     "output_type": "stream",
     "text": [
      "16\n"
     ]
    }
   ],
   "source": [
    "for i in range(1, num+1):\n",
    "    sum = sum + i\n",
    "print(sum)"
   ]
  },
  {
   "cell_type": "markdown",
   "id": "4b3cffeb",
   "metadata": {},
   "source": [
    "Print Even Numbers: Write a Python program that prints all even numbers from 50 to 100 using a for loop."
   ]
  },
  {
   "cell_type": "code",
   "execution_count": null,
   "id": "_Y776Xf8CLmt",
   "metadata": {
    "colab": {
     "base_uri": "https://localhost:8080/"
    },
    "id": "_Y776Xf8CLmt",
    "outputId": "ccfb5f56-9b97-402d-fc6c-c503daff901e"
   },
   "outputs": [
    {
     "name": "stdout",
     "output_type": "stream",
     "text": [
      "50\n",
      "52\n",
      "54\n",
      "56\n",
      "58\n",
      "60\n",
      "62\n",
      "64\n",
      "66\n",
      "68\n",
      "70\n",
      "72\n",
      "74\n",
      "76\n",
      "78\n",
      "80\n",
      "82\n",
      "84\n",
      "86\n",
      "88\n",
      "90\n",
      "92\n",
      "94\n",
      "96\n",
      "98\n"
     ]
    }
   ],
   "source": [
    "for i in range(50,100):\n",
    "      if (i%2 == 0):\n",
    "             print(i)\n"
   ]
  },
  {
   "cell_type": "markdown",
   "id": "51e8ddb9",
   "metadata": {},
   "source": [
    " **Reverse a String:**\n",
    "   Write a Python program that takes a string as input and uses a `for loop` to print the characters of the string in `reverse order`.\n"
   ]
  },
  {
   "cell_type": "code",
   "execution_count": null,
   "id": "n_oCX7DnCLpZ",
   "metadata": {
    "colab": {
     "base_uri": "https://localhost:8080/"
    },
    "id": "n_oCX7DnCLpZ",
    "outputId": "d5019922-6965-4525-d1e8-e9eee1ae720d"
   },
   "outputs": [
    {
     "name": "stdout",
     "output_type": "stream",
     "text": [
      "enter a stringHello Hyderabad\n"
     ]
    }
   ],
   "source": [
    "string = input(\"enter a string\")\n"
   ]
  },
  {
   "cell_type": "code",
   "execution_count": null,
   "id": "EbvoqAPKHWIu",
   "metadata": {
    "colab": {
     "base_uri": "https://localhost:8080/"
    },
    "id": "EbvoqAPKHWIu",
    "outputId": "ec6383ae-1792-4114-91aa-20af1b41a9ba"
   },
   "outputs": [
    {
     "name": "stdout",
     "output_type": "stream",
     "text": [
      "d\n",
      "a\n",
      "b\n",
      "a\n",
      "r\n",
      "e\n",
      "d\n",
      "y\n",
      "H\n",
      " \n",
      "o\n",
      "l\n",
      "l\n",
      "e\n",
      "H\n"
     ]
    }
   ],
   "source": [
    "for i in string[-1::-1]:\n",
    "      print(i)"
   ]
  },
  {
   "cell_type": "markdown",
   "id": "801d295e",
   "metadata": {},
   "source": [
    "\n",
    "5. **Count Vowels in a String:**\n",
    "    `name = \"innomatics research labs\"`\n",
    "   Write a Python program uses a for loop to count the number of vowels (a, e, i, o, u) in the string. Ignore case sensitivity.\n"
   ]
  },
  {
   "cell_type": "code",
   "execution_count": 2,
   "id": "Hb0skHuIIBIB",
   "metadata": {
    "id": "Hb0skHuIIBIB"
   },
   "outputs": [],
   "source": [
    "name = \"innomatics research labs\""
   ]
  },
  {
   "cell_type": "code",
   "execution_count": 3,
   "id": "HReWUTY8IHdC",
   "metadata": {
    "colab": {
     "base_uri": "https://localhost:8080/"
    },
    "id": "HReWUTY8IHdC",
    "outputId": "c1021a1b-7ff6-4bfb-afb8-4902e2d59d64"
   },
   "outputs": [
    {
     "name": "stdout",
     "output_type": "stream",
     "text": [
      "i\n",
      "o\n",
      "a\n",
      "i\n",
      "e\n",
      "e\n",
      "a\n",
      "a\n"
     ]
    }
   ],
   "source": [
    "for i in name:\n",
    "     if i in (\"a\", \"e\", \"i\" , \"o\" , \"u\"):\n",
    "        print(i)"
   ]
  },
  {
   "cell_type": "markdown",
   "id": "adc72fac",
   "metadata": {},
   "source": [
    "6. **Generate a Multiplication Table:**\n",
    "   Write a Python program that generates and prints the multiplication table for  6.\n"
   ]
  },
  {
   "cell_type": "code",
   "execution_count": 5,
   "id": "vZGIoC1QJLm4",
   "metadata": {
    "colab": {
     "base_uri": "https://localhost:8080/"
    },
    "id": "vZGIoC1QJLm4",
    "outputId": "c6150f15-ee01-456e-fd48-baa7acae70f4"
   },
   "outputs": [
    {
     "name": "stdout",
     "output_type": "stream",
     "text": [
      " 6 * 1 == 6\n",
      " 6 * 2 == 12\n",
      " 6 * 3 == 18\n",
      " 6 * 4 == 24\n",
      " 6 * 5 == 30\n",
      " 6 * 6 == 36\n",
      " 6 * 7 == 42\n",
      " 6 * 8 == 48\n",
      " 6 * 9 == 54\n",
      " 6 * 10 == 60\n"
     ]
    }
   ],
   "source": [
    "num = 6\n",
    "for i in range(1,11):\n",
    "    print(f\" {num} * {i} == {i*6}\")"
   ]
  },
  {
   "cell_type": "code",
   "execution_count": null,
   "id": "2997c2b0",
   "metadata": {},
   "outputs": [],
   "source": []
  }
 ],
 "metadata": {
  "colab": {
   "provenance": []
  },
  "kernelspec": {
   "display_name": "Python 3 (ipykernel)",
   "language": "python",
   "name": "python3"
  },
  "language_info": {
   "codemirror_mode": {
    "name": "ipython",
    "version": 3
   },
   "file_extension": ".py",
   "mimetype": "text/x-python",
   "name": "python",
   "nbconvert_exporter": "python",
   "pygments_lexer": "ipython3",
   "version": "3.11.4"
  }
 },
 "nbformat": 4,
 "nbformat_minor": 5
}
