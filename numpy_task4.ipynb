{
 "cells": [
  {
   "cell_type": "markdown",
   "id": "6b23631a",
   "metadata": {},
   "source": [
    "1. clean the data(outlier,missing values,type conversion)\n",
    "2. What is the mean value of sepal length\n",
    "3. sort the sepal width in ascending order.\n",
    "4. apply all statistical measures on  sepal width and length\n",
    "5. after cleaning the data ,save the file as 'cleaned_iris.txt' and load to jupyter again to display the values"
   ]
  },
  {
   "cell_type": "code",
   "execution_count": 1,
   "id": "f289739b",
   "metadata": {},
   "outputs": [],
   "source": [
    "import numpy as np"
   ]
  },
  {
   "cell_type": "code",
   "execution_count": 2,
   "id": "d11649c6",
   "metadata": {},
   "outputs": [],
   "source": [
    "a = np.genfromtxt(r'C:\\Users\\india\\Downloads\\iris_clean_-_Copy.csv',dtype ='float16',delimiter = ',')"
   ]
  },
  {
   "cell_type": "code",
   "execution_count": 3,
   "id": "c3fa1955",
   "metadata": {},
   "outputs": [
    {
     "data": {
      "text/plain": [
       "array([[      nan,       nan,       nan,       nan],\n",
       "       [5.102e+00, 3.500e+00, 1.400e+00, 2.000e-01],\n",
       "       [4.898e+00, 3.000e+00, 1.400e+00, 2.000e-01],\n",
       "       [4.699e+00, 3.199e+00, 1.300e+00, 2.000e-01],\n",
       "       [4.602e+00, 3.100e+00, 1.500e+00, 1.020e+01],\n",
       "       [5.000e+01, 3.600e+00, 1.400e+00, 2.000e-01],\n",
       "       [5.398e+00,       nan, 1.700e+00, 3.999e-01],\n",
       "       [4.602e+00, 3.400e+00, 1.400e+00, 3.000e-01],\n",
       "       [5.000e+00, 3.400e+00, 1.500e+00, 2.000e-01],\n",
       "       [4.398e+00, 2.900e+00, 1.400e+00, 2.000e-01],\n",
       "       [4.898e+00, 3.100e+00,       nan, 9.998e-02],\n",
       "       [5.398e+00, 3.699e+00, 1.500e+00, 2.000e-01],\n",
       "       [4.801e+00, 3.400e+00, 1.600e+00, 2.000e-01],\n",
       "       [4.801e+00, 1.300e+02, 1.400e+00, 1.010e+01],\n",
       "       [4.301e+00, 3.000e+00, 1.100e+00, 9.998e-02],\n",
       "       [5.801e+00, 4.000e+00, 1.200e+00, 2.000e-01],\n",
       "       [5.699e+00, 4.398e+00, 1.500e+00, 3.999e-01],\n",
       "       [5.041e+01,       nan, 1.300e+00, 3.999e-01],\n",
       "       [5.102e+00, 3.500e+00, 1.400e+00, 3.000e-01],\n",
       "       [5.699e+00, 3.801e+00, 1.700e+00, 3.000e-01],\n",
       "       [5.102e+00, 3.801e+00, 1.500e+00, 3.000e-01],\n",
       "       [5.398e+00, 3.400e+00, 1.700e+00, 2.000e-01],\n",
       "       [5.102e+00, 3.699e+00, 1.500e+00, 3.999e-01],\n",
       "       [4.602e+00, 3.600e+00, 1.000e+00, 2.000e-01],\n",
       "       [5.102e+00, 3.301e+00, 1.700e+00, 5.000e-01],\n",
       "       [4.801e+00, 3.400e+00, 1.900e+00, 2.000e-01],\n",
       "       [5.000e+00, 3.000e+00, 1.600e+00, 2.000e-01],\n",
       "       [5.000e+00, 3.400e+01, 1.600e+00, 3.999e-01],\n",
       "       [5.199e+00, 3.500e+00, 1.500e+00, 2.000e-01],\n",
       "       [5.199e+00, 3.400e+00, 1.400e+00, 1.102e+02],\n",
       "       [4.699e+00, 3.199e+00, 1.600e+00, 2.000e-01],\n",
       "       [4.801e+00, 3.100e+00, 1.600e+00, 2.000e-01],\n",
       "       [5.398e+00, 3.400e+00, 1.500e+00, 3.999e-01],\n",
       "       [5.199e+00, 4.102e+00, 1.500e+00, 9.998e-02],\n",
       "       [5.500e+00, 4.199e+00, 1.400e+00, 2.000e-01],\n",
       "       [4.898e+00, 3.100e+00, 1.500e+00, 9.998e-02],\n",
       "       [5.000e+00, 3.199e+00, 1.200e+00, 2.000e-01],\n",
       "       [5.500e+00, 3.500e+00, 1.300e+00, 2.000e-01],\n",
       "       [4.898e+00, 3.100e+00, 1.500e+00, 9.998e-02],\n",
       "       [4.398e+00, 3.000e+00, 1.300e+00, 2.000e-01],\n",
       "       [5.102e+00, 3.400e+00, 1.500e+00, 2.000e-01],\n",
       "       [5.000e+00, 3.500e+00, 1.300e+00, 3.000e-01],\n",
       "       [4.500e+00, 2.301e+00, 1.300e+01, 3.000e-01],\n",
       "       [4.398e+00, 3.199e+00, 1.300e+00, 2.000e-01],\n",
       "       [5.000e+00, 3.500e+00, 1.600e+00, 6.001e-01],\n",
       "       [5.102e+00, 3.801e+00, 1.900e+00, 3.999e-01],\n",
       "       [4.801e+00, 3.000e+00, 1.400e+00, 3.000e-01],\n",
       "       [5.102e+00, 3.801e+00, 1.600e+00, 2.000e-01],\n",
       "       [4.602e+00, 3.199e+00, 1.400e+00, 2.000e-01],\n",
       "       [5.301e+00, 3.699e+00, 1.500e+00, 2.000e-01],\n",
       "       [5.000e+00, 3.301e+00, 1.400e+00, 2.000e-01],\n",
       "       [7.000e+00, 3.199e+00, 4.699e+00, 1.400e+00],\n",
       "       [6.398e+00, 3.199e+00, 4.500e+00, 1.500e+00],\n",
       "       [6.898e+00,       nan, 4.898e+00, 1.500e+00],\n",
       "       [5.500e+00, 2.301e+00, 4.000e+00, 1.300e+00],\n",
       "       [6.500e+00, 2.801e+00, 4.602e+00, 1.500e+00],\n",
       "       [5.699e+00, 2.801e+00, 4.500e+00, 1.300e+00],\n",
       "       [1.163e+02, 3.301e+00, 4.699e+00, 1.600e+00],\n",
       "       [4.898e+00, 2.400e+00, 3.301e+00, 1.600e+01],\n",
       "       [6.602e+00, 2.900e+00, 4.602e+00, 1.300e+00],\n",
       "       [5.199e+00, 2.699e+00, 3.900e+00, 1.400e+00],\n",
       "       [5.000e+00, 2.000e+00, 3.500e+00, 1.000e+00],\n",
       "       [5.898e+00, 3.000e+00, 4.199e+00, 1.500e+00],\n",
       "       [6.000e+00, 2.199e+00, 4.000e+00, 1.000e+00],\n",
       "       [6.102e+00, 2.900e+00, 4.699e+00, 1.400e+00],\n",
       "       [5.602e+00, 2.900e+00, 3.600e+00, 1.300e+00],\n",
       "       [6.699e+00, 3.100e+00, 4.398e+00, 1.400e+00],\n",
       "       [5.602e+00, 3.000e+00, 4.500e+00, 1.500e+00],\n",
       "       [5.801e+00, 2.699e+00, 4.102e+00, 1.000e+00],\n",
       "       [6.199e+00, 2.199e+00, 4.500e+00, 1.500e+00],\n",
       "       [5.602e+00, 2.500e+00, 3.900e+00, 1.100e+00],\n",
       "       [5.898e+00, 3.199e+00, 4.801e+00, 1.800e+00],\n",
       "       [6.102e+00, 2.801e+00, 4.000e+00, 1.300e+00],\n",
       "       [6.301e+00, 2.500e+00, 4.898e+00, 1.500e+00],\n",
       "       [6.102e+00,       nan, 4.699e+00, 1.200e+00],\n",
       "       [6.398e+00, 2.900e+00, 4.301e+00, 1.300e+00],\n",
       "       [6.602e+00, 3.000e+00, 4.398e+00, 1.400e+00],\n",
       "       [6.801e+00, 2.801e+00, 4.801e+00, 1.400e+00],\n",
       "       [6.699e+00, 3.000e+00, 5.000e+00, 1.700e+00],\n",
       "       [6.000e+00, 2.900e+00, 4.500e+00, 1.500e+00],\n",
       "       [5.699e+00, 2.600e+00, 3.500e+00, 1.000e+00],\n",
       "       [5.500e+00, 2.400e+00, 1.380e+01, 1.100e+00],\n",
       "       [5.500e+00, 2.400e+00, 3.699e+00, 1.000e+00],\n",
       "       [5.801e+00, 2.699e+00, 3.900e+00, 1.200e+00],\n",
       "       [6.000e+00, 2.699e+00, 5.102e+00, 1.600e+00],\n",
       "       [5.398e+00, 3.000e+00, 4.500e+00, 1.500e+00],\n",
       "       [6.000e+00, 3.400e+00, 4.500e+00, 1.600e+00],\n",
       "       [6.699e+00, 3.100e+00, 4.699e+00, 1.500e+00],\n",
       "       [6.301e+00, 2.301e+00, 4.398e+00, 1.300e+00],\n",
       "       [5.602e+00, 3.000e+00, 4.102e+00, 1.300e+00],\n",
       "       [5.500e+00, 2.500e+00, 4.000e+00, 1.300e+00],\n",
       "       [5.500e+00, 2.600e+00, 4.398e+00, 1.200e+00],\n",
       "       [6.102e+00, 3.000e+00,       nan, 1.400e+00],\n",
       "       [5.801e+00, 1.126e+02, 4.000e+00, 1.200e+00],\n",
       "       [5.000e+00, 2.301e+00, 3.301e+00, 1.000e+00],\n",
       "       [5.602e+00, 2.699e+00, 4.199e+00, 1.300e+00],\n",
       "       [5.699e+00, 3.000e+00, 4.199e+00, 1.200e+00],\n",
       "       [5.699e+00, 2.900e+00, 4.199e+00, 1.300e+00],\n",
       "       [6.199e+00, 2.900e+00, 4.301e+00, 1.300e+00],\n",
       "       [5.102e+00, 2.500e+00, 3.000e+00, 1.111e+02],\n",
       "       [5.699e+00, 2.801e+00, 4.102e+00, 1.300e+00],\n",
       "       [6.301e+00, 3.301e+00, 6.000e+00, 2.500e+00],\n",
       "       [5.801e+00, 2.699e+00, 5.102e+00, 1.900e+00],\n",
       "       [7.102e+00, 3.000e+00, 5.898e+00, 2.100e+00],\n",
       "       [6.301e+00, 2.900e+00, 5.602e+00, 1.800e+00],\n",
       "       [6.500e+00, 3.000e+00, 5.801e+00, 2.199e+00],\n",
       "       [7.602e+00, 3.000e+00, 6.602e+00, 2.100e+00],\n",
       "       [4.898e+00, 2.500e+00, 4.500e+00, 1.700e+00],\n",
       "       [7.301e+00, 2.900e+00, 6.301e+00, 1.800e+00],\n",
       "       [6.699e+00, 2.500e+00, 5.801e+00, 1.800e+00],\n",
       "       [7.199e+00, 3.600e+00, 6.102e+00, 2.500e+00],\n",
       "       [6.500e+00, 3.199e+00, 5.102e+00, 2.000e+00],\n",
       "       [6.398e+00, 2.699e+00, 5.301e+00, 1.900e+00],\n",
       "       [6.801e+00, 3.000e+00,       nan, 2.100e+00],\n",
       "       [5.699e+00, 2.500e+00, 5.000e+00, 2.000e+00],\n",
       "       [5.801e+00, 2.801e+00, 5.102e+00, 2.400e+00],\n",
       "       [6.398e+00, 3.199e+00, 5.301e+00, 2.301e+00],\n",
       "       [6.500e+00, 3.000e+00, 5.500e+00, 1.800e+00],\n",
       "       [7.699e+00, 3.801e+00, 6.699e+00, 2.199e+00],\n",
       "       [7.699e+00, 2.600e+00, 6.898e+00, 2.301e+00],\n",
       "       [6.000e+00, 2.199e+00, 5.000e+00, 1.500e+00],\n",
       "       [6.898e+00, 3.199e+00, 5.699e+00, 2.301e+00],\n",
       "       [5.602e+00, 2.801e+00, 4.898e+00, 2.000e+00],\n",
       "       [7.699e+00, 2.801e+00, 6.699e+00, 2.000e+00],\n",
       "       [6.301e+00, 2.699e+00, 4.898e+00, 1.800e+00],\n",
       "       [6.699e+00, 3.301e+00, 5.699e+00, 2.100e+00],\n",
       "       [7.199e+00, 3.199e+00, 6.000e+00, 1.800e+00],\n",
       "       [6.199e+00, 2.801e+00, 4.801e+00, 1.800e+00],\n",
       "       [6.102e+00, 3.000e+00, 4.898e+00, 1.800e+00],\n",
       "       [6.398e+00, 2.801e+00, 5.602e+00, 2.100e+00],\n",
       "       [7.019e+01, 3.000e+00, 5.801e+00, 1.600e+00],\n",
       "       [      nan, 2.801e+00, 6.102e+00, 1.900e+00],\n",
       "       [      nan, 3.801e+00,       nan, 2.000e+00],\n",
       "       [6.398e+00, 2.801e+00, 5.602e+00, 2.199e+00],\n",
       "       [6.301e+00, 2.801e+00, 5.102e+00, 1.500e+00],\n",
       "       [6.102e+00, 2.600e+00, 5.602e+00, 1.400e+00],\n",
       "       [7.699e+00, 3.000e+00, 6.102e+00, 2.301e+00],\n",
       "       [6.301e+00, 3.400e+00, 5.602e+00, 2.400e+00],\n",
       "       [6.398e+00,       nan, 5.500e+00, 1.800e+00],\n",
       "       [6.000e+00, 3.000e+00, 4.801e+00, 1.800e+00],\n",
       "       [6.898e+00, 3.100e+00, 5.398e+00, 2.100e+00],\n",
       "       [6.699e+00, 3.100e+00,       nan, 2.400e+00],\n",
       "       [6.898e+00, 3.100e+00, 5.102e+00, 2.301e+00],\n",
       "       [5.801e+00, 2.699e+00, 5.102e+00, 1.900e+00],\n",
       "       [6.801e+00, 3.199e+00, 5.898e+00, 2.301e+00],\n",
       "       [6.699e+00, 3.301e+00, 5.699e+00, 2.500e+00],\n",
       "       [6.699e+00,       nan,       nan, 2.301e+00],\n",
       "       [6.301e+00, 2.500e+00, 5.000e+00, 1.900e+00],\n",
       "       [6.500e+00, 3.000e+00, 5.199e+00, 2.000e+00],\n",
       "       [6.199e+00, 3.400e+00, 5.398e+00, 2.301e+00],\n",
       "       [5.898e+00, 3.000e+00, 5.102e+00, 1.800e+00],\n",
       "       [5.602e+00, 2.801e+00, 4.898e+00, 2.000e+00],\n",
       "       [7.699e+00, 2.801e+00, 6.699e+00, 2.000e+00],\n",
       "       [      nan, 2.699e+00, 4.898e+00, 1.800e+00],\n",
       "       [      nan, 3.301e+00, 5.699e+00, 2.100e+00],\n",
       "       [7.199e+00, 3.199e+00, 6.000e+00, 1.800e+00],\n",
       "       [4.898e+00, 2.500e+00, 4.500e+00, 1.700e+00],\n",
       "       [7.301e+00, 2.900e+00, 6.301e+00, 1.800e+00],\n",
       "       [6.699e+00, 2.500e+00, 5.801e+00, 1.800e+00],\n",
       "       [5.898e+00, 3.000e+00, 5.102e+00, 1.800e+00],\n",
       "       [5.602e+00, 2.801e+00, 4.898e+00, 2.000e+00],\n",
       "       [7.699e+00, 2.801e+00, 6.699e+00, 2.000e+00],\n",
       "       [6.301e+00, 2.699e+00, 4.898e+00, 1.800e+00],\n",
       "       [7.199e+00, 3.600e+00, 6.102e+00, 2.500e+00],\n",
       "       [6.500e+00, 3.199e+00, 5.102e+00, 2.000e+00],\n",
       "       [6.398e+00, 2.699e+00, 5.301e+00, 1.900e+00]], dtype=float16)"
      ]
     },
     "execution_count": 3,
     "metadata": {},
     "output_type": "execute_result"
    }
   ],
   "source": [
    "a"
   ]
  },
  {
   "cell_type": "code",
   "execution_count": 4,
   "id": "2ea7b6a1",
   "metadata": {},
   "outputs": [
    {
     "data": {
      "text/plain": [
       "array([  5.1,   4.9,   4.7,   4.6,  50. ,   5.4,   4.6,   5. ,   4.4,\n",
       "         4.9,   5.4,   4.8,   4.8,   4.3,   5.8,   5.7,  50.4,   5.1,\n",
       "         5.7,   5.1,   5.4,   5.1,   4.6,   5.1,   4.8,   5. ,   5. ,\n",
       "         5.2,   5.2,   4.7,   4.8,   5.4,   5.2,   5.5,   4.9,   5. ,\n",
       "         5.5,   4.9,   4.4,   5.1,   5. ,   4.5,   4.4,   5. ,   5.1,\n",
       "         4.8,   5.1,   4.6,   5.3,   5. ,   7. ,   6.4,   6.9,   5.5,\n",
       "         6.5,   5.7, 116.3,   4.9,   6.6,   5.2,   5. ,   5.9,   6. ,\n",
       "         6.1,   5.6,   6.7,   5.6,   5.8,   6.2,   5.6,   5.9,   6.1,\n",
       "         6.3,   6.1,   6.4,   6.6,   6.8,   6.7,   6. ,   5.7,   5.5,\n",
       "         5.5,   5.8,   6. ,   5.4,   6. ,   6.7,   6.3,   5.6,   5.5,\n",
       "         5.5,   6.1,   5.8,   5. ,   5.6,   5.7,   5.7,   6.2,   5.1,\n",
       "         5.7,   6.3,   5.8,   7.1,   6.3,   6.5,   7.6,   4.9,   7.3,\n",
       "         6.7,   7.2,   6.5,   6.4,   6.8,   5.7,   5.8,   6.4,   6.5,\n",
       "         7.7,   7.7,   6. ,   6.9,   5.6,   7.7,   6.3,   6.7,   7.2,\n",
       "         6.2,   6.1,   6.4,  70.2,   nan,   nan,   6.4,   6.3,   6.1,\n",
       "         7.7,   6.3,   6.4,   6. ,   6.9,   6.7,   6.9,   5.8,   6.8,\n",
       "         6.7,   6.7,   6.3,   6.5,   6.2,   5.9,   5.6,   7.7,   nan,\n",
       "         nan,   7.2,   4.9,   7.3,   6.7,   5.9,   5.6,   7.7,   6.3,\n",
       "         7.2,   6.5,   6.4], dtype=float16)"
      ]
     },
     "execution_count": 4,
     "metadata": {},
     "output_type": "execute_result"
    }
   ],
   "source": [
    "slen = a[1:,0]\n",
    "slen"
   ]
  },
  {
   "cell_type": "code",
   "execution_count": 5,
   "id": "05cadce8",
   "metadata": {},
   "outputs": [
    {
     "data": {
      "text/plain": [
       "array([False, False, False, False, False, False, False, False, False,\n",
       "       False, False, False, False, False, False, False, False, False,\n",
       "       False, False, False, False, False, False, False, False, False,\n",
       "       False, False, False, False, False, False, False, False, False,\n",
       "       False, False, False, False, False, False, False, False, False,\n",
       "       False, False, False, False, False, False, False, False, False,\n",
       "       False, False, False, False, False, False, False, False, False,\n",
       "       False, False, False, False, False, False, False, False, False,\n",
       "       False, False, False, False, False, False, False, False, False,\n",
       "       False, False, False, False, False, False, False, False, False,\n",
       "       False, False, False, False, False, False, False, False, False,\n",
       "       False, False, False, False, False, False, False, False, False,\n",
       "       False, False, False, False, False, False, False, False, False,\n",
       "       False, False, False, False, False, False, False, False, False,\n",
       "       False, False, False, False,  True,  True, False, False, False,\n",
       "       False, False, False, False, False, False, False, False, False,\n",
       "       False, False, False, False, False, False, False, False,  True,\n",
       "        True, False, False, False, False, False, False, False, False,\n",
       "       False, False, False])"
      ]
     },
     "execution_count": 5,
     "metadata": {},
     "output_type": "execute_result"
    }
   ],
   "source": [
    "np.isnan(slen)"
   ]
  },
  {
   "cell_type": "code",
   "execution_count": 6,
   "id": "e6604594",
   "metadata": {},
   "outputs": [
    {
     "data": {
      "text/plain": [
       "5.8"
      ]
     },
     "execution_count": 6,
     "metadata": {},
     "output_type": "execute_result"
    }
   ],
   "source": [
    "np.nanmedian(slen)"
   ]
  },
  {
   "cell_type": "code",
   "execution_count": 7,
   "id": "d0e1101a",
   "metadata": {},
   "outputs": [
    {
     "data": {
      "text/plain": [
       "array([  5.1,   4.9,   4.7,   4.6,  50. ,   5.4,   4.6,   5. ,   4.4,\n",
       "         4.9,   5.4,   4.8,   4.8,   4.3,   5.8,   5.7,  50.4,   5.1,\n",
       "         5.7,   5.1,   5.4,   5.1,   4.6,   5.1,   4.8,   5. ,   5. ,\n",
       "         5.2,   5.2,   4.7,   4.8,   5.4,   5.2,   5.5,   4.9,   5. ,\n",
       "         5.5,   4.9,   4.4,   5.1,   5. ,   4.5,   4.4,   5. ,   5.1,\n",
       "         4.8,   5.1,   4.6,   5.3,   5. ,   7. ,   6.4,   6.9,   5.5,\n",
       "         6.5,   5.7, 116.3,   4.9,   6.6,   5.2,   5. ,   5.9,   6. ,\n",
       "         6.1,   5.6,   6.7,   5.6,   5.8,   6.2,   5.6,   5.9,   6.1,\n",
       "         6.3,   6.1,   6.4,   6.6,   6.8,   6.7,   6. ,   5.7,   5.5,\n",
       "         5.5,   5.8,   6. ,   5.4,   6. ,   6.7,   6.3,   5.6,   5.5,\n",
       "         5.5,   6.1,   5.8,   5. ,   5.6,   5.7,   5.7,   6.2,   5.1,\n",
       "         5.7,   6.3,   5.8,   7.1,   6.3,   6.5,   7.6,   4.9,   7.3,\n",
       "         6.7,   7.2,   6.5,   6.4,   6.8,   5.7,   5.8,   6.4,   6.5,\n",
       "         7.7,   7.7,   6. ,   6.9,   5.6,   7.7,   6.3,   6.7,   7.2,\n",
       "         6.2,   6.1,   6.4,  70.2,   5.8,   5.8,   6.4,   6.3,   6.1,\n",
       "         7.7,   6.3,   6.4,   6. ,   6.9,   6.7,   6.9,   5.8,   6.8,\n",
       "         6.7,   6.7,   6.3,   6.5,   6.2,   5.9,   5.6,   7.7,   5.8,\n",
       "         5.8,   7.2,   4.9,   7.3,   6.7,   5.9,   5.6,   7.7,   6.3,\n",
       "         7.2,   6.5,   6.4], dtype=float16)"
      ]
     },
     "execution_count": 7,
     "metadata": {},
     "output_type": "execute_result"
    }
   ],
   "source": [
    "slen = np.where(np.isnan(slen),np.nanmedian(slen),slen)\n",
    "slen"
   ]
  },
  {
   "cell_type": "code",
   "execution_count": 8,
   "id": "73ae6e14",
   "metadata": {},
   "outputs": [
    {
     "data": {
      "text/plain": [
       "5.8"
      ]
     },
     "execution_count": 8,
     "metadata": {},
     "output_type": "execute_result"
    }
   ],
   "source": [
    "np.median(slen)"
   ]
  },
  {
   "cell_type": "code",
   "execution_count": 9,
   "id": "88b3d9e3",
   "metadata": {},
   "outputs": [],
   "source": [
    "#outlier of sepal length"
   ]
  },
  {
   "cell_type": "code",
   "execution_count": 10,
   "id": "b1116970",
   "metadata": {},
   "outputs": [],
   "source": [
    "slq1 = np.percentile(slen,25)\n",
    "slq3 = np.percentile(slen,75)"
   ]
  },
  {
   "cell_type": "code",
   "execution_count": 11,
   "id": "c58d07b7",
   "metadata": {},
   "outputs": [
    {
     "data": {
      "text/plain": [
       "1.30078125"
      ]
     },
     "execution_count": 11,
     "metadata": {},
     "output_type": "execute_result"
    }
   ],
   "source": [
    "IQRsl = slq3-slq1\n",
    "IQRsl"
   ]
  },
  {
   "cell_type": "code",
   "execution_count": 12,
   "id": "727fea53",
   "metadata": {},
   "outputs": [],
   "source": [
    "sllower = slq1-(1.5*IQRsl)\n",
    "slupper = slq3 +(1.5 * IQRsl)"
   ]
  },
  {
   "cell_type": "code",
   "execution_count": 13,
   "id": "c9534333",
   "metadata": {},
   "outputs": [
    {
     "data": {
      "text/plain": [
       "array([], dtype=float16)"
      ]
     },
     "execution_count": 13,
     "metadata": {},
     "output_type": "execute_result"
    }
   ],
   "source": [
    "slen[slen<sllower]"
   ]
  },
  {
   "cell_type": "code",
   "execution_count": 14,
   "id": "59b307de",
   "metadata": {},
   "outputs": [
    {
     "data": {
      "text/plain": [
       "array([ 50. ,  50.4, 116.3,  70.2], dtype=float16)"
      ]
     },
     "execution_count": 14,
     "metadata": {},
     "output_type": "execute_result"
    }
   ],
   "source": [
    "slen[slen>slupper]"
   ]
  },
  {
   "cell_type": "code",
   "execution_count": 15,
   "id": "07da4f0e",
   "metadata": {},
   "outputs": [
    {
     "data": {
      "text/plain": [
       "array([5.1, 4.9, 4.7, 4.6, 5.8, 5.4, 4.6, 5. , 4.4, 4.9, 5.4, 4.8, 4.8,\n",
       "       4.3, 5.8, 5.7, 5.8, 5.1, 5.7, 5.1, 5.4, 5.1, 4.6, 5.1, 4.8, 5. ,\n",
       "       5. , 5.2, 5.2, 4.7, 4.8, 5.4, 5.2, 5.5, 4.9, 5. , 5.5, 4.9, 4.4,\n",
       "       5.1, 5. , 4.5, 4.4, 5. , 5.1, 4.8, 5.1, 4.6, 5.3, 5. , 7. , 6.4,\n",
       "       6.9, 5.5, 6.5, 5.7, 5.8, 4.9, 6.6, 5.2, 5. , 5.9, 6. , 6.1, 5.6,\n",
       "       6.7, 5.6, 5.8, 6.2, 5.6, 5.9, 6.1, 6.3, 6.1, 6.4, 6.6, 6.8, 6.7,\n",
       "       6. , 5.7, 5.5, 5.5, 5.8, 6. , 5.4, 6. , 6.7, 6.3, 5.6, 5.5, 5.5,\n",
       "       6.1, 5.8, 5. , 5.6, 5.7, 5.7, 6.2, 5.1, 5.7, 6.3, 5.8, 7.1, 6.3,\n",
       "       6.5, 7.6, 4.9, 7.3, 6.7, 7.2, 6.5, 6.4, 6.8, 5.7, 5.8, 6.4, 6.5,\n",
       "       7.7, 7.7, 6. , 6.9, 5.6, 7.7, 6.3, 6.7, 7.2, 6.2, 6.1, 6.4, 5.8,\n",
       "       5.8, 5.8, 6.4, 6.3, 6.1, 7.7, 6.3, 6.4, 6. , 6.9, 6.7, 6.9, 5.8,\n",
       "       6.8, 6.7, 6.7, 6.3, 6.5, 6.2, 5.9, 5.6, 7.7, 5.8, 5.8, 7.2, 4.9,\n",
       "       7.3, 6.7, 5.9, 5.6, 7.7, 6.3, 7.2, 6.5, 6.4], dtype=float16)"
      ]
     },
     "execution_count": 15,
     "metadata": {},
     "output_type": "execute_result"
    }
   ],
   "source": [
    "slen1 = np.where((slen>slupper),np.nanmedian(slen),slen)\n",
    "slen1"
   ]
  },
  {
   "cell_type": "markdown",
   "id": "e847bb96",
   "metadata": {},
   "source": [
    "#### what is the mean value of sepal length"
   ]
  },
  {
   "cell_type": "code",
   "execution_count": 16,
   "id": "22a1fb6a",
   "metadata": {},
   "outputs": [
    {
     "data": {
      "text/plain": [
       "5.87"
      ]
     },
     "execution_count": 16,
     "metadata": {},
     "output_type": "execute_result"
    }
   ],
   "source": [
    "np.mean(slen1)   #sepal length mean value"
   ]
  },
  {
   "cell_type": "code",
   "execution_count": 17,
   "id": "89235cae",
   "metadata": {},
   "outputs": [
    {
     "data": {
      "text/plain": [
       "5.8"
      ]
     },
     "execution_count": 17,
     "metadata": {},
     "output_type": "execute_result"
    }
   ],
   "source": [
    "np.median(slen1)"
   ]
  },
  {
   "cell_type": "code",
   "execution_count": 18,
   "id": "90572f60",
   "metadata": {},
   "outputs": [
    {
     "data": {
      "text/plain": [
       "3.398"
      ]
     },
     "execution_count": 18,
     "metadata": {},
     "output_type": "execute_result"
    }
   ],
   "source": [
    "range_sl = max(slen1) - min(slen1)\n",
    "range_sl"
   ]
  },
  {
   "cell_type": "code",
   "execution_count": 19,
   "id": "971cbbfb",
   "metadata": {},
   "outputs": [
    {
     "data": {
      "text/plain": [
       "0.6533"
      ]
     },
     "execution_count": 19,
     "metadata": {},
     "output_type": "execute_result"
    }
   ],
   "source": [
    "np.var(slen1)"
   ]
  },
  {
   "cell_type": "code",
   "execution_count": 20,
   "id": "d7d0419a",
   "metadata": {},
   "outputs": [
    {
     "data": {
      "text/plain": [
       "0.808"
      ]
     },
     "execution_count": 20,
     "metadata": {},
     "output_type": "execute_result"
    }
   ],
   "source": [
    "np.std(slen1)"
   ]
  },
  {
   "cell_type": "code",
   "execution_count": 21,
   "id": "771f3fd7",
   "metadata": {},
   "outputs": [],
   "source": [
    "#sepal width"
   ]
  },
  {
   "cell_type": "code",
   "execution_count": 22,
   "id": "8e1f3680",
   "metadata": {},
   "outputs": [
    {
     "data": {
      "text/plain": [
       "array([  3.5,   3. ,   3.2,   3.1,   3.6,   nan,   3.4,   3.4,   2.9,\n",
       "         3.1,   3.7,   3.4, 130. ,   3. ,   4. ,   4.4,   nan,   3.5,\n",
       "         3.8,   3.8,   3.4,   3.7,   3.6,   3.3,   3.4,   3. ,  34. ,\n",
       "         3.5,   3.4,   3.2,   3.1,   3.4,   4.1,   4.2,   3.1,   3.2,\n",
       "         3.5,   3.1,   3. ,   3.4,   3.5,   2.3,   3.2,   3.5,   3.8,\n",
       "         3. ,   3.8,   3.2,   3.7,   3.3,   3.2,   3.2,   nan,   2.3,\n",
       "         2.8,   2.8,   3.3,   2.4,   2.9,   2.7,   2. ,   3. ,   2.2,\n",
       "         2.9,   2.9,   3.1,   3. ,   2.7,   2.2,   2.5,   3.2,   2.8,\n",
       "         2.5,   nan,   2.9,   3. ,   2.8,   3. ,   2.9,   2.6,   2.4,\n",
       "         2.4,   2.7,   2.7,   3. ,   3.4,   3.1,   2.3,   3. ,   2.5,\n",
       "         2.6,   3. , 112.6,   2.3,   2.7,   3. ,   2.9,   2.9,   2.5,\n",
       "         2.8,   3.3,   2.7,   3. ,   2.9,   3. ,   3. ,   2.5,   2.9,\n",
       "         2.5,   3.6,   3.2,   2.7,   3. ,   2.5,   2.8,   3.2,   3. ,\n",
       "         3.8,   2.6,   2.2,   3.2,   2.8,   2.8,   2.7,   3.3,   3.2,\n",
       "         2.8,   3. ,   2.8,   3. ,   2.8,   3.8,   2.8,   2.8,   2.6,\n",
       "         3. ,   3.4,   nan,   3. ,   3.1,   3.1,   3.1,   2.7,   3.2,\n",
       "         3.3,   nan,   2.5,   3. ,   3.4,   3. ,   2.8,   2.8,   2.7,\n",
       "         3.3,   3.2,   2.5,   2.9,   2.5,   3. ,   2.8,   2.8,   2.7,\n",
       "         3.6,   3.2,   2.7], dtype=float16)"
      ]
     },
     "execution_count": 22,
     "metadata": {},
     "output_type": "execute_result"
    }
   ],
   "source": [
    "swid = a[1:,1]\n",
    "swid"
   ]
  },
  {
   "cell_type": "code",
   "execution_count": 23,
   "id": "b09d2d2a",
   "metadata": {},
   "outputs": [
    {
     "data": {
      "text/plain": [
       "3.0"
      ]
     },
     "execution_count": 23,
     "metadata": {},
     "output_type": "execute_result"
    }
   ],
   "source": [
    "np.nanmedian(swid)  #replacing nan with nanmedian values"
   ]
  },
  {
   "cell_type": "code",
   "execution_count": 24,
   "id": "e1ca7c68",
   "metadata": {},
   "outputs": [
    {
     "data": {
      "text/plain": [
       "array([  3.5,   3. ,   3.2,   3.1,   3.6,   3. ,   3.4,   3.4,   2.9,\n",
       "         3.1,   3.7,   3.4, 130. ,   3. ,   4. ,   4.4,   3. ,   3.5,\n",
       "         3.8,   3.8,   3.4,   3.7,   3.6,   3.3,   3.4,   3. ,  34. ,\n",
       "         3.5,   3.4,   3.2,   3.1,   3.4,   4.1,   4.2,   3.1,   3.2,\n",
       "         3.5,   3.1,   3. ,   3.4,   3.5,   2.3,   3.2,   3.5,   3.8,\n",
       "         3. ,   3.8,   3.2,   3.7,   3.3,   3.2,   3.2,   3. ,   2.3,\n",
       "         2.8,   2.8,   3.3,   2.4,   2.9,   2.7,   2. ,   3. ,   2.2,\n",
       "         2.9,   2.9,   3.1,   3. ,   2.7,   2.2,   2.5,   3.2,   2.8,\n",
       "         2.5,   3. ,   2.9,   3. ,   2.8,   3. ,   2.9,   2.6,   2.4,\n",
       "         2.4,   2.7,   2.7,   3. ,   3.4,   3.1,   2.3,   3. ,   2.5,\n",
       "         2.6,   3. , 112.6,   2.3,   2.7,   3. ,   2.9,   2.9,   2.5,\n",
       "         2.8,   3.3,   2.7,   3. ,   2.9,   3. ,   3. ,   2.5,   2.9,\n",
       "         2.5,   3.6,   3.2,   2.7,   3. ,   2.5,   2.8,   3.2,   3. ,\n",
       "         3.8,   2.6,   2.2,   3.2,   2.8,   2.8,   2.7,   3.3,   3.2,\n",
       "         2.8,   3. ,   2.8,   3. ,   2.8,   3.8,   2.8,   2.8,   2.6,\n",
       "         3. ,   3.4,   3. ,   3. ,   3.1,   3.1,   3.1,   2.7,   3.2,\n",
       "         3.3,   3. ,   2.5,   3. ,   3.4,   3. ,   2.8,   2.8,   2.7,\n",
       "         3.3,   3.2,   2.5,   2.9,   2.5,   3. ,   2.8,   2.8,   2.7,\n",
       "         3.6,   3.2,   2.7], dtype=float16)"
      ]
     },
     "execution_count": 24,
     "metadata": {},
     "output_type": "execute_result"
    }
   ],
   "source": [
    "swid = np.where(np.isnan(swid),np.nanmedian(swid),swid)\n",
    "swid"
   ]
  },
  {
   "cell_type": "code",
   "execution_count": 25,
   "id": "a043b6ae",
   "metadata": {},
   "outputs": [
    {
     "data": {
      "text/plain": [
       "2.80078125"
      ]
     },
     "execution_count": 25,
     "metadata": {},
     "output_type": "execute_result"
    }
   ],
   "source": [
    "swidq1 = np.percentile(swid,25)\n",
    "swidq1"
   ]
  },
  {
   "cell_type": "code",
   "execution_count": 26,
   "id": "a852139f",
   "metadata": {},
   "outputs": [
    {
     "data": {
      "text/plain": [
       "3.30078125"
      ]
     },
     "execution_count": 26,
     "metadata": {},
     "output_type": "execute_result"
    }
   ],
   "source": [
    "swidq3 = np.percentile(swid,75)\n",
    "swidq3"
   ]
  },
  {
   "cell_type": "code",
   "execution_count": 27,
   "id": "ca3c10b0",
   "metadata": {},
   "outputs": [
    {
     "data": {
      "text/plain": [
       "0.5"
      ]
     },
     "execution_count": 27,
     "metadata": {},
     "output_type": "execute_result"
    }
   ],
   "source": [
    "IQRsw = swidq3 - swidq1\n",
    "IQRsw"
   ]
  },
  {
   "cell_type": "code",
   "execution_count": 28,
   "id": "18aa896d",
   "metadata": {},
   "outputs": [],
   "source": [
    "swlower = swidq1-(1.5*IQRsw)\n",
    "swupper = swidq3 +(1.5*IQRsw)"
   ]
  },
  {
   "cell_type": "code",
   "execution_count": 29,
   "id": "52d0870b",
   "metadata": {},
   "outputs": [
    {
     "data": {
      "text/plain": [
       "array([False, False, False, False, False, False, False, False, False,\n",
       "       False, False, False,  True, False, False,  True, False, False,\n",
       "       False, False, False, False, False, False, False, False,  True,\n",
       "       False, False, False, False, False,  True,  True, False, False,\n",
       "       False, False, False, False, False, False, False, False, False,\n",
       "       False, False, False, False, False, False, False, False, False,\n",
       "       False, False, False, False, False, False,  True, False, False,\n",
       "       False, False, False, False, False, False, False, False, False,\n",
       "       False, False, False, False, False, False, False, False, False,\n",
       "       False, False, False, False, False, False, False, False, False,\n",
       "       False, False,  True, False, False, False, False, False, False,\n",
       "       False, False, False, False, False, False, False, False, False,\n",
       "       False, False, False, False, False, False, False, False, False,\n",
       "       False, False, False, False, False, False, False, False, False,\n",
       "       False, False, False, False, False, False, False, False, False,\n",
       "       False, False, False, False, False, False, False, False, False,\n",
       "       False, False, False, False, False, False, False, False, False,\n",
       "       False, False, False, False, False, False, False, False, False,\n",
       "       False, False, False])"
      ]
     },
     "execution_count": 29,
     "metadata": {},
     "output_type": "execute_result"
    }
   ],
   "source": [
    "outsw = (swid>swupper) | (swid<swlower)\n",
    "outsw"
   ]
  },
  {
   "cell_type": "code",
   "execution_count": 30,
   "id": "8951ae85",
   "metadata": {},
   "outputs": [
    {
     "data": {
      "text/plain": [
       "array([3.5, 3. , 3.2, 3.1, 3.6, 3. , 3.4, 3.4, 2.9, 3.1, 3.7, 3.4, 3. ,\n",
       "       3. , 4. , 3. , 3. , 3.5, 3.8, 3.8, 3.4, 3.7, 3.6, 3.3, 3.4, 3. ,\n",
       "       3. , 3.5, 3.4, 3.2, 3.1, 3.4, 3. , 3. , 3.1, 3.2, 3.5, 3.1, 3. ,\n",
       "       3.4, 3.5, 2.3, 3.2, 3.5, 3.8, 3. , 3.8, 3.2, 3.7, 3.3, 3.2, 3.2,\n",
       "       3. , 2.3, 2.8, 2.8, 3.3, 2.4, 2.9, 2.7, 3. , 3. , 2.2, 2.9, 2.9,\n",
       "       3.1, 3. , 2.7, 2.2, 2.5, 3.2, 2.8, 2.5, 3. , 2.9, 3. , 2.8, 3. ,\n",
       "       2.9, 2.6, 2.4, 2.4, 2.7, 2.7, 3. , 3.4, 3.1, 2.3, 3. , 2.5, 2.6,\n",
       "       3. , 3. , 2.3, 2.7, 3. , 2.9, 2.9, 2.5, 2.8, 3.3, 2.7, 3. , 2.9,\n",
       "       3. , 3. , 2.5, 2.9, 2.5, 3.6, 3.2, 2.7, 3. , 2.5, 2.8, 3.2, 3. ,\n",
       "       3.8, 2.6, 2.2, 3.2, 2.8, 2.8, 2.7, 3.3, 3.2, 2.8, 3. , 2.8, 3. ,\n",
       "       2.8, 3.8, 2.8, 2.8, 2.6, 3. , 3.4, 3. , 3. , 3.1, 3.1, 3.1, 2.7,\n",
       "       3.2, 3.3, 3. , 2.5, 3. , 3.4, 3. , 2.8, 2.8, 2.7, 3.3, 3.2, 2.5,\n",
       "       2.9, 2.5, 3. , 2.8, 2.8, 2.7, 3.6, 3.2, 2.7], dtype=float16)"
      ]
     },
     "execution_count": 30,
     "metadata": {},
     "output_type": "execute_result"
    }
   ],
   "source": [
    "swid1 = np.where((outsw),np.median(swid),swid) #replacing outliers with median\n",
    "swid1"
   ]
  },
  {
   "cell_type": "code",
   "execution_count": 31,
   "id": "e732b047",
   "metadata": {},
   "outputs": [
    {
     "data": {
      "text/plain": [
       "3.014"
      ]
     },
     "execution_count": 31,
     "metadata": {},
     "output_type": "execute_result"
    }
   ],
   "source": [
    "np.mean(swid1)"
   ]
  },
  {
   "cell_type": "code",
   "execution_count": 32,
   "id": "b328220c",
   "metadata": {},
   "outputs": [
    {
     "data": {
      "text/plain": [
       "3.0"
      ]
     },
     "execution_count": 32,
     "metadata": {},
     "output_type": "execute_result"
    }
   ],
   "source": [
    "np.median(swid1)"
   ]
  },
  {
   "cell_type": "code",
   "execution_count": 33,
   "id": "0b863840",
   "metadata": {},
   "outputs": [
    {
     "data": {
      "text/plain": [
       "1.801"
      ]
     },
     "execution_count": 33,
     "metadata": {},
     "output_type": "execute_result"
    }
   ],
   "source": [
    "range_swid = max(swid1) - min(swid1)\n",
    "range_swid"
   ]
  },
  {
   "cell_type": "code",
   "execution_count": 34,
   "id": "19bc0586",
   "metadata": {},
   "outputs": [
    {
     "data": {
      "text/plain": [
       "0.135"
      ]
     },
     "execution_count": 34,
     "metadata": {},
     "output_type": "execute_result"
    }
   ],
   "source": [
    "np.var(swid1)"
   ]
  },
  {
   "cell_type": "code",
   "execution_count": 35,
   "id": "1fbed8a2",
   "metadata": {},
   "outputs": [
    {
     "data": {
      "text/plain": [
       "0.3674"
      ]
     },
     "execution_count": 35,
     "metadata": {},
     "output_type": "execute_result"
    }
   ],
   "source": [
    "np.std(swid1)"
   ]
  },
  {
   "cell_type": "markdown",
   "id": "88a90329",
   "metadata": {},
   "source": [
    "#### sort the sepal width in ascendind order"
   ]
  },
  {
   "cell_type": "code",
   "execution_count": 36,
   "id": "928c8b6c",
   "metadata": {},
   "outputs": [
    {
     "data": {
      "text/plain": [
       "array([2.2, 2.2, 2.2, 2.3, 2.3, 2.3, 2.3, 2.4, 2.4, 2.4, 2.5, 2.5, 2.5,\n",
       "       2.5, 2.5, 2.5, 2.5, 2.5, 2.5, 2.5, 2.6, 2.6, 2.6, 2.6, 2.7, 2.7,\n",
       "       2.7, 2.7, 2.7, 2.7, 2.7, 2.7, 2.7, 2.7, 2.7, 2.7, 2.8, 2.8, 2.8,\n",
       "       2.8, 2.8, 2.8, 2.8, 2.8, 2.8, 2.8, 2.8, 2.8, 2.8, 2.8, 2.8, 2.8,\n",
       "       2.8, 2.9, 2.9, 2.9, 2.9, 2.9, 2.9, 2.9, 2.9, 2.9, 2.9, 2.9, 3. ,\n",
       "       3. , 3. , 3. , 3. , 3. , 3. , 3. , 3. , 3. , 3. , 3. , 3. , 3. ,\n",
       "       3. , 3. , 3. , 3. , 3. , 3. , 3. , 3. , 3. , 3. , 3. , 3. , 3. ,\n",
       "       3. , 3. , 3. , 3. , 3. , 3. , 3. , 3. , 3. , 3. , 3. , 3.1, 3.1,\n",
       "       3.1, 3.1, 3.1, 3.1, 3.1, 3.1, 3.1, 3.1, 3.2, 3.2, 3.2, 3.2, 3.2,\n",
       "       3.2, 3.2, 3.2, 3.2, 3.2, 3.2, 3.2, 3.2, 3.2, 3.2, 3.3, 3.3, 3.3,\n",
       "       3.3, 3.3, 3.3, 3.3, 3.4, 3.4, 3.4, 3.4, 3.4, 3.4, 3.4, 3.4, 3.4,\n",
       "       3.4, 3.4, 3.5, 3.5, 3.5, 3.5, 3.5, 3.5, 3.6, 3.6, 3.6, 3.6, 3.7,\n",
       "       3.7, 3.7, 3.8, 3.8, 3.8, 3.8, 3.8, 3.8, 4. ], dtype=float16)"
      ]
     },
     "execution_count": 36,
     "metadata": {},
     "output_type": "execute_result"
    }
   ],
   "source": [
    "swid1\n",
    "np.sort(swid1)"
   ]
  },
  {
   "cell_type": "code",
   "execution_count": 37,
   "id": "924e7e92",
   "metadata": {},
   "outputs": [],
   "source": [
    "# petal length"
   ]
  },
  {
   "cell_type": "code",
   "execution_count": 38,
   "id": "a939bca4",
   "metadata": {},
   "outputs": [
    {
     "data": {
      "text/plain": [
       "array([[      nan,       nan,       nan,       nan],\n",
       "       [5.102e+00, 3.500e+00, 1.400e+00, 2.000e-01],\n",
       "       [4.898e+00, 3.000e+00, 1.400e+00, 2.000e-01],\n",
       "       [4.699e+00, 3.199e+00, 1.300e+00, 2.000e-01],\n",
       "       [4.602e+00, 3.100e+00, 1.500e+00, 1.020e+01],\n",
       "       [5.000e+01, 3.600e+00, 1.400e+00, 2.000e-01],\n",
       "       [5.398e+00,       nan, 1.700e+00, 3.999e-01],\n",
       "       [4.602e+00, 3.400e+00, 1.400e+00, 3.000e-01],\n",
       "       [5.000e+00, 3.400e+00, 1.500e+00, 2.000e-01],\n",
       "       [4.398e+00, 2.900e+00, 1.400e+00, 2.000e-01],\n",
       "       [4.898e+00, 3.100e+00,       nan, 9.998e-02],\n",
       "       [5.398e+00, 3.699e+00, 1.500e+00, 2.000e-01],\n",
       "       [4.801e+00, 3.400e+00, 1.600e+00, 2.000e-01],\n",
       "       [4.801e+00, 1.300e+02, 1.400e+00, 1.010e+01],\n",
       "       [4.301e+00, 3.000e+00, 1.100e+00, 9.998e-02],\n",
       "       [5.801e+00, 4.000e+00, 1.200e+00, 2.000e-01],\n",
       "       [5.699e+00, 4.398e+00, 1.500e+00, 3.999e-01],\n",
       "       [5.041e+01,       nan, 1.300e+00, 3.999e-01],\n",
       "       [5.102e+00, 3.500e+00, 1.400e+00, 3.000e-01],\n",
       "       [5.699e+00, 3.801e+00, 1.700e+00, 3.000e-01],\n",
       "       [5.102e+00, 3.801e+00, 1.500e+00, 3.000e-01],\n",
       "       [5.398e+00, 3.400e+00, 1.700e+00, 2.000e-01],\n",
       "       [5.102e+00, 3.699e+00, 1.500e+00, 3.999e-01],\n",
       "       [4.602e+00, 3.600e+00, 1.000e+00, 2.000e-01],\n",
       "       [5.102e+00, 3.301e+00, 1.700e+00, 5.000e-01],\n",
       "       [4.801e+00, 3.400e+00, 1.900e+00, 2.000e-01],\n",
       "       [5.000e+00, 3.000e+00, 1.600e+00, 2.000e-01],\n",
       "       [5.000e+00, 3.400e+01, 1.600e+00, 3.999e-01],\n",
       "       [5.199e+00, 3.500e+00, 1.500e+00, 2.000e-01],\n",
       "       [5.199e+00, 3.400e+00, 1.400e+00, 1.102e+02],\n",
       "       [4.699e+00, 3.199e+00, 1.600e+00, 2.000e-01],\n",
       "       [4.801e+00, 3.100e+00, 1.600e+00, 2.000e-01],\n",
       "       [5.398e+00, 3.400e+00, 1.500e+00, 3.999e-01],\n",
       "       [5.199e+00, 4.102e+00, 1.500e+00, 9.998e-02],\n",
       "       [5.500e+00, 4.199e+00, 1.400e+00, 2.000e-01],\n",
       "       [4.898e+00, 3.100e+00, 1.500e+00, 9.998e-02],\n",
       "       [5.000e+00, 3.199e+00, 1.200e+00, 2.000e-01],\n",
       "       [5.500e+00, 3.500e+00, 1.300e+00, 2.000e-01],\n",
       "       [4.898e+00, 3.100e+00, 1.500e+00, 9.998e-02],\n",
       "       [4.398e+00, 3.000e+00, 1.300e+00, 2.000e-01],\n",
       "       [5.102e+00, 3.400e+00, 1.500e+00, 2.000e-01],\n",
       "       [5.000e+00, 3.500e+00, 1.300e+00, 3.000e-01],\n",
       "       [4.500e+00, 2.301e+00, 1.300e+01, 3.000e-01],\n",
       "       [4.398e+00, 3.199e+00, 1.300e+00, 2.000e-01],\n",
       "       [5.000e+00, 3.500e+00, 1.600e+00, 6.001e-01],\n",
       "       [5.102e+00, 3.801e+00, 1.900e+00, 3.999e-01],\n",
       "       [4.801e+00, 3.000e+00, 1.400e+00, 3.000e-01],\n",
       "       [5.102e+00, 3.801e+00, 1.600e+00, 2.000e-01],\n",
       "       [4.602e+00, 3.199e+00, 1.400e+00, 2.000e-01],\n",
       "       [5.301e+00, 3.699e+00, 1.500e+00, 2.000e-01],\n",
       "       [5.000e+00, 3.301e+00, 1.400e+00, 2.000e-01],\n",
       "       [7.000e+00, 3.199e+00, 4.699e+00, 1.400e+00],\n",
       "       [6.398e+00, 3.199e+00, 4.500e+00, 1.500e+00],\n",
       "       [6.898e+00,       nan, 4.898e+00, 1.500e+00],\n",
       "       [5.500e+00, 2.301e+00, 4.000e+00, 1.300e+00],\n",
       "       [6.500e+00, 2.801e+00, 4.602e+00, 1.500e+00],\n",
       "       [5.699e+00, 2.801e+00, 4.500e+00, 1.300e+00],\n",
       "       [1.163e+02, 3.301e+00, 4.699e+00, 1.600e+00],\n",
       "       [4.898e+00, 2.400e+00, 3.301e+00, 1.600e+01],\n",
       "       [6.602e+00, 2.900e+00, 4.602e+00, 1.300e+00],\n",
       "       [5.199e+00, 2.699e+00, 3.900e+00, 1.400e+00],\n",
       "       [5.000e+00, 2.000e+00, 3.500e+00, 1.000e+00],\n",
       "       [5.898e+00, 3.000e+00, 4.199e+00, 1.500e+00],\n",
       "       [6.000e+00, 2.199e+00, 4.000e+00, 1.000e+00],\n",
       "       [6.102e+00, 2.900e+00, 4.699e+00, 1.400e+00],\n",
       "       [5.602e+00, 2.900e+00, 3.600e+00, 1.300e+00],\n",
       "       [6.699e+00, 3.100e+00, 4.398e+00, 1.400e+00],\n",
       "       [5.602e+00, 3.000e+00, 4.500e+00, 1.500e+00],\n",
       "       [5.801e+00, 2.699e+00, 4.102e+00, 1.000e+00],\n",
       "       [6.199e+00, 2.199e+00, 4.500e+00, 1.500e+00],\n",
       "       [5.602e+00, 2.500e+00, 3.900e+00, 1.100e+00],\n",
       "       [5.898e+00, 3.199e+00, 4.801e+00, 1.800e+00],\n",
       "       [6.102e+00, 2.801e+00, 4.000e+00, 1.300e+00],\n",
       "       [6.301e+00, 2.500e+00, 4.898e+00, 1.500e+00],\n",
       "       [6.102e+00,       nan, 4.699e+00, 1.200e+00],\n",
       "       [6.398e+00, 2.900e+00, 4.301e+00, 1.300e+00],\n",
       "       [6.602e+00, 3.000e+00, 4.398e+00, 1.400e+00],\n",
       "       [6.801e+00, 2.801e+00, 4.801e+00, 1.400e+00],\n",
       "       [6.699e+00, 3.000e+00, 5.000e+00, 1.700e+00],\n",
       "       [6.000e+00, 2.900e+00, 4.500e+00, 1.500e+00],\n",
       "       [5.699e+00, 2.600e+00, 3.500e+00, 1.000e+00],\n",
       "       [5.500e+00, 2.400e+00, 1.380e+01, 1.100e+00],\n",
       "       [5.500e+00, 2.400e+00, 3.699e+00, 1.000e+00],\n",
       "       [5.801e+00, 2.699e+00, 3.900e+00, 1.200e+00],\n",
       "       [6.000e+00, 2.699e+00, 5.102e+00, 1.600e+00],\n",
       "       [5.398e+00, 3.000e+00, 4.500e+00, 1.500e+00],\n",
       "       [6.000e+00, 3.400e+00, 4.500e+00, 1.600e+00],\n",
       "       [6.699e+00, 3.100e+00, 4.699e+00, 1.500e+00],\n",
       "       [6.301e+00, 2.301e+00, 4.398e+00, 1.300e+00],\n",
       "       [5.602e+00, 3.000e+00, 4.102e+00, 1.300e+00],\n",
       "       [5.500e+00, 2.500e+00, 4.000e+00, 1.300e+00],\n",
       "       [5.500e+00, 2.600e+00, 4.398e+00, 1.200e+00],\n",
       "       [6.102e+00, 3.000e+00,       nan, 1.400e+00],\n",
       "       [5.801e+00, 1.126e+02, 4.000e+00, 1.200e+00],\n",
       "       [5.000e+00, 2.301e+00, 3.301e+00, 1.000e+00],\n",
       "       [5.602e+00, 2.699e+00, 4.199e+00, 1.300e+00],\n",
       "       [5.699e+00, 3.000e+00, 4.199e+00, 1.200e+00],\n",
       "       [5.699e+00, 2.900e+00, 4.199e+00, 1.300e+00],\n",
       "       [6.199e+00, 2.900e+00, 4.301e+00, 1.300e+00],\n",
       "       [5.102e+00, 2.500e+00, 3.000e+00, 1.111e+02],\n",
       "       [5.699e+00, 2.801e+00, 4.102e+00, 1.300e+00],\n",
       "       [6.301e+00, 3.301e+00, 6.000e+00, 2.500e+00],\n",
       "       [5.801e+00, 2.699e+00, 5.102e+00, 1.900e+00],\n",
       "       [7.102e+00, 3.000e+00, 5.898e+00, 2.100e+00],\n",
       "       [6.301e+00, 2.900e+00, 5.602e+00, 1.800e+00],\n",
       "       [6.500e+00, 3.000e+00, 5.801e+00, 2.199e+00],\n",
       "       [7.602e+00, 3.000e+00, 6.602e+00, 2.100e+00],\n",
       "       [4.898e+00, 2.500e+00, 4.500e+00, 1.700e+00],\n",
       "       [7.301e+00, 2.900e+00, 6.301e+00, 1.800e+00],\n",
       "       [6.699e+00, 2.500e+00, 5.801e+00, 1.800e+00],\n",
       "       [7.199e+00, 3.600e+00, 6.102e+00, 2.500e+00],\n",
       "       [6.500e+00, 3.199e+00, 5.102e+00, 2.000e+00],\n",
       "       [6.398e+00, 2.699e+00, 5.301e+00, 1.900e+00],\n",
       "       [6.801e+00, 3.000e+00,       nan, 2.100e+00],\n",
       "       [5.699e+00, 2.500e+00, 5.000e+00, 2.000e+00],\n",
       "       [5.801e+00, 2.801e+00, 5.102e+00, 2.400e+00],\n",
       "       [6.398e+00, 3.199e+00, 5.301e+00, 2.301e+00],\n",
       "       [6.500e+00, 3.000e+00, 5.500e+00, 1.800e+00],\n",
       "       [7.699e+00, 3.801e+00, 6.699e+00, 2.199e+00],\n",
       "       [7.699e+00, 2.600e+00, 6.898e+00, 2.301e+00],\n",
       "       [6.000e+00, 2.199e+00, 5.000e+00, 1.500e+00],\n",
       "       [6.898e+00, 3.199e+00, 5.699e+00, 2.301e+00],\n",
       "       [5.602e+00, 2.801e+00, 4.898e+00, 2.000e+00],\n",
       "       [7.699e+00, 2.801e+00, 6.699e+00, 2.000e+00],\n",
       "       [6.301e+00, 2.699e+00, 4.898e+00, 1.800e+00],\n",
       "       [6.699e+00, 3.301e+00, 5.699e+00, 2.100e+00],\n",
       "       [7.199e+00, 3.199e+00, 6.000e+00, 1.800e+00],\n",
       "       [6.199e+00, 2.801e+00, 4.801e+00, 1.800e+00],\n",
       "       [6.102e+00, 3.000e+00, 4.898e+00, 1.800e+00],\n",
       "       [6.398e+00, 2.801e+00, 5.602e+00, 2.100e+00],\n",
       "       [7.019e+01, 3.000e+00, 5.801e+00, 1.600e+00],\n",
       "       [      nan, 2.801e+00, 6.102e+00, 1.900e+00],\n",
       "       [      nan, 3.801e+00,       nan, 2.000e+00],\n",
       "       [6.398e+00, 2.801e+00, 5.602e+00, 2.199e+00],\n",
       "       [6.301e+00, 2.801e+00, 5.102e+00, 1.500e+00],\n",
       "       [6.102e+00, 2.600e+00, 5.602e+00, 1.400e+00],\n",
       "       [7.699e+00, 3.000e+00, 6.102e+00, 2.301e+00],\n",
       "       [6.301e+00, 3.400e+00, 5.602e+00, 2.400e+00],\n",
       "       [6.398e+00,       nan, 5.500e+00, 1.800e+00],\n",
       "       [6.000e+00, 3.000e+00, 4.801e+00, 1.800e+00],\n",
       "       [6.898e+00, 3.100e+00, 5.398e+00, 2.100e+00],\n",
       "       [6.699e+00, 3.100e+00,       nan, 2.400e+00],\n",
       "       [6.898e+00, 3.100e+00, 5.102e+00, 2.301e+00],\n",
       "       [5.801e+00, 2.699e+00, 5.102e+00, 1.900e+00],\n",
       "       [6.801e+00, 3.199e+00, 5.898e+00, 2.301e+00],\n",
       "       [6.699e+00, 3.301e+00, 5.699e+00, 2.500e+00],\n",
       "       [6.699e+00,       nan,       nan, 2.301e+00],\n",
       "       [6.301e+00, 2.500e+00, 5.000e+00, 1.900e+00],\n",
       "       [6.500e+00, 3.000e+00, 5.199e+00, 2.000e+00],\n",
       "       [6.199e+00, 3.400e+00, 5.398e+00, 2.301e+00],\n",
       "       [5.898e+00, 3.000e+00, 5.102e+00, 1.800e+00],\n",
       "       [5.602e+00, 2.801e+00, 4.898e+00, 2.000e+00],\n",
       "       [7.699e+00, 2.801e+00, 6.699e+00, 2.000e+00],\n",
       "       [      nan, 2.699e+00, 4.898e+00, 1.800e+00],\n",
       "       [      nan, 3.301e+00, 5.699e+00, 2.100e+00],\n",
       "       [7.199e+00, 3.199e+00, 6.000e+00, 1.800e+00],\n",
       "       [4.898e+00, 2.500e+00, 4.500e+00, 1.700e+00],\n",
       "       [7.301e+00, 2.900e+00, 6.301e+00, 1.800e+00],\n",
       "       [6.699e+00, 2.500e+00, 5.801e+00, 1.800e+00],\n",
       "       [5.898e+00, 3.000e+00, 5.102e+00, 1.800e+00],\n",
       "       [5.602e+00, 2.801e+00, 4.898e+00, 2.000e+00],\n",
       "       [7.699e+00, 2.801e+00, 6.699e+00, 2.000e+00],\n",
       "       [6.301e+00, 2.699e+00, 4.898e+00, 1.800e+00],\n",
       "       [7.199e+00, 3.600e+00, 6.102e+00, 2.500e+00],\n",
       "       [6.500e+00, 3.199e+00, 5.102e+00, 2.000e+00],\n",
       "       [6.398e+00, 2.699e+00, 5.301e+00, 1.900e+00]], dtype=float16)"
      ]
     },
     "execution_count": 38,
     "metadata": {},
     "output_type": "execute_result"
    }
   ],
   "source": [
    "a "
   ]
  },
  {
   "cell_type": "code",
   "execution_count": 39,
   "id": "091a19b3",
   "metadata": {},
   "outputs": [],
   "source": [
    "plen = a[1:,2]"
   ]
  },
  {
   "cell_type": "code",
   "execution_count": 40,
   "id": "042162ba",
   "metadata": {},
   "outputs": [
    {
     "data": {
      "text/plain": [
       "array([ 1.4,  1.4,  1.3,  1.5,  1.4,  1.7,  1.4,  1.5,  1.4,  nan,  1.5,\n",
       "        1.6,  1.4,  1.1,  1.2,  1.5,  1.3,  1.4,  1.7,  1.5,  1.7,  1.5,\n",
       "        1. ,  1.7,  1.9,  1.6,  1.6,  1.5,  1.4,  1.6,  1.6,  1.5,  1.5,\n",
       "        1.4,  1.5,  1.2,  1.3,  1.5,  1.3,  1.5,  1.3, 13. ,  1.3,  1.6,\n",
       "        1.9,  1.4,  1.6,  1.4,  1.5,  1.4,  4.7,  4.5,  4.9,  4. ,  4.6,\n",
       "        4.5,  4.7,  3.3,  4.6,  3.9,  3.5,  4.2,  4. ,  4.7,  3.6,  4.4,\n",
       "        4.5,  4.1,  4.5,  3.9,  4.8,  4. ,  4.9,  4.7,  4.3,  4.4,  4.8,\n",
       "        5. ,  4.5,  3.5, 13.8,  3.7,  3.9,  5.1,  4.5,  4.5,  4.7,  4.4,\n",
       "        4.1,  4. ,  4.4,  nan,  4. ,  3.3,  4.2,  4.2,  4.2,  4.3,  3. ,\n",
       "        4.1,  6. ,  5.1,  5.9,  5.6,  5.8,  6.6,  4.5,  6.3,  5.8,  6.1,\n",
       "        5.1,  5.3,  nan,  5. ,  5.1,  5.3,  5.5,  6.7,  6.9,  5. ,  5.7,\n",
       "        4.9,  6.7,  4.9,  5.7,  6. ,  4.8,  4.9,  5.6,  5.8,  6.1,  nan,\n",
       "        5.6,  5.1,  5.6,  6.1,  5.6,  5.5,  4.8,  5.4,  nan,  5.1,  5.1,\n",
       "        5.9,  5.7,  nan,  5. ,  5.2,  5.4,  5.1,  4.9,  6.7,  4.9,  5.7,\n",
       "        6. ,  4.5,  6.3,  5.8,  5.1,  4.9,  6.7,  4.9,  6.1,  5.1,  5.3],\n",
       "      dtype=float16)"
      ]
     },
     "execution_count": 40,
     "metadata": {},
     "output_type": "execute_result"
    }
   ],
   "source": [
    "plen"
   ]
  },
  {
   "cell_type": "code",
   "execution_count": 41,
   "id": "56e56c91",
   "metadata": {},
   "outputs": [
    {
     "data": {
      "text/plain": [
       "4.5"
      ]
     },
     "execution_count": 41,
     "metadata": {},
     "output_type": "execute_result"
    }
   ],
   "source": [
    "np.nanmedian(plen)"
   ]
  },
  {
   "cell_type": "code",
   "execution_count": 42,
   "id": "acab7bba",
   "metadata": {},
   "outputs": [
    {
     "data": {
      "text/plain": [
       "array([False, False, False, False, False, False, False, False, False,\n",
       "        True, False, False, False, False, False, False, False, False,\n",
       "       False, False, False, False, False, False, False, False, False,\n",
       "       False, False, False, False, False, False, False, False, False,\n",
       "       False, False, False, False, False, False, False, False, False,\n",
       "       False, False, False, False, False, False, False, False, False,\n",
       "       False, False, False, False, False, False, False, False, False,\n",
       "       False, False, False, False, False, False, False, False, False,\n",
       "       False, False, False, False, False, False, False, False, False,\n",
       "       False, False, False, False, False, False, False, False, False,\n",
       "       False,  True, False, False, False, False, False, False, False,\n",
       "       False, False, False, False, False, False, False, False, False,\n",
       "       False, False, False, False,  True, False, False, False, False,\n",
       "       False, False, False, False, False, False, False, False, False,\n",
       "       False, False, False, False, False,  True, False, False, False,\n",
       "       False, False, False, False, False,  True, False, False, False,\n",
       "       False,  True, False, False, False, False, False, False, False,\n",
       "       False, False, False, False, False, False, False, False, False,\n",
       "       False, False, False])"
      ]
     },
     "execution_count": 42,
     "metadata": {},
     "output_type": "execute_result"
    }
   ],
   "source": [
    "np.isnan(plen)"
   ]
  },
  {
   "cell_type": "code",
   "execution_count": 43,
   "id": "dee0b60a",
   "metadata": {},
   "outputs": [
    {
     "data": {
      "text/plain": [
       "array([ 1.4,  1.4,  1.3,  1.5,  1.4,  1.7,  1.4,  1.5,  1.4,  4.5,  1.5,\n",
       "        1.6,  1.4,  1.1,  1.2,  1.5,  1.3,  1.4,  1.7,  1.5,  1.7,  1.5,\n",
       "        1. ,  1.7,  1.9,  1.6,  1.6,  1.5,  1.4,  1.6,  1.6,  1.5,  1.5,\n",
       "        1.4,  1.5,  1.2,  1.3,  1.5,  1.3,  1.5,  1.3, 13. ,  1.3,  1.6,\n",
       "        1.9,  1.4,  1.6,  1.4,  1.5,  1.4,  4.7,  4.5,  4.9,  4. ,  4.6,\n",
       "        4.5,  4.7,  3.3,  4.6,  3.9,  3.5,  4.2,  4. ,  4.7,  3.6,  4.4,\n",
       "        4.5,  4.1,  4.5,  3.9,  4.8,  4. ,  4.9,  4.7,  4.3,  4.4,  4.8,\n",
       "        5. ,  4.5,  3.5, 13.8,  3.7,  3.9,  5.1,  4.5,  4.5,  4.7,  4.4,\n",
       "        4.1,  4. ,  4.4,  4.5,  4. ,  3.3,  4.2,  4.2,  4.2,  4.3,  3. ,\n",
       "        4.1,  6. ,  5.1,  5.9,  5.6,  5.8,  6.6,  4.5,  6.3,  5.8,  6.1,\n",
       "        5.1,  5.3,  4.5,  5. ,  5.1,  5.3,  5.5,  6.7,  6.9,  5. ,  5.7,\n",
       "        4.9,  6.7,  4.9,  5.7,  6. ,  4.8,  4.9,  5.6,  5.8,  6.1,  4.5,\n",
       "        5.6,  5.1,  5.6,  6.1,  5.6,  5.5,  4.8,  5.4,  4.5,  5.1,  5.1,\n",
       "        5.9,  5.7,  4.5,  5. ,  5.2,  5.4,  5.1,  4.9,  6.7,  4.9,  5.7,\n",
       "        6. ,  4.5,  6.3,  5.8,  5.1,  4.9,  6.7,  4.9,  6.1,  5.1,  5.3],\n",
       "      dtype=float16)"
      ]
     },
     "execution_count": 43,
     "metadata": {},
     "output_type": "execute_result"
    }
   ],
   "source": [
    "plen = np.where(np.isnan(plen),np.nanmedian(plen),plen)\n",
    "plen"
   ]
  },
  {
   "cell_type": "code",
   "execution_count": 44,
   "id": "aa2dc37c",
   "metadata": {},
   "outputs": [
    {
     "data": {
      "text/plain": [
       "4.5"
      ]
     },
     "execution_count": 44,
     "metadata": {},
     "output_type": "execute_result"
    }
   ],
   "source": [
    "np.median(plen)"
   ]
  },
  {
   "cell_type": "code",
   "execution_count": 45,
   "id": "bf01db83",
   "metadata": {},
   "outputs": [],
   "source": [
    "q1pl = np.percentile(plen,25)\n",
    "q3pl = np.percentile(plen,75)"
   ]
  },
  {
   "cell_type": "code",
   "execution_count": 46,
   "id": "d8ebf82b",
   "metadata": {},
   "outputs": [
    {
     "data": {
      "text/plain": [
       "3.501953125"
      ]
     },
     "execution_count": 46,
     "metadata": {},
     "output_type": "execute_result"
    }
   ],
   "source": [
    "IQRpl = q3pl-q1pl\n",
    "IQRpl"
   ]
  },
  {
   "cell_type": "code",
   "execution_count": 47,
   "id": "1e294e50",
   "metadata": {},
   "outputs": [],
   "source": [
    "lowerpl = q1pl-(1.5*IQRpl)\n",
    "upperpl = q3pl+(1.5*IQRpl)"
   ]
  },
  {
   "cell_type": "code",
   "execution_count": 48,
   "id": "e1f71466",
   "metadata": {},
   "outputs": [
    {
     "data": {
      "text/plain": [
       "array([], dtype=float16)"
      ]
     },
     "execution_count": 48,
     "metadata": {},
     "output_type": "execute_result"
    }
   ],
   "source": [
    "plen[plen<lowerpl]"
   ]
  },
  {
   "cell_type": "code",
   "execution_count": 49,
   "id": "f14c72ea",
   "metadata": {},
   "outputs": [
    {
     "data": {
      "text/plain": [
       "array([13. , 13.8], dtype=float16)"
      ]
     },
     "execution_count": 49,
     "metadata": {},
     "output_type": "execute_result"
    }
   ],
   "source": [
    "outpl = plen[plen>upperpl] \n",
    "outpl#outliers in petal length"
   ]
  },
  {
   "cell_type": "code",
   "execution_count": 50,
   "id": "0a2a7fc8",
   "metadata": {},
   "outputs": [],
   "source": [
    "plen1 = np.where((plen>upperpl),np.median(plen),plen)"
   ]
  },
  {
   "cell_type": "code",
   "execution_count": 51,
   "id": "ba2954d0",
   "metadata": {},
   "outputs": [
    {
     "data": {
      "text/plain": [
       "array([1.4, 1.4, 1.3, 1.5, 1.4, 1.7, 1.4, 1.5, 1.4, 4.5, 1.5, 1.6, 1.4,\n",
       "       1.1, 1.2, 1.5, 1.3, 1.4, 1.7, 1.5, 1.7, 1.5, 1. , 1.7, 1.9, 1.6,\n",
       "       1.6, 1.5, 1.4, 1.6, 1.6, 1.5, 1.5, 1.4, 1.5, 1.2, 1.3, 1.5, 1.3,\n",
       "       1.5, 1.3, 4.5, 1.3, 1.6, 1.9, 1.4, 1.6, 1.4, 1.5, 1.4, 4.7, 4.5,\n",
       "       4.9, 4. , 4.6, 4.5, 4.7, 3.3, 4.6, 3.9, 3.5, 4.2, 4. , 4.7, 3.6,\n",
       "       4.4, 4.5, 4.1, 4.5, 3.9, 4.8, 4. , 4.9, 4.7, 4.3, 4.4, 4.8, 5. ,\n",
       "       4.5, 3.5, 4.5, 3.7, 3.9, 5.1, 4.5, 4.5, 4.7, 4.4, 4.1, 4. , 4.4,\n",
       "       4.5, 4. , 3.3, 4.2, 4.2, 4.2, 4.3, 3. , 4.1, 6. , 5.1, 5.9, 5.6,\n",
       "       5.8, 6.6, 4.5, 6.3, 5.8, 6.1, 5.1, 5.3, 4.5, 5. , 5.1, 5.3, 5.5,\n",
       "       6.7, 6.9, 5. , 5.7, 4.9, 6.7, 4.9, 5.7, 6. , 4.8, 4.9, 5.6, 5.8,\n",
       "       6.1, 4.5, 5.6, 5.1, 5.6, 6.1, 5.6, 5.5, 4.8, 5.4, 4.5, 5.1, 5.1,\n",
       "       5.9, 5.7, 4.5, 5. , 5.2, 5.4, 5.1, 4.9, 6.7, 4.9, 5.7, 6. , 4.5,\n",
       "       6.3, 5.8, 5.1, 4.9, 6.7, 4.9, 6.1, 5.1, 5.3], dtype=float16)"
      ]
     },
     "execution_count": 51,
     "metadata": {},
     "output_type": "execute_result"
    }
   ],
   "source": [
    "plen1"
   ]
  },
  {
   "cell_type": "code",
   "execution_count": 52,
   "id": "68c82f15",
   "metadata": {},
   "outputs": [
    {
     "data": {
      "text/plain": [
       "3.932"
      ]
     },
     "execution_count": 52,
     "metadata": {},
     "output_type": "execute_result"
    }
   ],
   "source": [
    "np.mean(plen1)"
   ]
  },
  {
   "cell_type": "code",
   "execution_count": 53,
   "id": "811dd27e",
   "metadata": {},
   "outputs": [
    {
     "data": {
      "text/plain": [
       "4.5"
      ]
     },
     "execution_count": 53,
     "metadata": {},
     "output_type": "execute_result"
    }
   ],
   "source": [
    "np.median(plen1)"
   ]
  },
  {
   "cell_type": "code",
   "execution_count": 54,
   "id": "71cf76f9",
   "metadata": {},
   "outputs": [
    {
     "data": {
      "text/plain": [
       "5.9"
      ]
     },
     "execution_count": 54,
     "metadata": {},
     "output_type": "execute_result"
    }
   ],
   "source": [
    "range_plen = max(plen1) - min(plen1)\n",
    "range_plen"
   ]
  },
  {
   "cell_type": "code",
   "execution_count": 55,
   "id": "5a609cad",
   "metadata": {},
   "outputs": [
    {
     "data": {
      "text/plain": [
       "2.969"
      ]
     },
     "execution_count": 55,
     "metadata": {},
     "output_type": "execute_result"
    }
   ],
   "source": [
    "np.var(plen1)"
   ]
  },
  {
   "cell_type": "code",
   "execution_count": 56,
   "id": "5985bd00",
   "metadata": {},
   "outputs": [
    {
     "data": {
      "text/plain": [
       "1.723"
      ]
     },
     "execution_count": 56,
     "metadata": {},
     "output_type": "execute_result"
    }
   ],
   "source": [
    "np.std(plen1)"
   ]
  },
  {
   "cell_type": "code",
   "execution_count": 57,
   "id": "2d7e7ab6",
   "metadata": {},
   "outputs": [],
   "source": [
    "#petal width"
   ]
  },
  {
   "cell_type": "code",
   "execution_count": 58,
   "id": "599c5899",
   "metadata": {},
   "outputs": [
    {
     "data": {
      "text/plain": [
       "array([[      nan,       nan,       nan,       nan],\n",
       "       [5.102e+00, 3.500e+00, 1.400e+00, 2.000e-01],\n",
       "       [4.898e+00, 3.000e+00, 1.400e+00, 2.000e-01],\n",
       "       [4.699e+00, 3.199e+00, 1.300e+00, 2.000e-01],\n",
       "       [4.602e+00, 3.100e+00, 1.500e+00, 1.020e+01],\n",
       "       [5.000e+01, 3.600e+00, 1.400e+00, 2.000e-01],\n",
       "       [5.398e+00,       nan, 1.700e+00, 3.999e-01],\n",
       "       [4.602e+00, 3.400e+00, 1.400e+00, 3.000e-01],\n",
       "       [5.000e+00, 3.400e+00, 1.500e+00, 2.000e-01],\n",
       "       [4.398e+00, 2.900e+00, 1.400e+00, 2.000e-01],\n",
       "       [4.898e+00, 3.100e+00,       nan, 9.998e-02],\n",
       "       [5.398e+00, 3.699e+00, 1.500e+00, 2.000e-01],\n",
       "       [4.801e+00, 3.400e+00, 1.600e+00, 2.000e-01],\n",
       "       [4.801e+00, 1.300e+02, 1.400e+00, 1.010e+01],\n",
       "       [4.301e+00, 3.000e+00, 1.100e+00, 9.998e-02],\n",
       "       [5.801e+00, 4.000e+00, 1.200e+00, 2.000e-01],\n",
       "       [5.699e+00, 4.398e+00, 1.500e+00, 3.999e-01],\n",
       "       [5.041e+01,       nan, 1.300e+00, 3.999e-01],\n",
       "       [5.102e+00, 3.500e+00, 1.400e+00, 3.000e-01],\n",
       "       [5.699e+00, 3.801e+00, 1.700e+00, 3.000e-01],\n",
       "       [5.102e+00, 3.801e+00, 1.500e+00, 3.000e-01],\n",
       "       [5.398e+00, 3.400e+00, 1.700e+00, 2.000e-01],\n",
       "       [5.102e+00, 3.699e+00, 1.500e+00, 3.999e-01],\n",
       "       [4.602e+00, 3.600e+00, 1.000e+00, 2.000e-01],\n",
       "       [5.102e+00, 3.301e+00, 1.700e+00, 5.000e-01],\n",
       "       [4.801e+00, 3.400e+00, 1.900e+00, 2.000e-01],\n",
       "       [5.000e+00, 3.000e+00, 1.600e+00, 2.000e-01],\n",
       "       [5.000e+00, 3.400e+01, 1.600e+00, 3.999e-01],\n",
       "       [5.199e+00, 3.500e+00, 1.500e+00, 2.000e-01],\n",
       "       [5.199e+00, 3.400e+00, 1.400e+00, 1.102e+02],\n",
       "       [4.699e+00, 3.199e+00, 1.600e+00, 2.000e-01],\n",
       "       [4.801e+00, 3.100e+00, 1.600e+00, 2.000e-01],\n",
       "       [5.398e+00, 3.400e+00, 1.500e+00, 3.999e-01],\n",
       "       [5.199e+00, 4.102e+00, 1.500e+00, 9.998e-02],\n",
       "       [5.500e+00, 4.199e+00, 1.400e+00, 2.000e-01],\n",
       "       [4.898e+00, 3.100e+00, 1.500e+00, 9.998e-02],\n",
       "       [5.000e+00, 3.199e+00, 1.200e+00, 2.000e-01],\n",
       "       [5.500e+00, 3.500e+00, 1.300e+00, 2.000e-01],\n",
       "       [4.898e+00, 3.100e+00, 1.500e+00, 9.998e-02],\n",
       "       [4.398e+00, 3.000e+00, 1.300e+00, 2.000e-01],\n",
       "       [5.102e+00, 3.400e+00, 1.500e+00, 2.000e-01],\n",
       "       [5.000e+00, 3.500e+00, 1.300e+00, 3.000e-01],\n",
       "       [4.500e+00, 2.301e+00, 1.300e+01, 3.000e-01],\n",
       "       [4.398e+00, 3.199e+00, 1.300e+00, 2.000e-01],\n",
       "       [5.000e+00, 3.500e+00, 1.600e+00, 6.001e-01],\n",
       "       [5.102e+00, 3.801e+00, 1.900e+00, 3.999e-01],\n",
       "       [4.801e+00, 3.000e+00, 1.400e+00, 3.000e-01],\n",
       "       [5.102e+00, 3.801e+00, 1.600e+00, 2.000e-01],\n",
       "       [4.602e+00, 3.199e+00, 1.400e+00, 2.000e-01],\n",
       "       [5.301e+00, 3.699e+00, 1.500e+00, 2.000e-01],\n",
       "       [5.000e+00, 3.301e+00, 1.400e+00, 2.000e-01],\n",
       "       [7.000e+00, 3.199e+00, 4.699e+00, 1.400e+00],\n",
       "       [6.398e+00, 3.199e+00, 4.500e+00, 1.500e+00],\n",
       "       [6.898e+00,       nan, 4.898e+00, 1.500e+00],\n",
       "       [5.500e+00, 2.301e+00, 4.000e+00, 1.300e+00],\n",
       "       [6.500e+00, 2.801e+00, 4.602e+00, 1.500e+00],\n",
       "       [5.699e+00, 2.801e+00, 4.500e+00, 1.300e+00],\n",
       "       [1.163e+02, 3.301e+00, 4.699e+00, 1.600e+00],\n",
       "       [4.898e+00, 2.400e+00, 3.301e+00, 1.600e+01],\n",
       "       [6.602e+00, 2.900e+00, 4.602e+00, 1.300e+00],\n",
       "       [5.199e+00, 2.699e+00, 3.900e+00, 1.400e+00],\n",
       "       [5.000e+00, 2.000e+00, 3.500e+00, 1.000e+00],\n",
       "       [5.898e+00, 3.000e+00, 4.199e+00, 1.500e+00],\n",
       "       [6.000e+00, 2.199e+00, 4.000e+00, 1.000e+00],\n",
       "       [6.102e+00, 2.900e+00, 4.699e+00, 1.400e+00],\n",
       "       [5.602e+00, 2.900e+00, 3.600e+00, 1.300e+00],\n",
       "       [6.699e+00, 3.100e+00, 4.398e+00, 1.400e+00],\n",
       "       [5.602e+00, 3.000e+00, 4.500e+00, 1.500e+00],\n",
       "       [5.801e+00, 2.699e+00, 4.102e+00, 1.000e+00],\n",
       "       [6.199e+00, 2.199e+00, 4.500e+00, 1.500e+00],\n",
       "       [5.602e+00, 2.500e+00, 3.900e+00, 1.100e+00],\n",
       "       [5.898e+00, 3.199e+00, 4.801e+00, 1.800e+00],\n",
       "       [6.102e+00, 2.801e+00, 4.000e+00, 1.300e+00],\n",
       "       [6.301e+00, 2.500e+00, 4.898e+00, 1.500e+00],\n",
       "       [6.102e+00,       nan, 4.699e+00, 1.200e+00],\n",
       "       [6.398e+00, 2.900e+00, 4.301e+00, 1.300e+00],\n",
       "       [6.602e+00, 3.000e+00, 4.398e+00, 1.400e+00],\n",
       "       [6.801e+00, 2.801e+00, 4.801e+00, 1.400e+00],\n",
       "       [6.699e+00, 3.000e+00, 5.000e+00, 1.700e+00],\n",
       "       [6.000e+00, 2.900e+00, 4.500e+00, 1.500e+00],\n",
       "       [5.699e+00, 2.600e+00, 3.500e+00, 1.000e+00],\n",
       "       [5.500e+00, 2.400e+00, 1.380e+01, 1.100e+00],\n",
       "       [5.500e+00, 2.400e+00, 3.699e+00, 1.000e+00],\n",
       "       [5.801e+00, 2.699e+00, 3.900e+00, 1.200e+00],\n",
       "       [6.000e+00, 2.699e+00, 5.102e+00, 1.600e+00],\n",
       "       [5.398e+00, 3.000e+00, 4.500e+00, 1.500e+00],\n",
       "       [6.000e+00, 3.400e+00, 4.500e+00, 1.600e+00],\n",
       "       [6.699e+00, 3.100e+00, 4.699e+00, 1.500e+00],\n",
       "       [6.301e+00, 2.301e+00, 4.398e+00, 1.300e+00],\n",
       "       [5.602e+00, 3.000e+00, 4.102e+00, 1.300e+00],\n",
       "       [5.500e+00, 2.500e+00, 4.000e+00, 1.300e+00],\n",
       "       [5.500e+00, 2.600e+00, 4.398e+00, 1.200e+00],\n",
       "       [6.102e+00, 3.000e+00,       nan, 1.400e+00],\n",
       "       [5.801e+00, 1.126e+02, 4.000e+00, 1.200e+00],\n",
       "       [5.000e+00, 2.301e+00, 3.301e+00, 1.000e+00],\n",
       "       [5.602e+00, 2.699e+00, 4.199e+00, 1.300e+00],\n",
       "       [5.699e+00, 3.000e+00, 4.199e+00, 1.200e+00],\n",
       "       [5.699e+00, 2.900e+00, 4.199e+00, 1.300e+00],\n",
       "       [6.199e+00, 2.900e+00, 4.301e+00, 1.300e+00],\n",
       "       [5.102e+00, 2.500e+00, 3.000e+00, 1.111e+02],\n",
       "       [5.699e+00, 2.801e+00, 4.102e+00, 1.300e+00],\n",
       "       [6.301e+00, 3.301e+00, 6.000e+00, 2.500e+00],\n",
       "       [5.801e+00, 2.699e+00, 5.102e+00, 1.900e+00],\n",
       "       [7.102e+00, 3.000e+00, 5.898e+00, 2.100e+00],\n",
       "       [6.301e+00, 2.900e+00, 5.602e+00, 1.800e+00],\n",
       "       [6.500e+00, 3.000e+00, 5.801e+00, 2.199e+00],\n",
       "       [7.602e+00, 3.000e+00, 6.602e+00, 2.100e+00],\n",
       "       [4.898e+00, 2.500e+00, 4.500e+00, 1.700e+00],\n",
       "       [7.301e+00, 2.900e+00, 6.301e+00, 1.800e+00],\n",
       "       [6.699e+00, 2.500e+00, 5.801e+00, 1.800e+00],\n",
       "       [7.199e+00, 3.600e+00, 6.102e+00, 2.500e+00],\n",
       "       [6.500e+00, 3.199e+00, 5.102e+00, 2.000e+00],\n",
       "       [6.398e+00, 2.699e+00, 5.301e+00, 1.900e+00],\n",
       "       [6.801e+00, 3.000e+00,       nan, 2.100e+00],\n",
       "       [5.699e+00, 2.500e+00, 5.000e+00, 2.000e+00],\n",
       "       [5.801e+00, 2.801e+00, 5.102e+00, 2.400e+00],\n",
       "       [6.398e+00, 3.199e+00, 5.301e+00, 2.301e+00],\n",
       "       [6.500e+00, 3.000e+00, 5.500e+00, 1.800e+00],\n",
       "       [7.699e+00, 3.801e+00, 6.699e+00, 2.199e+00],\n",
       "       [7.699e+00, 2.600e+00, 6.898e+00, 2.301e+00],\n",
       "       [6.000e+00, 2.199e+00, 5.000e+00, 1.500e+00],\n",
       "       [6.898e+00, 3.199e+00, 5.699e+00, 2.301e+00],\n",
       "       [5.602e+00, 2.801e+00, 4.898e+00, 2.000e+00],\n",
       "       [7.699e+00, 2.801e+00, 6.699e+00, 2.000e+00],\n",
       "       [6.301e+00, 2.699e+00, 4.898e+00, 1.800e+00],\n",
       "       [6.699e+00, 3.301e+00, 5.699e+00, 2.100e+00],\n",
       "       [7.199e+00, 3.199e+00, 6.000e+00, 1.800e+00],\n",
       "       [6.199e+00, 2.801e+00, 4.801e+00, 1.800e+00],\n",
       "       [6.102e+00, 3.000e+00, 4.898e+00, 1.800e+00],\n",
       "       [6.398e+00, 2.801e+00, 5.602e+00, 2.100e+00],\n",
       "       [7.019e+01, 3.000e+00, 5.801e+00, 1.600e+00],\n",
       "       [      nan, 2.801e+00, 6.102e+00, 1.900e+00],\n",
       "       [      nan, 3.801e+00,       nan, 2.000e+00],\n",
       "       [6.398e+00, 2.801e+00, 5.602e+00, 2.199e+00],\n",
       "       [6.301e+00, 2.801e+00, 5.102e+00, 1.500e+00],\n",
       "       [6.102e+00, 2.600e+00, 5.602e+00, 1.400e+00],\n",
       "       [7.699e+00, 3.000e+00, 6.102e+00, 2.301e+00],\n",
       "       [6.301e+00, 3.400e+00, 5.602e+00, 2.400e+00],\n",
       "       [6.398e+00,       nan, 5.500e+00, 1.800e+00],\n",
       "       [6.000e+00, 3.000e+00, 4.801e+00, 1.800e+00],\n",
       "       [6.898e+00, 3.100e+00, 5.398e+00, 2.100e+00],\n",
       "       [6.699e+00, 3.100e+00,       nan, 2.400e+00],\n",
       "       [6.898e+00, 3.100e+00, 5.102e+00, 2.301e+00],\n",
       "       [5.801e+00, 2.699e+00, 5.102e+00, 1.900e+00],\n",
       "       [6.801e+00, 3.199e+00, 5.898e+00, 2.301e+00],\n",
       "       [6.699e+00, 3.301e+00, 5.699e+00, 2.500e+00],\n",
       "       [6.699e+00,       nan,       nan, 2.301e+00],\n",
       "       [6.301e+00, 2.500e+00, 5.000e+00, 1.900e+00],\n",
       "       [6.500e+00, 3.000e+00, 5.199e+00, 2.000e+00],\n",
       "       [6.199e+00, 3.400e+00, 5.398e+00, 2.301e+00],\n",
       "       [5.898e+00, 3.000e+00, 5.102e+00, 1.800e+00],\n",
       "       [5.602e+00, 2.801e+00, 4.898e+00, 2.000e+00],\n",
       "       [7.699e+00, 2.801e+00, 6.699e+00, 2.000e+00],\n",
       "       [      nan, 2.699e+00, 4.898e+00, 1.800e+00],\n",
       "       [      nan, 3.301e+00, 5.699e+00, 2.100e+00],\n",
       "       [7.199e+00, 3.199e+00, 6.000e+00, 1.800e+00],\n",
       "       [4.898e+00, 2.500e+00, 4.500e+00, 1.700e+00],\n",
       "       [7.301e+00, 2.900e+00, 6.301e+00, 1.800e+00],\n",
       "       [6.699e+00, 2.500e+00, 5.801e+00, 1.800e+00],\n",
       "       [5.898e+00, 3.000e+00, 5.102e+00, 1.800e+00],\n",
       "       [5.602e+00, 2.801e+00, 4.898e+00, 2.000e+00],\n",
       "       [7.699e+00, 2.801e+00, 6.699e+00, 2.000e+00],\n",
       "       [6.301e+00, 2.699e+00, 4.898e+00, 1.800e+00],\n",
       "       [7.199e+00, 3.600e+00, 6.102e+00, 2.500e+00],\n",
       "       [6.500e+00, 3.199e+00, 5.102e+00, 2.000e+00],\n",
       "       [6.398e+00, 2.699e+00, 5.301e+00, 1.900e+00]], dtype=float16)"
      ]
     },
     "execution_count": 58,
     "metadata": {},
     "output_type": "execute_result"
    }
   ],
   "source": [
    "a"
   ]
  },
  {
   "cell_type": "code",
   "execution_count": 59,
   "id": "461610a4",
   "metadata": {},
   "outputs": [
    {
     "data": {
      "text/plain": [
       "array([2.000e-01, 2.000e-01, 2.000e-01, 1.020e+01, 2.000e-01, 3.999e-01,\n",
       "       3.000e-01, 2.000e-01, 2.000e-01, 9.998e-02, 2.000e-01, 2.000e-01,\n",
       "       1.010e+01, 9.998e-02, 2.000e-01, 3.999e-01, 3.999e-01, 3.000e-01,\n",
       "       3.000e-01, 3.000e-01, 2.000e-01, 3.999e-01, 2.000e-01, 5.000e-01,\n",
       "       2.000e-01, 2.000e-01, 3.999e-01, 2.000e-01, 1.102e+02, 2.000e-01,\n",
       "       2.000e-01, 3.999e-01, 9.998e-02, 2.000e-01, 9.998e-02, 2.000e-01,\n",
       "       2.000e-01, 9.998e-02, 2.000e-01, 2.000e-01, 3.000e-01, 3.000e-01,\n",
       "       2.000e-01, 6.001e-01, 3.999e-01, 3.000e-01, 2.000e-01, 2.000e-01,\n",
       "       2.000e-01, 2.000e-01, 1.400e+00, 1.500e+00, 1.500e+00, 1.300e+00,\n",
       "       1.500e+00, 1.300e+00, 1.600e+00, 1.600e+01, 1.300e+00, 1.400e+00,\n",
       "       1.000e+00, 1.500e+00, 1.000e+00, 1.400e+00, 1.300e+00, 1.400e+00,\n",
       "       1.500e+00, 1.000e+00, 1.500e+00, 1.100e+00, 1.800e+00, 1.300e+00,\n",
       "       1.500e+00, 1.200e+00, 1.300e+00, 1.400e+00, 1.400e+00, 1.700e+00,\n",
       "       1.500e+00, 1.000e+00, 1.100e+00, 1.000e+00, 1.200e+00, 1.600e+00,\n",
       "       1.500e+00, 1.600e+00, 1.500e+00, 1.300e+00, 1.300e+00, 1.300e+00,\n",
       "       1.200e+00, 1.400e+00, 1.200e+00, 1.000e+00, 1.300e+00, 1.200e+00,\n",
       "       1.300e+00, 1.300e+00, 1.111e+02, 1.300e+00, 2.500e+00, 1.900e+00,\n",
       "       2.100e+00, 1.800e+00, 2.199e+00, 2.100e+00, 1.700e+00, 1.800e+00,\n",
       "       1.800e+00, 2.500e+00, 2.000e+00, 1.900e+00, 2.100e+00, 2.000e+00,\n",
       "       2.400e+00, 2.301e+00, 1.800e+00, 2.199e+00, 2.301e+00, 1.500e+00,\n",
       "       2.301e+00, 2.000e+00, 2.000e+00, 1.800e+00, 2.100e+00, 1.800e+00,\n",
       "       1.800e+00, 1.800e+00, 2.100e+00, 1.600e+00, 1.900e+00, 2.000e+00,\n",
       "       2.199e+00, 1.500e+00, 1.400e+00, 2.301e+00, 2.400e+00, 1.800e+00,\n",
       "       1.800e+00, 2.100e+00, 2.400e+00, 2.301e+00, 1.900e+00, 2.301e+00,\n",
       "       2.500e+00, 2.301e+00, 1.900e+00, 2.000e+00, 2.301e+00, 1.800e+00,\n",
       "       2.000e+00, 2.000e+00, 1.800e+00, 2.100e+00, 1.800e+00, 1.700e+00,\n",
       "       1.800e+00, 1.800e+00, 1.800e+00, 2.000e+00, 2.000e+00, 1.800e+00,\n",
       "       2.500e+00, 2.000e+00, 1.900e+00], dtype=float16)"
      ]
     },
     "execution_count": 59,
     "metadata": {},
     "output_type": "execute_result"
    }
   ],
   "source": [
    "pwid = a[1:,3]\n",
    "pwid"
   ]
  },
  {
   "cell_type": "code",
   "execution_count": 60,
   "id": "1717e311",
   "metadata": {},
   "outputs": [
    {
     "data": {
      "text/plain": [
       "array([False, False, False, False, False, False, False, False, False,\n",
       "       False, False, False, False, False, False, False, False, False,\n",
       "       False, False, False, False, False, False, False, False, False,\n",
       "       False, False, False, False, False, False, False, False, False,\n",
       "       False, False, False, False, False, False, False, False, False,\n",
       "       False, False, False, False, False, False, False, False, False,\n",
       "       False, False, False, False, False, False, False, False, False,\n",
       "       False, False, False, False, False, False, False, False, False,\n",
       "       False, False, False, False, False, False, False, False, False,\n",
       "       False, False, False, False, False, False, False, False, False,\n",
       "       False, False, False, False, False, False, False, False, False,\n",
       "       False, False, False, False, False, False, False, False, False,\n",
       "       False, False, False, False, False, False, False, False, False,\n",
       "       False, False, False, False, False, False, False, False, False,\n",
       "       False, False, False, False, False, False, False, False, False,\n",
       "       False, False, False, False, False, False, False, False, False,\n",
       "       False, False, False, False, False, False, False, False, False,\n",
       "       False, False, False, False, False, False, False, False, False,\n",
       "       False, False, False])"
      ]
     },
     "execution_count": 60,
     "metadata": {},
     "output_type": "execute_result"
    }
   ],
   "source": [
    "np.isnan(pwid) #no missing values"
   ]
  },
  {
   "cell_type": "code",
   "execution_count": 61,
   "id": "69854b5d",
   "metadata": {},
   "outputs": [],
   "source": [
    "#outliers"
   ]
  },
  {
   "cell_type": "markdown",
   "id": "feac8665",
   "metadata": {},
   "source": [
    "IQRpwid = q3pwid - q1pwid"
   ]
  },
  {
   "cell_type": "code",
   "execution_count": 62,
   "id": "5250aba2",
   "metadata": {},
   "outputs": [],
   "source": [
    "q1pwid = np.percentile(pwid,25)\n",
    "q3pwid = np.percentile(pwid,75)"
   ]
  },
  {
   "cell_type": "code",
   "execution_count": 63,
   "id": "8d17ed4c",
   "metadata": {},
   "outputs": [
    {
     "data": {
      "text/plain": [
       "1.50048828125"
      ]
     },
     "execution_count": 63,
     "metadata": {},
     "output_type": "execute_result"
    }
   ],
   "source": [
    "IQRpwid = q3pwid - q1pwid\n",
    "IQRpwid"
   ]
  },
  {
   "cell_type": "code",
   "execution_count": 64,
   "id": "13ea2f22",
   "metadata": {},
   "outputs": [],
   "source": [
    "lowerpwid = q1pwid-(1.5*IQRpwid)\n",
    "upperpwid = q3pwid +(1.5*IQRpwid)"
   ]
  },
  {
   "cell_type": "code",
   "execution_count": 65,
   "id": "823ce0aa",
   "metadata": {},
   "outputs": [
    {
     "data": {
      "text/plain": [
       "array([], dtype=float16)"
      ]
     },
     "execution_count": 65,
     "metadata": {},
     "output_type": "execute_result"
    }
   ],
   "source": [
    "pwid[pwid<lowerpwid]"
   ]
  },
  {
   "cell_type": "code",
   "execution_count": 66,
   "id": "efa2dfc2",
   "metadata": {},
   "outputs": [
    {
     "data": {
      "text/plain": [
       "array([ 10.2,  10.1, 110.2,  16. , 111.1], dtype=float16)"
      ]
     },
     "execution_count": 66,
     "metadata": {},
     "output_type": "execute_result"
    }
   ],
   "source": [
    "pwid[pwid>upperpwid]"
   ]
  },
  {
   "cell_type": "code",
   "execution_count": 67,
   "id": "82fe6473",
   "metadata": {},
   "outputs": [
    {
     "data": {
      "text/plain": [
       "1.5"
      ]
     },
     "execution_count": 67,
     "metadata": {},
     "output_type": "execute_result"
    }
   ],
   "source": [
    "np.median(pwid)"
   ]
  },
  {
   "cell_type": "code",
   "execution_count": 68,
   "id": "7fc42bbd",
   "metadata": {},
   "outputs": [],
   "source": [
    "pwid1 = np.where((pwid>upperpwid),np.median(pwid),pwid)"
   ]
  },
  {
   "cell_type": "code",
   "execution_count": 69,
   "id": "024dd316",
   "metadata": {},
   "outputs": [
    {
     "data": {
      "text/plain": [
       "array([0.2, 0.2, 0.2, 1.5, 0.2, 0.4, 0.3, 0.2, 0.2, 0.1, 0.2, 0.2, 1.5,\n",
       "       0.1, 0.2, 0.4, 0.4, 0.3, 0.3, 0.3, 0.2, 0.4, 0.2, 0.5, 0.2, 0.2,\n",
       "       0.4, 0.2, 1.5, 0.2, 0.2, 0.4, 0.1, 0.2, 0.1, 0.2, 0.2, 0.1, 0.2,\n",
       "       0.2, 0.3, 0.3, 0.2, 0.6, 0.4, 0.3, 0.2, 0.2, 0.2, 0.2, 1.4, 1.5,\n",
       "       1.5, 1.3, 1.5, 1.3, 1.6, 1.5, 1.3, 1.4, 1. , 1.5, 1. , 1.4, 1.3,\n",
       "       1.4, 1.5, 1. , 1.5, 1.1, 1.8, 1.3, 1.5, 1.2, 1.3, 1.4, 1.4, 1.7,\n",
       "       1.5, 1. , 1.1, 1. , 1.2, 1.6, 1.5, 1.6, 1.5, 1.3, 1.3, 1.3, 1.2,\n",
       "       1.4, 1.2, 1. , 1.3, 1.2, 1.3, 1.3, 1.5, 1.3, 2.5, 1.9, 2.1, 1.8,\n",
       "       2.2, 2.1, 1.7, 1.8, 1.8, 2.5, 2. , 1.9, 2.1, 2. , 2.4, 2.3, 1.8,\n",
       "       2.2, 2.3, 1.5, 2.3, 2. , 2. , 1.8, 2.1, 1.8, 1.8, 1.8, 2.1, 1.6,\n",
       "       1.9, 2. , 2.2, 1.5, 1.4, 2.3, 2.4, 1.8, 1.8, 2.1, 2.4, 2.3, 1.9,\n",
       "       2.3, 2.5, 2.3, 1.9, 2. , 2.3, 1.8, 2. , 2. , 1.8, 2.1, 1.8, 1.7,\n",
       "       1.8, 1.8, 1.8, 2. , 2. , 1.8, 2.5, 2. , 1.9], dtype=float16)"
      ]
     },
     "execution_count": 69,
     "metadata": {},
     "output_type": "execute_result"
    }
   ],
   "source": [
    "pwid1"
   ]
  },
  {
   "cell_type": "code",
   "execution_count": 70,
   "id": "9e830d70",
   "metadata": {},
   "outputs": [
    {
     "data": {
      "text/plain": [
       "1.295"
      ]
     },
     "execution_count": 70,
     "metadata": {},
     "output_type": "execute_result"
    }
   ],
   "source": [
    "np.mean(pwid1)"
   ]
  },
  {
   "cell_type": "code",
   "execution_count": 71,
   "id": "7c368986",
   "metadata": {},
   "outputs": [
    {
     "data": {
      "text/plain": [
       "2.4"
      ]
     },
     "execution_count": 71,
     "metadata": {},
     "output_type": "execute_result"
    }
   ],
   "source": [
    "range_pwid = max(pwid1) - min(pwid1)\n",
    "range_pwid"
   ]
  },
  {
   "cell_type": "code",
   "execution_count": 72,
   "id": "a07bb664",
   "metadata": {},
   "outputs": [
    {
     "data": {
      "text/plain": [
       "0.552"
      ]
     },
     "execution_count": 72,
     "metadata": {},
     "output_type": "execute_result"
    }
   ],
   "source": [
    "np.var(pwid1)"
   ]
  },
  {
   "cell_type": "code",
   "execution_count": 73,
   "id": "fcf5db5c",
   "metadata": {},
   "outputs": [
    {
     "data": {
      "text/plain": [
       "0.7427"
      ]
     },
     "execution_count": 73,
     "metadata": {},
     "output_type": "execute_result"
    }
   ],
   "source": [
    "np.std(pwid1)"
   ]
  },
  {
   "cell_type": "code",
   "execution_count": 74,
   "id": "1e0bf281",
   "metadata": {},
   "outputs": [],
   "source": [
    "#saving in text file"
   ]
  },
  {
   "cell_type": "code",
   "execution_count": 76,
   "id": "319c70e0",
   "metadata": {},
   "outputs": [],
   "source": [
    "datairis = np.array((slen1,swid1,plen1,pwid1))"
   ]
  },
  {
   "cell_type": "code",
   "execution_count": 77,
   "id": "5e3f0291",
   "metadata": {},
   "outputs": [],
   "source": [
    "np.savetxt('cleaned_iris.txt',datairis)"
   ]
  },
  {
   "cell_type": "code",
   "execution_count": 78,
   "id": "7a891d76",
   "metadata": {},
   "outputs": [
    {
     "data": {
      "text/plain": [
       "array([[5.1015625 , 4.8984375 , 4.69921875, 4.6015625 , 5.80078125,\n",
       "        5.3984375 , 4.6015625 , 5.        , 4.3984375 , 4.8984375 ,\n",
       "        5.3984375 , 4.80078125, 4.80078125, 4.30078125, 5.80078125,\n",
       "        5.69921875, 5.80078125, 5.1015625 , 5.69921875, 5.1015625 ,\n",
       "        5.3984375 , 5.1015625 , 4.6015625 , 5.1015625 , 4.80078125,\n",
       "        5.        , 5.        , 5.19921875, 5.19921875, 4.69921875,\n",
       "        4.80078125, 5.3984375 , 5.19921875, 5.5       , 4.8984375 ,\n",
       "        5.        , 5.5       , 4.8984375 , 4.3984375 , 5.1015625 ,\n",
       "        5.        , 4.5       , 4.3984375 , 5.        , 5.1015625 ,\n",
       "        4.80078125, 5.1015625 , 4.6015625 , 5.30078125, 5.        ,\n",
       "        7.        , 6.3984375 , 6.8984375 , 5.5       , 6.5       ,\n",
       "        5.69921875, 5.80078125, 4.8984375 , 6.6015625 , 5.19921875,\n",
       "        5.        , 5.8984375 , 6.        , 6.1015625 , 5.6015625 ,\n",
       "        6.69921875, 5.6015625 , 5.80078125, 6.19921875, 5.6015625 ,\n",
       "        5.8984375 , 6.1015625 , 6.30078125, 6.1015625 , 6.3984375 ,\n",
       "        6.6015625 , 6.80078125, 6.69921875, 6.        , 5.69921875,\n",
       "        5.5       , 5.5       , 5.80078125, 6.        , 5.3984375 ,\n",
       "        6.        , 6.69921875, 6.30078125, 5.6015625 , 5.5       ,\n",
       "        5.5       , 6.1015625 , 5.80078125, 5.        , 5.6015625 ,\n",
       "        5.69921875, 5.69921875, 6.19921875, 5.1015625 , 5.69921875,\n",
       "        6.30078125, 5.80078125, 7.1015625 , 6.30078125, 6.5       ,\n",
       "        7.6015625 , 4.8984375 , 7.30078125, 6.69921875, 7.19921875,\n",
       "        6.5       , 6.3984375 , 6.80078125, 5.69921875, 5.80078125,\n",
       "        6.3984375 , 6.5       , 7.69921875, 7.69921875, 6.        ,\n",
       "        6.8984375 , 5.6015625 , 7.69921875, 6.30078125, 6.69921875,\n",
       "        7.19921875, 6.19921875, 6.1015625 , 6.3984375 , 5.80078125,\n",
       "        5.80078125, 5.80078125, 6.3984375 , 6.30078125, 6.1015625 ,\n",
       "        7.69921875, 6.30078125, 6.3984375 , 6.        , 6.8984375 ,\n",
       "        6.69921875, 6.8984375 , 5.80078125, 6.80078125, 6.69921875,\n",
       "        6.69921875, 6.30078125, 6.5       , 6.19921875, 5.8984375 ,\n",
       "        5.6015625 , 7.69921875, 5.80078125, 5.80078125, 7.19921875,\n",
       "        4.8984375 , 7.30078125, 6.69921875, 5.8984375 , 5.6015625 ,\n",
       "        7.69921875, 6.30078125, 7.19921875, 6.5       , 6.3984375 ],\n",
       "       [3.5       , 3.        , 3.19921875, 3.09960938, 3.59960938,\n",
       "        3.        , 3.40039062, 3.40039062, 2.90039062, 3.09960938,\n",
       "        3.69921875, 3.40039062, 3.        , 3.        , 4.        ,\n",
       "        3.        , 3.        , 3.5       , 3.80078125, 3.80078125,\n",
       "        3.40039062, 3.69921875, 3.59960938, 3.30078125, 3.40039062,\n",
       "        3.        , 3.        , 3.5       , 3.40039062, 3.19921875,\n",
       "        3.09960938, 3.40039062, 3.        , 3.        , 3.09960938,\n",
       "        3.19921875, 3.5       , 3.09960938, 3.        , 3.40039062,\n",
       "        3.5       , 2.30078125, 3.19921875, 3.5       , 3.80078125,\n",
       "        3.        , 3.80078125, 3.19921875, 3.69921875, 3.30078125,\n",
       "        3.19921875, 3.19921875, 3.        , 2.30078125, 2.80078125,\n",
       "        2.80078125, 3.30078125, 2.40039062, 2.90039062, 2.69921875,\n",
       "        3.        , 3.        , 2.19921875, 2.90039062, 2.90039062,\n",
       "        3.09960938, 3.        , 2.69921875, 2.19921875, 2.5       ,\n",
       "        3.19921875, 2.80078125, 2.5       , 3.        , 2.90039062,\n",
       "        3.        , 2.80078125, 3.        , 2.90039062, 2.59960938,\n",
       "        2.40039062, 2.40039062, 2.69921875, 2.69921875, 3.        ,\n",
       "        3.40039062, 3.09960938, 2.30078125, 3.        , 2.5       ,\n",
       "        2.59960938, 3.        , 3.        , 2.30078125, 2.69921875,\n",
       "        3.        , 2.90039062, 2.90039062, 2.5       , 2.80078125,\n",
       "        3.30078125, 2.69921875, 3.        , 2.90039062, 3.        ,\n",
       "        3.        , 2.5       , 2.90039062, 2.5       , 3.59960938,\n",
       "        3.19921875, 2.69921875, 3.        , 2.5       , 2.80078125,\n",
       "        3.19921875, 3.        , 3.80078125, 2.59960938, 2.19921875,\n",
       "        3.19921875, 2.80078125, 2.80078125, 2.69921875, 3.30078125,\n",
       "        3.19921875, 2.80078125, 3.        , 2.80078125, 3.        ,\n",
       "        2.80078125, 3.80078125, 2.80078125, 2.80078125, 2.59960938,\n",
       "        3.        , 3.40039062, 3.        , 3.        , 3.09960938,\n",
       "        3.09960938, 3.09960938, 2.69921875, 3.19921875, 3.30078125,\n",
       "        3.        , 2.5       , 3.        , 3.40039062, 3.        ,\n",
       "        2.80078125, 2.80078125, 2.69921875, 3.30078125, 3.19921875,\n",
       "        2.5       , 2.90039062, 2.5       , 3.        , 2.80078125,\n",
       "        2.80078125, 2.69921875, 3.59960938, 3.19921875, 2.69921875],\n",
       "       [1.40039062, 1.40039062, 1.29980469, 1.5       , 1.40039062,\n",
       "        1.70019531, 1.40039062, 1.5       , 1.40039062, 4.5       ,\n",
       "        1.5       , 1.59960938, 1.40039062, 1.09960938, 1.20019531,\n",
       "        1.5       , 1.29980469, 1.40039062, 1.70019531, 1.5       ,\n",
       "        1.70019531, 1.5       , 1.        , 1.70019531, 1.90039062,\n",
       "        1.59960938, 1.59960938, 1.5       , 1.40039062, 1.59960938,\n",
       "        1.59960938, 1.5       , 1.5       , 1.40039062, 1.5       ,\n",
       "        1.20019531, 1.29980469, 1.5       , 1.29980469, 1.5       ,\n",
       "        1.29980469, 4.5       , 1.29980469, 1.59960938, 1.90039062,\n",
       "        1.40039062, 1.59960938, 1.40039062, 1.5       , 1.40039062,\n",
       "        4.69921875, 4.5       , 4.8984375 , 4.        , 4.6015625 ,\n",
       "        4.5       , 4.69921875, 3.30078125, 4.6015625 , 3.90039062,\n",
       "        3.5       , 4.19921875, 4.        , 4.69921875, 3.59960938,\n",
       "        4.3984375 , 4.5       , 4.1015625 , 4.5       , 3.90039062,\n",
       "        4.80078125, 4.        , 4.8984375 , 4.69921875, 4.30078125,\n",
       "        4.3984375 , 4.80078125, 5.        , 4.5       , 3.5       ,\n",
       "        4.5       , 3.69921875, 3.90039062, 5.1015625 , 4.5       ,\n",
       "        4.5       , 4.69921875, 4.3984375 , 4.1015625 , 4.        ,\n",
       "        4.3984375 , 4.5       , 4.        , 3.30078125, 4.19921875,\n",
       "        4.19921875, 4.19921875, 4.30078125, 3.        , 4.1015625 ,\n",
       "        6.        , 5.1015625 , 5.8984375 , 5.6015625 , 5.80078125,\n",
       "        6.6015625 , 4.5       , 6.30078125, 5.80078125, 6.1015625 ,\n",
       "        5.1015625 , 5.30078125, 4.5       , 5.        , 5.1015625 ,\n",
       "        5.30078125, 5.5       , 6.69921875, 6.8984375 , 5.        ,\n",
       "        5.69921875, 4.8984375 , 6.69921875, 4.8984375 , 5.69921875,\n",
       "        6.        , 4.80078125, 4.8984375 , 5.6015625 , 5.80078125,\n",
       "        6.1015625 , 4.5       , 5.6015625 , 5.1015625 , 5.6015625 ,\n",
       "        6.1015625 , 5.6015625 , 5.5       , 4.80078125, 5.3984375 ,\n",
       "        4.5       , 5.1015625 , 5.1015625 , 5.8984375 , 5.69921875,\n",
       "        4.5       , 5.        , 5.19921875, 5.3984375 , 5.1015625 ,\n",
       "        4.8984375 , 6.69921875, 4.8984375 , 5.69921875, 6.        ,\n",
       "        4.5       , 6.30078125, 5.80078125, 5.1015625 , 4.8984375 ,\n",
       "        6.69921875, 4.8984375 , 6.1015625 , 5.1015625 , 5.30078125],\n",
       "       [0.19995117, 0.19995117, 0.19995117, 1.5       , 0.19995117,\n",
       "        0.39990234, 0.30004883, 0.19995117, 0.19995117, 0.09997559,\n",
       "        0.19995117, 0.19995117, 1.5       , 0.09997559, 0.19995117,\n",
       "        0.39990234, 0.39990234, 0.30004883, 0.30004883, 0.30004883,\n",
       "        0.19995117, 0.39990234, 0.19995117, 0.5       , 0.19995117,\n",
       "        0.19995117, 0.39990234, 0.19995117, 1.5       , 0.19995117,\n",
       "        0.19995117, 0.39990234, 0.09997559, 0.19995117, 0.09997559,\n",
       "        0.19995117, 0.19995117, 0.09997559, 0.19995117, 0.19995117,\n",
       "        0.30004883, 0.30004883, 0.19995117, 0.60009766, 0.39990234,\n",
       "        0.30004883, 0.19995117, 0.19995117, 0.19995117, 0.19995117,\n",
       "        1.40039062, 1.5       , 1.5       , 1.29980469, 1.5       ,\n",
       "        1.29980469, 1.59960938, 1.5       , 1.29980469, 1.40039062,\n",
       "        1.        , 1.5       , 1.        , 1.40039062, 1.29980469,\n",
       "        1.40039062, 1.5       , 1.        , 1.5       , 1.09960938,\n",
       "        1.79980469, 1.29980469, 1.5       , 1.20019531, 1.29980469,\n",
       "        1.40039062, 1.40039062, 1.70019531, 1.5       , 1.        ,\n",
       "        1.09960938, 1.        , 1.20019531, 1.59960938, 1.5       ,\n",
       "        1.59960938, 1.5       , 1.29980469, 1.29980469, 1.29980469,\n",
       "        1.20019531, 1.40039062, 1.20019531, 1.        , 1.29980469,\n",
       "        1.20019531, 1.29980469, 1.29980469, 1.5       , 1.29980469,\n",
       "        2.5       , 1.90039062, 2.09960938, 1.79980469, 2.19921875,\n",
       "        2.09960938, 1.70019531, 1.79980469, 1.79980469, 2.5       ,\n",
       "        2.        , 1.90039062, 2.09960938, 2.        , 2.40039062,\n",
       "        2.30078125, 1.79980469, 2.19921875, 2.30078125, 1.5       ,\n",
       "        2.30078125, 2.        , 2.        , 1.79980469, 2.09960938,\n",
       "        1.79980469, 1.79980469, 1.79980469, 2.09960938, 1.59960938,\n",
       "        1.90039062, 2.        , 2.19921875, 1.5       , 1.40039062,\n",
       "        2.30078125, 2.40039062, 1.79980469, 1.79980469, 2.09960938,\n",
       "        2.40039062, 2.30078125, 1.90039062, 2.30078125, 2.5       ,\n",
       "        2.30078125, 1.90039062, 2.        , 2.30078125, 1.79980469,\n",
       "        2.        , 2.        , 1.79980469, 2.09960938, 1.79980469,\n",
       "        1.70019531, 1.79980469, 1.79980469, 1.79980469, 2.        ,\n",
       "        2.        , 1.79980469, 2.5       , 2.        , 1.90039062]])"
      ]
     },
     "execution_count": 78,
     "metadata": {},
     "output_type": "execute_result"
    }
   ],
   "source": [
    "np.loadtxt('cleaned_iris.txt')"
   ]
  },
  {
   "cell_type": "code",
   "execution_count": null,
   "id": "f9410ea6",
   "metadata": {},
   "outputs": [],
   "source": []
  },
  {
   "cell_type": "code",
   "execution_count": null,
   "id": "bd242437",
   "metadata": {},
   "outputs": [],
   "source": []
  }
 ],
 "metadata": {
  "kernelspec": {
   "display_name": "Python 3 (ipykernel)",
   "language": "python",
   "name": "python3"
  },
  "language_info": {
   "codemirror_mode": {
    "name": "ipython",
    "version": 3
   },
   "file_extension": ".py",
   "mimetype": "text/x-python",
   "name": "python",
   "nbconvert_exporter": "python",
   "pygments_lexer": "ipython3",
   "version": "3.11.4"
  }
 },
 "nbformat": 4,
 "nbformat_minor": 5
}
