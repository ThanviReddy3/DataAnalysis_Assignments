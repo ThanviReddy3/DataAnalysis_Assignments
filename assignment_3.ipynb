{
 "cells": [
  {
   "attachments": {},
   "cell_type": "markdown",
   "id": "7b89f886",
   "metadata": {},
   "source": [
    "Assignment Tasks on String Escape Characters, Indexing, and Slicing:\n",
    "\n",
    "**String Escape Characters:**\n",
    "\n",
    "Task 1:\n",
    "1. Create a string containing a sentence that includes both single and double quotes.\n",
    "\n",
    "\n",
    "2. Use escape characters to include quotes within the string.\n",
    "3. Print the modified string.\n",
    "\n",
    "Task 2:\n",
    "1. Declare a string with a backslash \\ character in it.\n",
    "2. Demonstrate the use of the escape character to print the backslash itself.\n",
    "3. Print the resulting string.\n",
    "\n",
    "Task 3:\n",
    "1. Construct a string containing newline and tab escape sequences.\n",
    "2. Print the string to display the formatted output.\n",
    "\n",
    "**Indexing and Slicing:**\n",
    "\n",
    "Task 4:\n",
    "1.  sentence = \"I want to become Data Scientist\".\n",
    "2. Access and print the `first character` of the string using indexing.\n",
    "3. Access and print the `last character` of the string using negative indexing.\n",
    "\n",
    "Task 5:\n",
    "1. What are `possible ways` yo extract `Scientist`(use forward and reverse)\n",
    "2. Use slicing to extract and print the `first word` from the string.\n",
    "3. Use slicing to extract and print the `last three` characters of the string.\n",
    "\n",
    "Task 6:\n",
    "1. name = \"Innomatics Reserach Labs\"\n",
    "2. Apply slicing to extract a substring that includes the `second to fifth` characters.\n",
    "3. `Print` the extracted substring.\n",
    "\n",
    "Task 7:\n",
    "1. string = \"Python@1234\"\n",
    "2. Use slicing to extract every second character from the string.\n",
    "3. Print the resulting sliced string.\n",
    "\n",
    "Task 8:\n",
    "1.  print last five letters.\n",
    "2. Utilize slicing to reverse the word order in the string.\n",
    "3. Print the string with the words in the reversed order.\n",
    "\n",
    "Task 9:\n",
    "1. a = \"123123123\"\n",
    "2. Apply slicing to extract only the numeric characters at odd positions.\n",
    "3. Print the sliced result.\n",
    "\n",
    "Remember to include explanations or comments for each task's code to ensure clarity. Additionally, encourage students to experiment further with different escape characters and slicing techniques beyond the provided tasks to deepen their understanding."
   ]
  },
  {
   "cell_type": "markdown",
   "id": "db8b554a",
   "metadata": {},
   "source": [
    "## task 1 "
   ]
  },
  {
   "cell_type": "markdown",
   "id": "d9e4d720",
   "metadata": {},
   "source": [
    "1. Create a string containing a sentence that includes both single and double quotes.\n",
    "2. Use escape characters to include quotes within the string.\n",
    "3. Print the modified string."
   ]
  },
  {
   "cell_type": "markdown",
   "id": "cbfcd93c",
   "metadata": {},
   "source": [
    "#### single quote"
   ]
  },
  {
   "cell_type": "code",
   "execution_count": 9,
   "id": "c0da6257",
   "metadata": {},
   "outputs": [],
   "source": [
    "name = \"this is a 'lenova' laptop\""
   ]
  },
  {
   "cell_type": "code",
   "execution_count": 10,
   "id": "6e34cb8b",
   "metadata": {},
   "outputs": [
    {
     "name": "stdout",
     "output_type": "stream",
     "text": [
      "this is a 'lenova' laptop\n"
     ]
    }
   ],
   "source": [
    "print(name)"
   ]
  },
  {
   "cell_type": "markdown",
   "id": "5e8a22d0",
   "metadata": {},
   "source": [
    "#### double qoute "
   ]
  },
  {
   "cell_type": "code",
   "execution_count": 13,
   "id": "de120600",
   "metadata": {},
   "outputs": [],
   "source": [
    "name1 = \"this is a \\\"lenova\\\" laptop\""
   ]
  },
  {
   "cell_type": "code",
   "execution_count": 14,
   "id": "d2fd9ba2",
   "metadata": {},
   "outputs": [
    {
     "name": "stdout",
     "output_type": "stream",
     "text": [
      "this is a \"lenova\" laptop\n"
     ]
    }
   ],
   "source": [
    "print(name1)"
   ]
  },
  {
   "cell_type": "markdown",
   "id": "3c159843",
   "metadata": {},
   "source": [
    "## Task 2"
   ]
  },
  {
   "cell_type": "markdown",
   "id": "a96ce043",
   "metadata": {},
   "source": [
    "1. Declare a string with a backslash \\ character in it.\n",
    "2. Demonstrate the use of the escape character to print the backslash itself.\n",
    "3. Print the resulting string."
   ]
  },
  {
   "cell_type": "code",
   "execution_count": 18,
   "id": "e7a2287a",
   "metadata": {},
   "outputs": [],
   "source": [
    "str = \"add backslash\\\\ in a string\""
   ]
  },
  {
   "cell_type": "code",
   "execution_count": 19,
   "id": "32660545",
   "metadata": {},
   "outputs": [
    {
     "name": "stdout",
     "output_type": "stream",
     "text": [
      "add backslash\\ in a string\n"
     ]
    }
   ],
   "source": [
    "print (str)"
   ]
  },
  {
   "cell_type": "markdown",
   "id": "5d93a600",
   "metadata": {},
   "source": [
    "## Task 3"
   ]
  },
  {
   "cell_type": "markdown",
   "id": "771fa48a",
   "metadata": {},
   "source": [
    "1. Construct a string containing newline and tab escape sequences.\n",
    "2. Print the string to display the formatted output."
   ]
  },
  {
   "cell_type": "code",
   "execution_count": 20,
   "id": "41b0efa9",
   "metadata": {},
   "outputs": [],
   "source": [
    "name = \"Iam a data scientist\\nIam a data analyst\""
   ]
  },
  {
   "cell_type": "code",
   "execution_count": 21,
   "id": "2d749304",
   "metadata": {},
   "outputs": [
    {
     "name": "stdout",
     "output_type": "stream",
     "text": [
      "Iam a data scientist\n",
      "Iam a data analyst\n"
     ]
    }
   ],
   "source": [
    "print(name)"
   ]
  },
  {
   "cell_type": "code",
   "execution_count": 44,
   "id": "66439664",
   "metadata": {},
   "outputs": [],
   "source": [
    "name = \"Iam\\ta\\tdata\\tscientist\\tIam\\ta\\tdata\\tanalyst\""
   ]
  },
  {
   "cell_type": "code",
   "execution_count": 45,
   "id": "48cdaa1d",
   "metadata": {},
   "outputs": [
    {
     "name": "stdout",
     "output_type": "stream",
     "text": [
      "Iam\ta\tdata\tscientist\tIam\ta\tdata\tanalyst\n"
     ]
    }
   ],
   "source": [
    "print(name)"
   ]
  },
  {
   "cell_type": "markdown",
   "id": "b02ff449",
   "metadata": {},
   "source": [
    "## Task 4"
   ]
  },
  {
   "cell_type": "markdown",
   "id": "fb3c49f0",
   "metadata": {},
   "source": [
    "1.  sentence = \"I want to become Data Scientist\".\n",
    "2. Access and print the `first character` of the string using indexing.\n",
    "3. Access and print the `last character` of the string using negative indexing.\n"
   ]
  },
  {
   "cell_type": "code",
   "execution_count": 22,
   "id": "f387b02f",
   "metadata": {},
   "outputs": [],
   "source": [
    "sentence = \"I want to become Data Scientist\""
   ]
  },
  {
   "cell_type": "code",
   "execution_count": 25,
   "id": "eb93fac0",
   "metadata": {},
   "outputs": [
    {
     "data": {
      "text/plain": [
       "'I'"
      ]
     },
     "execution_count": 25,
     "metadata": {},
     "output_type": "execute_result"
    }
   ],
   "source": [
    "sentence[0]"
   ]
  },
  {
   "cell_type": "code",
   "execution_count": 26,
   "id": "8cf0e331",
   "metadata": {},
   "outputs": [],
   "source": [
    "sentence = \"I want to become Data Scientist\""
   ]
  },
  {
   "cell_type": "code",
   "execution_count": 27,
   "id": "7c920e51",
   "metadata": {},
   "outputs": [
    {
     "data": {
      "text/plain": [
       "'t'"
      ]
     },
     "execution_count": 27,
     "metadata": {},
     "output_type": "execute_result"
    }
   ],
   "source": [
    "sentence[-1]"
   ]
  },
  {
   "cell_type": "markdown",
   "id": "f0ae81f9",
   "metadata": {},
   "source": [
    "## Task 5"
   ]
  },
  {
   "cell_type": "markdown",
   "id": "002496b7",
   "metadata": {},
   "source": [
    "1. What are `possible ways` yo extract `Scientist`(use forward and reverse)\n",
    "2. Use slicing to extract and print the `first word` from the string.\n",
    "3. Use slicing to extract and print the `last three` characters of the string.\n"
   ]
  },
  {
   "cell_type": "code",
   "execution_count": 28,
   "id": "c010b0cc",
   "metadata": {},
   "outputs": [],
   "source": [
    "sentence = \"I want to become Data Scientist\""
   ]
  },
  {
   "cell_type": "code",
   "execution_count": 56,
   "id": "779f9b4c",
   "metadata": {},
   "outputs": [
    {
     "data": {
      "text/plain": [
       "'Scientist'"
      ]
     },
     "execution_count": 56,
     "metadata": {},
     "output_type": "execute_result"
    }
   ],
   "source": [
    "sentence[22:32:1]"
   ]
  },
  {
   "cell_type": "code",
   "execution_count": 57,
   "id": "6f49214d",
   "metadata": {},
   "outputs": [
    {
     "data": {
      "text/plain": [
       "'tsitneic'"
      ]
     },
     "execution_count": 57,
     "metadata": {},
     "output_type": "execute_result"
    }
   ],
   "source": [
    "sentence[-1:-9:-1]"
   ]
  },
  {
   "cell_type": "code",
   "execution_count": 58,
   "id": "a58c3d93",
   "metadata": {},
   "outputs": [
    {
     "data": {
      "text/plain": [
       "'I'"
      ]
     },
     "execution_count": 58,
     "metadata": {},
     "output_type": "execute_result"
    }
   ],
   "source": [
    "sentence[0:1]"
   ]
  },
  {
   "cell_type": "code",
   "execution_count": 61,
   "id": "1f619a34",
   "metadata": {},
   "outputs": [
    {
     "data": {
      "text/plain": [
       "'ist'"
      ]
     },
     "execution_count": 61,
     "metadata": {},
     "output_type": "execute_result"
    }
   ],
   "source": [
    "sentence[28::]"
   ]
  },
  {
   "cell_type": "markdown",
   "id": "96a993b3",
   "metadata": {},
   "source": [
    "## task 6"
   ]
  },
  {
   "cell_type": "markdown",
   "id": "0e09227b",
   "metadata": {},
   "source": [
    "1. name = \"Innomatics Reserach Labs\"\n",
    "2. Apply slicing to extract a substring that includes the `second to fifth` characters.\n",
    "3. `Print` the extracted substring."
   ]
  },
  {
   "cell_type": "code",
   "execution_count": 1,
   "id": "75efa84a",
   "metadata": {},
   "outputs": [],
   "source": [
    "name = \"Innomatics Reserach Labs\""
   ]
  },
  {
   "cell_type": "code",
   "execution_count": 8,
   "id": "a7feee37",
   "metadata": {},
   "outputs": [
    {
     "data": {
      "text/plain": [
       "'nnom'"
      ]
     },
     "execution_count": 8,
     "metadata": {},
     "output_type": "execute_result"
    }
   ],
   "source": [
    "name[1:5:1]"
   ]
  },
  {
   "cell_type": "code",
   "execution_count": 11,
   "id": "43cdc978",
   "metadata": {},
   "outputs": [
    {
     "name": "stdout",
     "output_type": "stream",
     "text": [
      "nnom\n"
     ]
    }
   ],
   "source": [
    "print(name[1:5:1])"
   ]
  },
  {
   "cell_type": "markdown",
   "id": "0b15a8bf",
   "metadata": {},
   "source": [
    "## Task 7\n",
    "1. string = \"Python@1234\"\n",
    "2. Use slicing to extract every second character from the string.\n",
    "3. Print the resulting sliced string."
   ]
  },
  {
   "cell_type": "code",
   "execution_count": 13,
   "id": "45dd1a33",
   "metadata": {},
   "outputs": [],
   "source": [
    "string = \"Python@123\""
   ]
  },
  {
   "cell_type": "code",
   "execution_count": 15,
   "id": "040f72d6",
   "metadata": {},
   "outputs": [
    {
     "data": {
      "text/plain": [
       "'yhn13'"
      ]
     },
     "execution_count": 15,
     "metadata": {},
     "output_type": "execute_result"
    }
   ],
   "source": [
    "string[1::2]"
   ]
  },
  {
   "cell_type": "code",
   "execution_count": 16,
   "id": "97888439",
   "metadata": {},
   "outputs": [
    {
     "name": "stdout",
     "output_type": "stream",
     "text": [
      "yhn13\n"
     ]
    }
   ],
   "source": [
    "print(string[1::2])"
   ]
  },
  {
   "cell_type": "markdown",
   "id": "cd6bc1d1",
   "metadata": {},
   "source": [
    "## task 8"
   ]
  },
  {
   "cell_type": "code",
   "execution_count": 29,
   "id": "f71b5822",
   "metadata": {},
   "outputs": [],
   "source": [
    "name = \"Welcome India\""
   ]
  },
  {
   "cell_type": "code",
   "execution_count": 31,
   "id": "985c059f",
   "metadata": {},
   "outputs": [
    {
     "data": {
      "text/plain": [
       "'aidnI emocleW'"
      ]
     },
     "execution_count": 31,
     "metadata": {},
     "output_type": "execute_result"
    }
   ],
   "source": [
    "name[13::-1]"
   ]
  },
  {
   "cell_type": "markdown",
   "id": "dc067c59",
   "metadata": {},
   "source": [
    "## task 9"
   ]
  },
  {
   "cell_type": "markdown",
   "id": "3ca824b9",
   "metadata": {},
   "source": [
    "a = \"123123123\"\n",
    "\n",
    "\n",
    "Apply slicing to extract only the numeric characters at odd positions. \n",
    "\n",
    "Print the sliced result."
   ]
  },
  {
   "cell_type": "code",
   "execution_count": 38,
   "id": "241c33d5",
   "metadata": {},
   "outputs": [],
   "source": [
    "a = \"123123123\""
   ]
  },
  {
   "cell_type": "code",
   "execution_count": 39,
   "id": "7827b753",
   "metadata": {},
   "outputs": [
    {
     "data": {
      "text/plain": [
       "'2132'"
      ]
     },
     "execution_count": 39,
     "metadata": {},
     "output_type": "execute_result"
    }
   ],
   "source": [
    "a[1:9:2]"
   ]
  },
  {
   "cell_type": "code",
   "execution_count": 40,
   "id": "b30d007a",
   "metadata": {},
   "outputs": [
    {
     "name": "stdout",
     "output_type": "stream",
     "text": [
      "2132\n"
     ]
    }
   ],
   "source": [
    "print(a[1:9:2])"
   ]
  },
  {
   "cell_type": "code",
   "execution_count": null,
   "id": "23fd4793",
   "metadata": {},
   "outputs": [],
   "source": []
  }
 ],
 "metadata": {
  "kernelspec": {
   "display_name": "Python 3 (ipykernel)",
   "language": "python",
   "name": "python3"
  },
  "language_info": {
   "codemirror_mode": {
    "name": "ipython",
    "version": 3
   },
   "file_extension": ".py",
   "mimetype": "text/x-python",
   "name": "python",
   "nbconvert_exporter": "python",
   "pygments_lexer": "ipython3",
   "version": "3.11.4"
  }
 },
 "nbformat": 4,
 "nbformat_minor": 5
}
