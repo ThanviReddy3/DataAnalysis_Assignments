{
 "cells": [
  {
   "cell_type": "markdown",
   "id": "c9fb96f1",
   "metadata": {},
   "source": [
    "In this assignment, you will create a Python program to calculate the average grade of students in a function. However, the program should handle various exceptions that might occur during user input and grade calculation.\n",
    "\n",
    "**Requirements:**\n",
    "1. Your program should prompt the user to enter the total number of students.\n",
    "\n",
    "2. For each student, prompt the user to enter their name and three subject marks (out of 100).\n",
    "\n",
    "3. Handle the following exceptions: \n",
    "\n",
    "a. ValueError: If the user enters a non-numeric value for the number of students or subject marks.\n",
    "\n",
    "b. ZeroDivisionError: If any student's average marks cannot be calculated due to division by zero      (e.g., no subject marks provided). \n",
    "\n",
    "c. NegativeValueError: If any student's marks are negative.\n",
    "\n",
    "4. Display appropriate error messages for each exception and prompt the user to try again.\n",
    "\n",
    "5. Use a try-except block for exception handling.\n",
    "\n",
    "6. Calculate the average marks for each student and display their names along with their average marks.\n",
    "\n",
    "7. Calculate and display the overall class average.\n",
    "\n",
    "8. Implement a loop so that the user can re-enter data if an exception occurs or continue calculating for another class.\n",
    "\n",
    "9. Include a graceful exit message when the user decides to stop.\n",
    "\n",
    "\n",
    "**Custom(User Defined) Exceptions:**\n",
    "\n",
    "Define two custom exception classes:\n",
    "\n",
    "1. `NegativeValueError: This exception should be raised when any of the subject marks are negative.\n",
    "\n",
    "2. `InvalidNumber Error: This exception should be raised when the user enters an invalid number for the total number of students (e.g., a negative number).\n"
   ]
  },
  {
   "cell_type": "markdown",
   "id": "bf2509d4",
   "metadata": {},
   "source": [
    "In this assignment, you will create a Python program to calculate the average grade of students in a function. However, the program should handle various exceptions that might occur during user input and grade calculation.\n",
    "\n",
    "Requirements:\n",
    "\n",
    "Your program should prompt the user to enter the total number of students.\n",
    "\n",
    "For each student, prompt the user to enter their name and three subject marks (out of 100).\n",
    "\n"
   ]
  },
  {
   "cell_type": "code",
   "execution_count": 10,
   "id": "b26e40ff",
   "metadata": {},
   "outputs": [],
   "source": [
    "class InvalidNumberError(Exception):\n",
    "    pass\n",
    "class NegativeValueError(Exception):\n",
    "    pass\n",
    "class NameError(Exception):\n",
    "    pass"
   ]
  },
  {
   "cell_type": "code",
   "execution_count": 11,
   "id": "e522c35c",
   "metadata": {},
   "outputs": [],
   "source": [
    "import traceback"
   ]
  },
  {
   "cell_type": "code",
   "execution_count": 4,
   "id": "a2cb2c40",
   "metadata": {},
   "outputs": [
    {
     "name": "stdout",
     "output_type": "stream",
     "text": [
      "                               Welcome to the board of Intermediate                               \n",
      "                                 Know your average marks                               \n",
      "****************************************************************************************************\n",
      "Enter the number of students: 3\n",
      "Enter the name of a student 1 thanvi\n",
      "Enter the subject 1 marks : 98\n",
      "Enter the subject 2 marks : 89\n",
      "Enter the subject 3 marks : 88\n",
      "The Average marks of student 1 is 91.66666666666667\n",
      "Enter the name of a student 2 isha\n",
      "Enter the subject 1 marks : 99\n",
      "Enter the subject 2 marks : 89\n",
      "Enter the subject 3 marks : 99\n",
      "The Average marks of student 2 is 95.66666666666667\n",
      "Enter the name of a student 3 yoga\n",
      "Enter the subject 1 marks : 99\n",
      "Enter the subject 2 marks : 89\n",
      "Enter the subject 3 marks : 88\n",
      "The Average marks of student 3 is 92.0\n",
      "The class average of all students is 93.11111111111113\n",
      "****************************** Congratulation. Wish you all the luck for future ********************\n"
     ]
    }
   ],
   "source": [
    "print(\" \" * 30 , \"Welcome to the board of Intermediate\", \" \" * 30)\n",
    "print(\" \" * 32 , \"Know your average marks\", \" \" * 30)\n",
    "print(\"*\" * 100)\n",
    " \n",
    "studentaverage = []\n",
    "classaverage = []   \n",
    "avg = []\n",
    "try:\n",
    "    students = int(input(\"Enter the number of students: \"))\n",
    "    if students < 0 or students > 100:\n",
    "        raise InvalidNumberError(\"Enter valid number of student: \") \n",
    "    for i in range(1,students+1):\n",
    "        name = input(f\"Enter the name of a student {i} \")\n",
    "        \n",
    "        sub1 = int(input(f\"Enter the subject 1 marks : \"))\n",
    "        sub2 = int(input(f\"Enter the subject 2 marks : \"))\n",
    "        sub3 = int(input(f\"Enter the subject 3 marks : \"))\n",
    "        studentaverage = (sub1+sub2+sub3)/3\n",
    "        avg.append(studentaverage) \n",
    "        print(f\"The Average marks of student {i} is {studentaverage}\" )\n",
    "    classaverage = sum(avg)/len(avg)\n",
    "    print(f\"The class average of all students is\", classaverage)\n",
    "\n",
    "except ValueError :\n",
    "    print(\"please enter a numeric values\")\n",
    "except ZeroDivisionError:\n",
    "    print(\"please provide a valid details\")\n",
    "except NegativeValueError:\n",
    "    print(\"please enter a positive numbers only\")\n",
    "    \n",
    "finally: \n",
    "   \n",
    "    print(\"*\" * 30 ,\"Congratulation. Wish you all the luck for future\", \"*\" * 20)\n",
    "    \n"
   ]
  },
  {
   "cell_type": "code",
   "execution_count": null,
   "id": "0cfe2607",
   "metadata": {},
   "outputs": [],
   "source": []
  }
 ],
 "metadata": {
  "kernelspec": {
   "display_name": "Python 3 (ipykernel)",
   "language": "python",
   "name": "python3"
  },
  "language_info": {
   "codemirror_mode": {
    "name": "ipython",
    "version": 3
   },
   "file_extension": ".py",
   "mimetype": "text/x-python",
   "name": "python",
   "nbconvert_exporter": "python",
   "pygments_lexer": "ipython3",
   "version": "3.11.4"
  }
 },
 "nbformat": 4,
 "nbformat_minor": 5
}
