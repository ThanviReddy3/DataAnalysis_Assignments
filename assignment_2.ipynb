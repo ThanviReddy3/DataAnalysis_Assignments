{
 "cells": [
  {
   "cell_type": "markdown",
   "id": "b8536ea7",
   "metadata": {},
   "source": [
    "* Write a program that calculates the `sum, difference, product, and quotient` of two numbers: 10 and 5.\n",
    "\n",
    "* Create a program that calculates the `area of a circle` with a radius of 4.5 units."
   ]
  },
  {
   "cell_type": "markdown",
   "id": "0c8c997f",
   "metadata": {},
   "source": [
    "## sum "
   ]
  },
  {
   "cell_type": "code",
   "execution_count": 1,
   "id": "b512116b",
   "metadata": {},
   "outputs": [],
   "source": [
    "a = 10\n",
    "b = 5"
   ]
  },
  {
   "cell_type": "code",
   "execution_count": 2,
   "id": "3fde7509",
   "metadata": {},
   "outputs": [
    {
     "name": "stdout",
     "output_type": "stream",
     "text": [
      "15\n"
     ]
    }
   ],
   "source": [
    "print (a+b)"
   ]
  },
  {
   "cell_type": "markdown",
   "id": "bbe7ca18",
   "metadata": {},
   "source": [
    "## difference "
   ]
  },
  {
   "cell_type": "code",
   "execution_count": 3,
   "id": "af719c32",
   "metadata": {},
   "outputs": [],
   "source": [
    "a = 10\n",
    "b = 5"
   ]
  },
  {
   "cell_type": "code",
   "execution_count": 4,
   "id": "d7b919c1",
   "metadata": {},
   "outputs": [
    {
     "name": "stdout",
     "output_type": "stream",
     "text": [
      "5\n"
     ]
    }
   ],
   "source": [
    "print (a-b)"
   ]
  },
  {
   "cell_type": "markdown",
   "id": "858162fb",
   "metadata": {},
   "source": [
    "## Product"
   ]
  },
  {
   "cell_type": "code",
   "execution_count": null,
   "id": "4cd0f801",
   "metadata": {},
   "outputs": [],
   "source": [
    "a = 10\n",
    "b = 5"
   ]
  },
  {
   "cell_type": "code",
   "execution_count": null,
   "id": "31ac1baa",
   "metadata": {},
   "outputs": [],
   "source": [
    "print (a*b)"
   ]
  },
  {
   "cell_type": "markdown",
   "id": "8707ae72",
   "metadata": {},
   "source": [
    "### product of two numbers"
   ]
  },
  {
   "cell_type": "markdown",
   "id": "671428bb",
   "metadata": {},
   "source": [
    "## Repetative"
   ]
  },
  {
   "cell_type": "code",
   "execution_count": 11,
   "id": "e22226ea",
   "metadata": {},
   "outputs": [],
   "source": [
    "a = \"Hello \"\n",
    "b = 5"
   ]
  },
  {
   "cell_type": "code",
   "execution_count": 12,
   "id": "8cc89760",
   "metadata": {},
   "outputs": [
    {
     "data": {
      "text/plain": [
       "'Hello Hello Hello Hello Hello '"
      ]
     },
     "execution_count": 12,
     "metadata": {},
     "output_type": "execute_result"
    }
   ],
   "source": [
    "a * b "
   ]
  },
  {
   "cell_type": "code",
   "execution_count": null,
   "id": "ff20bf1f",
   "metadata": {},
   "outputs": [],
   "source": [
    "a = \"hi\""
   ]
  },
  {
   "cell_type": "code",
   "execution_count": null,
   "id": "0b4eaa30",
   "metadata": {},
   "outputs": [],
   "source": [
    "b = 3"
   ]
  },
  {
   "cell_type": "code",
   "execution_count": 65,
   "id": "acaf4641",
   "metadata": {},
   "outputs": [
    {
     "name": "stdout",
     "output_type": "stream",
     "text": [
      "84\n"
     ]
    }
   ],
   "source": [
    "print (a*b)"
   ]
  },
  {
   "cell_type": "code",
   "execution_count": null,
   "id": "c9aa2fdc",
   "metadata": {},
   "outputs": [],
   "source": []
  },
  {
   "cell_type": "markdown",
   "id": "f6d24c9f",
   "metadata": {},
   "source": [
    "## Quotient"
   ]
  },
  {
   "cell_type": "code",
   "execution_count": 25,
   "id": "930b2ec8",
   "metadata": {},
   "outputs": [],
   "source": [
    "a = 10\n",
    "b  = 5"
   ]
  },
  {
   "cell_type": "code",
   "execution_count": 27,
   "id": "3e7b6a77",
   "metadata": {},
   "outputs": [
    {
     "name": "stdout",
     "output_type": "stream",
     "text": [
      "2.0\n"
     ]
    }
   ],
   "source": [
    "print(a/b)"
   ]
  },
  {
   "cell_type": "markdown",
   "id": "414edb26",
   "metadata": {},
   "source": [
    "## Area of a circle"
   ]
  },
  {
   "cell_type": "code",
   "execution_count": 38,
   "id": "f28a2af9",
   "metadata": {},
   "outputs": [],
   "source": [
    "r = 4.5\n",
    "pi = 3.14"
   ]
  },
  {
   "cell_type": "code",
   "execution_count": 44,
   "id": "f210acb9",
   "metadata": {},
   "outputs": [],
   "source": [
    "area = pi * r * r"
   ]
  },
  {
   "cell_type": "code",
   "execution_count": 46,
   "id": "92b06f1a",
   "metadata": {},
   "outputs": [
    {
     "name": "stdout",
     "output_type": "stream",
     "text": [
      "63.585\n"
     ]
    }
   ],
   "source": [
    "print (area)"
   ]
  },
  {
   "cell_type": "markdown",
   "id": "3f81b9d8",
   "metadata": {},
   "source": [
    "*  Write a program that `swaps` the values of two variables: x with a value of 5 and \"y\" with a value of 10.\n",
    "* Create a program that calculates `compound interest` for a principal amount of $1000, an interest rate of 5%, and a time period of 3 years."
   ]
  },
  {
   "cell_type": "markdown",
   "id": "2cdcd226",
   "metadata": {},
   "source": [
    "## Swaping two numbers"
   ]
  },
  {
   "cell_type": "code",
   "execution_count": 47,
   "id": "3f681f6e",
   "metadata": {},
   "outputs": [],
   "source": [
    "x = 5\n",
    "y = 10"
   ]
  },
  {
   "cell_type": "code",
   "execution_count": 48,
   "id": "34025020",
   "metadata": {},
   "outputs": [],
   "source": [
    "x,y = y,b"
   ]
  },
  {
   "cell_type": "code",
   "execution_count": 54,
   "id": "1fa00d17",
   "metadata": {},
   "outputs": [
    {
     "name": "stdout",
     "output_type": "stream",
     "text": [
      "10 5\n"
     ]
    }
   ],
   "source": [
    "print (x,y)"
   ]
  },
  {
   "cell_type": "code",
   "execution_count": null,
   "id": "8ffba9bd",
   "metadata": {},
   "outputs": [],
   "source": [
    "* Write a program that `compares` two numbers: 7 and 12, and determines whether the first number is greater than, less than, or equal to the second number.\n",
    "* Create a program that `checks` if a person of age 18 is eligible to vote based on the voting age requirement.(True/False)"
   ]
  },
  {
   "cell_type": "code",
   "execution_count": 1,
   "id": "a4b2acc3",
   "metadata": {},
   "outputs": [],
   "source": [
    "a = 7\n",
    "b = 12"
   ]
  },
  {
   "cell_type": "code",
   "execution_count": 2,
   "id": "ce8aae53",
   "metadata": {},
   "outputs": [
    {
     "data": {
      "text/plain": [
       "True"
      ]
     },
     "execution_count": 2,
     "metadata": {},
     "output_type": "execute_result"
    }
   ],
   "source": [
    "a<b"
   ]
  },
  {
   "cell_type": "code",
   "execution_count": 3,
   "id": "2a371e3e",
   "metadata": {},
   "outputs": [
    {
     "data": {
      "text/plain": [
       "False"
      ]
     },
     "execution_count": 3,
     "metadata": {},
     "output_type": "execute_result"
    }
   ],
   "source": [
    "a>b"
   ]
  },
  {
   "cell_type": "code",
   "execution_count": 4,
   "id": "906053e5",
   "metadata": {},
   "outputs": [
    {
     "data": {
      "text/plain": [
       "False"
      ]
     },
     "execution_count": 4,
     "metadata": {},
     "output_type": "execute_result"
    }
   ],
   "source": [
    "a==b"
   ]
  },
  {
   "cell_type": "markdown",
   "id": "9b303cb4",
   "metadata": {},
   "source": [
    "## eligible to vote or not "
   ]
  },
  {
   "cell_type": "code",
   "execution_count": 77,
   "id": "1630ec43",
   "metadata": {},
   "outputs": [
    {
     "name": "stdout",
     "output_type": "stream",
     "text": [
      "enter person age 19\n"
     ]
    }
   ],
   "source": [
    "age = int(input(\"enter person age \"))"
   ]
  },
  {
   "cell_type": "code",
   "execution_count": 89,
   "id": "54a9fb95",
   "metadata": {},
   "outputs": [
    {
     "name": "stdout",
     "output_type": "stream",
     "text": [
      "true\n"
     ]
    }
   ],
   "source": [
    "if age>= 18:\n",
    "    print (\"true\")\n",
    "else: \n",
    "    print(\"false\")"
   ]
  },
  {
   "cell_type": "code",
   "execution_count": 80,
   "id": "dee3aad8",
   "metadata": {},
   "outputs": [],
   "source": [
    "create a program that `checks` if a person of age 18 is eligible to vote based on the voting age requirement.(True/False)"
   ]
  },
  {
   "cell_type": "markdown",
   "id": "7881a204",
   "metadata": {},
   "source": [
    "* Create a program that `swaps` the values of two integers: `a` with a value of 10 and `b` with a value of 20 using\n",
    " *  bitwise XOR (^) operator.\n",
    " * Logical AND\n",
    " * Logical OR\n",
    " * Logical NOT"
   ]
  },
  {
   "cell_type": "code",
   "execution_count": 8,
   "id": "08cebc4c",
   "metadata": {},
   "outputs": [],
   "source": [
    "x = 11\n",
    "y = 22"
   ]
  },
  {
   "cell_type": "code",
   "execution_count": 28,
   "id": "64273cf7",
   "metadata": {},
   "outputs": [
    {
     "name": "stdout",
     "output_type": "stream",
     "text": [
      "20\n",
      "8\n"
     ]
    }
   ],
   "source": [
    "x = x^y\n",
    "y = x^y\n",
    "x = x^y\n",
    "print(x)\n",
    "print(y)"
   ]
  },
  {
   "cell_type": "code",
   "execution_count": 29,
   "id": "ca42ceeb",
   "metadata": {},
   "outputs": [
    {
     "data": {
      "text/plain": [
       "22"
      ]
     },
     "execution_count": 29,
     "metadata": {},
     "output_type": "execute_result"
    }
   ],
   "source": [
    "x = 11\n",
    "y = 22\n",
    "x and y"
   ]
  },
  {
   "cell_type": "code",
   "execution_count": 30,
   "id": "042c3cd5",
   "metadata": {},
   "outputs": [
    {
     "data": {
      "text/plain": [
       "11"
      ]
     },
     "execution_count": 30,
     "metadata": {},
     "output_type": "execute_result"
    }
   ],
   "source": [
    "x or y"
   ]
  },
  {
   "cell_type": "markdown",
   "id": "1844e65c",
   "metadata": {},
   "source": [
    "*  Create a Python program that calculates the `area of a rectangle`. Prompt the `user to enter` the length and width of the rectangle, `store them` in variables, and compute the area using the formula:area length width.Finally, `print the calculated area.\n",
    "\n",
    "* Create a Python program that calculates the `average` of three exam scores. Prompt the user to enter the scores, `store them` in variables, calculate the average, and print the result.\n",
    "\n",
    "* Write a Python program that `converts` temperature from Celsius to Fahrenheit. Prompt the user to enter a temperature in Celsius, store it in a variable, and convert it to Fahrenheit using the formula: `Fahrenheit = (Celsius* 9/5)+32`, and print the converted temperature.\n",
    "\n",
    "* What are the `logical operators` in Python? Explain `each one` with an example.\n",
    "\n",
    "* What are the `membership` operators in Python? Explain their usage with examples\n",
    "\n",
    "* List and briefly explain the `basic data types` available in Python.\n",
    "\n",
    "* Write a Python code snippet that `assigns a value to a variable `and determines its `data type` using the type() function."
   ]
  },
  {
   "cell_type": "markdown",
   "id": "d4004842",
   "metadata": {},
   "source": [
    "what are the logical operators"
   ]
  },
  {
   "cell_type": "markdown",
   "id": "d6f1d577",
   "metadata": {},
   "source": [
    "1. AND\n",
    "2. OR\n",
    "3. NOT"
   ]
  },
  {
   "cell_type": "markdown",
   "id": "65dab20e",
   "metadata": {},
   "source": [
    "### AND \n",
    "if any inputs is false then the output is false\n",
    "ex : true and false = false, true and true = true\n",
    "### OR \n",
    "if any one input is true then the output is true.\n",
    "ex: true and false = true, false or false = false\n",
    "### NOT\n",
    "the output is false if the input is true.\n",
    "not (false) = true\n",
    "\n",
    "   "
   ]
  },
  {
   "cell_type": "markdown",
   "id": "95ed62b5",
   "metadata": {},
   "source": [
    "Assignment: Basic Python Operators\n",
    "\n",
    "**Task 1: Arithmetic Operators**\n",
    "1. Write a Python program that takes two user-input numbers and displays their sum using the addition operator.\n",
    "2. Create a program to calculate the area of a rectangle. Prompt the user for the length and width, then use multiplication to find the area.\n",
    "3. Implement a program that converts temperature from Celsius to Fahrenheit using the formula: Fahrenheit = (Celsius * 9/5) + 32.\n",
    "\n",
    "**Task 2: Comparison Operators**\n",
    "1. Write a program that compares two user-input numbers and prints whether the first number is greater than the second number or not.\n",
    "\n",
    "2. Create a program that determines whether a user-input year is a leap year or not. A leap year is divisible by 4 and not divisible by 100, unless it is also divisible by 400.\n",
    "\n",
    "3. Implement a simple guessing game. Generate a random number between 1 and 100 and have the user guess the number. Provide feedback if their guess is too high or too low, and let them know when they've guessed correctly.\n",
    "\n",
    "**Task 3: Logical Operators**\n",
    "1. Write a program that checks whether a user-input number is positive and even using logical AND (`and`) operator.\n",
    "2. Create a login system where you define a correct username and password. Ask the user for their input and compare it with the correct credentials using logical OR (`or`) operator. Provide access if either the username or password is correct.\n",
    "3. Implement a program that determines whether a given year is a leap year and divisible by 7 using logical NOT (`not`) operator.\n",
    "\n",
    "**Task 4: Assignment Operators**\n",
    "1. Write a program to calculate the square of a number using the exponentiation operator (`**`) and assign it back to the same variable.\n",
    "2. Create a program that keeps track of the total score in a game. Prompt the user for their latest score and update the total score using the addition assignment operator (`+=`).\n",
    "3. Implement a program to convert seconds into hours, minutes, and remaining seconds using both division and modulo operators, and then assign each value using assignment operators.\n",
    "\n",
    "**Task 5: Bitwise Operators**\n",
    "1. Write a program that performs a bitwise AND operation between two user-input numbers and displays the result.\n",
    "2. Create a program to toggle the nth bit of a given number. Ask the user for the number and the value of n, then use bitwise XOR (^) operator to toggle the bit.\n",
    "3. Implement a program to swap the values of two variables without using a temporary variable, only using bitwise XOR (^) operator.\n",
    "\n"
   ]
  },
  {
   "cell_type": "markdown",
   "id": "4b307d1a",
   "metadata": {},
   "source": [
    "## Arthematic operators"
   ]
  },
  {
   "cell_type": "markdown",
   "id": "031586a0",
   "metadata": {},
   "source": [
    "1"
   ]
  },
  {
   "cell_type": "code",
   "execution_count": 15,
   "id": "6398233a",
   "metadata": {},
   "outputs": [
    {
     "name": "stdout",
     "output_type": "stream",
     "text": [
      "enter a number3\n",
      "enter a number9\n",
      "sum = 12\n"
     ]
    }
   ],
   "source": [
    "a = int(input(\"enter a number\"))\n",
    "b = int(input(\"enter a number\"))\n",
    "sum = a + b \n",
    "print (\"sum =\", sum)"
   ]
  },
  {
   "cell_type": "markdown",
   "id": "03e4d25e",
   "metadata": {},
   "source": [
    "2"
   ]
  },
  {
   "cell_type": "code",
   "execution_count": 18,
   "id": "00cf98fc",
   "metadata": {},
   "outputs": [
    {
     "name": "stdout",
     "output_type": "stream",
     "text": [
      "enter lenght of a rectangle:10\n",
      "enter width of a rectangle: 12\n",
      "area 120\n"
     ]
    }
   ],
   "source": [
    "lenght = int(input(\"enter lenght of a rectangle:\"))\n",
    "width = int(input(\"enter width of a rectangle: \"))\n",
    "area = lenght * width\n",
    "print(\"area\", area)"
   ]
  },
  {
   "cell_type": "code",
   "execution_count": 20,
   "id": "6248b792",
   "metadata": {},
   "outputs": [
    {
     "name": "stdout",
     "output_type": "stream",
     "text": [
      "enter any value of celsius scale108.3\n",
      "226.94\n"
     ]
    }
   ],
   "source": [
    "c = float(input(\"enter any value of celsius scale\"))\n",
    "f = (c * 9/5)+32\n",
    "print (f)\n"
   ]
  },
  {
   "cell_type": "markdown",
   "id": "5d903b02",
   "metadata": {},
   "source": [
    " ## Comparison Operators"
   ]
  },
  {
   "cell_type": "markdown",
   "id": "9557f773",
   "metadata": {},
   "source": [
    " Create a program that determines whether a user-input year is a leap year or not. A leap year is divisible by 4 and not divisible by 100, unless it is also divisible by 400."
   ]
  },
  {
   "cell_type": "code",
   "execution_count": 98,
   "id": "9b2ec284",
   "metadata": {},
   "outputs": [
    {
     "name": "stdout",
     "output_type": "stream",
     "text": [
      "enter the year: 1996\n"
     ]
    }
   ],
   "source": [
    "year = int(input(\"enter the year: \"))"
   ]
  },
  {
   "cell_type": "code",
   "execution_count": 99,
   "id": "dbfce04d",
   "metadata": {},
   "outputs": [
    {
     "name": "stdout",
     "output_type": "stream",
     "text": [
      "year is a leap year\n"
     ]
    }
   ],
   "source": [
    "if(year%4 == 0 and year%100!=0 or year%400==0):\n",
    "    print (\"year is a leap year\")\n",
    "else:\n",
    "        print (\"year is not a leap year\")"
   ]
  },
  {
   "cell_type": "code",
   "execution_count": null,
   "id": "f4c13875",
   "metadata": {},
   "outputs": [],
   "source": [
    "Implement a simple guessing game. Generate a random number between 1 and 100 and have the user guess the number. Provide feedback if their guess is too high or too low, and let them know when they've guessed correctly."
   ]
  },
  {
   "cell_type": "markdown",
   "id": "797b2ec4",
   "metadata": {},
   "source": [
    "## logical operators"
   ]
  },
  {
   "cell_type": "markdown",
   "id": "6d09c39a",
   "metadata": {},
   "source": [
    "1"
   ]
  },
  {
   "cell_type": "code",
   "execution_count": 104,
   "id": "c4daa4c7",
   "metadata": {},
   "outputs": [
    {
     "name": "stdout",
     "output_type": "stream",
     "text": [
      "enter the number12\n"
     ]
    }
   ],
   "source": [
    "number = int(input (\"enter the number\"))\n"
   ]
  },
  {
   "cell_type": "code",
   "execution_count": 108,
   "id": "556b7fba",
   "metadata": {},
   "outputs": [
    {
     "name": "stdout",
     "output_type": "stream",
     "text": [
      "number is even and positive\n"
     ]
    }
   ],
   "source": [
    "if (number%2==0 and number>0):\n",
    " print (\"number is even and positive\")\n",
    "else:\n",
    "   print (\"number is not even and not positive\")"
   ]
  },
  {
   "cell_type": "markdown",
   "id": "913c6572",
   "metadata": {},
   "source": [
    "## 2"
   ]
  },
  {
   "cell_type": "code",
   "execution_count": 117,
   "id": "4557b8fd",
   "metadata": {},
   "outputs": [],
   "source": []
  },
  {
   "cell_type": "code",
   "execution_count": 131,
   "id": "1f566317",
   "metadata": {},
   "outputs": [
    {
     "name": "stdout",
     "output_type": "stream",
     "text": [
      "enter usernamemyaccount\n",
      "enter the password987654\n",
      "access provided\n"
     ]
    }
   ],
   "source": [
    "username = \"myaccount\"\n",
    "password = 987654321\n",
    "\n",
    "username=input(\"enter username\")\n",
    "password=int(input(\"enter the password\"))\n",
    "if(username1==username) or (password==password):\n",
    "    print (\"access provided\")\n",
    "else:\n",
    "        print(\"access not provided\")"
   ]
  },
  {
   "cell_type": "markdown",
   "id": "b362b1d0",
   "metadata": {},
   "source": [
    "## assignment operators"
   ]
  },
  {
   "cell_type": "code",
   "execution_count": 22,
   "id": "b1ca090c",
   "metadata": {},
   "outputs": [
    {
     "name": "stdout",
     "output_type": "stream",
     "text": [
      "enter any number 4\n",
      "16\n"
     ]
    }
   ],
   "source": [
    "number = int(input(\"enter any number \"))\n",
    "x = number ** 2\n",
    "print (x)"
   ]
  },
  {
   "cell_type": "markdown",
   "id": "2ec57b14",
   "metadata": {},
   "source": [
    "## bitwise"
   ]
  },
  {
   "cell_type": "markdown",
   "id": "d92ec7c4",
   "metadata": {},
   "source": [
    "#### 1"
   ]
  },
  {
   "cell_type": "code",
   "execution_count": 25,
   "id": "861a6009",
   "metadata": {},
   "outputs": [
    {
     "name": "stdout",
     "output_type": "stream",
     "text": [
      "enter any number8\n",
      "enter any number18\n",
      "2\n"
     ]
    }
   ],
   "source": [
    "x = int(input(\"enter any number\"))\n",
    "b = int(input(\"enter any number\"))\n",
    "c = a& b \n",
    "print (c)"
   ]
  },
  {
   "cell_type": "markdown",
   "id": "c11ba074",
   "metadata": {},
   "source": [
    "### 2 "
   ]
  },
  {
   "cell_type": "code",
   "execution_count": 27,
   "id": "2bbed926",
   "metadata": {},
   "outputs": [
    {
     "name": "stdout",
     "output_type": "stream",
     "text": [
      "55\n",
      "5\n"
     ]
    }
   ],
   "source": [
    "a = 5\n",
    "b = 55\n",
    "a = a^b\n",
    "b = a^b\n",
    "a = a^b\n",
    "print(a)\n",
    "print(b)"
   ]
  },
  {
   "cell_type": "code",
   "execution_count": null,
   "id": "f9f21d9a",
   "metadata": {},
   "outputs": [],
   "source": []
  }
 ],
 "metadata": {
  "kernelspec": {
   "display_name": "Python 3 (ipykernel)",
   "language": "python",
   "name": "python3"
  },
  "language_info": {
   "codemirror_mode": {
    "name": "ipython",
    "version": 3
   },
   "file_extension": ".py",
   "mimetype": "text/x-python",
   "name": "python",
   "nbconvert_exporter": "python",
   "pygments_lexer": "ipython3",
   "version": "3.11.4"
  }
 },
 "nbformat": 4,
 "nbformat_minor": 5
}
