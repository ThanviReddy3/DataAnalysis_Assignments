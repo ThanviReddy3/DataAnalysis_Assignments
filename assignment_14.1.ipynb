{
 "cells": [
  {
   "cell_type": "markdown",
   "id": "dd9881f5",
   "metadata": {},
   "source": [
    "\n",
    "1. \n",
    "\n",
    "   - Create a lambda function that takes two arguments and returns their sum.\n",
    "   - Create another lambda function that takes a single argument and returns its square.\n",
    "   - Use the `lambda` functions to calculate the sum and square of various numbers and print the results.\n",
    "\n",
    "2. \n",
    "   - Define a list of integers.\n",
    "   - Use the `filter` function to create a new list that contains only the even numbers from the original list.\n",
    "   - Use the `filter` function again to create a new list that contains only numbers greater than 10 from the original list.\n",
    "   - Print both filtered lists.\n",
    "\n",
    "3. \n",
    "   - Define a list of strings where each string represents a number (e.g., `[\"1\", \"2\", \"3\"]`).\n",
    "   - Use the `map` function to convert each string to an integer and store the result in a new list.\n",
    "   - Use the `map` function again to square each integer in the new list and store the result in another new list.\n",
    "   - Print both new lists.\n",
    "\n",
    "4. \n",
    "   - Create a list of dictionaries, where each dictionary represents a person with keys \"name\" and \"age\". Example: ` [{\"name\": \"Alice\", \"age\": 30}, {\"name\": \"Bob\", \"age\": 25}, ...]`\n",
    "   - Use the `filter` function to create a new list that contains only the people who are older than 25.\n",
    "   - Use the `map` function to create a new list that contains the names of the filtered people.\n",
    "   - Print the list of names.\n",
    "\n",
    "5. \n",
    "   - Create a program that reads a list of numbers from the user (you can use the `input` function for this).\n",
    "   - Use `map` and `filter` functions to perform the following operations:\n",
    "     - Square each number.\n",
    "     - Filter out numbers that are not divisible by 3.\n",
    "   - Print the result.\n"
   ]
  },
  {
   "cell_type": "markdown",
   "id": "039048d4",
   "metadata": {},
   "source": [
    "# 1.  Create a lambda function that takes two arguments and returns their sum."
   ]
  },
  {
   "cell_type": "code",
   "execution_count": 8,
   "id": "85dcea46",
   "metadata": {},
   "outputs": [],
   "source": [
    "a = lambda x,y: x+y"
   ]
  },
  {
   "cell_type": "code",
   "execution_count": 9,
   "id": "07757178",
   "metadata": {},
   "outputs": [
    {
     "data": {
      "text/plain": [
       "9"
      ]
     },
     "execution_count": 9,
     "metadata": {},
     "output_type": "execute_result"
    }
   ],
   "source": [
    "a(3,6)"
   ]
  },
  {
   "cell_type": "markdown",
   "id": "199fefb7",
   "metadata": {},
   "source": [
    "# 1.1 Create another lambda function that takes a single argument and returns its square."
   ]
  },
  {
   "cell_type": "code",
   "execution_count": 3,
   "id": "4aa555f6",
   "metadata": {},
   "outputs": [],
   "source": [
    "s = lambda x: x**2"
   ]
  },
  {
   "cell_type": "code",
   "execution_count": 4,
   "id": "15b73acf",
   "metadata": {},
   "outputs": [
    {
     "data": {
      "text/plain": [
       "25"
      ]
     },
     "execution_count": 4,
     "metadata": {},
     "output_type": "execute_result"
    }
   ],
   "source": [
    "s(5)"
   ]
  },
  {
   "cell_type": "markdown",
   "id": "d928a23a",
   "metadata": {},
   "source": [
    "# 1.3 Use the lambda functions to calculate the sum and square of various numbers and print the results."
   ]
  },
  {
   "cell_type": "code",
   "execution_count": 32,
   "id": "ed9fe136",
   "metadata": {},
   "outputs": [],
   "source": [
    "#sum of various numbers"
   ]
  },
  {
   "cell_type": "code",
   "execution_count": 1,
   "id": "652a012d",
   "metadata": {},
   "outputs": [],
   "source": [
    "add = lambda *n : sum(n) "
   ]
  },
  {
   "cell_type": "code",
   "execution_count": 2,
   "id": "9a81c377",
   "metadata": {},
   "outputs": [
    {
     "data": {
      "text/plain": [
       "42"
      ]
     },
     "execution_count": 2,
     "metadata": {},
     "output_type": "execute_result"
    }
   ],
   "source": [
    "add(2,3,4,8,8,9,8)"
   ]
  },
  {
   "cell_type": "code",
   "execution_count": 3,
   "id": "cd1a5983",
   "metadata": {},
   "outputs": [],
   "source": [
    "#square of a number"
   ]
  },
  {
   "cell_type": "code",
   "execution_count": 29,
   "id": "79a82962",
   "metadata": {},
   "outputs": [],
   "source": [
    "list1 = [5,4,3,2,2]"
   ]
  },
  {
   "cell_type": "code",
   "execution_count": 30,
   "id": "bff561cf",
   "metadata": {},
   "outputs": [],
   "source": [
    "square = lambda x: x**2"
   ]
  },
  {
   "cell_type": "code",
   "execution_count": 31,
   "id": "ad981f28",
   "metadata": {},
   "outputs": [
    {
     "data": {
      "text/plain": [
       "[25, 16, 9, 4, 4]"
      ]
     },
     "execution_count": 31,
     "metadata": {},
     "output_type": "execute_result"
    }
   ],
   "source": [
    "list(map(lambda n : n**2  , list1))"
   ]
  },
  {
   "cell_type": "markdown",
   "id": "b1d3c437",
   "metadata": {},
   "source": []
  },
  {
   "cell_type": "markdown",
   "id": "d53295cc",
   "metadata": {},
   "source": [
    "# 2. Define a list of integers.Use the filter function to create a new list that contains only the even numbers from the original list.Print both filtered lists."
   ]
  },
  {
   "cell_type": "code",
   "execution_count": 37,
   "id": "d74da742",
   "metadata": {},
   "outputs": [],
   "source": [
    "original = [1,2,3,5,6,8,20,21,23,24,26,27]"
   ]
  },
  {
   "cell_type": "code",
   "execution_count": 38,
   "id": "3e4bd09d",
   "metadata": {},
   "outputs": [],
   "source": [
    "def even(a):\n",
    "    if a%2==0:\n",
    "        return a\n",
    "    else:\n",
    "        pass"
   ]
  },
  {
   "cell_type": "code",
   "execution_count": 39,
   "id": "a2b33e16",
   "metadata": {},
   "outputs": [],
   "source": [
    "evenlist = list(filter(even, original))"
   ]
  },
  {
   "cell_type": "code",
   "execution_count": 40,
   "id": "d7e14230",
   "metadata": {},
   "outputs": [
    {
     "name": "stdout",
     "output_type": "stream",
     "text": [
      "even numbers are  [2, 6, 8, 20, 24, 26]\n"
     ]
    }
   ],
   "source": [
    "print(\"even numbers are \", evenlist)"
   ]
  },
  {
   "cell_type": "markdown",
   "id": "b7a5dd45",
   "metadata": {},
   "source": [
    "# 2.2 Use the filter function again to create a new list that contains only numbers greater than 10 from the original list."
   ]
  },
  {
   "cell_type": "code",
   "execution_count": 1,
   "id": "21f74049",
   "metadata": {},
   "outputs": [],
   "source": [
    "original = [1,2,3,5,6,8,20,21,23,24,26,27]"
   ]
  },
  {
   "cell_type": "code",
   "execution_count": 2,
   "id": "a6a1729a",
   "metadata": {},
   "outputs": [],
   "source": [
    "def greater(b):\n",
    "    if b>10:\n",
    "        return b\n",
    "    else:\n",
    "        pass"
   ]
  },
  {
   "cell_type": "code",
   "execution_count": 3,
   "id": "ec7aff80",
   "metadata": {},
   "outputs": [],
   "source": [
    "greater = list(filter(greater,original))"
   ]
  },
  {
   "cell_type": "code",
   "execution_count": 4,
   "id": "79d759e1",
   "metadata": {},
   "outputs": [
    {
     "name": "stdout",
     "output_type": "stream",
     "text": [
      "greater than 10 numbers from the list are [20, 21, 23, 24, 26, 27]\n"
     ]
    }
   ],
   "source": [
    "print(\"greater than 10 numbers from the list are\", greater)"
   ]
  },
  {
   "cell_type": "markdown",
   "id": "275f285e",
   "metadata": {},
   "source": [
    "# 3. Define a list of strings where each string represents a number (e.g., [\"1\", \"2\", \"3\"])."
   ]
  },
  {
   "cell_type": "code",
   "execution_count": 8,
   "id": "22e0b40e",
   "metadata": {},
   "outputs": [],
   "source": [
    "liststring =  [\"1\", \"2\", \"3\",\"4\", \"5\", \"6\"]"
   ]
  },
  {
   "cell_type": "markdown",
   "id": "f38ad348",
   "metadata": {},
   "source": [
    "# 3.1 Use the map function to convert each string to an integer and store the result in a new list."
   ]
  },
  {
   "cell_type": "code",
   "execution_count": 9,
   "id": "94e32b4f",
   "metadata": {},
   "outputs": [],
   "source": [
    "def string(n):\n",
    "    if liststring[0] == int(n):\n",
    "        return n\n"
   ]
  },
  {
   "cell_type": "code",
   "execution_count": 10,
   "id": "d6367761",
   "metadata": {},
   "outputs": [
    {
     "data": {
      "text/plain": [
       "[1, 2, 3, 4, 5, 6]"
      ]
     },
     "execution_count": 10,
     "metadata": {},
     "output_type": "execute_result"
    }
   ],
   "source": [
    "newlists = list(map(int,liststring))\n",
    "newlists"
   ]
  },
  {
   "cell_type": "markdown",
   "id": "6572a4a3",
   "metadata": {},
   "source": [
    "# 3.2 Use the map function again to square each integer in the new list and store the result in another new list."
   ]
  },
  {
   "cell_type": "code",
   "execution_count": 11,
   "id": "3fb5249b",
   "metadata": {},
   "outputs": [
    {
     "data": {
      "text/plain": [
       "[1, 2, 3, 4, 5, 6]"
      ]
     },
     "execution_count": 11,
     "metadata": {},
     "output_type": "execute_result"
    }
   ],
   "source": [
    "newlists"
   ]
  },
  {
   "cell_type": "code",
   "execution_count": 12,
   "id": "2dbb5bc4",
   "metadata": {},
   "outputs": [],
   "source": [
    "def square(n):\n",
    "    if n > 0:\n",
    "        return n*n\n",
    "    else:\n",
    "        pass"
   ]
  },
  {
   "cell_type": "code",
   "execution_count": 13,
   "id": "051145b9",
   "metadata": {},
   "outputs": [
    {
     "name": "stdout",
     "output_type": "stream",
     "text": [
      "square of a each number from the list [1, 4, 9, 16, 25, 36]\n"
     ]
    }
   ],
   "source": [
    "squarelist = list(map(square,newlists))\n",
    "print(\"square of a each number from the list\" ,squarelist)"
   ]
  },
  {
   "cell_type": "markdown",
   "id": "4f18bde1",
   "metadata": {},
   "source": [
    "# 4 Create a list of dictionaries, where each dictionary represents a person with keys \"name\" and \"age\". Example:  [{\"name\": \"Alice\", \"age\": 30}, {\"name\": \"Bob\", \"age\": 25}, ...]"
   ]
  },
  {
   "cell_type": "code",
   "execution_count": 100,
   "id": "29e21c88",
   "metadata": {},
   "outputs": [],
   "source": [
    "info =  [{\"name\": \"Alia\", \"age\": 30}, {\"name\": \"Deepika\", \"age\": 35}, {\"name\": \"Kajal\", \"age\": 20} ]"
   ]
  },
  {
   "cell_type": "markdown",
   "id": "2bb1d9e4",
   "metadata": {},
   "source": [
    "# 4.1 Use the filter function to create a new list that contains only the people who are older than 25.\n"
   ]
  },
  {
   "cell_type": "code",
   "execution_count": 101,
   "id": "ec8b750b",
   "metadata": {},
   "outputs": [],
   "source": [
    "def older(n):\n",
    "    if n[\"age\"] >= 25:\n",
    "        return n"
   ]
  },
  {
   "cell_type": "code",
   "execution_count": 103,
   "id": "052cc0bf",
   "metadata": {},
   "outputs": [
    {
     "data": {
      "text/plain": [
       "[{'name': 'Alia', 'age': 30}, {'name': 'Deepika', 'age': 35}]"
      ]
     },
     "execution_count": 103,
     "metadata": {},
     "output_type": "execute_result"
    }
   ],
   "source": [
    "olderlist = list(filter(older,info))\n",
    "olderlist"
   ]
  },
  {
   "cell_type": "code",
   "execution_count": null,
   "id": "cbccc5b5",
   "metadata": {},
   "outputs": [],
   "source": [
    "Use the map function to create a new list that contains the names of the filtered people.\n",
    "Print the list of names."
   ]
  },
  {
   "cell_type": "code",
   "execution_count": 116,
   "id": "96f700dd",
   "metadata": {},
   "outputs": [],
   "source": [
    "def name1(n):\n",
    "    return {\"name\" : n[\"name\"]}"
   ]
  },
  {
   "cell_type": "code",
   "execution_count": 118,
   "id": "e8e0ec33",
   "metadata": {},
   "outputs": [
    {
     "data": {
      "text/plain": [
       "[{'name': 'Alia'}, {'name': 'Deepika'}]"
      ]
     },
     "execution_count": 118,
     "metadata": {},
     "output_type": "execute_result"
    }
   ],
   "source": [
    "filteredlist = list(map(name1,olderlist))\n",
    "filteredlist"
   ]
  },
  {
   "cell_type": "code",
   "execution_count": 121,
   "id": "d1e4d1e7",
   "metadata": {},
   "outputs": [],
   "source": [
    "#Create a program that reads a list of numbers from the user (you can use the input function for this).\n",
    "#Use map and filter functions to perform the following operations:\n",
    "#Square each number.\n",
    "#Filter out numbers that are not divisible by 3.\n",
    "#Print the result.\n"
   ]
  },
  {
   "cell_type": "code",
   "execution_count": 20,
   "id": "39b586e9",
   "metadata": {},
   "outputs": [],
   "source": [
    "list1 = []"
   ]
  },
  {
   "cell_type": "code",
   "execution_count": 21,
   "id": "8446ab22",
   "metadata": {},
   "outputs": [
    {
     "name": "stdout",
     "output_type": "stream",
     "text": [
      "enter the number of integers u want : 5\n",
      "enter the number: 5\n",
      "enter the number: 4\n",
      "enter the number: 3\n",
      "enter the number: 2\n",
      "enter the number: 2\n",
      "[5, 4, 3, 2, 2]\n"
     ]
    }
   ],
   "source": [
    "n = int(input(\"enter the number of integers u want : \"))\n",
    "for i in range(1,n+1):\n",
    "    a= int(input(\"enter the number: \"))\n",
    "    list1.append(a)\n",
    "print(list1)"
   ]
  },
  {
   "cell_type": "code",
   "execution_count": 19,
   "id": "0df8f971",
   "metadata": {},
   "outputs": [],
   "source": [
    "def square(n) :\n",
    "    return n*n"
   ]
  },
  {
   "cell_type": "code",
   "execution_count": 22,
   "id": "14b21f25",
   "metadata": {},
   "outputs": [
    {
     "name": "stdout",
     "output_type": "stream",
     "text": [
      "[25, 16, 9, 4, 4]\n"
     ]
    }
   ],
   "source": [
    "list2 = list(map(square,list1))\n",
    "print(list2)"
   ]
  },
  {
   "cell_type": "code",
   "execution_count": 23,
   "id": "fa4e848e",
   "metadata": {},
   "outputs": [],
   "source": [
    "def div(n):\n",
    "    if n%3 != 0:\n",
    "        return n\n",
    "    else:\n",
    "        pass"
   ]
  },
  {
   "cell_type": "code",
   "execution_count": 25,
   "id": "86b59216",
   "metadata": {},
   "outputs": [
    {
     "data": {
      "text/plain": [
       "[25, 16, 4, 4]"
      ]
     },
     "execution_count": 25,
     "metadata": {},
     "output_type": "execute_result"
    }
   ],
   "source": [
    "not3 = list(filter(div,list2))\n",
    "not3"
   ]
  },
  {
   "cell_type": "code",
   "execution_count": null,
   "id": "18d10705",
   "metadata": {},
   "outputs": [],
   "source": []
  }
 ],
 "metadata": {
  "kernelspec": {
   "display_name": "Python 3 (ipykernel)",
   "language": "python",
   "name": "python3"
  },
  "language_info": {
   "codemirror_mode": {
    "name": "ipython",
    "version": 3
   },
   "file_extension": ".py",
   "mimetype": "text/x-python",
   "name": "python",
   "nbconvert_exporter": "python",
   "pygments_lexer": "ipython3",
   "version": "3.11.4"
  }
 },
 "nbformat": 4,
 "nbformat_minor": 5
}
