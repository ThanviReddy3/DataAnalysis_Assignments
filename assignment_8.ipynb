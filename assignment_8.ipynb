{
 "cells": [
  {
   "cell_type": "markdown",
   "id": "21c2b7b2",
   "metadata": {
    "id": "21c2b7b2"
   },
   "source": [
    "\n",
    "**Task 1: Basic If-Else Statements**\n",
    "Write a Python program that takes an `integer as input` from the user and prints whether it is `multiple of 3 or not` using if-else statements.\n",
    "\n",
    "**Task 2: Nested If Statements**\n",
    "Create a program that `asks the user` for their `age` and `nationality`. Depending on their age and nationality, display a different message using nested if statements. For example, if they are under 18 and from the USA, display `\"You are a minor from the USA.\"`\n",
    "\n",
    "**Task 3: Grade Calculator**\n",
    "Write a program that takes a student's score as input and converts it to a letter grade (A, B, C, D, or F) using if-elif-else statements. Use the following grading scale:\n",
    "- A: 90-100\n",
    "- B: 80-89\n",
    "- C: 70-79\n",
    "- D: 60-69\n",
    "- F: Below 60\n",
    "\n",
    "**Task 4: Leap Year Checker**\n",
    "Create a Python program that checks if a given year is a leap year or not. Use conditional statements to determine whether the year is divisible by 4, 100, and 400 to decide if it's a leap year.\n",
    "\n",
    "**Task 5: BMI Calculator**\n",
    "Write a program that calculates a person's Body Mass Index (BMI) based on their height and weight. Then, use conditional statements to categorize the BMI as Underweight, Normal, Overweight, or Obese. Provide guidance on the healthy range for BMI.(use BMI Formula)\n",
    "\n",
    "**Task 6: Calculator with Menu**\n",
    "Build a simple calculator program that provides a menu with options for addition, subtraction, multiplication, and division. `Take user input for two numbers`and an `operation choice`. Use conditional statements to perform the selected operation and display the result.\n",
    "\n",
    "**Task 7: Temperature Converter**\n",
    "Write a program that `converts temperatures between Celsius and Fahrenhei`t. Allow the user to `choose` the conversion direction and input the temperature value. Use conditional statements to perform the conversion based on the `user's choice`.(Do with conversion formula)\n"
   ]
  },
  {
   "cell_type": "markdown",
   "id": "IbVE_acs_dnI",
   "metadata": {
    "id": "IbVE_acs_dnI"
   },
   "source": [
    "** Task 1: Basic If-Else Statements Write a Python program that takes an integer as input from the user and prints whether it is multiple of 3 or not using if-else statements.**\n",
    "\n",
    "\n",
    "\n"
   ]
  },
  {
   "cell_type": "markdown",
   "id": "wWcEc9xNCgNu",
   "metadata": {
    "id": "wWcEc9xNCgNu"
   },
   "source": []
  },
  {
   "cell_type": "code",
   "execution_count": null,
   "id": "2e45b106",
   "metadata": {
    "colab": {
     "base_uri": "https://localhost:8080/",
     "height": 54
    },
    "id": "2e45b106",
    "outputId": "3171cf00-2676-4c46-a298-729e1aedb8d1"
   },
   "outputs": [
    {
     "name": "stdout",
     "output_type": "stream",
     "text": [
      "enter a number6\n"
     ]
    },
    {
     "data": {
      "application/vnd.google.colaboratory.intrinsic+json": {
       "type": "string"
      },
      "text/plain": [
       "\"it's multiple\""
      ]
     },
     "execution_count": 1,
     "metadata": {},
     "output_type": "execute_result"
    }
   ],
   "source": [
    "num = int(input(\"enter a number\"))\n",
    "\"it's multiple\" if num % 3 == 0 else \"not multiple\""
   ]
  },
  {
   "cell_type": "markdown",
   "id": "p8KLV2VF_zuU",
   "metadata": {
    "id": "p8KLV2VF_zuU"
   },
   "source": [
    "Task 2: Nested If Statements Create a program that asks the user for their age and nationality. Depending on their age and nationality, display a different message using nested if statements. For example, if they are under 18 and from the USA, display \"You are a minor from the USA.\""
   ]
  },
  {
   "cell_type": "code",
   "execution_count": null,
   "id": "lCz-0mPR_2s9",
   "metadata": {
    "colab": {
     "base_uri": "https://localhost:8080/"
    },
    "id": "lCz-0mPR_2s9",
    "outputId": "d4a37f64-7d60-4fa8-e27d-f6642e6d50c6"
   },
   "outputs": [
    {
     "name": "stdout",
     "output_type": "stream",
     "text": [
      "enter your age: 20\n",
      "enter your nationality: USA\n",
      "You are a minor from the  USA \n"
     ]
    }
   ],
   "source": [
    "age = int(input(\"enter your age: \"))\n",
    "nationality = input(\"enter your nationality: \")\n",
    "if age >= 18:\n",
    "       print(f\"You are a minor from the  {nationality} \")\n",
    "else:\n",
    "       print(\"you are not minor nor from USA\")"
   ]
  },
  {
   "cell_type": "markdown",
   "id": "eWBxy-U0CfUQ",
   "metadata": {
    "id": "eWBxy-U0CfUQ"
   },
   "source": []
  },
  {
   "cell_type": "markdown",
   "id": "nnXUEL9MCi5A",
   "metadata": {
    "id": "nnXUEL9MCi5A"
   },
   "source": [
    "Task 3: Grade Calculator Write a program that takes a student's score as input and converts it to a letter grade (A, B, C, D, or F) using if-elif-else statements. Use the following grading scale:\n",
    "A: 90-100\n",
    "B: 80-89\n",
    "C: 70-79\n",
    "D: 60-69\n",
    "F: Below 60\n"
   ]
  },
  {
   "cell_type": "code",
   "execution_count": null,
   "id": "AqLZBSpgCnXO",
   "metadata": {
    "colab": {
     "base_uri": "https://localhost:8080/"
    },
    "id": "AqLZBSpgCnXO",
    "outputId": "852b589f-0374-4b53-a098-673e27e69571"
   },
   "outputs": [
    {
     "name": "stdout",
     "output_type": "stream",
     "text": [
      "enter your marks: 99\n",
      "your grade is A\n"
     ]
    }
   ],
   "source": [
    "marks = int(input(\"enter your marks: \"))\n",
    "if marks >= 90 and marks <= 100:\n",
    "      print(\"your grade is A\")\n",
    "elif marks >= 80 and marks <= 89:\n",
    "      print(\"your grade is B\")\n",
    "elif marks >= 70 and marks <= 79:\n",
    "      print(\"your grade is C\")\n",
    "elif marks >= 60 and marks <= 69:\n",
    "      print(\"your grade is D\")\n",
    "elif marks < 0 or marks > 100:\n",
    "      print(\"enter a valid number\")\n",
    "else:\n",
    "      print(\"FAIL\")\n",
    "\n"
   ]
  },
  {
   "cell_type": "markdown",
   "id": "AfOC4eRCFJhJ",
   "metadata": {
    "id": "AfOC4eRCFJhJ"
   },
   "source": [
    "Task 4: Leap Year Checker Create a Python program that checks if a given year is a leap year or not. Use conditional statements to determine whether the year is divisible by 4, 100, and 400 to decide if it's a leap year."
   ]
  },
  {
   "cell_type": "code",
   "execution_count": null,
   "id": "1Gl94ynoFd8G",
   "metadata": {
    "colab": {
     "base_uri": "https://localhost:8080/"
    },
    "id": "1Gl94ynoFd8G",
    "outputId": "2e397bd4-aa64-4f5d-8015-25534b08720d"
   },
   "outputs": [
    {
     "name": "stdout",
     "output_type": "stream",
     "text": [
      "enter an year2009\n",
      "not a leap year\n"
     ]
    }
   ],
   "source": [
    "year = int(input(\"enter an year\" ))\n",
    "if (year % 4 == 0 and year % 100!= 0) or (year % 400 == 0):\n",
    "        print(\"it's a leap year\")\n",
    "else:\n",
    "        print(\"not a leap year\")"
   ]
  },
  {
   "cell_type": "markdown",
   "id": "Wz7IdiofQmox",
   "metadata": {
    "id": "Wz7IdiofQmox"
   },
   "source": [
    "Task 5: BMI Calculator Write a program that calculates a person's Body Mass Index (BMI) based on their height and weight. Then, use conditional statements to categorize the BMI as Underweight, Normal, Overweight, or Obese. Provide guidance on the healthy range for BMI.(use BMI Formula)"
   ]
  },
  {
   "cell_type": "code",
   "execution_count": null,
   "id": "r7-QVr23QoOQ",
   "metadata": {
    "id": "r7-QVr23QoOQ"
   },
   "outputs": [],
   "source": []
  },
  {
   "cell_type": "code",
   "execution_count": 4,
   "id": "mjIOGgEBQwtX",
   "metadata": {
    "colab": {
     "base_uri": "https://localhost:8080/"
    },
    "id": "mjIOGgEBQwtX",
    "outputId": "8f3ab3de-b704-41ec-d02c-da82b7288d84"
   },
   "outputs": [
    {
     "name": "stdout",
     "output_type": "stream",
     "text": [
      "enter your weight100\n",
      "enter your height6.0\n",
      "you are over weight\n"
     ]
    }
   ],
   "source": [
    "weight = float(input(\"enter your weight\"))\n",
    "height = float(input(\"enter your height\"))\n",
    "bmi = (weight)/(height*0.3048)**2\n",
    "if bmi < 18.5:\n",
    "    print(\"you are underweight\")\n",
    "elif bmi <= 24.9 and bmi > 18.5:\n",
    "    print(\"you are normal weight\" )\n",
    "elif bmi <= 29.9 and bmi >= 25:\n",
    "    print(\"you are over weight\")\n",
    "elif bmi < 30:\n",
    "    print(\"you are obese\")"
   ]
  },
  {
   "cell_type": "markdown",
   "id": "ae7BPlqmq0HN",
   "metadata": {
    "id": "ae7BPlqmq0HN"
   },
   "source": [
    "Task 6: Calculator with Menu Build a simple calculator program that provides a menu with options for addition, subtraction, multiplication, and division. Take user input for two numbersand an operation choice. Use conditional statements to perform the selected operation and display the result."
   ]
  },
  {
   "cell_type": "code",
   "execution_count": null,
   "id": "6APOZ5GfVYpO",
   "metadata": {
    "id": "6APOZ5GfVYpO"
   },
   "outputs": [],
   "source": []
  },
  {
   "cell_type": "code",
   "execution_count": 2,
   "id": "1ZfG32ceq7RZ",
   "metadata": {
    "colab": {
     "base_uri": "https://localhost:8080/"
    },
    "id": "1ZfG32ceq7RZ",
    "outputId": "37e3b205-4e89-4566-fadd-f22661adb8b2"
   },
   "outputs": [
    {
     "name": "stdout",
     "output_type": "stream",
     "text": [
      "enter a number100\n",
      "enter other number50\n",
      "enter an operator subtraction\n",
      "the value  is 50 \n"
     ]
    }
   ],
   "source": [
    "\n",
    "\n",
    "n1 = int(input(\"enter a number\"))\n",
    "n2 = int(input(\"enter other number\"))\n",
    "choice = input(\"enter an operator \")\n",
    "if choice == \"addition\":\n",
    "    addition = n1 + n2\n",
    "    print(f\"the value  is {addition} \" )\n",
    "elif choice == \"subtraction\":\n",
    "     subtraction = n1 - n2\n",
    "         print(f\"the value  is {subtraction} \" )\n",
    "elif choice == \"multiplication\":\n",
    "    multiplication = n1 * n2\n",
    "    print(f\"the value  is {multiplication} \")\n",
    "elif choice == \"division\":\n",
    "    division = n1/n2\n",
    "    print(f\"the value is {division}\")"
   ]
  },
  {
   "cell_type": "code",
   "execution_count": null,
   "id": "KevIzJJaVXv9",
   "metadata": {
    "id": "KevIzJJaVXv9"
   },
   "outputs": [],
   "source": []
  },
  {
   "cell_type": "markdown",
   "id": "NzoQc8E0V7ls",
   "metadata": {
    "id": "NzoQc8E0V7ls"
   },
   "source": [
    "Task 7: Temperature Converter Write a program that converts temperatures between Celsius and Fahrenheit. Allow the user to choose the conversion direction and input the temperature value. Use conditional statements to perform the conversion based on the user's choice.(Do with conversion formula)"
   ]
  },
  {
   "cell_type": "code",
   "execution_count": 9,
   "id": "V1KaJiq7WIs3",
   "metadata": {
    "id": "V1KaJiq7WIs3"
   },
   "outputs": [
    {
     "name": "stdout",
     "output_type": "stream",
     "text": [
      "enter the temperature : 100\n",
      "enter your unit : farenheit\n",
      "temperature in farenheit :  212.0\n"
     ]
    }
   ],
   "source": [
    "temperature = float(input(\"enter the temperature : \"))\n",
    "convert = input(\"enter your unit : \")\n",
    "if convert == \"farenheit\" :\n",
    "    farenheit = (9/5 * temperature) + 32\n",
    "    print(\"temperature in farenheit : \",farenheit)\n",
    "elif convert == \"celsius\" :\n",
    "    celsius= (temperature -32)*5/9\n",
    "    print(\"temperature in celsius is : \",celsius)\n",
    "else:\n",
    "    print(\"Invalid input\")"
   ]
  },
  {
   "cell_type": "markdown",
   "id": "H5hctZtOquJD",
   "metadata": {
    "id": "H5hctZtOquJD"
   },
   "source": []
  }
 ],
 "metadata": {
  "colab": {
   "provenance": []
  },
  "kernelspec": {
   "display_name": "Python 3 (ipykernel)",
   "language": "python",
   "name": "python3"
  },
  "language_info": {
   "codemirror_mode": {
    "name": "ipython",
    "version": 3
   },
   "file_extension": ".py",
   "mimetype": "text/x-python",
   "name": "python",
   "nbconvert_exporter": "python",
   "pygments_lexer": "ipython3",
   "version": "3.11.4"
  }
 },
 "nbformat": 4,
 "nbformat_minor": 5
}
