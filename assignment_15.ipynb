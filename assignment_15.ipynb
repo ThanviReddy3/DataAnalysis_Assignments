{
 "cells": [
  {
   "cell_type": "markdown",
   "id": "525a3301",
   "metadata": {},
   "source": [
    "### Using normal functions, lambda and miscellaneous functions(Try all possible ).\n"
   ]
  },
  {
   "cell_type": "markdown",
   "id": "f7d6f847",
   "metadata": {},
   "source": [
    "Task 1: **Leap Year Checker**\n",
    "\n",
    "Write a program that takes a year as input and determines whether it is a leap year or not. A leap year is a year that is divisible by 4, but not divisible by 100, unless it is also divisible by 400. Display an appropriate message indicating whether the year is a leap year or not."
   ]
  },
  {
   "cell_type": "markdown",
   "id": "4cfc56d0",
   "metadata": {},
   "source": [
    "## Normal function"
   ]
  },
  {
   "cell_type": "code",
   "execution_count": 1,
   "id": "37e72f75",
   "metadata": {},
   "outputs": [
    {
     "name": "stdout",
     "output_type": "stream",
     "text": [
      "enter a year: 1998\n",
      "It's not a leap year\n"
     ]
    }
   ],
   "source": [
    "def leapyear(a):     \n",
    "    if (a%4== 0) and (a%100 != 0 or a%400 == 0):\n",
    "        print(\"Its a leap year\")\n",
    "    else:\n",
    "        print(\"It's not a leap year\")\n",
    "a = int(input(\"enter a year: \"))\n",
    "leapyear(a)"
   ]
  },
  {
   "cell_type": "code",
   "execution_count": 2,
   "id": "36539888",
   "metadata": {},
   "outputs": [
    {
     "name": "stdout",
     "output_type": "stream",
     "text": [
      "It's not a leap year\n"
     ]
    }
   ],
   "source": [
    "leapyear(1900)"
   ]
  },
  {
   "cell_type": "code",
   "execution_count": 3,
   "id": "df8f8dd0",
   "metadata": {},
   "outputs": [
    {
     "name": "stdout",
     "output_type": "stream",
     "text": [
      "Its a leap year\n"
     ]
    }
   ],
   "source": [
    "leapyear(2024)"
   ]
  },
  {
   "cell_type": "markdown",
   "id": "82ff5a9f",
   "metadata": {},
   "source": [
    "## lambda function"
   ]
  },
  {
   "cell_type": "code",
   "execution_count": 45,
   "id": "df43c1ba",
   "metadata": {},
   "outputs": [],
   "source": [
    "a = lambda year: (year%4== 0) and (year%100 != 0 or year%400 == 0)"
   ]
  },
  {
   "cell_type": "code",
   "execution_count": 46,
   "id": "0f52bead",
   "metadata": {},
   "outputs": [
    {
     "name": "stdout",
     "output_type": "stream",
     "text": [
      "Enter the year:: 1900\n",
      "Its not a leap year\n"
     ]
    }
   ],
   "source": [
    "year= int(input(\"Enter the year:: \"))\n",
    "a(year)\n",
    "if a(year)==True:\n",
    "    print(\"Its leap year\")\n",
    "else:\n",
    "     print(\"Its not a leap year\") "
   ]
  },
  {
   "cell_type": "markdown",
   "id": "48e02e9d",
   "metadata": {},
   "source": [
    "## mappingfunction"
   ]
  },
  {
   "cell_type": "code",
   "execution_count": 50,
   "id": "e4a147d8",
   "metadata": {},
   "outputs": [
    {
     "name": "stdout",
     "output_type": "stream",
     "text": [
      "Its a leap year\n",
      "It's not a leap year\n",
      "It's not a leap year\n",
      "It's not a leap year\n",
      "Its a leap year\n",
      "It's not a leap year\n",
      "It's not a leap year\n",
      "It's not a leap year\n",
      "Its a leap year\n",
      "It's not a leap year\n"
     ]
    }
   ],
   "source": [
    "yearlist = [2000,2001,2002,2003,2004,2005,2006,2007,2008,2009]\n",
    "def leapyear(a):\n",
    "    if (a%4== 0) and (a%100 != 0 or a%400 == 0):\n",
    "        print(\"Its a leap year\")\n",
    "    else:\n",
    "        print(\"It's not a leap year\")\n",
    "newlist = list(map(leapyear, yearlist))"
   ]
  },
  {
   "cell_type": "markdown",
   "id": "b149a952",
   "metadata": {},
   "source": [
    "Task 2: **Grade Calculator**\n",
    "\n",
    "Write a program that takes a student's score as input (out of 100) and determines their grade based on the following conditions:\n",
    "If the score is 90 or above, the grade is 'A'.\n",
    "If the score is between 80 and 89, the grade is 'B'.\n",
    "If the score is between 70 and 79, the grade is 'C'.\n",
    "If the score is between 60 and 69, the grade is 'D'. If the score is below 60, the grade is 'F'.\n",
    "Display the grade corresponding to the entered score"
   ]
  },
  {
   "cell_type": "markdown",
   "id": "4c886276",
   "metadata": {},
   "source": [
    "## normal function"
   ]
  },
  {
   "cell_type": "code",
   "execution_count": 7,
   "id": "a0408678",
   "metadata": {},
   "outputs": [
    {
     "name": "stdout",
     "output_type": "stream",
     "text": [
      "enter your marks: 78\n",
      "the grade is 'C'\n"
     ]
    }
   ],
   "source": [
    "def marks(a):         \n",
    "    if a>= 90:\n",
    "        print(\"the grade is 'A'\")\n",
    "    elif a>=80:\n",
    "        print(\"the grade is 'B'\")\n",
    "    elif a>= 70:\n",
    "        print(\"the grade is 'C'\")\n",
    "    elif a>= 60:\n",
    "        print(\"the grade is 'D'\")\n",
    "    else:\n",
    "        print(\"FAIL\")\n",
    "a = int(input(\"enter your marks: \"))\n",
    "marks(a)"
   ]
  },
  {
   "cell_type": "markdown",
   "id": "b9715afc",
   "metadata": {},
   "source": [
    "## mapping function"
   ]
  },
  {
   "cell_type": "code",
   "execution_count": 5,
   "id": "045a15ad",
   "metadata": {},
   "outputs": [
    {
     "name": "stdout",
     "output_type": "stream",
     "text": [
      "FAIL\n",
      "FAIL\n",
      "the grade is 'D'\n",
      "the grade is 'D'\n",
      "the grade is 'C'\n",
      "the grade is 'B'\n",
      "the grade is 'A'\n"
     ]
    }
   ],
   "source": [
    "markslist = [0, 23,60,69,78,88,99]\n",
    "def marks(a):                   \n",
    "    if a>= 90:\n",
    "        print(\"the grade is 'A'\")\n",
    "    elif a>=80:\n",
    "        print(\"the grade is 'B'\")\n",
    "    elif a>= 70:\n",
    "        print(\"the grade is 'C'\")\n",
    "    elif a>= 60:\n",
    "        print(\"the grade is 'D'\")\n",
    "    else:\n",
    "        print(\"FAIL\")\n",
    "newlists = list(map(marks,markslist))"
   ]
  },
  {
   "cell_type": "markdown",
   "id": "1892ea77",
   "metadata": {},
   "source": [
    "Task 3: **Calculator**\n",
    "Write a program that takes two numbers as input and performs a mathematical operation (+, -, *, /) based on the user's choice. Use a conditional statement to determine the operation to be performed. Display the result of the calculation.\n"
   ]
  },
  {
   "cell_type": "code",
   "execution_count": 16,
   "id": "2452a99d",
   "metadata": {},
   "outputs": [
    {
     "name": "stdout",
     "output_type": "stream",
     "text": [
      "enter first number: 3\n",
      "enter second number: 4\n",
      "enter the mathematical operation you want to perform: +\n",
      "the addition of two numbers are:  7\n"
     ]
    }
   ],
   "source": [
    "x = int(input(\"enter first number: \"))\n",
    "y = int(input(\"enter second number: \"))\n",
    "z = input('enter the mathematical operation you want to perform: ')\n",
    "if z == '+':\n",
    "    print(\"the addition of two numbers are: \" , x + y)\n",
    "elif z == '-':\n",
    "    print(\"the substraction of two numbers are: \" ,x - y)\n",
    "elif z == '*':\n",
    "    print(\"the multiplication of two numbers are: \" ,x * y)\n",
    "elif z == '/':\n",
    "    print(\"the division of two numbers are: \" ,x / y)\n",
    "else:\n",
    "    print(\"enter a valid operation\" )\n"
   ]
  },
  {
   "cell_type": "markdown",
   "id": "da13875a",
   "metadata": {},
   "source": [
    "Task 4: **Reverse String**\n",
    "Write a Python function to reverse a string.\n"
   ]
  },
  {
   "cell_type": "markdown",
   "id": "ec5690aa",
   "metadata": {},
   "source": [
    " ## normal function"
   ]
  },
  {
   "cell_type": "code",
   "execution_count": 17,
   "id": "63287565",
   "metadata": {},
   "outputs": [
    {
     "name": "stdout",
     "output_type": "stream",
     "text": [
      "enter a string:innomatics research lab\n"
     ]
    },
    {
     "data": {
      "text/plain": [
       "'bal hcraeser scitamonni'"
      ]
     },
     "execution_count": 17,
     "metadata": {},
     "output_type": "execute_result"
    }
   ],
   "source": [
    "def reverse(s):         \n",
    "    return s[-1::-1]\n",
    "s = input(\"enter a string:\")\n",
    "reverse(s)"
   ]
  },
  {
   "cell_type": "markdown",
   "id": "6b8d3b7a",
   "metadata": {},
   "source": [
    "## using lambda function"
   ]
  },
  {
   "cell_type": "code",
   "execution_count": 11,
   "id": "b5ed3584",
   "metadata": {},
   "outputs": [
    {
     "data": {
      "text/plain": [
       "'otamot'"
      ]
     },
     "execution_count": 11,
     "metadata": {},
     "output_type": "execute_result"
    }
   ],
   "source": [
    "reverse = lambda r: r[-1::-1]  \n",
    "reverse(\"tomato\")"
   ]
  },
  {
   "cell_type": "markdown",
   "id": "fa8ae3be",
   "metadata": {},
   "source": [
    "Task 5: **Palindrome**\n",
    "Write a Python function that checks whether a passed string is a palindrome or not."
   ]
  },
  {
   "cell_type": "markdown",
   "id": "4b599f9d",
   "metadata": {},
   "source": [
    "## using normal function"
   ]
  },
  {
   "cell_type": "code",
   "execution_count": 18,
   "id": "f33ef75a",
   "metadata": {},
   "outputs": [
    {
     "name": "stdout",
     "output_type": "stream",
     "text": [
      "enter a string: ramukumar\n",
      "its a palindrome\n"
     ]
    }
   ],
   "source": [
    "def pal(p):       \n",
    "    if p == p[-1::-1]:\n",
    "        print(\"its a palindrome\")\n",
    "    else:\n",
    "        print(\"its not a palindrome\")\n",
    "p = input(\"enter a string: \")\n",
    "pal(p)\n"
   ]
  },
  {
   "cell_type": "code",
   "execution_count": 21,
   "id": "f1c35238",
   "metadata": {},
   "outputs": [
    {
     "name": "stdout",
     "output_type": "stream",
     "text": [
      "its not a palindrome\n"
     ]
    }
   ],
   "source": [
    "pal(\"palindrome\")"
   ]
  },
  {
   "cell_type": "markdown",
   "id": "e522c07b",
   "metadata": {},
   "source": [
    " ## lamba function"
   ]
  },
  {
   "cell_type": "code",
   "execution_count": 9,
   "id": "e07e073d",
   "metadata": {},
   "outputs": [
    {
     "name": "stdout",
     "output_type": "stream",
     "text": [
      "enter a string: thanvi\n",
      "its not a palindrome\n"
     ]
    }
   ],
   "source": [
    "palindrome = lambda p1: p1==p1[-1::-1]     \n",
    "p1 = input(\"enter a string: \")\n",
    "if palindrome(p1) == True:\n",
    "    print(\"its a palindrome\")\n",
    "else:\n",
    "    print(\"its not a palindrome\")"
   ]
  },
  {
   "cell_type": "markdown",
   "id": "f4912403",
   "metadata": {},
   "source": [
    "Task 6: **Counting**\n",
    "Write a Python function that accepts a string and counts the number of upper and lower case letters.\n"
   ]
  },
  {
   "cell_type": "code",
   "execution_count": 12,
   "id": "7ac63a68",
   "metadata": {},
   "outputs": [
    {
     "name": "stdout",
     "output_type": "stream",
     "text": [
      "enter a string:: THANVI reddy\n",
      "['T', 'H', 'A', 'N', 'V', 'I']\n",
      "[' ', 'r', 'e', 'd', 'd', 'y']\n",
      "no. of upper case letters are::  6\n",
      "no. of lower case letters are::  6\n"
     ]
    }
   ],
   "source": [
    "str1 = input(\"enter a string:: \")\n",
    "newupper=[]\n",
    "newlower=[]\n",
    "def count(str1):\n",
    "    upper = [chr(65+i) for i in range(0,26)]\n",
    "    lower = [chr(97+i) for i in range(0,26)]\n",
    "    for i in str1:\n",
    "        if i in upper:\n",
    "            newupper.append(i)\n",
    "        else :\n",
    "            newlower.append(i)\n",
    "    print(newupper)\n",
    "    print(newlower)\n",
    "    print(\"no. of upper case letters are:: \",len(newupper))\n",
    "    print(\"no. of lower case letters are:: \",len(newlower))\n",
    "count(str1)"
   ]
  },
  {
   "cell_type": "code",
   "execution_count": null,
   "id": "d4f362c4",
   "metadata": {},
   "outputs": [],
   "source": []
  },
  {
   "cell_type": "code",
   "execution_count": null,
   "id": "889f3d40",
   "metadata": {},
   "outputs": [],
   "source": []
  }
 ],
 "metadata": {
  "kernelspec": {
   "display_name": "Python 3 (ipykernel)",
   "language": "python",
   "name": "python3"
  },
  "language_info": {
   "codemirror_mode": {
    "name": "ipython",
    "version": 3
   },
   "file_extension": ".py",
   "mimetype": "text/x-python",
   "name": "python",
   "nbconvert_exporter": "python",
   "pygments_lexer": "ipython3",
   "version": "3.11.4"
  }
 },
 "nbformat": 4,
 "nbformat_minor": 5
}
