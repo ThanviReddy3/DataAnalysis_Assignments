{
 "cells": [
  {
   "cell_type": "markdown",
   "id": "89ffda57",
   "metadata": {},
   "source": [
    "1. Write a function called \"add_numbers\" that takes two integers as input and returns their sum.\n",
    "\n",
    "2. Write a function called \"multiply_numbers\" that takes two integers as input and returns their product.\n",
    "\n",
    "3. Write a function called \"calculate_average\" that takes a list of numbers as input and returns the average of thosenumbers.\n",
    "\n",
    "4. Write a function called \"is_even\" that takes an integer as input and returns True if the number is even, and False otherwise.\n",
    "\n",
    "5. Write a function called \"reverse_string\" that takes a string as input and returns the reverse of that string.\n",
    "\n",
    "6. Write a function called \"count_vowels\" that takes a string as input and returns the number of vowels (a, e, i, o, u) in that string.\n",
    "\n",
    "7. Write a function called \"find_max\" that takes a list of numbers as input and returns the maximum value in that list.\n",
    "\n",
    "8. Write a function called \"find_min\" that takes a list of numbers as input and returns the minimum value in that list."
   ]
  },
  {
   "cell_type": "markdown",
   "id": "f57197f9",
   "metadata": {},
   "source": [
    "##### 1. Write a function called \"add_numbers\" that takes two integers as input and returns their sum."
   ]
  },
  {
   "cell_type": "code",
   "execution_count": 14,
   "id": "37b9bf9a",
   "metadata": {},
   "outputs": [],
   "source": [
    "def add_number(x,y):\n",
    "    print(\"Sum of the two numbers\" , x+y)"
   ]
  },
  {
   "cell_type": "code",
   "execution_count": 15,
   "id": "eabf1208",
   "metadata": {},
   "outputs": [
    {
     "name": "stdout",
     "output_type": "stream",
     "text": [
      "Sum of the two numbers 79\n"
     ]
    }
   ],
   "source": [
    " add_number(30, 49)"
   ]
  },
  {
   "cell_type": "markdown",
   "id": "bfa69052",
   "metadata": {},
   "source": [
    "##### 2. Write a function called \"multiply_numbers\" that takes two integers as input and returns their product."
   ]
  },
  {
   "cell_type": "code",
   "execution_count": 16,
   "id": "c36b37b3",
   "metadata": {},
   "outputs": [],
   "source": [
    "def multiply_numbers(x,y):\n",
    "    print(\"the product of two numbers is\" , x*y)"
   ]
  },
  {
   "cell_type": "code",
   "execution_count": 17,
   "id": "02180453",
   "metadata": {},
   "outputs": [
    {
     "name": "stdout",
     "output_type": "stream",
     "text": [
      "the product of two numbers is 126\n"
     ]
    }
   ],
   "source": [
    "multiply_numbers(21,6)"
   ]
  },
  {
   "cell_type": "markdown",
   "id": "ace49439",
   "metadata": {},
   "source": [
    "##### 3. Write a function called \"calculate_average\" that takes a list of numbers as input and returns the average of thosenumbers"
   ]
  },
  {
   "cell_type": "code",
   "execution_count": 27,
   "id": "9be3c685",
   "metadata": {},
   "outputs": [],
   "source": [
    "def calculate_average(x):\n",
    "    print(sum(x)/ len(x))"
   ]
  },
  {
   "cell_type": "code",
   "execution_count": 32,
   "id": "ac4131da",
   "metadata": {},
   "outputs": [
    {
     "name": "stdout",
     "output_type": "stream",
     "text": [
      "30.0\n"
     ]
    }
   ],
   "source": [
    "calculate_average([10,20,30,40,50])"
   ]
  },
  {
   "cell_type": "markdown",
   "id": "4cdb4e03",
   "metadata": {},
   "source": [
    "##### 4. Write a function called \"is_even\" that takes an integer as input and returns True if the number is even, and False otherwise."
   ]
  },
  {
   "cell_type": "code",
   "execution_count": 29,
   "id": "a117da04",
   "metadata": {},
   "outputs": [],
   "source": [
    "def is_even(a):\n",
    "\n",
    "    if a%2 == 0:\n",
    "        print(\"True\")\n",
    "    else:\n",
    "        print(\"False\")"
   ]
  },
  {
   "cell_type": "code",
   "execution_count": 30,
   "id": "60854370",
   "metadata": {},
   "outputs": [
    {
     "name": "stdout",
     "output_type": "stream",
     "text": [
      "False\n"
     ]
    }
   ],
   "source": [
    "is_even(7)"
   ]
  },
  {
   "cell_type": "markdown",
   "id": "2272c94a",
   "metadata": {},
   "source": [
    "##### 5. Write a function called \"reverse_string\" that takes a string as input and returns the reverse of that string."
   ]
  },
  {
   "cell_type": "code",
   "execution_count": 10,
   "id": "e0589ed0",
   "metadata": {},
   "outputs": [],
   "source": [
    "def reverse_string(x):\n",
    "    print(x[::-1])"
   ]
  },
  {
   "cell_type": "code",
   "execution_count": 11,
   "id": "9fc32656",
   "metadata": {},
   "outputs": [
    {
     "name": "stdout",
     "output_type": "stream",
     "text": [
      "olleh\n"
     ]
    }
   ],
   "source": [
    "reverse_string(\"hello\")"
   ]
  },
  {
   "cell_type": "markdown",
   "id": "a6bfba0c",
   "metadata": {},
   "source": [
    "##### 6. Write a function called \"count_vowels\" that takes a string as input and returns the number of vowels (a, e, i, o, u) in that string."
   ]
  },
  {
   "cell_type": "code",
   "execution_count": 111,
   "id": "1490b9c2",
   "metadata": {},
   "outputs": [],
   "source": [
    "count = []\n",
    "vowels = ['a', 'e', 'i', 'o', 'u']\n",
    "def count_vowels(x):\n",
    "    for i in x:\n",
    "        if i in vowels:\n",
    "            count.append(i)\n",
    "    print(count)\n",
    "    print(\"the vowels present are\" , len(count))\n"
   ]
  },
  {
   "cell_type": "code",
   "execution_count": 106,
   "id": "95afc3a9",
   "metadata": {},
   "outputs": [
    {
     "name": "stdout",
     "output_type": "stream",
     "text": [
      "['i', 'o', 'o', 'o', 'i']\n",
      "the vowels present are 5\n"
     ]
    }
   ],
   "source": [
    "count_vowels(\"hi good morning\")"
   ]
  },
  {
   "cell_type": "markdown",
   "id": "bb231411",
   "metadata": {},
   "source": [
    "##### 7. Write a function called \"find_max\" that takes a list of numbers as input and returns the maximum value in that list."
   ]
  },
  {
   "cell_type": "code",
   "execution_count": 116,
   "id": "48e51693",
   "metadata": {},
   "outputs": [],
   "source": [
    "def find_max(x):\n",
    "        print(max(x))"
   ]
  },
  {
   "cell_type": "code",
   "execution_count": 120,
   "id": "bea1dae2",
   "metadata": {},
   "outputs": [
    {
     "name": "stdout",
     "output_type": "stream",
     "text": [
      "89\n"
     ]
    }
   ],
   "source": [
    "find_max([3,10,22,19,44,89])"
   ]
  },
  {
   "cell_type": "markdown",
   "id": "5e374d58",
   "metadata": {},
   "source": [
    "##### 8. Write a function called \"find_min\" that takes a list of numbers as input and returns the minimum value in that list."
   ]
  },
  {
   "cell_type": "code",
   "execution_count": 121,
   "id": "c88113a8",
   "metadata": {},
   "outputs": [],
   "source": [
    "def find_min(x):\n",
    "        print(min(x))"
   ]
  },
  {
   "cell_type": "code",
   "execution_count": 122,
   "id": "d8bf34e5",
   "metadata": {},
   "outputs": [
    {
     "name": "stdout",
     "output_type": "stream",
     "text": [
      "1\n"
     ]
    }
   ],
   "source": [
    "find_min([78,1,33,11,98,2,3,8])"
   ]
  },
  {
   "cell_type": "code",
   "execution_count": null,
   "id": "978c68c9",
   "metadata": {},
   "outputs": [],
   "source": []
  }
 ],
 "metadata": {
  "kernelspec": {
   "display_name": "Python 3 (ipykernel)",
   "language": "python",
   "name": "python3"
  },
  "language_info": {
   "codemirror_mode": {
    "name": "ipython",
    "version": 3
   },
   "file_extension": ".py",
   "mimetype": "text/x-python",
   "name": "python",
   "nbconvert_exporter": "python",
   "pygments_lexer": "ipython3",
   "version": "3.11.4"
  }
 },
 "nbformat": 4,
 "nbformat_minor": 5
}
