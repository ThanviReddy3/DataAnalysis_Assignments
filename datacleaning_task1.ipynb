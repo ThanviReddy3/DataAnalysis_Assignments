{
 "cells": [
  {
   "cell_type": "markdown",
   "id": "de50acaf",
   "metadata": {},
   "source": [
    "a. Kindly fill the missing values with\n",
    "\n",
    "value\n",
    "\n",
    "Statistical value\n",
    "\n",
    "Filling  method\n",
    "\n",
    "B) Create pivot table for  position and average salary.\n",
    "\n",
    "C) Group the data using group by as per gender  and average age."
   ]
  },
  {
   "cell_type": "code",
   "execution_count": 1,
   "id": "0f4437cd",
   "metadata": {},
   "outputs": [],
   "source": [
    "import numpy as np\n",
    "import pandas as pd"
   ]
  },
  {
   "cell_type": "code",
   "execution_count": 2,
   "id": "e61b6657",
   "metadata": {},
   "outputs": [],
   "source": [
    "df = pd.read_excel(r\"C:\\Users\\india\\My Python Files\\ethnic_diversity.xlsx\")"
   ]
  },
  {
   "cell_type": "code",
   "execution_count": 3,
   "id": "e4921d88",
   "metadata": {},
   "outputs": [
    {
     "data": {
      "text/html": [
       "<div>\n",
       "<style scoped>\n",
       "    .dataframe tbody tr th:only-of-type {\n",
       "        vertical-align: middle;\n",
       "    }\n",
       "\n",
       "    .dataframe tbody tr th {\n",
       "        vertical-align: top;\n",
       "    }\n",
       "\n",
       "    .dataframe thead th {\n",
       "        text-align: right;\n",
       "    }\n",
       "</style>\n",
       "<table border=\"1\" class=\"dataframe\">\n",
       "  <thead>\n",
       "    <tr style=\"text-align: right;\">\n",
       "      <th></th>\n",
       "      <th>Employee_Name</th>\n",
       "      <th>EmpID</th>\n",
       "      <th>Position</th>\n",
       "      <th>State</th>\n",
       "      <th>Zip</th>\n",
       "      <th>Gender</th>\n",
       "      <th>MaritalDesc</th>\n",
       "      <th>CitizenDesc</th>\n",
       "      <th>EmploymentStatus</th>\n",
       "      <th>Department</th>\n",
       "      <th>Salaries</th>\n",
       "      <th>age</th>\n",
       "      <th>Race</th>\n",
       "    </tr>\n",
       "  </thead>\n",
       "  <tbody>\n",
       "    <tr>\n",
       "      <th>0</th>\n",
       "      <td>Brown, Mia</td>\n",
       "      <td>1103024456</td>\n",
       "      <td>Accountant I</td>\n",
       "      <td>MA</td>\n",
       "      <td>1450.0</td>\n",
       "      <td>F</td>\n",
       "      <td>Married</td>\n",
       "      <td>US Citizen</td>\n",
       "      <td>Active</td>\n",
       "      <td>Admin Offices</td>\n",
       "      <td>674.28</td>\n",
       "      <td>28</td>\n",
       "      <td>Black or African American</td>\n",
       "    </tr>\n",
       "    <tr>\n",
       "      <th>1</th>\n",
       "      <td>LaRotonda, William</td>\n",
       "      <td>1106026572</td>\n",
       "      <td>Accountant I</td>\n",
       "      <td>MA</td>\n",
       "      <td>1460.0</td>\n",
       "      <td>M</td>\n",
       "      <td>Divorced</td>\n",
       "      <td>US Citizen</td>\n",
       "      <td>Active</td>\n",
       "      <td>Admin Offices</td>\n",
       "      <td>674.28</td>\n",
       "      <td>50</td>\n",
       "      <td>NaN</td>\n",
       "    </tr>\n",
       "    <tr>\n",
       "      <th>2</th>\n",
       "      <td>Steans, Tyrone</td>\n",
       "      <td>1302053333</td>\n",
       "      <td>Accountant I</td>\n",
       "      <td>MA</td>\n",
       "      <td>2703.0</td>\n",
       "      <td>M</td>\n",
       "      <td>Single</td>\n",
       "      <td>US Citizen</td>\n",
       "      <td>Active</td>\n",
       "      <td>Admin Offices</td>\n",
       "      <td>674.28</td>\n",
       "      <td>43</td>\n",
       "      <td>White</td>\n",
       "    </tr>\n",
       "    <tr>\n",
       "      <th>3</th>\n",
       "      <td>Howard, Estelle</td>\n",
       "      <td>1211050782</td>\n",
       "      <td>Administrative Assistant</td>\n",
       "      <td>MA</td>\n",
       "      <td>2170.0</td>\n",
       "      <td>F</td>\n",
       "      <td>Married</td>\n",
       "      <td>US Citizen</td>\n",
       "      <td>Terminated for Cause</td>\n",
       "      <td>Admin Offices</td>\n",
       "      <td>NaN</td>\n",
       "      <td>44</td>\n",
       "      <td>White</td>\n",
       "    </tr>\n",
       "    <tr>\n",
       "      <th>4</th>\n",
       "      <td>Singh, Nan</td>\n",
       "      <td>1307059817</td>\n",
       "      <td>Administrative Assistant</td>\n",
       "      <td>MA</td>\n",
       "      <td>2330.0</td>\n",
       "      <td>F</td>\n",
       "      <td>Single</td>\n",
       "      <td>US Citizen</td>\n",
       "      <td>Active</td>\n",
       "      <td>Admin Offices</td>\n",
       "      <td>61089.35</td>\n",
       "      <td>33</td>\n",
       "      <td>White</td>\n",
       "    </tr>\n",
       "  </tbody>\n",
       "</table>\n",
       "</div>"
      ],
      "text/plain": [
       "          Employee_Name       EmpID                  Position State     Zip  \\\n",
       "0            Brown, Mia  1103024456              Accountant I    MA  1450.0   \n",
       "1  LaRotonda, William    1106026572              Accountant I    MA  1460.0   \n",
       "2      Steans, Tyrone    1302053333              Accountant I    MA  2703.0   \n",
       "3       Howard, Estelle  1211050782  Administrative Assistant    MA  2170.0   \n",
       "4           Singh, Nan   1307059817  Administrative Assistant    MA  2330.0   \n",
       "\n",
       "  Gender MaritalDesc CitizenDesc      EmploymentStatus     Department  \\\n",
       "0      F     Married  US Citizen                Active  Admin Offices   \n",
       "1     M     Divorced  US Citizen                Active  Admin Offices   \n",
       "2     M       Single  US Citizen                Active  Admin Offices   \n",
       "3      F     Married  US Citizen  Terminated for Cause  Admin Offices   \n",
       "4      F      Single  US Citizen                Active  Admin Offices   \n",
       "\n",
       "   Salaries  age                       Race  \n",
       "0    674.28   28  Black or African American  \n",
       "1    674.28   50                        NaN  \n",
       "2    674.28   43                      White  \n",
       "3       NaN   44                      White  \n",
       "4  61089.35   33                      White  "
      ]
     },
     "execution_count": 3,
     "metadata": {},
     "output_type": "execute_result"
    }
   ],
   "source": [
    "df.head()"
   ]
  },
  {
   "cell_type": "code",
   "execution_count": 4,
   "id": "dafce60e",
   "metadata": {},
   "outputs": [
    {
     "data": {
      "text/html": [
       "<div>\n",
       "<style scoped>\n",
       "    .dataframe tbody tr th:only-of-type {\n",
       "        vertical-align: middle;\n",
       "    }\n",
       "\n",
       "    .dataframe tbody tr th {\n",
       "        vertical-align: top;\n",
       "    }\n",
       "\n",
       "    .dataframe thead th {\n",
       "        text-align: right;\n",
       "    }\n",
       "</style>\n",
       "<table border=\"1\" class=\"dataframe\">\n",
       "  <thead>\n",
       "    <tr style=\"text-align: right;\">\n",
       "      <th></th>\n",
       "      <th>Employee_Name</th>\n",
       "      <th>EmpID</th>\n",
       "      <th>Position</th>\n",
       "      <th>State</th>\n",
       "      <th>Zip</th>\n",
       "      <th>Gender</th>\n",
       "      <th>MaritalDesc</th>\n",
       "      <th>CitizenDesc</th>\n",
       "      <th>EmploymentStatus</th>\n",
       "      <th>Department</th>\n",
       "      <th>Salaries</th>\n",
       "      <th>age</th>\n",
       "      <th>Race</th>\n",
       "    </tr>\n",
       "  </thead>\n",
       "  <tbody>\n",
       "    <tr>\n",
       "      <th>305</th>\n",
       "      <td>Daniele, Ann</td>\n",
       "      <td>1411071312</td>\n",
       "      <td>Sr. Network Engineer</td>\n",
       "      <td>CT</td>\n",
       "      <td>6033.0</td>\n",
       "      <td>F</td>\n",
       "      <td>Married</td>\n",
       "      <td>US Citizen</td>\n",
       "      <td>Leave of Absence</td>\n",
       "      <td>IT/IS</td>\n",
       "      <td>37619.01</td>\n",
       "      <td>38</td>\n",
       "      <td>White</td>\n",
       "    </tr>\n",
       "    <tr>\n",
       "      <th>306</th>\n",
       "      <td>Lajiri,  Jyoti</td>\n",
       "      <td>1108028108</td>\n",
       "      <td>Sr. Network Engineer</td>\n",
       "      <td>MA</td>\n",
       "      <td>2169.0</td>\n",
       "      <td>M</td>\n",
       "      <td>Married</td>\n",
       "      <td>US Citizen</td>\n",
       "      <td>Leave of Absence</td>\n",
       "      <td>IT/IS</td>\n",
       "      <td>27603.00</td>\n",
       "      <td>34</td>\n",
       "      <td>White</td>\n",
       "    </tr>\n",
       "    <tr>\n",
       "      <th>307</th>\n",
       "      <td>Semizoglou, Jeremiah</td>\n",
       "      <td>904013591</td>\n",
       "      <td>Sr. Network Engineer</td>\n",
       "      <td>MA</td>\n",
       "      <td>1545.0</td>\n",
       "      <td>M</td>\n",
       "      <td>Married</td>\n",
       "      <td>US Citizen</td>\n",
       "      <td>Future Start</td>\n",
       "      <td>IT/IS</td>\n",
       "      <td>27587.46</td>\n",
       "      <td>24</td>\n",
       "      <td>Asian</td>\n",
       "    </tr>\n",
       "    <tr>\n",
       "      <th>308</th>\n",
       "      <td>South, Joe</td>\n",
       "      <td>1308060959</td>\n",
       "      <td>Sr. Network Engineer</td>\n",
       "      <td>CT</td>\n",
       "      <td>6278.0</td>\n",
       "      <td>M</td>\n",
       "      <td>Single</td>\n",
       "      <td>US Citizen</td>\n",
       "      <td>Active</td>\n",
       "      <td>IT/IS</td>\n",
       "      <td>12126.53</td>\n",
       "      <td>31</td>\n",
       "      <td>White</td>\n",
       "    </tr>\n",
       "    <tr>\n",
       "      <th>309</th>\n",
       "      <td>Warfield, Sarah</td>\n",
       "      <td>1301052347</td>\n",
       "      <td>Sr. Network Engineer</td>\n",
       "      <td>MA</td>\n",
       "      <td>2453.0</td>\n",
       "      <td>F</td>\n",
       "      <td>Widowed</td>\n",
       "      <td>US Citizen</td>\n",
       "      <td>Active</td>\n",
       "      <td>IT/IS</td>\n",
       "      <td>37257.00</td>\n",
       "      <td>46</td>\n",
       "      <td>Asian</td>\n",
       "    </tr>\n",
       "  </tbody>\n",
       "</table>\n",
       "</div>"
      ],
      "text/plain": [
       "              Employee_Name       EmpID              Position State     Zip  \\\n",
       "305          Daniele, Ann    1411071312  Sr. Network Engineer    CT  6033.0   \n",
       "306          Lajiri,  Jyoti  1108028108  Sr. Network Engineer    MA  2169.0   \n",
       "307  Semizoglou, Jeremiah     904013591  Sr. Network Engineer    MA  1545.0   \n",
       "308              South, Joe  1308060959  Sr. Network Engineer    CT  6278.0   \n",
       "309         Warfield, Sarah  1301052347  Sr. Network Engineer    MA  2453.0   \n",
       "\n",
       "    Gender MaritalDesc CitizenDesc  EmploymentStatus Department  Salaries  \\\n",
       "305      F     Married  US Citizen  Leave of Absence      IT/IS  37619.01   \n",
       "306     M      Married  US Citizen  Leave of Absence      IT/IS  27603.00   \n",
       "307     M      Married  US Citizen      Future Start      IT/IS  27587.46   \n",
       "308     M       Single  US Citizen            Active      IT/IS  12126.53   \n",
       "309      F     Widowed  US Citizen            Active      IT/IS  37257.00   \n",
       "\n",
       "     age   Race  \n",
       "305   38  White  \n",
       "306   34  White  \n",
       "307   24  Asian  \n",
       "308   31  White  \n",
       "309   46  Asian  "
      ]
     },
     "execution_count": 4,
     "metadata": {},
     "output_type": "execute_result"
    }
   ],
   "source": [
    "df.tail()"
   ]
  },
  {
   "cell_type": "code",
   "execution_count": 5,
   "id": "7a75c05c",
   "metadata": {},
   "outputs": [
    {
     "data": {
      "text/plain": [
       "Employee_Name        0\n",
       "EmpID                0\n",
       "Position             3\n",
       "State                2\n",
       "Zip                  2\n",
       "Gender               7\n",
       "MaritalDesc          9\n",
       "CitizenDesc          3\n",
       "EmploymentStatus     0\n",
       "Department           5\n",
       "Salaries            12\n",
       "age                  0\n",
       "Race                 9\n",
       "dtype: int64"
      ]
     },
     "execution_count": 5,
     "metadata": {},
     "output_type": "execute_result"
    }
   ],
   "source": [
    "df.isnull().sum()"
   ]
  },
  {
   "cell_type": "code",
   "execution_count": 6,
   "id": "5c2188bb",
   "metadata": {},
   "outputs": [
    {
     "data": {
      "text/plain": [
       "3"
      ]
     },
     "execution_count": 6,
     "metadata": {},
     "output_type": "execute_result"
    }
   ],
   "source": [
    "df['Position'].isna().sum()   "
   ]
  },
  {
   "cell_type": "code",
   "execution_count": 7,
   "id": "bbeaf62e",
   "metadata": {},
   "outputs": [],
   "source": [
    "#missing value using statistical methods"
   ]
  },
  {
   "cell_type": "code",
   "execution_count": 8,
   "id": "756554bf",
   "metadata": {},
   "outputs": [
    {
     "data": {
      "text/plain": [
       "'Production Technician I'"
      ]
     },
     "execution_count": 8,
     "metadata": {},
     "output_type": "execute_result"
    }
   ],
   "source": [
    "df['Position'].mode()[0] "
   ]
  },
  {
   "cell_type": "code",
   "execution_count": 9,
   "id": "70e72938",
   "metadata": {},
   "outputs": [],
   "source": [
    "df['Position'].fillna(df['Position'].mode()[0],inplace = True)"
   ]
  },
  {
   "cell_type": "code",
   "execution_count": 10,
   "id": "3ea53a68",
   "metadata": {},
   "outputs": [],
   "source": [
    "#using filling method"
   ]
  },
  {
   "cell_type": "code",
   "execution_count": 11,
   "id": "7d6f9be3",
   "metadata": {},
   "outputs": [
    {
     "name": "stderr",
     "output_type": "stream",
     "text": [
      "C:\\Users\\india\\AppData\\Local\\Temp\\ipykernel_7752\\600895570.py:1: FutureWarning: Series.fillna with 'method' is deprecated and will raise in a future version. Use obj.ffill() or obj.bfill() instead.\n",
      "  df['Position'].fillna(method = 'bfill',inplace = True)\n"
     ]
    }
   ],
   "source": [
    "df['Position'].fillna(method = 'bfill',inplace = True)  "
   ]
  },
  {
   "cell_type": "code",
   "execution_count": 12,
   "id": "2386f722",
   "metadata": {},
   "outputs": [],
   "source": [
    "#using using value"
   ]
  },
  {
   "cell_type": "code",
   "execution_count": 13,
   "id": "54c498cc",
   "metadata": {},
   "outputs": [
    {
     "data": {
      "text/plain": [
       "0                  Accountant I\n",
       "1                  Accountant I\n",
       "2                  Accountant I\n",
       "3      Administrative Assistant\n",
       "4      Administrative Assistant\n",
       "                 ...           \n",
       "305        Sr. Network Engineer\n",
       "306        Sr. Network Engineer\n",
       "307        Sr. Network Engineer\n",
       "308        Sr. Network Engineer\n",
       "309        Sr. Network Engineer\n",
       "Name: Position, Length: 310, dtype: object"
      ]
     },
     "execution_count": 13,
     "metadata": {},
     "output_type": "execute_result"
    }
   ],
   "source": [
    "df['Position'].fillna('Accountant I')  "
   ]
  },
  {
   "cell_type": "code",
   "execution_count": 14,
   "id": "4079793f",
   "metadata": {},
   "outputs": [
    {
     "data": {
      "text/plain": [
       "0"
      ]
     },
     "execution_count": 14,
     "metadata": {},
     "output_type": "execute_result"
    }
   ],
   "source": [
    "df['Position'].isna().sum()"
   ]
  },
  {
   "cell_type": "code",
   "execution_count": 15,
   "id": "60417685",
   "metadata": {},
   "outputs": [],
   "source": [
    "#using filling"
   ]
  },
  {
   "cell_type": "code",
   "execution_count": 16,
   "id": "b318e3ca",
   "metadata": {},
   "outputs": [
    {
     "name": "stderr",
     "output_type": "stream",
     "text": [
      "C:\\Users\\india\\AppData\\Local\\Temp\\ipykernel_7752\\883865845.py:1: FutureWarning: Series.fillna with 'method' is deprecated and will raise in a future version. Use obj.ffill() or obj.bfill() instead.\n",
      "  df['State'].fillna(method = 'ffill', inplace = True)\n"
     ]
    }
   ],
   "source": [
    "df['State'].fillna(method = 'ffill', inplace = True)"
   ]
  },
  {
   "cell_type": "code",
   "execution_count": 17,
   "id": "2f5eef53",
   "metadata": {},
   "outputs": [
    {
     "data": {
      "text/plain": [
       "0"
      ]
     },
     "execution_count": 17,
     "metadata": {},
     "output_type": "execute_result"
    }
   ],
   "source": [
    "df['State'].isna().sum()"
   ]
  },
  {
   "cell_type": "code",
   "execution_count": 18,
   "id": "515ca997",
   "metadata": {},
   "outputs": [],
   "source": [
    "#using statistical"
   ]
  },
  {
   "cell_type": "code",
   "execution_count": 19,
   "id": "7a28dd75",
   "metadata": {},
   "outputs": [
    {
     "data": {
      "text/plain": [
       "0      MA\n",
       "1      MA\n",
       "2      MA\n",
       "3      MA\n",
       "4      MA\n",
       "       ..\n",
       "305    CT\n",
       "306    MA\n",
       "307    MA\n",
       "308    CT\n",
       "309    MA\n",
       "Name: State, Length: 310, dtype: object"
      ]
     },
     "execution_count": 19,
     "metadata": {},
     "output_type": "execute_result"
    }
   ],
   "source": [
    "df[\"State\"].fillna(df[\"State\"].mode()[0])"
   ]
  },
  {
   "cell_type": "code",
   "execution_count": 20,
   "id": "93d989fe",
   "metadata": {},
   "outputs": [
    {
     "data": {
      "text/plain": [
       "0      MA\n",
       "1      MA\n",
       "2      MA\n",
       "3      MA\n",
       "4      MA\n",
       "       ..\n",
       "305    CT\n",
       "306    MA\n",
       "307    MA\n",
       "308    CT\n",
       "309    MA\n",
       "Name: State, Length: 310, dtype: object"
      ]
     },
     "execution_count": 20,
     "metadata": {},
     "output_type": "execute_result"
    }
   ],
   "source": [
    "df[\"State\"].fillna('MA')"
   ]
  },
  {
   "cell_type": "code",
   "execution_count": 21,
   "id": "cd211086",
   "metadata": {},
   "outputs": [],
   "source": [
    "#using filling"
   ]
  },
  {
   "cell_type": "code",
   "execution_count": 22,
   "id": "005c0e35",
   "metadata": {},
   "outputs": [
    {
     "name": "stderr",
     "output_type": "stream",
     "text": [
      "C:\\Users\\india\\AppData\\Local\\Temp\\ipykernel_7752\\2124231562.py:1: FutureWarning: Series.fillna with 'method' is deprecated and will raise in a future version. Use obj.ffill() or obj.bfill() instead.\n",
      "  df['Zip'].fillna(method = 'ffill')\n"
     ]
    },
    {
     "data": {
      "text/plain": [
       "0      1450.0\n",
       "1      1460.0\n",
       "2      2703.0\n",
       "3      2170.0\n",
       "4      2330.0\n",
       "        ...  \n",
       "305    6033.0\n",
       "306    2169.0\n",
       "307    1545.0\n",
       "308    6278.0\n",
       "309    2453.0\n",
       "Name: Zip, Length: 310, dtype: float64"
      ]
     },
     "execution_count": 22,
     "metadata": {},
     "output_type": "execute_result"
    }
   ],
   "source": [
    "df['Zip'].fillna(method = 'ffill')              "
   ]
  },
  {
   "cell_type": "code",
   "execution_count": 23,
   "id": "fb4bf9be",
   "metadata": {},
   "outputs": [
    {
     "data": {
      "text/plain": [
       "2132.0"
      ]
     },
     "execution_count": 23,
     "metadata": {},
     "output_type": "execute_result"
    }
   ],
   "source": [
    "df['Zip'].median()"
   ]
  },
  {
   "cell_type": "code",
   "execution_count": 24,
   "id": "ac1f86d5",
   "metadata": {},
   "outputs": [],
   "source": [
    "df['Zip'].fillna(df['Zip'].median(),inplace = True)  #using statistical "
   ]
  },
  {
   "cell_type": "code",
   "execution_count": 25,
   "id": "c22265b7",
   "metadata": {},
   "outputs": [
    {
     "data": {
      "text/plain": [
       "0"
      ]
     },
     "execution_count": 25,
     "metadata": {},
     "output_type": "execute_result"
    }
   ],
   "source": [
    "df[\"Zip\"].isnull().sum()"
   ]
  },
  {
   "cell_type": "code",
   "execution_count": 26,
   "id": "be55d762",
   "metadata": {},
   "outputs": [],
   "source": [
    "#using value"
   ]
  },
  {
   "cell_type": "code",
   "execution_count": 27,
   "id": "47c3ce3a",
   "metadata": {},
   "outputs": [],
   "source": [
    "df['Zip'].fillna(2000,inplace = True) "
   ]
  },
  {
   "cell_type": "code",
   "execution_count": 28,
   "id": "767fb740",
   "metadata": {},
   "outputs": [],
   "source": [
    "#using filling"
   ]
  },
  {
   "cell_type": "code",
   "execution_count": 29,
   "id": "89206879",
   "metadata": {},
   "outputs": [
    {
     "name": "stderr",
     "output_type": "stream",
     "text": [
      "C:\\Users\\india\\AppData\\Local\\Temp\\ipykernel_7752\\1073530845.py:1: FutureWarning: Series.fillna with 'method' is deprecated and will raise in a future version. Use obj.ffill() or obj.bfill() instead.\n",
      "  df[\"Gender\"].fillna(method = 'bfill')\n"
     ]
    },
    {
     "data": {
      "text/plain": [
       "0       F\n",
       "1      M \n",
       "2      M \n",
       "3       F\n",
       "4       F\n",
       "       ..\n",
       "305     F\n",
       "306    M \n",
       "307    M \n",
       "308    M \n",
       "309     F\n",
       "Name: Gender, Length: 310, dtype: object"
      ]
     },
     "execution_count": 29,
     "metadata": {},
     "output_type": "execute_result"
    }
   ],
   "source": [
    "df[\"Gender\"].fillna(method = 'bfill')"
   ]
  },
  {
   "cell_type": "code",
   "execution_count": 30,
   "id": "3422f661",
   "metadata": {},
   "outputs": [
    {
     "data": {
      "text/plain": [
       "'F'"
      ]
     },
     "execution_count": 30,
     "metadata": {},
     "output_type": "execute_result"
    }
   ],
   "source": [
    "df['Gender'].mode()[0]  #using statistical"
   ]
  },
  {
   "cell_type": "code",
   "execution_count": 31,
   "id": "0b68e610",
   "metadata": {},
   "outputs": [],
   "source": [
    "df['Gender'].fillna(df['Gender'].mode()[0],inplace = True)"
   ]
  },
  {
   "cell_type": "code",
   "execution_count": 32,
   "id": "1dc97f34",
   "metadata": {},
   "outputs": [
    {
     "data": {
      "text/plain": [
       "0       F\n",
       "1      M \n",
       "2      M \n",
       "3       F\n",
       "4       F\n",
       "       ..\n",
       "305     F\n",
       "306    M \n",
       "307    M \n",
       "308    M \n",
       "309     F\n",
       "Name: Gender, Length: 310, dtype: object"
      ]
     },
     "execution_count": 32,
     "metadata": {},
     "output_type": "execute_result"
    }
   ],
   "source": [
    "df['Gender'].fillna('F')  #using value"
   ]
  },
  {
   "cell_type": "code",
   "execution_count": 33,
   "id": "23f593c0",
   "metadata": {},
   "outputs": [
    {
     "data": {
      "text/plain": [
       "0       Married\n",
       "1      Divorced\n",
       "2        Single\n",
       "3       Married\n",
       "4        Single\n",
       "         ...   \n",
       "305     Married\n",
       "306     Married\n",
       "307     Married\n",
       "308      Single\n",
       "309     Widowed\n",
       "Name: MaritalDesc, Length: 310, dtype: object"
      ]
     },
     "execution_count": 33,
     "metadata": {},
     "output_type": "execute_result"
    }
   ],
   "source": [
    "df['MaritalDesc']"
   ]
  },
  {
   "cell_type": "code",
   "execution_count": 34,
   "id": "26d6aa23",
   "metadata": {},
   "outputs": [
    {
     "name": "stderr",
     "output_type": "stream",
     "text": [
      "C:\\Users\\india\\AppData\\Local\\Temp\\ipykernel_7752\\991034569.py:1: FutureWarning: Series.fillna with 'method' is deprecated and will raise in a future version. Use obj.ffill() or obj.bfill() instead.\n",
      "  df['MaritalDesc'].fillna(method = 'ffill')  #using filling\n"
     ]
    },
    {
     "data": {
      "text/plain": [
       "0       Married\n",
       "1      Divorced\n",
       "2        Single\n",
       "3       Married\n",
       "4        Single\n",
       "         ...   \n",
       "305     Married\n",
       "306     Married\n",
       "307     Married\n",
       "308      Single\n",
       "309     Widowed\n",
       "Name: MaritalDesc, Length: 310, dtype: object"
      ]
     },
     "execution_count": 34,
     "metadata": {},
     "output_type": "execute_result"
    }
   ],
   "source": [
    "df['MaritalDesc'].fillna(method = 'ffill')  #using filling"
   ]
  },
  {
   "cell_type": "code",
   "execution_count": 35,
   "id": "e3ddc3bd",
   "metadata": {},
   "outputs": [
    {
     "data": {
      "text/plain": [
       "'Single'"
      ]
     },
     "execution_count": 35,
     "metadata": {},
     "output_type": "execute_result"
    }
   ],
   "source": [
    "df['MaritalDesc'].mode()[0]"
   ]
  },
  {
   "cell_type": "code",
   "execution_count": 36,
   "id": "27ff9117",
   "metadata": {},
   "outputs": [],
   "source": [
    "df['MaritalDesc'].fillna(df['MaritalDesc'].mode()[0], inplace = True)"
   ]
  },
  {
   "cell_type": "code",
   "execution_count": 37,
   "id": "a746f467",
   "metadata": {},
   "outputs": [
    {
     "data": {
      "text/plain": [
       "0       Married\n",
       "1      Divorced\n",
       "2        Single\n",
       "3       Married\n",
       "4        Single\n",
       "         ...   \n",
       "305     Married\n",
       "306     Married\n",
       "307     Married\n",
       "308      Single\n",
       "309     Widowed\n",
       "Name: MaritalDesc, Length: 310, dtype: object"
      ]
     },
     "execution_count": 37,
     "metadata": {},
     "output_type": "execute_result"
    }
   ],
   "source": [
    "df['MaritalDesc'].fillna('Single')"
   ]
  },
  {
   "cell_type": "code",
   "execution_count": 38,
   "id": "b7388a8d",
   "metadata": {},
   "outputs": [
    {
     "name": "stderr",
     "output_type": "stream",
     "text": [
      "C:\\Users\\india\\AppData\\Local\\Temp\\ipykernel_7752\\207459253.py:1: FutureWarning: Series.fillna with 'method' is deprecated and will raise in a future version. Use obj.ffill() or obj.bfill() instead.\n",
      "  df['CitizenDesc'].fillna(method = 'ffill')\n"
     ]
    },
    {
     "data": {
      "text/plain": [
       "0      US Citizen\n",
       "1      US Citizen\n",
       "2      US Citizen\n",
       "3      US Citizen\n",
       "4      US Citizen\n",
       "          ...    \n",
       "305    US Citizen\n",
       "306    US Citizen\n",
       "307    US Citizen\n",
       "308    US Citizen\n",
       "309    US Citizen\n",
       "Name: CitizenDesc, Length: 310, dtype: object"
      ]
     },
     "execution_count": 38,
     "metadata": {},
     "output_type": "execute_result"
    }
   ],
   "source": [
    "df['CitizenDesc'].fillna(method = 'ffill')"
   ]
  },
  {
   "cell_type": "code",
   "execution_count": 39,
   "id": "775d86c2",
   "metadata": {},
   "outputs": [
    {
     "data": {
      "text/plain": [
       "0      US Citizen\n",
       "1      US Citizen\n",
       "2      US Citizen\n",
       "3      US Citizen\n",
       "4      US Citizen\n",
       "          ...    \n",
       "305    US Citizen\n",
       "306    US Citizen\n",
       "307    US Citizen\n",
       "308    US Citizen\n",
       "309    US Citizen\n",
       "Name: CitizenDesc, Length: 310, dtype: object"
      ]
     },
     "execution_count": 39,
     "metadata": {},
     "output_type": "execute_result"
    }
   ],
   "source": [
    "df['CitizenDesc'].fillna('US Citizen')"
   ]
  },
  {
   "cell_type": "code",
   "execution_count": 40,
   "id": "dc74b443",
   "metadata": {},
   "outputs": [
    {
     "data": {
      "text/plain": [
       "'US Citizen'"
      ]
     },
     "execution_count": 40,
     "metadata": {},
     "output_type": "execute_result"
    }
   ],
   "source": [
    "df['CitizenDesc'].mode()[0]"
   ]
  },
  {
   "cell_type": "code",
   "execution_count": 41,
   "id": "e669fd17",
   "metadata": {},
   "outputs": [],
   "source": [
    "df['CitizenDesc'].fillna(df['CitizenDesc'].mode()[0], inplace = True)"
   ]
  },
  {
   "cell_type": "code",
   "execution_count": 42,
   "id": "ef3845db",
   "metadata": {},
   "outputs": [
    {
     "data": {
      "text/plain": [
       "Employee_Name        0\n",
       "EmpID                0\n",
       "Position             0\n",
       "State                0\n",
       "Zip                  0\n",
       "Gender               0\n",
       "MaritalDesc          0\n",
       "CitizenDesc          0\n",
       "EmploymentStatus     0\n",
       "Department           5\n",
       "Salaries            12\n",
       "age                  0\n",
       "Race                 9\n",
       "dtype: int64"
      ]
     },
     "execution_count": 42,
     "metadata": {},
     "output_type": "execute_result"
    }
   ],
   "source": [
    "df.isnull().sum()"
   ]
  },
  {
   "cell_type": "code",
   "execution_count": 43,
   "id": "e570b2b1",
   "metadata": {},
   "outputs": [
    {
     "name": "stderr",
     "output_type": "stream",
     "text": [
      "C:\\Users\\india\\AppData\\Local\\Temp\\ipykernel_7752\\3109979669.py:1: FutureWarning: Series.fillna with 'method' is deprecated and will raise in a future version. Use obj.ffill() or obj.bfill() instead.\n",
      "  df['Department'].fillna(method = 'bfill')\n"
     ]
    },
    {
     "data": {
      "text/plain": [
       "0      Admin Offices\n",
       "1      Admin Offices\n",
       "2      Admin Offices\n",
       "3      Admin Offices\n",
       "4      Admin Offices\n",
       "           ...      \n",
       "305            IT/IS\n",
       "306            IT/IS\n",
       "307            IT/IS\n",
       "308            IT/IS\n",
       "309            IT/IS\n",
       "Name: Department, Length: 310, dtype: object"
      ]
     },
     "execution_count": 43,
     "metadata": {},
     "output_type": "execute_result"
    }
   ],
   "source": [
    "df['Department'].fillna(method = 'bfill')"
   ]
  },
  {
   "cell_type": "code",
   "execution_count": 44,
   "id": "c8d30b35",
   "metadata": {},
   "outputs": [
    {
     "data": {
      "text/plain": [
       "0      Admin Offices\n",
       "1      Admin Offices\n",
       "2      Admin Offices\n",
       "3      Admin Offices\n",
       "4      Admin Offices\n",
       "           ...      \n",
       "305            IT/IS\n",
       "306            IT/IS\n",
       "307            IT/IS\n",
       "308            IT/IS\n",
       "309            IT/IS\n",
       "Name: Department, Length: 310, dtype: object"
      ]
     },
     "execution_count": 44,
     "metadata": {},
     "output_type": "execute_result"
    }
   ],
   "source": [
    "df['Department'].fillna('IT/IS')"
   ]
  },
  {
   "cell_type": "code",
   "execution_count": 45,
   "id": "981398af",
   "metadata": {},
   "outputs": [
    {
     "data": {
      "text/plain": [
       "'Production       '"
      ]
     },
     "execution_count": 45,
     "metadata": {},
     "output_type": "execute_result"
    }
   ],
   "source": [
    "df['Department'].mode()[0]"
   ]
  },
  {
   "cell_type": "code",
   "execution_count": 46,
   "id": "29c519ba",
   "metadata": {},
   "outputs": [],
   "source": [
    "df['Department'].fillna(df['Department'].mode()[0], inplace = True)"
   ]
  },
  {
   "cell_type": "code",
   "execution_count": 47,
   "id": "06ca5247",
   "metadata": {},
   "outputs": [
    {
     "data": {
      "text/plain": [
       "Employee_Name        0\n",
       "EmpID                0\n",
       "Position             0\n",
       "State                0\n",
       "Zip                  0\n",
       "Gender               0\n",
       "MaritalDesc          0\n",
       "CitizenDesc          0\n",
       "EmploymentStatus     0\n",
       "Department           0\n",
       "Salaries            12\n",
       "age                  0\n",
       "Race                 9\n",
       "dtype: int64"
      ]
     },
     "execution_count": 47,
     "metadata": {},
     "output_type": "execute_result"
    }
   ],
   "source": [
    "df.isnull().sum()"
   ]
  },
  {
   "cell_type": "code",
   "execution_count": 48,
   "id": "0be5f0d8",
   "metadata": {},
   "outputs": [
    {
     "name": "stderr",
     "output_type": "stream",
     "text": [
      "C:\\Users\\india\\AppData\\Local\\Temp\\ipykernel_7752\\1674097389.py:1: FutureWarning: Series.fillna with 'method' is deprecated and will raise in a future version. Use obj.ffill() or obj.bfill() instead.\n",
      "  df['Salaries'].fillna(method = 'bfill')\n"
     ]
    },
    {
     "data": {
      "text/plain": [
       "0        674.28\n",
       "1        674.28\n",
       "2        674.28\n",
       "3      61089.35\n",
       "4      61089.35\n",
       "         ...   \n",
       "305    37619.01\n",
       "306    27603.00\n",
       "307    27587.46\n",
       "308    12126.53\n",
       "309    37257.00\n",
       "Name: Salaries, Length: 310, dtype: float64"
      ]
     },
     "execution_count": 48,
     "metadata": {},
     "output_type": "execute_result"
    }
   ],
   "source": [
    "df['Salaries'].fillna(method = 'bfill')"
   ]
  },
  {
   "cell_type": "code",
   "execution_count": 49,
   "id": "104446ab",
   "metadata": {},
   "outputs": [
    {
     "data": {
      "text/plain": [
       "34554.744999999995"
      ]
     },
     "execution_count": 49,
     "metadata": {},
     "output_type": "execute_result"
    }
   ],
   "source": [
    "df[\"Salaries\"].median()"
   ]
  },
  {
   "cell_type": "code",
   "execution_count": 50,
   "id": "6bdad404",
   "metadata": {},
   "outputs": [],
   "source": [
    "df[\"Salaries\"].fillna(df[\"Salaries\"].median(), inplace = True)"
   ]
  },
  {
   "cell_type": "code",
   "execution_count": 51,
   "id": "3576d155",
   "metadata": {},
   "outputs": [
    {
     "data": {
      "text/plain": [
       "Employee_Name       0\n",
       "EmpID               0\n",
       "Position            0\n",
       "State               0\n",
       "Zip                 0\n",
       "Gender              0\n",
       "MaritalDesc         0\n",
       "CitizenDesc         0\n",
       "EmploymentStatus    0\n",
       "Department          0\n",
       "Salaries            0\n",
       "age                 0\n",
       "Race                9\n",
       "dtype: int64"
      ]
     },
     "execution_count": 51,
     "metadata": {},
     "output_type": "execute_result"
    }
   ],
   "source": [
    "df.isnull().sum()"
   ]
  },
  {
   "cell_type": "code",
   "execution_count": 52,
   "id": "bbd5d7c2",
   "metadata": {},
   "outputs": [
    {
     "data": {
      "text/plain": [
       "0        674.280\n",
       "1        674.280\n",
       "2        674.280\n",
       "3      34554.745\n",
       "4      61089.350\n",
       "         ...    \n",
       "305    37619.010\n",
       "306    27603.000\n",
       "307    27587.460\n",
       "308    12126.530\n",
       "309    37257.000\n",
       "Name: Salaries, Length: 310, dtype: float64"
      ]
     },
     "execution_count": 52,
     "metadata": {},
     "output_type": "execute_result"
    }
   ],
   "source": [
    "df[\"Salaries\"].fillna(30000)"
   ]
  },
  {
   "cell_type": "code",
   "execution_count": 53,
   "id": "11d11c73",
   "metadata": {},
   "outputs": [
    {
     "name": "stderr",
     "output_type": "stream",
     "text": [
      "C:\\Users\\india\\AppData\\Local\\Temp\\ipykernel_7752\\1708667718.py:1: FutureWarning: Series.fillna with 'method' is deprecated and will raise in a future version. Use obj.ffill() or obj.bfill() instead.\n",
      "  df['Race'].fillna(method = 'bfill')\n"
     ]
    },
    {
     "data": {
      "text/plain": [
       "0      Black or African American\n",
       "1                          White\n",
       "2                          White\n",
       "3                          White\n",
       "4                          White\n",
       "                 ...            \n",
       "305                        White\n",
       "306                        White\n",
       "307                        Asian\n",
       "308                        White\n",
       "309                        Asian\n",
       "Name: Race, Length: 310, dtype: object"
      ]
     },
     "execution_count": 53,
     "metadata": {},
     "output_type": "execute_result"
    }
   ],
   "source": [
    "df['Race'].fillna(method = 'bfill')"
   ]
  },
  {
   "cell_type": "code",
   "execution_count": 54,
   "id": "3ac57300",
   "metadata": {},
   "outputs": [
    {
     "data": {
      "text/plain": [
       "'White'"
      ]
     },
     "execution_count": 54,
     "metadata": {},
     "output_type": "execute_result"
    }
   ],
   "source": [
    "df['Race'].mode()[0]"
   ]
  },
  {
   "cell_type": "code",
   "execution_count": 55,
   "id": "c936586d",
   "metadata": {},
   "outputs": [],
   "source": [
    "df['Race'].fillna(df['Race'].mode()[0], inplace = True)"
   ]
  },
  {
   "cell_type": "code",
   "execution_count": 56,
   "id": "7a3bf186",
   "metadata": {},
   "outputs": [
    {
     "data": {
      "text/plain": [
       "0      Black or African American\n",
       "1                          White\n",
       "2                          White\n",
       "3                          White\n",
       "4                          White\n",
       "                 ...            \n",
       "305                        White\n",
       "306                        White\n",
       "307                        Asian\n",
       "308                        White\n",
       "309                        Asian\n",
       "Name: Race, Length: 310, dtype: object"
      ]
     },
     "execution_count": 56,
     "metadata": {},
     "output_type": "execute_result"
    }
   ],
   "source": [
    "df['Race'].fillna('Asian')"
   ]
  },
  {
   "cell_type": "code",
   "execution_count": 57,
   "id": "cbc17682",
   "metadata": {},
   "outputs": [
    {
     "data": {
      "text/plain": [
       "Employee_Name       0\n",
       "EmpID               0\n",
       "Position            0\n",
       "State               0\n",
       "Zip                 0\n",
       "Gender              0\n",
       "MaritalDesc         0\n",
       "CitizenDesc         0\n",
       "EmploymentStatus    0\n",
       "Department          0\n",
       "Salaries            0\n",
       "age                 0\n",
       "Race                0\n",
       "dtype: int64"
      ]
     },
     "execution_count": 57,
     "metadata": {},
     "output_type": "execute_result"
    }
   ],
   "source": [
    "df.isnull().sum()"
   ]
  },
  {
   "cell_type": "code",
   "execution_count": 64,
   "id": "f0a7f096",
   "metadata": {},
   "outputs": [
    {
     "data": {
      "text/html": [
       "<div>\n",
       "<style scoped>\n",
       "    .dataframe tbody tr th:only-of-type {\n",
       "        vertical-align: middle;\n",
       "    }\n",
       "\n",
       "    .dataframe tbody tr th {\n",
       "        vertical-align: top;\n",
       "    }\n",
       "\n",
       "    .dataframe thead th {\n",
       "        text-align: right;\n",
       "    }\n",
       "</style>\n",
       "<table border=\"1\" class=\"dataframe\">\n",
       "  <thead>\n",
       "    <tr style=\"text-align: right;\">\n",
       "      <th>Position</th>\n",
       "      <th>Accountant I</th>\n",
       "      <th>Administrative Assistant</th>\n",
       "      <th>Area Sales Manager</th>\n",
       "      <th>BI Developer</th>\n",
       "      <th>BI Director</th>\n",
       "      <th>CIO</th>\n",
       "      <th>Data Analyst</th>\n",
       "      <th>Data Analyst</th>\n",
       "      <th>Data Architect</th>\n",
       "      <th>Database Administrator</th>\n",
       "      <th>...</th>\n",
       "      <th>Production Technician I</th>\n",
       "      <th>Production Technician II</th>\n",
       "      <th>Sales Manager</th>\n",
       "      <th>Senior BI Developer</th>\n",
       "      <th>Shared Services Manager</th>\n",
       "      <th>Software Engineer</th>\n",
       "      <th>Software Engineering Manager</th>\n",
       "      <th>Sr. Accountant</th>\n",
       "      <th>Sr. DBA</th>\n",
       "      <th>Sr. Network Engineer</th>\n",
       "    </tr>\n",
       "  </thead>\n",
       "  <tbody>\n",
       "    <tr>\n",
       "      <th>Salaries</th>\n",
       "      <td>674.28</td>\n",
       "      <td>42683.371667</td>\n",
       "      <td>41770.737593</td>\n",
       "      <td>36726.01875</td>\n",
       "      <td>4160.0</td>\n",
       "      <td>26418.01</td>\n",
       "      <td>37772.945714</td>\n",
       "      <td>42304.75</td>\n",
       "      <td>90016.01</td>\n",
       "      <td>33813.996</td>\n",
       "      <td>...</td>\n",
       "      <td>35094.172574</td>\n",
       "      <td>33803.863333</td>\n",
       "      <td>34093.246667</td>\n",
       "      <td>71293.676667</td>\n",
       "      <td>45262.975</td>\n",
       "      <td>39892.308889</td>\n",
       "      <td>40208.0</td>\n",
       "      <td>27349.755</td>\n",
       "      <td>31954.975</td>\n",
       "      <td>28438.6</td>\n",
       "    </tr>\n",
       "  </tbody>\n",
       "</table>\n",
       "<p>1 rows × 32 columns</p>\n",
       "</div>"
      ],
      "text/plain": [
       "Position  Accountant I  Administrative Assistant  Area Sales Manager  \\\n",
       "Salaries        674.28              42683.371667        41770.737593   \n",
       "\n",
       "Position  BI Developer  BI Director       CIO  Data Analyst  Data Analyst   \\\n",
       "Salaries   36726.01875       4160.0  26418.01  37772.945714       42304.75   \n",
       "\n",
       "Position  Data Architect  Database Administrator  ...  \\\n",
       "Salaries        90016.01               33813.996  ...   \n",
       "\n",
       "Position  Production Technician I  Production Technician II  Sales Manager  \\\n",
       "Salaries             35094.172574              33803.863333   34093.246667   \n",
       "\n",
       "Position  Senior BI Developer  Shared Services Manager  Software Engineer  \\\n",
       "Salaries         71293.676667                45262.975       39892.308889   \n",
       "\n",
       "Position  Software Engineering Manager  Sr. Accountant    Sr. DBA  \\\n",
       "Salaries                       40208.0       27349.755  31954.975   \n",
       "\n",
       "Position  Sr. Network Engineer  \n",
       "Salaries               28438.6  \n",
       "\n",
       "[1 rows x 32 columns]"
      ]
     },
     "execution_count": 64,
     "metadata": {},
     "output_type": "execute_result"
    }
   ],
   "source": [
    "df.pivot_table(values ='Salaries', columns = 'Position', aggfunc = 'mean')"
   ]
  },
  {
   "cell_type": "code",
   "execution_count": 68,
   "id": "52b7ddd8",
   "metadata": {},
   "outputs": [
    {
     "data": {
      "text/plain": [
       "Gender\n",
       "F     38.670391\n",
       "M     38.732824\n",
       "Name: age, dtype: float64"
      ]
     },
     "execution_count": 68,
     "metadata": {},
     "output_type": "execute_result"
    }
   ],
   "source": [
    "df.groupby(by = 'Gender')['age'].mean()"
   ]
  },
  {
   "cell_type": "code",
   "execution_count": null,
   "id": "e341b6c1",
   "metadata": {},
   "outputs": [],
   "source": []
  }
 ],
 "metadata": {
  "kernelspec": {
   "display_name": "Python 3 (ipykernel)",
   "language": "python",
   "name": "python3"
  },
  "language_info": {
   "codemirror_mode": {
    "name": "ipython",
    "version": 3
   },
   "file_extension": ".py",
   "mimetype": "text/x-python",
   "name": "python",
   "nbconvert_exporter": "python",
   "pygments_lexer": "ipython3",
   "version": "3.11.4"
  }
 },
 "nbformat": 4,
 "nbformat_minor": 5
}
