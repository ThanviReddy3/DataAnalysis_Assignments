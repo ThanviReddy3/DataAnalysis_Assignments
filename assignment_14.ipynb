{
 "cells": [
  {
   "cell_type": "markdown",
   "id": "dd9881f5",
   "metadata": {},
   "source": [
    "\n",
    "1. \n",
    "\n",
    "   - Create a lambda function that takes two arguments and returns their sum.\n",
    "   - Create another lambda function that takes a single argument and returns its square.\n",
    "   - Use the `lambda` functions to calculate the sum and square of various numbers and print the results.\n",
    "\n",
    "2. \n",
    "   - Define a list of integers.\n",
    "   - Use the `filter` function to create a new list that contains only the even numbers from the original list.\n",
    "   - Use the `filter` function again to create a new list that contains only numbers greater than 10 from the original list.\n",
    "   - Print both filtered lists.\n",
    "\n",
    "3. \n",
    "   - Define a list of strings where each string represents a number (e.g., `[\"1\", \"2\", \"3\"]`).\n",
    "   - Use the `map` function to convert each string to an integer and store the result in a new list.\n",
    "   - Use the `map` function again to square each integer in the new list and store the result in another new list.\n",
    "   - Print both new lists.\n",
    "\n",
    "4. \n",
    "   - Create a list of dictionaries, where each dictionary represents a person with keys \"name\" and \"age\". Example: ` [{\"name\": \"Alice\", \"age\": 30}, {\"name\": \"Bob\", \"age\": 25}, ...]`\n",
    "   - Use the `filter` function to create a new list that contains only the people who are older than 25.\n",
    "   - Use the `map` function to create a new list that contains the names of the filtered people.\n",
    "   - Print the list of names.\n",
    "\n",
    "5. \n",
    "   - Create a program that reads a list of numbers from the user (you can use the `input` function for this).\n",
    "   - Use `map` and `filter` functions to perform the following operations:\n",
    "     - Square each number.\n",
    "     - Filter out numbers that are not divisible by 3.\n",
    "   - Print the result.\n"
   ]
  },
  {
   "cell_type": "markdown",
   "id": "3cbe79f5",
   "metadata": {},
   "source": [
    "# 1.  Create a lambda function that takes two arguments and returns their sum."
   ]
  },
  {
   "cell_type": "code",
   "execution_count": 8,
   "id": "8d992b60",
   "metadata": {},
   "outputs": [],
   "source": [
    "a = lambda x,y: x+y"
   ]
  },
  {
   "cell_type": "code",
   "execution_count": 9,
   "id": "8474975e",
   "metadata": {},
   "outputs": [
    {
     "data": {
      "text/plain": [
       "9"
      ]
     },
     "execution_count": 9,
     "metadata": {},
     "output_type": "execute_result"
    }
   ],
   "source": [
    "a(3,6)"
   ]
  },
  {
   "cell_type": "markdown",
   "id": "2bfe3785",
   "metadata": {},
   "source": [
    "# 1.1 Create another lambda function that takes a single argument and returns its square."
   ]
  },
  {
   "cell_type": "code",
   "execution_count": 3,
   "id": "ac42ba4f",
   "metadata": {},
   "outputs": [],
   "source": [
    "s = lambda x: x**2"
   ]
  },
  {
   "cell_type": "code",
   "execution_count": 4,
   "id": "e7a04a49",
   "metadata": {},
   "outputs": [
    {
     "data": {
      "text/plain": [
       "25"
      ]
     },
     "execution_count": 4,
     "metadata": {},
     "output_type": "execute_result"
    }
   ],
   "source": [
    "s(5)"
   ]
  },
  {
   "cell_type": "markdown",
   "id": "374f7ff4",
   "metadata": {},
   "source": [
    "# 1.3 Use the lambda functions to calculate the sum and square of various numbers and print the results."
   ]
  },
  {
   "cell_type": "code",
   "execution_count": 32,
   "id": "c5c9f5ef",
   "metadata": {},
   "outputs": [],
   "source": [
    "#sum of various numbers"
   ]
  },
  {
   "cell_type": "code",
   "execution_count": 1,
   "id": "52683d54",
   "metadata": {},
   "outputs": [],
   "source": [
    "add = lambda *n : sum(n) "
   ]
  },
  {
   "cell_type": "code",
   "execution_count": 2,
   "id": "8ec7e2d8",
   "metadata": {},
   "outputs": [
    {
     "data": {
      "text/plain": [
       "42"
      ]
     },
     "execution_count": 2,
     "metadata": {},
     "output_type": "execute_result"
    }
   ],
   "source": [
    "add(2,3,4,8,8,9,8)"
   ]
  },
  {
   "cell_type": "code",
   "execution_count": 3,
   "id": "afdf4656",
   "metadata": {},
   "outputs": [],
   "source": [
    "#square of a number"
   ]
  },
  {
   "cell_type": "code",
   "execution_count": 32,
   "id": "fc7a2dff",
   "metadata": {},
   "outputs": [],
   "source": [
    "square = lambda x: x**2"
   ]
  },
  {
   "cell_type": "code",
   "execution_count": 34,
   "id": "cd9beaac",
   "metadata": {},
   "outputs": [
    {
     "name": "stdout",
     "output_type": "stream",
     "text": [
      "square of a number is  49\n"
     ]
    }
   ],
   "source": [
    "print(\"square of a number is \", s(7))"
   ]
  },
  {
   "cell_type": "markdown",
   "id": "16b7831a",
   "metadata": {},
   "source": []
  },
  {
   "cell_type": "markdown",
   "id": "cfaf73f5",
   "metadata": {},
   "source": [
    "# 2. Define a list of integers.Use the filter function to create a new list that contains only the even numbers from the original list.Print both filtered lists."
   ]
  },
  {
   "cell_type": "code",
   "execution_count": 37,
   "id": "1d22b1ed",
   "metadata": {},
   "outputs": [],
   "source": [
    "original = [1,2,3,5,6,8,20,21,23,24,26,27]"
   ]
  },
  {
   "cell_type": "code",
   "execution_count": 38,
   "id": "85d6cf5b",
   "metadata": {},
   "outputs": [],
   "source": [
    "def even(a):\n",
    "    if a%2==0:\n",
    "        return a\n",
    "    else:\n",
    "        pass"
   ]
  },
  {
   "cell_type": "code",
   "execution_count": 39,
   "id": "8574d4ab",
   "metadata": {},
   "outputs": [],
   "source": [
    "evenlist = list(filter(even, original))"
   ]
  },
  {
   "cell_type": "code",
   "execution_count": 40,
   "id": "71dc3299",
   "metadata": {},
   "outputs": [
    {
     "name": "stdout",
     "output_type": "stream",
     "text": [
      "even numbers are  [2, 6, 8, 20, 24, 26]\n"
     ]
    }
   ],
   "source": [
    "print(\"even numbers are \", evenlist)"
   ]
  },
  {
   "cell_type": "markdown",
   "id": "a1a0f439",
   "metadata": {},
   "source": [
    "# 2.2 Use the filter function again to create a new list that contains only numbers greater than 10 from the original list."
   ]
  },
  {
   "cell_type": "code",
   "execution_count": 1,
   "id": "496b044e",
   "metadata": {},
   "outputs": [],
   "source": [
    "original = [1,2,3,5,6,8,20,21,23,24,26,27]"
   ]
  },
  {
   "cell_type": "code",
   "execution_count": 2,
   "id": "2af144de",
   "metadata": {},
   "outputs": [],
   "source": [
    "def greater(b):\n",
    "    if b>10:\n",
    "        return b\n",
    "    else:\n",
    "        pass"
   ]
  },
  {
   "cell_type": "code",
   "execution_count": 3,
   "id": "06df6f60",
   "metadata": {},
   "outputs": [],
   "source": [
    "greater = list(filter(greater,original))"
   ]
  },
  {
   "cell_type": "code",
   "execution_count": 4,
   "id": "46a7ea35",
   "metadata": {},
   "outputs": [
    {
     "name": "stdout",
     "output_type": "stream",
     "text": [
      "greater than 10 numbers from the list are [20, 21, 23, 24, 26, 27]\n"
     ]
    }
   ],
   "source": [
    "print(\"greater than 10 numbers from the list are\", greater)"
   ]
  },
  {
   "cell_type": "markdown",
   "id": "fcc2a5bc",
   "metadata": {},
   "source": [
    "# 3. Define a list of strings where each string represents a number (e.g., [\"1\", \"2\", \"3\"])."
   ]
  },
  {
   "cell_type": "code",
   "execution_count": 8,
   "id": "45912a77",
   "metadata": {},
   "outputs": [],
   "source": [
    "liststring =  [\"1\", \"2\", \"3\",\"4\", \"5\", \"6\"]"
   ]
  },
  {
   "cell_type": "markdown",
   "id": "93dc7e35",
   "metadata": {},
   "source": [
    "# 3.1 Use the map function to convert each string to an integer and store the result in a new list."
   ]
  },
  {
   "cell_type": "code",
   "execution_count": 9,
   "id": "2b0d846e",
   "metadata": {},
   "outputs": [],
   "source": [
    "def string(n):\n",
    "    if liststring[0] == int(n):\n",
    "        return n\n"
   ]
  },
  {
   "cell_type": "code",
   "execution_count": 10,
   "id": "abba5a63",
   "metadata": {},
   "outputs": [
    {
     "data": {
      "text/plain": [
       "[1, 2, 3, 4, 5, 6]"
      ]
     },
     "execution_count": 10,
     "metadata": {},
     "output_type": "execute_result"
    }
   ],
   "source": [
    "newlists = list(map(int,liststring))\n",
    "newlists"
   ]
  },
  {
   "cell_type": "markdown",
   "id": "79153bb0",
   "metadata": {},
   "source": [
    "# 3.2 Use the map function again to square each integer in the new list and store the result in another new list."
   ]
  },
  {
   "cell_type": "code",
   "execution_count": 11,
   "id": "240dfff9",
   "metadata": {},
   "outputs": [
    {
     "data": {
      "text/plain": [
       "[1, 2, 3, 4, 5, 6]"
      ]
     },
     "execution_count": 11,
     "metadata": {},
     "output_type": "execute_result"
    }
   ],
   "source": [
    "newlists"
   ]
  },
  {
   "cell_type": "code",
   "execution_count": 12,
   "id": "af8c9e0b",
   "metadata": {},
   "outputs": [],
   "source": [
    "def square(n):\n",
    "    if n > 0:\n",
    "        return n*n\n",
    "    else:\n",
    "        pass"
   ]
  },
  {
   "cell_type": "code",
   "execution_count": 13,
   "id": "8fbccd47",
   "metadata": {},
   "outputs": [
    {
     "name": "stdout",
     "output_type": "stream",
     "text": [
      "square of a each number from the list [1, 4, 9, 16, 25, 36]\n"
     ]
    }
   ],
   "source": [
    "squarelist = list(map(square,newlists))\n",
    "print(\"square of a each number from the list\" ,squarelist)"
   ]
  },
  {
   "cell_type": "markdown",
   "id": "c687360d",
   "metadata": {},
   "source": [
    "# 4 Create a list of dictionaries, where each dictionary represents a person with keys \"name\" and \"age\". Example:  [{\"name\": \"Alice\", \"age\": 30}, {\"name\": \"Bob\", \"age\": 25}, ...]"
   ]
  },
  {
   "cell_type": "code",
   "execution_count": 100,
   "id": "bcfeca80",
   "metadata": {},
   "outputs": [],
   "source": [
    "info =  [{\"name\": \"Alia\", \"age\": 30}, {\"name\": \"Deepika\", \"age\": 35}, {\"name\": \"Kajal\", \"age\": 20} ]"
   ]
  },
  {
   "cell_type": "markdown",
   "id": "5b5881b2",
   "metadata": {},
   "source": [
    "# 4.1 Use the filter function to create a new list that contains only the people who are older than 25.\n"
   ]
  },
  {
   "cell_type": "code",
   "execution_count": 101,
   "id": "37f0818b",
   "metadata": {},
   "outputs": [],
   "source": [
    "def older(n):\n",
    "    if n[\"age\"] >= 25:\n",
    "        return n"
   ]
  },
  {
   "cell_type": "code",
   "execution_count": 103,
   "id": "3806a11d",
   "metadata": {},
   "outputs": [
    {
     "data": {
      "text/plain": [
       "[{'name': 'Alia', 'age': 30}, {'name': 'Deepika', 'age': 35}]"
      ]
     },
     "execution_count": 103,
     "metadata": {},
     "output_type": "execute_result"
    }
   ],
   "source": [
    "olderlist = list(filter(older,info))\n",
    "olderlist"
   ]
  },
  {
   "cell_type": "code",
   "execution_count": null,
   "id": "ab56b594",
   "metadata": {},
   "outputs": [],
   "source": [
    "Use the map function to create a new list that contains the names of the filtered people.\n",
    "Print the list of names."
   ]
  },
  {
   "cell_type": "code",
   "execution_count": 116,
   "id": "f81c8952",
   "metadata": {},
   "outputs": [],
   "source": [
    "def name1(n):\n",
    "    return {\"name\" : n[\"name\"]}"
   ]
  },
  {
   "cell_type": "code",
   "execution_count": 118,
   "id": "f7a3ea75",
   "metadata": {},
   "outputs": [
    {
     "data": {
      "text/plain": [
       "[{'name': 'Alia'}, {'name': 'Deepika'}]"
      ]
     },
     "execution_count": 118,
     "metadata": {},
     "output_type": "execute_result"
    }
   ],
   "source": [
    "filteredlist = list(map(name1,olderlist))\n",
    "filteredlist"
   ]
  },
  {
   "cell_type": "code",
   "execution_count": 121,
   "id": "779977fe",
   "metadata": {},
   "outputs": [],
   "source": [
    "#Create a program that reads a list of numbers from the user (you can use the input function for this).\n",
    "#Use map and filter functions to perform the following operations:\n",
    "#Square each number.\n",
    "#Filter out numbers that are not divisible by 3.\n",
    "#Print the result.\n"
   ]
  },
  {
   "cell_type": "code",
   "execution_count": 20,
   "id": "8a9ddc53",
   "metadata": {},
   "outputs": [],
   "source": [
    "list1 = []"
   ]
  },
  {
   "cell_type": "code",
   "execution_count": 21,
   "id": "ebbc174d",
   "metadata": {},
   "outputs": [
    {
     "name": "stdout",
     "output_type": "stream",
     "text": [
      "enter the number of integers u want : 5\n",
      "enter the number: 5\n",
      "enter the number: 4\n",
      "enter the number: 3\n",
      "enter the number: 2\n",
      "enter the number: 2\n",
      "[5, 4, 3, 2, 2]\n"
     ]
    }
   ],
   "source": [
    "n = int(input(\"enter the number of integers u want : \"))\n",
    "for i in range(1,n+1):\n",
    "    a= int(input(\"enter the number: \"))\n",
    "    list1.append(a)\n",
    "print(list1)"
   ]
  },
  {
   "cell_type": "code",
   "execution_count": 19,
   "id": "5ec101cf",
   "metadata": {},
   "outputs": [],
   "source": [
    "def square(n) :\n",
    "    return n*n"
   ]
  },
  {
   "cell_type": "code",
   "execution_count": 22,
   "id": "26615113",
   "metadata": {},
   "outputs": [
    {
     "name": "stdout",
     "output_type": "stream",
     "text": [
      "[25, 16, 9, 4, 4]\n"
     ]
    }
   ],
   "source": [
    "list2 = list(map(square,list1))\n",
    "print(list2)"
   ]
  },
  {
   "cell_type": "code",
   "execution_count": 23,
   "id": "5db42b11",
   "metadata": {},
   "outputs": [],
   "source": [
    "def div(n):\n",
    "    if n%3 != 0:\n",
    "        return n\n",
    "    else:\n",
    "        pass"
   ]
  },
  {
   "cell_type": "code",
   "execution_count": 25,
   "id": "dbfe3f5f",
   "metadata": {},
   "outputs": [
    {
     "data": {
      "text/plain": [
       "[25, 16, 4, 4]"
      ]
     },
     "execution_count": 25,
     "metadata": {},
     "output_type": "execute_result"
    }
   ],
   "source": [
    "not3 = list(filter(div,list2))\n",
    "not3"
   ]
  },
  {
   "cell_type": "code",
   "execution_count": null,
   "id": "58088f4e",
   "metadata": {},
   "outputs": [],
   "source": []
  }
 ],
 "metadata": {
  "kernelspec": {
   "display_name": "Python 3 (ipykernel)",
   "language": "python",
   "name": "python3"
  },
  "language_info": {
   "codemirror_mode": {
    "name": "ipython",
    "version": 3
   },
   "file_extension": ".py",
   "mimetype": "text/x-python",
   "name": "python",
   "nbconvert_exporter": "python",
   "pygments_lexer": "ipython3",
   "version": "3.11.4"
  }
 },
 "nbformat": 4,
 "nbformat_minor": 5
}
