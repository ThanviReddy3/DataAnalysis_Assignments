{
 "cells": [
  {
   "cell_type": "markdown",
   "id": "e30e91f8",
   "metadata": {},
   "source": [
    "\n",
    "\n",
    "**Assignment Task 1:** Tuple Basics\n",
    "Create a Python tuple containing the names of your favorite fruits. Write a Python program to print `each fruit` name from the tuple.\n",
    "\n",
    "**Assignment Task 2:** Tuple Operations\n",
    "Given two tuples, write a Python program to `concatenate` them into a `single` tuple and then find the `length` of the resulting tuple.\n",
    "\n",
    "**Assignment Task 3:** Set Creation\n",
    "Create a Python set containing the first 10 `even` numbers (2, 4, 6, ...). Write a program to `display` this set.\n",
    "\n",
    "**Assignment Task 4:** Set Operations\n",
    "Given two sets, write a Python program to find the `union, intersection, and difference` of these sets.\n",
    "\n",
    "**Assignment Task 5:** Tuple and Set Conversion\n",
    "Write a Python program that takes a `tuple` of integers and converts it into a `set`. Then, find and print the `maximum and minimum` values from the set.\n",
    "\n",
    "**Assignment Task 6:** Tuple Immutability\n",
    "Explain the concept of immutability in Python tuples with examples. Discuss why tuples are considered immutable data structures.\n",
    "\n",
    "**Assignment Task 7:** Set Operations and Methods\n",
    "Write a Python program that takes a set of numbers and performs the following operations:\n",
    "   - Add a new number to the set.\n",
    "   - Remove a number from the set.\n",
    "   - Check if a specific number is in the set.\n",
    "   - Find the size of the set.\n",
    "\n",
    "**Assignment Task 8:** Tuple Slicing\n",
    "Given a tuple of 10 elements, write a Python program to print the elements from the `3rd to the 7th `position using slicing.\n",
    "\n",
    "**Assignment Task 9:** Set Operations with Lists\n",
    "Create a Python list with duplicate elements and convert it into a set to remove duplicates. Then, write a program to count how many duplicates were removed.\n",
    "\n",
    "**Assignment Task 10:** Tuple and Set Combinations\n",
    "Create a `tuple` containing the names of your friend's favorite movies and a `set` containing the names of your favorite movies. Write a Python program to find and display common elements (movies that feature your "
   ]
  },
  {
   "cell_type": "markdown",
   "id": "81300f85",
   "metadata": {},
   "source": [
    "* Assignment Task 1: Tuple Basics Create a Python tuple containing the names of your favorite fruits. Write a Python program to print each fruit name from the tuple."
   ]
  },
  {
   "cell_type": "code",
   "execution_count": 9,
   "id": "a417b215",
   "metadata": {},
   "outputs": [],
   "source": [
    "fruits = (\"Kiwi\", \"Berries\" ,\"Avocado\", \"Jackfruit\", \"Banana\")"
   ]
  },
  {
   "cell_type": "code",
   "execution_count": 10,
   "id": "86aca285",
   "metadata": {},
   "outputs": [
    {
     "data": {
      "text/plain": [
       "('Kiwi', 'Berries', 'Avocado', 'Jackfruit', 'Banana')"
      ]
     },
     "execution_count": 10,
     "metadata": {},
     "output_type": "execute_result"
    }
   ],
   "source": [
    "fruits"
   ]
  },
  {
   "cell_type": "code",
   "execution_count": 11,
   "id": "ad510178",
   "metadata": {},
   "outputs": [
    {
     "data": {
      "text/plain": [
       "tuple"
      ]
     },
     "execution_count": 11,
     "metadata": {},
     "output_type": "execute_result"
    }
   ],
   "source": [
    "type(fruits)"
   ]
  },
  {
   "cell_type": "code",
   "execution_count": 12,
   "id": "f63b603f",
   "metadata": {},
   "outputs": [
    {
     "data": {
      "text/plain": [
       "'Kiwi'"
      ]
     },
     "execution_count": 12,
     "metadata": {},
     "output_type": "execute_result"
    }
   ],
   "source": [
    "fruits[0]"
   ]
  },
  {
   "cell_type": "code",
   "execution_count": 13,
   "id": "2aab1e52",
   "metadata": {},
   "outputs": [
    {
     "data": {
      "text/plain": [
       "'Berries'"
      ]
     },
     "execution_count": 13,
     "metadata": {},
     "output_type": "execute_result"
    }
   ],
   "source": [
    "fruits[1]"
   ]
  },
  {
   "cell_type": "code",
   "execution_count": 14,
   "id": "bc8be7fd",
   "metadata": {},
   "outputs": [
    {
     "data": {
      "text/plain": [
       "'Avocado'"
      ]
     },
     "execution_count": 14,
     "metadata": {},
     "output_type": "execute_result"
    }
   ],
   "source": [
    "fruits[2]"
   ]
  },
  {
   "cell_type": "code",
   "execution_count": 15,
   "id": "cd3011bc",
   "metadata": {},
   "outputs": [
    {
     "data": {
      "text/plain": [
       "'Jackfruit'"
      ]
     },
     "execution_count": 15,
     "metadata": {},
     "output_type": "execute_result"
    }
   ],
   "source": [
    "fruits[3]"
   ]
  },
  {
   "cell_type": "code",
   "execution_count": 17,
   "id": "07c2e55d",
   "metadata": {},
   "outputs": [
    {
     "data": {
      "text/plain": [
       "'Banana'"
      ]
     },
     "execution_count": 17,
     "metadata": {},
     "output_type": "execute_result"
    }
   ],
   "source": [
    "fruits[4]"
   ]
  },
  {
   "cell_type": "code",
   "execution_count": null,
   "id": "8f83258f",
   "metadata": {},
   "outputs": [],
   "source": []
  },
  {
   "cell_type": "code",
   "execution_count": null,
   "id": "e390a089",
   "metadata": {},
   "outputs": [],
   "source": []
  },
  {
   "cell_type": "markdown",
   "id": "9373c76f",
   "metadata": {},
   "source": [
    "*  Task 2: Tuple Operations Given two tuples, write a Python program to concatenate them into a single tuple and then find the length of the resulting tuple.\n"
   ]
  },
  {
   "cell_type": "markdown",
   "id": "871ef5ae",
   "metadata": {},
   "source": [
    "#### using str"
   ]
  },
  {
   "cell_type": "code",
   "execution_count": null,
   "id": "38c74713",
   "metadata": {},
   "outputs": [],
   "source": [
    "first = (\"How Are you? \")"
   ]
  },
  {
   "cell_type": "code",
   "execution_count": 31,
   "id": "e8df4a08",
   "metadata": {},
   "outputs": [],
   "source": [
    "second = (\"How is it going?\")"
   ]
  },
  {
   "cell_type": "code",
   "execution_count": 32,
   "id": "64c49b9c",
   "metadata": {},
   "outputs": [],
   "source": [
    "tup = [first+ second]"
   ]
  },
  {
   "cell_type": "code",
   "execution_count": 33,
   "id": "cf695626",
   "metadata": {},
   "outputs": [
    {
     "data": {
      "text/plain": [
       "['Hello How Are you? How is it going?']"
      ]
     },
     "execution_count": 33,
     "metadata": {},
     "output_type": "execute_result"
    }
   ],
   "source": [
    "tup"
   ]
  },
  {
   "cell_type": "code",
   "execution_count": 34,
   "id": "24fda432",
   "metadata": {},
   "outputs": [
    {
     "data": {
      "text/plain": [
       "1"
      ]
     },
     "execution_count": 34,
     "metadata": {},
     "output_type": "execute_result"
    }
   ],
   "source": [
    "len(tup)"
   ]
  },
  {
   "cell_type": "markdown",
   "id": "0bb9e6e0",
   "metadata": {},
   "source": [
    "#### using numbers"
   ]
  },
  {
   "cell_type": "code",
   "execution_count": 36,
   "id": "3537ecb7",
   "metadata": {},
   "outputs": [],
   "source": [
    "T1 = (11,22,33,44,55)\n",
    "T2 = (21,31,41,51,61,71)"
   ]
  },
  {
   "cell_type": "code",
   "execution_count": 37,
   "id": "3d7ba2ff",
   "metadata": {},
   "outputs": [],
   "source": [
    "tup = T1 + T2"
   ]
  },
  {
   "cell_type": "code",
   "execution_count": 38,
   "id": "7025d61a",
   "metadata": {},
   "outputs": [
    {
     "data": {
      "text/plain": [
       "(11, 22, 33, 44, 55, 21, 31, 41, 51, 61, 71)"
      ]
     },
     "execution_count": 38,
     "metadata": {},
     "output_type": "execute_result"
    }
   ],
   "source": [
    "tup "
   ]
  },
  {
   "cell_type": "code",
   "execution_count": 39,
   "id": "b44d2b64",
   "metadata": {},
   "outputs": [
    {
     "data": {
      "text/plain": [
       "11"
      ]
     },
     "execution_count": 39,
     "metadata": {},
     "output_type": "execute_result"
    }
   ],
   "source": [
    "len(tup)"
   ]
  },
  {
   "cell_type": "code",
   "execution_count": null,
   "id": "24c88388",
   "metadata": {},
   "outputs": [],
   "source": []
  },
  {
   "cell_type": "markdown",
   "id": "4c0173af",
   "metadata": {},
   "source": [
    "**Assignment Task 3:** Set Creation\n",
    "Create a Python set containing the first 10 `even` numbers (2, 4, 6, ...). Write a program to `display` this set.\n"
   ]
  },
  {
   "cell_type": "code",
   "execution_count": 21,
   "id": "f2538df0",
   "metadata": {},
   "outputs": [],
   "source": [
    "set1 = {2,4,6,8,10,12,14,16,18,20}"
   ]
  },
  {
   "cell_type": "code",
   "execution_count": 23,
   "id": "3c88a58a",
   "metadata": {},
   "outputs": [
    {
     "name": "stdout",
     "output_type": "stream",
     "text": [
      "{2, 4, 6, 8, 10, 12, 14, 16, 18, 20}\n"
     ]
    }
   ],
   "source": [
    "print (set1)"
   ]
  },
  {
   "cell_type": "markdown",
   "id": "3ba697d1",
   "metadata": {},
   "source": [
    "Assignment Task 4: Set Operations Given two sets, write a Python program to find the union, intersection, and difference of these sets."
   ]
  },
  {
   "cell_type": "code",
   "execution_count": 24,
   "id": "16d956a0",
   "metadata": {},
   "outputs": [],
   "source": [
    "s1 = {10,20,30,40,50}\n",
    "s2 = {50,60,70,80,90,100}"
   ]
  },
  {
   "cell_type": "markdown",
   "id": "543d4dcf",
   "metadata": {},
   "source": [
    "### union "
   ]
  },
  {
   "cell_type": "code",
   "execution_count": 25,
   "id": "6f5fb8ab",
   "metadata": {},
   "outputs": [
    {
     "data": {
      "text/plain": [
       "{10, 20, 30, 40, 50, 60, 70, 80, 90, 100}"
      ]
     },
     "execution_count": 25,
     "metadata": {},
     "output_type": "execute_result"
    }
   ],
   "source": [
    "s1.union(s2)"
   ]
  },
  {
   "cell_type": "markdown",
   "id": "0714b1d4",
   "metadata": {},
   "source": [
    "#### intersection "
   ]
  },
  {
   "cell_type": "code",
   "execution_count": 26,
   "id": "e0f51f96",
   "metadata": {},
   "outputs": [
    {
     "data": {
      "text/plain": [
       "{50}"
      ]
     },
     "execution_count": 26,
     "metadata": {},
     "output_type": "execute_result"
    }
   ],
   "source": [
    "s1.intersection(s2)"
   ]
  },
  {
   "cell_type": "markdown",
   "id": "e377877e",
   "metadata": {},
   "source": [
    "### difference"
   ]
  },
  {
   "cell_type": "code",
   "execution_count": 27,
   "id": "bd6b27e6",
   "metadata": {},
   "outputs": [
    {
     "data": {
      "text/plain": [
       "{10, 20, 30, 40}"
      ]
     },
     "execution_count": 27,
     "metadata": {},
     "output_type": "execute_result"
    }
   ],
   "source": [
    "s1.difference(s2)"
   ]
  },
  {
   "cell_type": "code",
   "execution_count": null,
   "id": "37068d1f",
   "metadata": {},
   "outputs": [],
   "source": []
  },
  {
   "cell_type": "markdown",
   "id": "abd07b6f",
   "metadata": {},
   "source": [
    "Assignment Task 5: Tuple and Set Conversion Write a Python program that takes a tuple of integers and converts it into a set. Then, find and print the maximum and minimum values from the set.\n"
   ]
  },
  {
   "cell_type": "code",
   "execution_count": 32,
   "id": "ce8ec320",
   "metadata": {},
   "outputs": [],
   "source": [
    "t = (12,14,16,18,20,21,22,23)"
   ]
  },
  {
   "cell_type": "code",
   "execution_count": 33,
   "id": "098402f7",
   "metadata": {},
   "outputs": [
    {
     "data": {
      "text/plain": [
       "tuple"
      ]
     },
     "execution_count": 33,
     "metadata": {},
     "output_type": "execute_result"
    }
   ],
   "source": [
    "type(t)"
   ]
  },
  {
   "cell_type": "code",
   "execution_count": 34,
   "id": "cbfbf281",
   "metadata": {},
   "outputs": [],
   "source": [
    "n3 = set(t)"
   ]
  },
  {
   "cell_type": "code",
   "execution_count": 35,
   "id": "bcd9a266",
   "metadata": {},
   "outputs": [
    {
     "data": {
      "text/plain": [
       "{12, 14, 16, 18, 20, 21, 22, 23}"
      ]
     },
     "execution_count": 35,
     "metadata": {},
     "output_type": "execute_result"
    }
   ],
   "source": [
    "n3"
   ]
  },
  {
   "cell_type": "code",
   "execution_count": 37,
   "id": "06b79d0e",
   "metadata": {},
   "outputs": [
    {
     "data": {
      "text/plain": [
       "12"
      ]
     },
     "execution_count": 37,
     "metadata": {},
     "output_type": "execute_result"
    }
   ],
   "source": [
    "min(n3)"
   ]
  },
  {
   "cell_type": "code",
   "execution_count": 38,
   "id": "f5197619",
   "metadata": {},
   "outputs": [
    {
     "data": {
      "text/plain": [
       "23"
      ]
     },
     "execution_count": 38,
     "metadata": {},
     "output_type": "execute_result"
    }
   ],
   "source": [
    "max(n3)"
   ]
  },
  {
   "cell_type": "code",
   "execution_count": null,
   "id": "0290cef5",
   "metadata": {},
   "outputs": [],
   "source": []
  },
  {
   "cell_type": "markdown",
   "id": "9ff41eb7",
   "metadata": {},
   "source": [
    "Assignment Task 6: Tuple Immutability Explain the concept of immutability in Python tuples with examples. Discuss why tuples are considered immutable data structures.\n"
   ]
  },
  {
   "cell_type": "code",
   "execution_count": 35,
   "id": "a1d5b9d0",
   "metadata": {},
   "outputs": [],
   "source": [
    "tb = (22,33,44,55,66)\n",
    "ta = (11,22,33,44,55)"
   ]
  },
  {
   "cell_type": "code",
   "execution_count": 37,
   "id": "eace0cd4",
   "metadata": {},
   "outputs": [],
   "source": [
    "n = tb + ta"
   ]
  },
  {
   "cell_type": "code",
   "execution_count": 61,
   "id": "bcfd408f",
   "metadata": {},
   "outputs": [
    {
     "data": {
      "text/plain": [
       "(22, 33, 44, 55, 66, 11, 22, 33, 44, 55)"
      ]
     },
     "execution_count": 61,
     "metadata": {},
     "output_type": "execute_result"
    }
   ],
   "source": [
    "n"
   ]
  },
  {
   "cell_type": "code",
   "execution_count": 64,
   "id": "f2f8a541",
   "metadata": {},
   "outputs": [
    {
     "data": {
      "text/plain": [
       "2"
      ]
     },
     "execution_count": 64,
     "metadata": {},
     "output_type": "execute_result"
    }
   ],
   "source": [
    "n.count(22)"
   ]
  },
  {
   "cell_type": "markdown",
   "id": "578096ff",
   "metadata": {},
   "source": [
    "#original input cannot be changed because it is immutable. cannot be changed. we cannot add or remove the elements from the input"
   ]
  },
  {
   "cell_type": "code",
   "execution_count": 65,
   "id": "d5e29a06",
   "metadata": {},
   "outputs": [
    {
     "ename": "AttributeError",
     "evalue": "'tuple' object has no attribute 'append'",
     "output_type": "error",
     "traceback": [
      "\u001b[1;31m---------------------------------------------------------------------------\u001b[0m",
      "\u001b[1;31mAttributeError\u001b[0m                            Traceback (most recent call last)",
      "Cell \u001b[1;32mIn[65], line 1\u001b[0m\n\u001b[1;32m----> 1\u001b[0m n\u001b[38;5;241m.\u001b[39mappend(\u001b[38;5;241m2\u001b[39m)\n",
      "\u001b[1;31mAttributeError\u001b[0m: 'tuple' object has no attribute 'append'"
     ]
    }
   ],
   "source": [
    "n.append(2)         "
   ]
  },
  {
   "cell_type": "code",
   "execution_count": 67,
   "id": "da65500c",
   "metadata": {},
   "outputs": [],
   "source": [
    "## example why list and set is mutable"
   ]
  },
  {
   "cell_type": "code",
   "execution_count": 57,
   "id": "05bea98d",
   "metadata": {},
   "outputs": [],
   "source": [
    "c = [1,2,3,4]"
   ]
  },
  {
   "cell_type": "code",
   "execution_count": 58,
   "id": "1afc59cf",
   "metadata": {},
   "outputs": [
    {
     "data": {
      "text/plain": [
       "list"
      ]
     },
     "execution_count": 58,
     "metadata": {},
     "output_type": "execute_result"
    }
   ],
   "source": [
    "type(c)"
   ]
  },
  {
   "cell_type": "code",
   "execution_count": 59,
   "id": "a7a86a18",
   "metadata": {},
   "outputs": [],
   "source": [
    "c.append(60)"
   ]
  },
  {
   "cell_type": "code",
   "execution_count": 60,
   "id": "2e568977",
   "metadata": {},
   "outputs": [
    {
     "data": {
      "text/plain": [
       "[1, 2, 3, 4, 60]"
      ]
     },
     "execution_count": 60,
     "metadata": {},
     "output_type": "execute_result"
    }
   ],
   "source": [
    "c"
   ]
  },
  {
   "cell_type": "code",
   "execution_count": 69,
   "id": "e57e1834",
   "metadata": {},
   "outputs": [],
   "source": [
    "## input is 1,2,3,4 after we have did some operation or methods the input c has change to 1,2,3,4,60. it is mutable"
   ]
  },
  {
   "cell_type": "code",
   "execution_count": null,
   "id": "3cce2188",
   "metadata": {},
   "outputs": [],
   "source": []
  },
  {
   "cell_type": "markdown",
   "id": "396a611f",
   "metadata": {},
   "source": [
    "Assignment Task 7: Set Operations and Methods Write a Python program that takes a set of numbers and performs the following operations:\n",
    "\n",
    "Add a new number to the set.\n",
    "Remove a number from the set.\n",
    "Check if a specific number is in the set.\n",
    "Find the size of the set.\n"
   ]
  },
  {
   "cell_type": "code",
   "execution_count": 72,
   "id": "17fa1acd",
   "metadata": {},
   "outputs": [],
   "source": [
    "s1 = {98,99,89,78,76,87,88}"
   ]
  },
  {
   "cell_type": "code",
   "execution_count": 73,
   "id": "e38f427f",
   "metadata": {},
   "outputs": [
    {
     "data": {
      "text/plain": [
       "set"
      ]
     },
     "execution_count": 73,
     "metadata": {},
     "output_type": "execute_result"
    }
   ],
   "source": [
    "type(s1)"
   ]
  },
  {
   "cell_type": "code",
   "execution_count": 74,
   "id": "d61e0a9c",
   "metadata": {},
   "outputs": [],
   "source": [
    "s1.add(100)"
   ]
  },
  {
   "cell_type": "code",
   "execution_count": 75,
   "id": "844c29da",
   "metadata": {},
   "outputs": [
    {
     "data": {
      "text/plain": [
       "{76, 78, 87, 88, 89, 98, 99, 100}"
      ]
     },
     "execution_count": 75,
     "metadata": {},
     "output_type": "execute_result"
    }
   ],
   "source": [
    "s1    ##here 100 is added"
   ]
  },
  {
   "cell_type": "code",
   "execution_count": 76,
   "id": "42648310",
   "metadata": {},
   "outputs": [],
   "source": [
    "s1.remove(76)"
   ]
  },
  {
   "cell_type": "code",
   "execution_count": 77,
   "id": "30af8029",
   "metadata": {},
   "outputs": [
    {
     "data": {
      "text/plain": [
       "{78, 87, 88, 89, 98, 99, 100}"
      ]
     },
     "execution_count": 77,
     "metadata": {},
     "output_type": "execute_result"
    }
   ],
   "source": [
    "s1    #a number is remioved using remove operation"
   ]
  },
  {
   "cell_type": "code",
   "execution_count": 79,
   "id": "5ab4cbe0",
   "metadata": {},
   "outputs": [
    {
     "data": {
      "text/plain": [
       "set"
      ]
     },
     "execution_count": 79,
     "metadata": {},
     "output_type": "execute_result"
    }
   ],
   "source": [
    "type(s1)"
   ]
  },
  {
   "cell_type": "code",
   "execution_count": 80,
   "id": "03cfe65c",
   "metadata": {},
   "outputs": [
    {
     "data": {
      "text/plain": [
       "False"
      ]
     },
     "execution_count": 80,
     "metadata": {},
     "output_type": "execute_result"
    }
   ],
   "source": [
    "22 in s1"
   ]
  },
  {
   "cell_type": "code",
   "execution_count": 81,
   "id": "e8adb4e3",
   "metadata": {},
   "outputs": [
    {
     "data": {
      "text/plain": [
       "False"
      ]
     },
     "execution_count": 81,
     "metadata": {},
     "output_type": "execute_result"
    }
   ],
   "source": [
    "76 in s1   #false becuase 76 is not present"
   ]
  },
  {
   "cell_type": "code",
   "execution_count": 82,
   "id": "a16b7ccf",
   "metadata": {},
   "outputs": [
    {
     "data": {
      "text/plain": [
       "True"
      ]
     },
     "execution_count": 82,
     "metadata": {},
     "output_type": "execute_result"
    }
   ],
   "source": [
    "78 in s1      # here 78 is present"
   ]
  },
  {
   "cell_type": "code",
   "execution_count": 83,
   "id": "4b235f99",
   "metadata": {},
   "outputs": [
    {
     "data": {
      "text/plain": [
       "7"
      ]
     },
     "execution_count": 83,
     "metadata": {},
     "output_type": "execute_result"
    }
   ],
   "source": [
    "len(s1)"
   ]
  },
  {
   "cell_type": "markdown",
   "id": "80fbe081",
   "metadata": {},
   "source": [
    "Assignment Task 8: Tuple Slicing Given a tuple of 10 elements, write a Python program to print the elements from the 3rd to the 7th position using slicing.\n",
    "\n"
   ]
  },
  {
   "cell_type": "code",
   "execution_count": 95,
   "id": "51a837f4",
   "metadata": {},
   "outputs": [],
   "source": [
    "tp = (\"aa\", \"b\", \"cc\", \"d\", \"ee\", \"f\", \"g\", \"hh\", \"ii\", \"jj\" )"
   ]
  },
  {
   "cell_type": "code",
   "execution_count": 96,
   "id": "c6d5d49b",
   "metadata": {},
   "outputs": [
    {
     "data": {
      "text/plain": [
       "tuple"
      ]
     },
     "execution_count": 96,
     "metadata": {},
     "output_type": "execute_result"
    }
   ],
   "source": [
    "type(tp)"
   ]
  },
  {
   "cell_type": "code",
   "execution_count": 97,
   "id": "3c60550b",
   "metadata": {},
   "outputs": [
    {
     "data": {
      "text/plain": [
       "('cc', 'd', 'ee', 'f', 'g')"
      ]
     },
     "execution_count": 97,
     "metadata": {},
     "output_type": "execute_result"
    }
   ],
   "source": [
    "tp[2:7]   #method 1"
   ]
  },
  {
   "cell_type": "code",
   "execution_count": 98,
   "id": "b1c5c36d",
   "metadata": {},
   "outputs": [
    {
     "data": {
      "text/plain": [
       "('cc', 'd', 'ee', 'f', 'g')"
      ]
     },
     "execution_count": 98,
     "metadata": {},
     "output_type": "execute_result"
    }
   ],
   "source": [
    "tp[2:7:1]    #Method 2"
   ]
  },
  {
   "cell_type": "code",
   "execution_count": 103,
   "id": "8e00605b",
   "metadata": {},
   "outputs": [],
   "source": [
    "tb = tp[-8:-3:1]  #method 3"
   ]
  },
  {
   "cell_type": "code",
   "execution_count": 104,
   "id": "9449b1ed",
   "metadata": {},
   "outputs": [
    {
     "data": {
      "text/plain": [
       "('cc', 'd', 'ee', 'f', 'g')"
      ]
     },
     "execution_count": 104,
     "metadata": {},
     "output_type": "execute_result"
    }
   ],
   "source": [
    "tb"
   ]
  },
  {
   "cell_type": "code",
   "execution_count": null,
   "id": "06c8de21",
   "metadata": {},
   "outputs": [],
   "source": []
  },
  {
   "cell_type": "markdown",
   "id": "b8ad3219",
   "metadata": {},
   "source": [
    "Assignment Task 9: Set Operations with Lists Create a Python list with duplicate elements and convert it into a set to remove duplicates. Then, write a program to count how many duplicates were removed.\n",
    "\n"
   ]
  },
  {
   "cell_type": "code",
   "execution_count": 13,
   "id": "85a2ad6c",
   "metadata": {},
   "outputs": [],
   "source": [
    "list_1 = [22,22,21,32,43,34,55,55,55,55,77]"
   ]
  },
  {
   "cell_type": "code",
   "execution_count": 14,
   "id": "dbbfeaf0",
   "metadata": {},
   "outputs": [],
   "source": [
    "a=set(list_1)"
   ]
  },
  {
   "cell_type": "code",
   "execution_count": 15,
   "id": "bd76cf3b",
   "metadata": {},
   "outputs": [
    {
     "data": {
      "text/plain": [
       "{21, 22, 32, 34, 43, 55, 77}"
      ]
     },
     "execution_count": 15,
     "metadata": {},
     "output_type": "execute_result"
    }
   ],
   "source": [
    "a"
   ]
  },
  {
   "cell_type": "code",
   "execution_count": 16,
   "id": "ad7c9c3e",
   "metadata": {},
   "outputs": [
    {
     "data": {
      "text/plain": [
       "7"
      ]
     },
     "execution_count": 16,
     "metadata": {},
     "output_type": "execute_result"
    }
   ],
   "source": [
    "len(a)"
   ]
  },
  {
   "cell_type": "code",
   "execution_count": 17,
   "id": "10d0b25b",
   "metadata": {},
   "outputs": [
    {
     "data": {
      "text/plain": [
       "11"
      ]
     },
     "execution_count": 17,
     "metadata": {},
     "output_type": "execute_result"
    }
   ],
   "source": [
    "len(list_1)"
   ]
  },
  {
   "cell_type": "code",
   "execution_count": 20,
   "id": "8ca51a91",
   "metadata": {},
   "outputs": [],
   "source": [
    "no_of_duplicates = len(list_1) - len(a)"
   ]
  },
  {
   "cell_type": "code",
   "execution_count": 21,
   "id": "04c279c2",
   "metadata": {},
   "outputs": [
    {
     "data": {
      "text/plain": [
       "4"
      ]
     },
     "execution_count": 21,
     "metadata": {},
     "output_type": "execute_result"
    }
   ],
   "source": [
    "no_of_duplicates"
   ]
  },
  {
   "cell_type": "code",
   "execution_count": null,
   "id": "cff451a4",
   "metadata": {},
   "outputs": [],
   "source": []
  },
  {
   "cell_type": "code",
   "execution_count": null,
   "id": "d3909d70",
   "metadata": {},
   "outputs": [],
   "source": []
  },
  {
   "cell_type": "markdown",
   "id": "3e0b66f8",
   "metadata": {},
   "source": [
    "Assignment Task 10: Tuple and Set Combinations Create a tuple containing the names of your friend's favorite movies and a set containing the names of your favorite movies. Write a Python program to find and display common elements (movies that feature your"
   ]
  },
  {
   "cell_type": "code",
   "execution_count": 28,
   "id": "30e48598",
   "metadata": {},
   "outputs": [],
   "source": [
    "frnds_fav = (\"RRR\", \"Eega\", \"Kantara\", \"Pushpa\")"
   ]
  },
  {
   "cell_type": "code",
   "execution_count": 29,
   "id": "c81fc09c",
   "metadata": {},
   "outputs": [],
   "source": [
    "my_favs = {\"Djtillu\", \"Birdbox\",\"Pushpa\",\"RRR\",\"Sitaramam\"}"
   ]
  },
  {
   "cell_type": "code",
   "execution_count": 30,
   "id": "d97f4b2f",
   "metadata": {},
   "outputs": [],
   "source": [
    "both=set(frnds_fav) "
   ]
  },
  {
   "cell_type": "code",
   "execution_count": 31,
   "id": "c3efba70",
   "metadata": {},
   "outputs": [
    {
     "data": {
      "text/plain": [
       "{'Eega', 'Kantara', 'Pushpa', 'RRR'}"
      ]
     },
     "execution_count": 31,
     "metadata": {},
     "output_type": "execute_result"
    }
   ],
   "source": [
    "both"
   ]
  },
  {
   "cell_type": "code",
   "execution_count": 39,
   "id": "9f7918a4",
   "metadata": {},
   "outputs": [
    {
     "data": {
      "text/plain": [
       "{'Pushpa', 'RRR'}"
      ]
     },
     "execution_count": 39,
     "metadata": {},
     "output_type": "execute_result"
    }
   ],
   "source": [
    "my_favs.intersection(both)"
   ]
  },
  {
   "cell_type": "code",
   "execution_count": null,
   "id": "9e54f9cc",
   "metadata": {},
   "outputs": [],
   "source": []
  }
 ],
 "metadata": {
  "kernelspec": {
   "display_name": "Python 3 (ipykernel)",
   "language": "python",
   "name": "python3"
  },
  "language_info": {
   "codemirror_mode": {
    "name": "ipython",
    "version": 3
   },
   "file_extension": ".py",
   "mimetype": "text/x-python",
   "name": "python",
   "nbconvert_exporter": "python",
   "pygments_lexer": "ipython3",
   "version": "3.11.4"
  }
 },
 "nbformat": 4,
 "nbformat_minor": 5
}
